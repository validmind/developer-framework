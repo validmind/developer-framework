{
  "cells": [
    {
      "attachments": {},
      "cell_type": "markdown",
      "metadata": {},
      "source": [
        "# Time Series Model Validation Full Suite"
      ]
    },
    {
      "attachments": {},
      "cell_type": "markdown",
      "metadata": {},
      "source": [
        "## 1. Introduction"
      ]
    },
    {
      "attachments": {},
      "cell_type": "markdown",
      "metadata": {},
      "source": [
        "The Time Series Data Validation Full Suite notebook aims to demonstrate the application of various data validation tests using the **ValidMind MRM Platform** and **Developer Framework**. \n",
        "\n",
        "In this demo, we will use the `time_series_model_validation` **test suite** to run multiple model validation tests on several pre-trained time series models."
      ]
    },
    {
      "attachments": {},
      "cell_type": "markdown",
      "metadata": {},
      "source": [
        "## 2. Setup \n",
        "\n",
        "Prepare the environment for our analysis. First, **import** all necessary libraries and modules required for our analysis. Next, **connect** to the ValidMind MRM platform, which provides a comprehensive suite of tools and services for model validation.\n",
        "\n",
        "Finally, define and **configure** the specific use case we are working on by setting up any required parameters, data sources, or other settings that will be used throughout the analysis. "
      ]
    },
    {
      "attachments": {},
      "cell_type": "markdown",
      "metadata": {},
      "source": [
        "### Import Libraries"
      ]
    },
    {
      "cell_type": "code",
      "execution_count": null,
      "metadata": {},
      "outputs": [],
      "source": [
        "# Load API key and secret from environment variables\n",
        "%load_ext dotenv\n",
        "%dotenv .env\n",
        "\n",
        "# ValidMind libraries\n",
        "import validmind as vm"
      ]
    },
    {
      "attachments": {},
      "cell_type": "markdown",
      "metadata": {},
      "source": [
        "### Connect to the ValidMind Library"
      ]
    },
    {
      "cell_type": "code",
      "execution_count": null,
      "metadata": {},
      "outputs": [],
      "source": [
        "import validmind as vm\n",
        "\n",
        "vm.init(\n",
        "    api_host=\"https://api.prod.validmind.ai/api/v1/tracking\",\n",
        "    project=\"clhhzo21s006wl9rl0swhv40h\",\n",
        ")"
      ]
    },
    {
      "attachments": {},
      "cell_type": "markdown",
      "metadata": {},
      "source": [
        "### Find All Test Suites and Plans Available in the Developer Framework"
      ]
    },
    {
      "attachments": {},
      "cell_type": "markdown",
      "metadata": {},
      "source": [
        "We can find all the **test suites** and **test plans** available in the developer framework by calling the following functions:\n",
        "\n",
        "- All test suites: `vm.test_suites.list_suites()`\n",
        "- All test plans: `vm.test_suites.list_plans()`\n",
        "- Describe a test plan: `vm.test_suites.describe_plan(\"time_series_data_quality\")`\n",
        "- List all available tests: `vm.tests.list_tests()`"
      ]
    },
    {
      "cell_type": "code",
      "execution_count": null,
      "metadata": {},
      "outputs": [],
      "source": [
        "vm.test_suites.list_suites()"
      ]
    },
    {
      "cell_type": "code",
      "execution_count": null,
      "metadata": {},
      "outputs": [],
      "source": [
        "vm.test_suites.list_plans()"
      ]
    },
    {
      "attachments": {},
      "cell_type": "markdown",
      "metadata": {},
      "source": [
        "## 3. Load Models"
      ]
    },
    {
      "attachments": {},
      "cell_type": "markdown",
      "metadata": {},
      "source": [
        "#### Load Pre-Trained Time Series Models"
      ]
    },
    {
      "cell_type": "code",
      "execution_count": null,
      "metadata": {},
      "outputs": [],
      "source": [
        "# Currently only fred pre-trained models are available\n",
        "from validmind.datasets.regression import fred as demo_dataset\n",
        "\n",
        "model_A, train_df_A, test_df_A = demo_dataset.load_model(\"fred_loan_rates_model_3\")\n",
        "model_B, train_df_B, test_df_B = demo_dataset.load_model(\"fred_loan_rates_model_4\")"
      ]
    },
    {
      "attachments": {},
      "cell_type": "markdown",
      "metadata": {},
      "source": [
        "#### Create ValidMind Datasets"
      ]
    },
    {
      "cell_type": "code",
      "execution_count": null,
      "metadata": {},
      "outputs": [],
      "source": [
        "# Initialize training and testing datasets for model A\n",
        "vm_train_ds_A = vm.init_dataset(\n",
        "    dataset=train_df_A, type=\"generic\", target_column=demo_dataset.target_column\n",
        ")\n",
        "vm_test_ds_A = vm.init_dataset(\n",
        "    dataset=test_df_A, type=\"generic\", target_column=demo_dataset.target_column\n",
        ")\n",
        "\n",
        "# Initialize training and testing datasets for model B\n",
        "vm_train_ds_B = vm.init_dataset(\n",
        "    dataset=train_df_B, type=\"generic\", target_column=demo_dataset.target_column\n",
        ")\n",
        "vm_test_ds_B = vm.init_dataset(\n",
        "    dataset=test_df_B, type=\"generic\", target_column=demo_dataset.target_column\n",
        ")"
      ]
    },
    {
      "attachments": {},
      "cell_type": "markdown",
      "metadata": {},
      "source": [
        "#### Create ValidMind Models"
      ]
    },
    {
      "cell_type": "code",
      "execution_count": null,
      "metadata": {},
      "outputs": [],
      "source": [
        "# Initialize model A\n",
        "vm_model_A = vm.init_model(model=model_A, train_ds=vm_train_ds_A, test_ds=vm_test_ds_A)\n",
        "\n",
        "# Initialize model B\n",
        "vm_model_B = vm.init_model(model=model_B, train_ds=vm_train_ds_B, test_ds=vm_test_ds_B)\n",
        "\n",
        "\n",
        "list_of_models = [vm_model_A, vm_model_B]"
      ]
    },
    {
      "attachments": {},
      "cell_type": "markdown",
      "metadata": {},
      "source": [
        "## 4. Model Validation"
      ]
    },
    {
      "attachments": {},
      "cell_type": "markdown",
      "metadata": {},
      "source": [
        "### User Configuration of Test Suite "
      ]
    },
    {
      "attachments": {},
      "cell_type": "markdown",
      "metadata": {},
      "source": [
        "Users can input the configuration to a test suite using **`config`**, allowing fine-tuning the suite according to their specific data requirements. \n",
        "\n",
        "**Time Series Forecast params**\n",
        "- `transformation` specify the desired plotting settings for regression forecast evaluation. In this particular configuration, the chosen transformation is \"integrate.\"\n"
      ]
    },
    {
      "cell_type": "code",
      "execution_count": null,
      "metadata": {},
      "outputs": [],
      "source": [
        "config = {\n",
        "    \"regression_forecast_plot_levels\": {\n",
        "        \"transformation\": \"integrate\",\n",
        "    },\n",
        "    \"regression_sensitivity_plot\": {\n",
        "        \"transformation\": \"integrate\",\n",
        "        \"shocks\": [0.1, 0.2],\n",
        "    },\n",
        "}"
      ]
    },
    {
      "cell_type": "code",
      "execution_count": null,
      "metadata": {},
      "outputs": [],
      "source": [
        "full_suite = vm.run_test_suite(\n",
        "    \"time_series_model_validation\",\n",
        "    model=vm_model_B,\n",
        "    models=list_of_models,\n",
        "    config=config,\n",
        ")"
      ]
    }
  ],
  "metadata": {
    "kernelspec": {
      "display_name": "dev-framework",
      "language": "python",
      "name": "dev-framework"
    },
    "language_info": {
      "codemirror_mode": {
        "name": "ipython",
        "version": 3
      },
      "file_extension": ".py",
      "mimetype": "text/x-python",
      "name": "python",
      "nbconvert_exporter": "python",
      "pygments_lexer": "ipython3",
      "version": "3.9.6"
    },
    "orig_nbformat": 4
  },
  "nbformat": 4,
  "nbformat_minor": 2
}
