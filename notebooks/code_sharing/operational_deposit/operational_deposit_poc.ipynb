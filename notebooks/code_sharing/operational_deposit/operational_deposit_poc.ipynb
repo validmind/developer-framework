{
 "cells": [
  {
   "cell_type": "markdown",
   "metadata": {},
   "source": [
    "# Operational Deposit Model Documentation Demo"
   ]
  },
  {
   "cell_type": "markdown",
   "metadata": {},
   "source": [
    "<a id='toc2_'></a>\n",
    "\n",
    "## About ValidMind\n",
    "\n",
    "ValidMind is a platform for managing model risk, including risk associated with AI and statistical models.\n",
    "\n",
    "You use the ValidMind Developer Framework to automate documentation and validation tests, and then use the ValidMind AI Risk Platform UI to collaborate on model documentation. Together, these products simplify model risk management, facilitate compliance with regulations and institutional standards, and enhance collaboration between yourself and model validators.\n",
    "\n",
    "<a id='toc2_1_'></a>\n",
    "\n",
    "### Before you begin\n",
    "\n",
    "This notebook assumes you have basic familiarity with Python, including an understanding of how functions work. If you are new to Python, you can still run the notebook but we recommend further familiarizing yourself with the language. \n",
    "\n",
    "If you encounter errors due to missing modules in your Python environment, install the modules with `pip install`, and then re-run the notebook. For more help, refer to [Installing Python Modules](https://docs.python.org/3/installing/index.html).\n",
    "\n",
    "<a id='toc2_2_'></a>\n",
    "\n",
    "### New to ValidMind?\n",
    "\n",
    "If you haven't already seen our [Get started with the ValidMind Developer Framework](https://docs.validmind.ai/guide/get-started-developer-framework.html), we recommend you explore the available resources for developers at some point. There, you can learn more about documenting models, find code samples, or read our developer reference.\n",
    "\n",
    "::: {.callout-tip}\n",
    "\n",
    "For access to all features available in this notebook, create a free ValidMind account.\n",
    "\n",
    "Signing up is FREE — [**Sign up now!**](https://app.prod.validmind.ai)\n",
    "\n",
    ":::\n",
    "\n",
    "<a id='toc2_3_'></a>\n",
    "\n",
    "![Dataset based test architecture](./dataset_image.png)\n",
    "![Model based test architecture](./model_image.png)"
   ]
  },
  {
   "cell_type": "markdown",
   "metadata": {},
   "source": [
    "# Pre-requisites\n",
    "\n",
    "Let's go ahead and install the `validmind` library if its not already installed."
   ]
  },
  {
   "cell_type": "code",
   "execution_count": 1,
   "metadata": {},
   "outputs": [],
   "source": [
    "# %pip install -q validmind"
   ]
  },
  {
   "cell_type": "code",
   "execution_count": 2,
   "metadata": {},
   "outputs": [],
   "source": [
    "import os\n",
    "os.environ[\"VM_OVERRIDE_METADATA\"] = \"true\"\n",
    "os.environ[\"VALIDMIND_LLM_DESCRIPTIONS_ENABLED\"] = \"true\""
   ]
  },
  {
   "cell_type": "markdown",
   "metadata": {},
   "source": [
    "<a id='toc4_'></a>\n",
    "\n",
    "## Initialize the client library\n",
    "\n",
    "ValidMind generates a unique _code snippet_ for each registered model to connect with your developer environment. You initialize the client library with this code snippet, which ensures that your documentation and tests are uploaded to the correct model when you run the notebook.\n",
    "\n",
    "Get your code snippet:\n",
    "\n",
    "1. In a browser, log into the [Platform UI](https://app.prod.validmind.ai).\n",
    "\n",
    "2. In the left sidebar, navigate to **Model Inventory** and click **+ Register new model**.\n",
    "\n",
    "3. Enter the model details, making sure to select **Time Series Forecasting** as the template and **Credit Risk - Underwriting - Loan** as the use case, and click **Continue**. ([Need more help?](https://docs.validmind.ai/guide/register-models-in-model-inventory.html))\n",
    "\n",
    "4. Go to **Getting Started** and click **Copy snippet to clipboard**.\n",
    "\n",
    "Next, replace this placeholder with your own code snippet:\n"
   ]
  },
  {
   "cell_type": "code",
   "execution_count": 3,
   "metadata": {},
   "outputs": [
    {
     "name": "stderr",
     "output_type": "stream",
     "text": [
      "2024-05-23 16:52:02,511 - INFO(validmind.api_client): Connected to ValidMind. Project: Operational deposit model - Initial Validation (clwhu1lol00pz23iio6n4w8k4)\n"
     ]
    }
   ],
   "source": [
    "import validmind as vm\n",
    "\n",
    "vm.init(\n",
    "  api_host = \"https://api.prod.validmind.ai/api/v1/tracking\",\n",
    "  api_key = \"f316498929be8215fef76fcb3e814194\",\n",
    "  api_secret = \"be2e1476c8f7f3837bf142f2a1b7ba60e6c1cdbfd42930bbfb7aa40f42691868\",\n",
    "  project = \"clwhu1lol00pz23iio6n4w8k4\"\n",
    ")"
   ]
  },
  {
   "cell_type": "markdown",
   "metadata": {},
   "source": [
    "Before learning how to run tests, let's explore the list of all available tests in the ValidMind Developer Framework. You can see that the documentation template for this model has references to some of the test IDs listed below.\n"
   ]
  },
  {
   "cell_type": "code",
   "execution_count": 4,
   "metadata": {},
   "outputs": [
    {
     "data": {
      "text/html": [
       "<style type=\"text/css\">\n",
       "#T_43add th {\n",
       "  text-align: left;\n",
       "}\n",
       "#T_43add_row0_col0, #T_43add_row0_col1, #T_43add_row0_col2, #T_43add_row0_col3, #T_43add_row0_col4, #T_43add_row0_col5, #T_43add_row1_col0, #T_43add_row1_col1, #T_43add_row1_col2, #T_43add_row1_col3, #T_43add_row1_col4, #T_43add_row1_col5, #T_43add_row2_col0, #T_43add_row2_col1, #T_43add_row2_col2, #T_43add_row2_col3, #T_43add_row2_col4, #T_43add_row2_col5, #T_43add_row3_col0, #T_43add_row3_col1, #T_43add_row3_col2, #T_43add_row3_col3, #T_43add_row3_col4, #T_43add_row3_col5, #T_43add_row4_col0, #T_43add_row4_col1, #T_43add_row4_col2, #T_43add_row4_col3, #T_43add_row4_col4, #T_43add_row4_col5, #T_43add_row5_col0, #T_43add_row5_col1, #T_43add_row5_col2, #T_43add_row5_col3, #T_43add_row5_col4, #T_43add_row5_col5, #T_43add_row6_col0, #T_43add_row6_col1, #T_43add_row6_col2, #T_43add_row6_col3, #T_43add_row6_col4, #T_43add_row6_col5, #T_43add_row7_col0, #T_43add_row7_col1, #T_43add_row7_col2, #T_43add_row7_col3, #T_43add_row7_col4, #T_43add_row7_col5, #T_43add_row8_col0, #T_43add_row8_col1, #T_43add_row8_col2, #T_43add_row8_col3, #T_43add_row8_col4, #T_43add_row8_col5, #T_43add_row9_col0, #T_43add_row9_col1, #T_43add_row9_col2, #T_43add_row9_col3, #T_43add_row9_col4, #T_43add_row9_col5, #T_43add_row10_col0, #T_43add_row10_col1, #T_43add_row10_col2, #T_43add_row10_col3, #T_43add_row10_col4, #T_43add_row10_col5, #T_43add_row11_col0, #T_43add_row11_col1, #T_43add_row11_col2, #T_43add_row11_col3, #T_43add_row11_col4, #T_43add_row11_col5, #T_43add_row12_col0, #T_43add_row12_col1, #T_43add_row12_col2, #T_43add_row12_col3, #T_43add_row12_col4, #T_43add_row12_col5, #T_43add_row13_col0, #T_43add_row13_col1, #T_43add_row13_col2, #T_43add_row13_col3, #T_43add_row13_col4, #T_43add_row13_col5, #T_43add_row14_col0, #T_43add_row14_col1, #T_43add_row14_col2, #T_43add_row14_col3, #T_43add_row14_col4, #T_43add_row14_col5, #T_43add_row15_col0, #T_43add_row15_col1, #T_43add_row15_col2, #T_43add_row15_col3, #T_43add_row15_col4, #T_43add_row15_col5, #T_43add_row16_col0, #T_43add_row16_col1, #T_43add_row16_col2, #T_43add_row16_col3, #T_43add_row16_col4, #T_43add_row16_col5, #T_43add_row17_col0, #T_43add_row17_col1, #T_43add_row17_col2, #T_43add_row17_col3, #T_43add_row17_col4, #T_43add_row17_col5, #T_43add_row18_col0, #T_43add_row18_col1, #T_43add_row18_col2, #T_43add_row18_col3, #T_43add_row18_col4, #T_43add_row18_col5, #T_43add_row19_col0, #T_43add_row19_col1, #T_43add_row19_col2, #T_43add_row19_col3, #T_43add_row19_col4, #T_43add_row19_col5, #T_43add_row20_col0, #T_43add_row20_col1, #T_43add_row20_col2, #T_43add_row20_col3, #T_43add_row20_col4, #T_43add_row20_col5, #T_43add_row21_col0, #T_43add_row21_col1, #T_43add_row21_col2, #T_43add_row21_col3, #T_43add_row21_col4, #T_43add_row21_col5, #T_43add_row22_col0, #T_43add_row22_col1, #T_43add_row22_col2, #T_43add_row22_col3, #T_43add_row22_col4, #T_43add_row22_col5, #T_43add_row23_col0, #T_43add_row23_col1, #T_43add_row23_col2, #T_43add_row23_col3, #T_43add_row23_col4, #T_43add_row23_col5, #T_43add_row24_col0, #T_43add_row24_col1, #T_43add_row24_col2, #T_43add_row24_col3, #T_43add_row24_col4, #T_43add_row24_col5, #T_43add_row25_col0, #T_43add_row25_col1, #T_43add_row25_col2, #T_43add_row25_col3, #T_43add_row25_col4, #T_43add_row25_col5, #T_43add_row26_col0, #T_43add_row26_col1, #T_43add_row26_col2, #T_43add_row26_col3, #T_43add_row26_col4, #T_43add_row26_col5, #T_43add_row27_col0, #T_43add_row27_col1, #T_43add_row27_col2, #T_43add_row27_col3, #T_43add_row27_col4, #T_43add_row27_col5, #T_43add_row28_col0, #T_43add_row28_col1, #T_43add_row28_col2, #T_43add_row28_col3, #T_43add_row28_col4, #T_43add_row28_col5, #T_43add_row29_col0, #T_43add_row29_col1, #T_43add_row29_col2, #T_43add_row29_col3, #T_43add_row29_col4, #T_43add_row29_col5, #T_43add_row30_col0, #T_43add_row30_col1, #T_43add_row30_col2, #T_43add_row30_col3, #T_43add_row30_col4, #T_43add_row30_col5, #T_43add_row31_col0, #T_43add_row31_col1, #T_43add_row31_col2, #T_43add_row31_col3, #T_43add_row31_col4, #T_43add_row31_col5, #T_43add_row32_col0, #T_43add_row32_col1, #T_43add_row32_col2, #T_43add_row32_col3, #T_43add_row32_col4, #T_43add_row32_col5, #T_43add_row33_col0, #T_43add_row33_col1, #T_43add_row33_col2, #T_43add_row33_col3, #T_43add_row33_col4, #T_43add_row33_col5, #T_43add_row34_col0, #T_43add_row34_col1, #T_43add_row34_col2, #T_43add_row34_col3, #T_43add_row34_col4, #T_43add_row34_col5, #T_43add_row35_col0, #T_43add_row35_col1, #T_43add_row35_col2, #T_43add_row35_col3, #T_43add_row35_col4, #T_43add_row35_col5, #T_43add_row36_col0, #T_43add_row36_col1, #T_43add_row36_col2, #T_43add_row36_col3, #T_43add_row36_col4, #T_43add_row36_col5, #T_43add_row37_col0, #T_43add_row37_col1, #T_43add_row37_col2, #T_43add_row37_col3, #T_43add_row37_col4, #T_43add_row37_col5, #T_43add_row38_col0, #T_43add_row38_col1, #T_43add_row38_col2, #T_43add_row38_col3, #T_43add_row38_col4, #T_43add_row38_col5, #T_43add_row39_col0, #T_43add_row39_col1, #T_43add_row39_col2, #T_43add_row39_col3, #T_43add_row39_col4, #T_43add_row39_col5, #T_43add_row40_col0, #T_43add_row40_col1, #T_43add_row40_col2, #T_43add_row40_col3, #T_43add_row40_col4, #T_43add_row40_col5, #T_43add_row41_col0, #T_43add_row41_col1, #T_43add_row41_col2, #T_43add_row41_col3, #T_43add_row41_col4, #T_43add_row41_col5, #T_43add_row42_col0, #T_43add_row42_col1, #T_43add_row42_col2, #T_43add_row42_col3, #T_43add_row42_col4, #T_43add_row42_col5, #T_43add_row43_col0, #T_43add_row43_col1, #T_43add_row43_col2, #T_43add_row43_col3, #T_43add_row43_col4, #T_43add_row43_col5, #T_43add_row44_col0, #T_43add_row44_col1, #T_43add_row44_col2, #T_43add_row44_col3, #T_43add_row44_col4, #T_43add_row44_col5, #T_43add_row45_col0, #T_43add_row45_col1, #T_43add_row45_col2, #T_43add_row45_col3, #T_43add_row45_col4, #T_43add_row45_col5, #T_43add_row46_col0, #T_43add_row46_col1, #T_43add_row46_col2, #T_43add_row46_col3, #T_43add_row46_col4, #T_43add_row46_col5, #T_43add_row47_col0, #T_43add_row47_col1, #T_43add_row47_col2, #T_43add_row47_col3, #T_43add_row47_col4, #T_43add_row47_col5, #T_43add_row48_col0, #T_43add_row48_col1, #T_43add_row48_col2, #T_43add_row48_col3, #T_43add_row48_col4, #T_43add_row48_col5, #T_43add_row49_col0, #T_43add_row49_col1, #T_43add_row49_col2, #T_43add_row49_col3, #T_43add_row49_col4, #T_43add_row49_col5, #T_43add_row50_col0, #T_43add_row50_col1, #T_43add_row50_col2, #T_43add_row50_col3, #T_43add_row50_col4, #T_43add_row50_col5, #T_43add_row51_col0, #T_43add_row51_col1, #T_43add_row51_col2, #T_43add_row51_col3, #T_43add_row51_col4, #T_43add_row51_col5, #T_43add_row52_col0, #T_43add_row52_col1, #T_43add_row52_col2, #T_43add_row52_col3, #T_43add_row52_col4, #T_43add_row52_col5, #T_43add_row53_col0, #T_43add_row53_col1, #T_43add_row53_col2, #T_43add_row53_col3, #T_43add_row53_col4, #T_43add_row53_col5, #T_43add_row54_col0, #T_43add_row54_col1, #T_43add_row54_col2, #T_43add_row54_col3, #T_43add_row54_col4, #T_43add_row54_col5, #T_43add_row55_col0, #T_43add_row55_col1, #T_43add_row55_col2, #T_43add_row55_col3, #T_43add_row55_col4, #T_43add_row55_col5, #T_43add_row56_col0, #T_43add_row56_col1, #T_43add_row56_col2, #T_43add_row56_col3, #T_43add_row56_col4, #T_43add_row56_col5, #T_43add_row57_col0, #T_43add_row57_col1, #T_43add_row57_col2, #T_43add_row57_col3, #T_43add_row57_col4, #T_43add_row57_col5, #T_43add_row58_col0, #T_43add_row58_col1, #T_43add_row58_col2, #T_43add_row58_col3, #T_43add_row58_col4, #T_43add_row58_col5, #T_43add_row59_col0, #T_43add_row59_col1, #T_43add_row59_col2, #T_43add_row59_col3, #T_43add_row59_col4, #T_43add_row59_col5, #T_43add_row60_col0, #T_43add_row60_col1, #T_43add_row60_col2, #T_43add_row60_col3, #T_43add_row60_col4, #T_43add_row60_col5, #T_43add_row61_col0, #T_43add_row61_col1, #T_43add_row61_col2, #T_43add_row61_col3, #T_43add_row61_col4, #T_43add_row61_col5, #T_43add_row62_col0, #T_43add_row62_col1, #T_43add_row62_col2, #T_43add_row62_col3, #T_43add_row62_col4, #T_43add_row62_col5, #T_43add_row63_col0, #T_43add_row63_col1, #T_43add_row63_col2, #T_43add_row63_col3, #T_43add_row63_col4, #T_43add_row63_col5, #T_43add_row64_col0, #T_43add_row64_col1, #T_43add_row64_col2, #T_43add_row64_col3, #T_43add_row64_col4, #T_43add_row64_col5, #T_43add_row65_col0, #T_43add_row65_col1, #T_43add_row65_col2, #T_43add_row65_col3, #T_43add_row65_col4, #T_43add_row65_col5, #T_43add_row66_col0, #T_43add_row66_col1, #T_43add_row66_col2, #T_43add_row66_col3, #T_43add_row66_col4, #T_43add_row66_col5, #T_43add_row67_col0, #T_43add_row67_col1, #T_43add_row67_col2, #T_43add_row67_col3, #T_43add_row67_col4, #T_43add_row67_col5, #T_43add_row68_col0, #T_43add_row68_col1, #T_43add_row68_col2, #T_43add_row68_col3, #T_43add_row68_col4, #T_43add_row68_col5, #T_43add_row69_col0, #T_43add_row69_col1, #T_43add_row69_col2, #T_43add_row69_col3, #T_43add_row69_col4, #T_43add_row69_col5, #T_43add_row70_col0, #T_43add_row70_col1, #T_43add_row70_col2, #T_43add_row70_col3, #T_43add_row70_col4, #T_43add_row70_col5, #T_43add_row71_col0, #T_43add_row71_col1, #T_43add_row71_col2, #T_43add_row71_col3, #T_43add_row71_col4, #T_43add_row71_col5, #T_43add_row72_col0, #T_43add_row72_col1, #T_43add_row72_col2, #T_43add_row72_col3, #T_43add_row72_col4, #T_43add_row72_col5, #T_43add_row73_col0, #T_43add_row73_col1, #T_43add_row73_col2, #T_43add_row73_col3, #T_43add_row73_col4, #T_43add_row73_col5, #T_43add_row74_col0, #T_43add_row74_col1, #T_43add_row74_col2, #T_43add_row74_col3, #T_43add_row74_col4, #T_43add_row74_col5, #T_43add_row75_col0, #T_43add_row75_col1, #T_43add_row75_col2, #T_43add_row75_col3, #T_43add_row75_col4, #T_43add_row75_col5, #T_43add_row76_col0, #T_43add_row76_col1, #T_43add_row76_col2, #T_43add_row76_col3, #T_43add_row76_col4, #T_43add_row76_col5, #T_43add_row77_col0, #T_43add_row77_col1, #T_43add_row77_col2, #T_43add_row77_col3, #T_43add_row77_col4, #T_43add_row77_col5, #T_43add_row78_col0, #T_43add_row78_col1, #T_43add_row78_col2, #T_43add_row78_col3, #T_43add_row78_col4, #T_43add_row78_col5, #T_43add_row79_col0, #T_43add_row79_col1, #T_43add_row79_col2, #T_43add_row79_col3, #T_43add_row79_col4, #T_43add_row79_col5, #T_43add_row80_col0, #T_43add_row80_col1, #T_43add_row80_col2, #T_43add_row80_col3, #T_43add_row80_col4, #T_43add_row80_col5, #T_43add_row81_col0, #T_43add_row81_col1, #T_43add_row81_col2, #T_43add_row81_col3, #T_43add_row81_col4, #T_43add_row81_col5, #T_43add_row82_col0, #T_43add_row82_col1, #T_43add_row82_col2, #T_43add_row82_col3, #T_43add_row82_col4, #T_43add_row82_col5, #T_43add_row83_col0, #T_43add_row83_col1, #T_43add_row83_col2, #T_43add_row83_col3, #T_43add_row83_col4, #T_43add_row83_col5, #T_43add_row84_col0, #T_43add_row84_col1, #T_43add_row84_col2, #T_43add_row84_col3, #T_43add_row84_col4, #T_43add_row84_col5, #T_43add_row85_col0, #T_43add_row85_col1, #T_43add_row85_col2, #T_43add_row85_col3, #T_43add_row85_col4, #T_43add_row85_col5, #T_43add_row86_col0, #T_43add_row86_col1, #T_43add_row86_col2, #T_43add_row86_col3, #T_43add_row86_col4, #T_43add_row86_col5, #T_43add_row87_col0, #T_43add_row87_col1, #T_43add_row87_col2, #T_43add_row87_col3, #T_43add_row87_col4, #T_43add_row87_col5, #T_43add_row88_col0, #T_43add_row88_col1, #T_43add_row88_col2, #T_43add_row88_col3, #T_43add_row88_col4, #T_43add_row88_col5, #T_43add_row89_col0, #T_43add_row89_col1, #T_43add_row89_col2, #T_43add_row89_col3, #T_43add_row89_col4, #T_43add_row89_col5, #T_43add_row90_col0, #T_43add_row90_col1, #T_43add_row90_col2, #T_43add_row90_col3, #T_43add_row90_col4, #T_43add_row90_col5, #T_43add_row91_col0, #T_43add_row91_col1, #T_43add_row91_col2, #T_43add_row91_col3, #T_43add_row91_col4, #T_43add_row91_col5, #T_43add_row92_col0, #T_43add_row92_col1, #T_43add_row92_col2, #T_43add_row92_col3, #T_43add_row92_col4, #T_43add_row92_col5, #T_43add_row93_col0, #T_43add_row93_col1, #T_43add_row93_col2, #T_43add_row93_col3, #T_43add_row93_col4, #T_43add_row93_col5, #T_43add_row94_col0, #T_43add_row94_col1, #T_43add_row94_col2, #T_43add_row94_col3, #T_43add_row94_col4, #T_43add_row94_col5, #T_43add_row95_col0, #T_43add_row95_col1, #T_43add_row95_col2, #T_43add_row95_col3, #T_43add_row95_col4, #T_43add_row95_col5, #T_43add_row96_col0, #T_43add_row96_col1, #T_43add_row96_col2, #T_43add_row96_col3, #T_43add_row96_col4, #T_43add_row96_col5, #T_43add_row97_col0, #T_43add_row97_col1, #T_43add_row97_col2, #T_43add_row97_col3, #T_43add_row97_col4, #T_43add_row97_col5, #T_43add_row98_col0, #T_43add_row98_col1, #T_43add_row98_col2, #T_43add_row98_col3, #T_43add_row98_col4, #T_43add_row98_col5, #T_43add_row99_col0, #T_43add_row99_col1, #T_43add_row99_col2, #T_43add_row99_col3, #T_43add_row99_col4, #T_43add_row99_col5, #T_43add_row100_col0, #T_43add_row100_col1, #T_43add_row100_col2, #T_43add_row100_col3, #T_43add_row100_col4, #T_43add_row100_col5, #T_43add_row101_col0, #T_43add_row101_col1, #T_43add_row101_col2, #T_43add_row101_col3, #T_43add_row101_col4, #T_43add_row101_col5, #T_43add_row102_col0, #T_43add_row102_col1, #T_43add_row102_col2, #T_43add_row102_col3, #T_43add_row102_col4, #T_43add_row102_col5, #T_43add_row103_col0, #T_43add_row103_col1, #T_43add_row103_col2, #T_43add_row103_col3, #T_43add_row103_col4, #T_43add_row103_col5, #T_43add_row104_col0, #T_43add_row104_col1, #T_43add_row104_col2, #T_43add_row104_col3, #T_43add_row104_col4, #T_43add_row104_col5, #T_43add_row105_col0, #T_43add_row105_col1, #T_43add_row105_col2, #T_43add_row105_col3, #T_43add_row105_col4, #T_43add_row105_col5, #T_43add_row106_col0, #T_43add_row106_col1, #T_43add_row106_col2, #T_43add_row106_col3, #T_43add_row106_col4, #T_43add_row106_col5, #T_43add_row107_col0, #T_43add_row107_col1, #T_43add_row107_col2, #T_43add_row107_col3, #T_43add_row107_col4, #T_43add_row107_col5, #T_43add_row108_col0, #T_43add_row108_col1, #T_43add_row108_col2, #T_43add_row108_col3, #T_43add_row108_col4, #T_43add_row108_col5, #T_43add_row109_col0, #T_43add_row109_col1, #T_43add_row109_col2, #T_43add_row109_col3, #T_43add_row109_col4, #T_43add_row109_col5, #T_43add_row110_col0, #T_43add_row110_col1, #T_43add_row110_col2, #T_43add_row110_col3, #T_43add_row110_col4, #T_43add_row110_col5, #T_43add_row111_col0, #T_43add_row111_col1, #T_43add_row111_col2, #T_43add_row111_col3, #T_43add_row111_col4, #T_43add_row111_col5, #T_43add_row112_col0, #T_43add_row112_col1, #T_43add_row112_col2, #T_43add_row112_col3, #T_43add_row112_col4, #T_43add_row112_col5, #T_43add_row113_col0, #T_43add_row113_col1, #T_43add_row113_col2, #T_43add_row113_col3, #T_43add_row113_col4, #T_43add_row113_col5, #T_43add_row114_col0, #T_43add_row114_col1, #T_43add_row114_col2, #T_43add_row114_col3, #T_43add_row114_col4, #T_43add_row114_col5, #T_43add_row115_col0, #T_43add_row115_col1, #T_43add_row115_col2, #T_43add_row115_col3, #T_43add_row115_col4, #T_43add_row115_col5, #T_43add_row116_col0, #T_43add_row116_col1, #T_43add_row116_col2, #T_43add_row116_col3, #T_43add_row116_col4, #T_43add_row116_col5, #T_43add_row117_col0, #T_43add_row117_col1, #T_43add_row117_col2, #T_43add_row117_col3, #T_43add_row117_col4, #T_43add_row117_col5, #T_43add_row118_col0, #T_43add_row118_col1, #T_43add_row118_col2, #T_43add_row118_col3, #T_43add_row118_col4, #T_43add_row118_col5, #T_43add_row119_col0, #T_43add_row119_col1, #T_43add_row119_col2, #T_43add_row119_col3, #T_43add_row119_col4, #T_43add_row119_col5, #T_43add_row120_col0, #T_43add_row120_col1, #T_43add_row120_col2, #T_43add_row120_col3, #T_43add_row120_col4, #T_43add_row120_col5, #T_43add_row121_col0, #T_43add_row121_col1, #T_43add_row121_col2, #T_43add_row121_col3, #T_43add_row121_col4, #T_43add_row121_col5, #T_43add_row122_col0, #T_43add_row122_col1, #T_43add_row122_col2, #T_43add_row122_col3, #T_43add_row122_col4, #T_43add_row122_col5, #T_43add_row123_col0, #T_43add_row123_col1, #T_43add_row123_col2, #T_43add_row123_col3, #T_43add_row123_col4, #T_43add_row123_col5, #T_43add_row124_col0, #T_43add_row124_col1, #T_43add_row124_col2, #T_43add_row124_col3, #T_43add_row124_col4, #T_43add_row124_col5, #T_43add_row125_col0, #T_43add_row125_col1, #T_43add_row125_col2, #T_43add_row125_col3, #T_43add_row125_col4, #T_43add_row125_col5, #T_43add_row126_col0, #T_43add_row126_col1, #T_43add_row126_col2, #T_43add_row126_col3, #T_43add_row126_col4, #T_43add_row126_col5, #T_43add_row127_col0, #T_43add_row127_col1, #T_43add_row127_col2, #T_43add_row127_col3, #T_43add_row127_col4, #T_43add_row127_col5, #T_43add_row128_col0, #T_43add_row128_col1, #T_43add_row128_col2, #T_43add_row128_col3, #T_43add_row128_col4, #T_43add_row128_col5, #T_43add_row129_col0, #T_43add_row129_col1, #T_43add_row129_col2, #T_43add_row129_col3, #T_43add_row129_col4, #T_43add_row129_col5, #T_43add_row130_col0, #T_43add_row130_col1, #T_43add_row130_col2, #T_43add_row130_col3, #T_43add_row130_col4, #T_43add_row130_col5, #T_43add_row131_col0, #T_43add_row131_col1, #T_43add_row131_col2, #T_43add_row131_col3, #T_43add_row131_col4, #T_43add_row131_col5, #T_43add_row132_col0, #T_43add_row132_col1, #T_43add_row132_col2, #T_43add_row132_col3, #T_43add_row132_col4, #T_43add_row132_col5, #T_43add_row133_col0, #T_43add_row133_col1, #T_43add_row133_col2, #T_43add_row133_col3, #T_43add_row133_col4, #T_43add_row133_col5, #T_43add_row134_col0, #T_43add_row134_col1, #T_43add_row134_col2, #T_43add_row134_col3, #T_43add_row134_col4, #T_43add_row134_col5, #T_43add_row135_col0, #T_43add_row135_col1, #T_43add_row135_col2, #T_43add_row135_col3, #T_43add_row135_col4, #T_43add_row135_col5, #T_43add_row136_col0, #T_43add_row136_col1, #T_43add_row136_col2, #T_43add_row136_col3, #T_43add_row136_col4, #T_43add_row136_col5, #T_43add_row137_col0, #T_43add_row137_col1, #T_43add_row137_col2, #T_43add_row137_col3, #T_43add_row137_col4, #T_43add_row137_col5, #T_43add_row138_col0, #T_43add_row138_col1, #T_43add_row138_col2, #T_43add_row138_col3, #T_43add_row138_col4, #T_43add_row138_col5, #T_43add_row139_col0, #T_43add_row139_col1, #T_43add_row139_col2, #T_43add_row139_col3, #T_43add_row139_col4, #T_43add_row139_col5, #T_43add_row140_col0, #T_43add_row140_col1, #T_43add_row140_col2, #T_43add_row140_col3, #T_43add_row140_col4, #T_43add_row140_col5, #T_43add_row141_col0, #T_43add_row141_col1, #T_43add_row141_col2, #T_43add_row141_col3, #T_43add_row141_col4, #T_43add_row141_col5, #T_43add_row142_col0, #T_43add_row142_col1, #T_43add_row142_col2, #T_43add_row142_col3, #T_43add_row142_col4, #T_43add_row142_col5, #T_43add_row143_col0, #T_43add_row143_col1, #T_43add_row143_col2, #T_43add_row143_col3, #T_43add_row143_col4, #T_43add_row143_col5, #T_43add_row144_col0, #T_43add_row144_col1, #T_43add_row144_col2, #T_43add_row144_col3, #T_43add_row144_col4, #T_43add_row144_col5, #T_43add_row145_col0, #T_43add_row145_col1, #T_43add_row145_col2, #T_43add_row145_col3, #T_43add_row145_col4, #T_43add_row145_col5, #T_43add_row146_col0, #T_43add_row146_col1, #T_43add_row146_col2, #T_43add_row146_col3, #T_43add_row146_col4, #T_43add_row146_col5, #T_43add_row147_col0, #T_43add_row147_col1, #T_43add_row147_col2, #T_43add_row147_col3, #T_43add_row147_col4, #T_43add_row147_col5, #T_43add_row148_col0, #T_43add_row148_col1, #T_43add_row148_col2, #T_43add_row148_col3, #T_43add_row148_col4, #T_43add_row148_col5, #T_43add_row149_col0, #T_43add_row149_col1, #T_43add_row149_col2, #T_43add_row149_col3, #T_43add_row149_col4, #T_43add_row149_col5, #T_43add_row150_col0, #T_43add_row150_col1, #T_43add_row150_col2, #T_43add_row150_col3, #T_43add_row150_col4, #T_43add_row150_col5, #T_43add_row151_col0, #T_43add_row151_col1, #T_43add_row151_col2, #T_43add_row151_col3, #T_43add_row151_col4, #T_43add_row151_col5, #T_43add_row152_col0, #T_43add_row152_col1, #T_43add_row152_col2, #T_43add_row152_col3, #T_43add_row152_col4, #T_43add_row152_col5, #T_43add_row153_col0, #T_43add_row153_col1, #T_43add_row153_col2, #T_43add_row153_col3, #T_43add_row153_col4, #T_43add_row153_col5, #T_43add_row154_col0, #T_43add_row154_col1, #T_43add_row154_col2, #T_43add_row154_col3, #T_43add_row154_col4, #T_43add_row154_col5, #T_43add_row155_col0, #T_43add_row155_col1, #T_43add_row155_col2, #T_43add_row155_col3, #T_43add_row155_col4, #T_43add_row155_col5, #T_43add_row156_col0, #T_43add_row156_col1, #T_43add_row156_col2, #T_43add_row156_col3, #T_43add_row156_col4, #T_43add_row156_col5, #T_43add_row157_col0, #T_43add_row157_col1, #T_43add_row157_col2, #T_43add_row157_col3, #T_43add_row157_col4, #T_43add_row157_col5, #T_43add_row158_col0, #T_43add_row158_col1, #T_43add_row158_col2, #T_43add_row158_col3, #T_43add_row158_col4, #T_43add_row158_col5, #T_43add_row159_col0, #T_43add_row159_col1, #T_43add_row159_col2, #T_43add_row159_col3, #T_43add_row159_col4, #T_43add_row159_col5, #T_43add_row160_col0, #T_43add_row160_col1, #T_43add_row160_col2, #T_43add_row160_col3, #T_43add_row160_col4, #T_43add_row160_col5, #T_43add_row161_col0, #T_43add_row161_col1, #T_43add_row161_col2, #T_43add_row161_col3, #T_43add_row161_col4, #T_43add_row161_col5, #T_43add_row162_col0, #T_43add_row162_col1, #T_43add_row162_col2, #T_43add_row162_col3, #T_43add_row162_col4, #T_43add_row162_col5, #T_43add_row163_col0, #T_43add_row163_col1, #T_43add_row163_col2, #T_43add_row163_col3, #T_43add_row163_col4, #T_43add_row163_col5, #T_43add_row164_col0, #T_43add_row164_col1, #T_43add_row164_col2, #T_43add_row164_col3, #T_43add_row164_col4, #T_43add_row164_col5, #T_43add_row165_col0, #T_43add_row165_col1, #T_43add_row165_col2, #T_43add_row165_col3, #T_43add_row165_col4, #T_43add_row165_col5 {\n",
       "  text-align: left;\n",
       "}\n",
       "</style>\n",
       "<table id=\"T_43add\">\n",
       "  <thead>\n",
       "    <tr>\n",
       "      <th id=\"T_43add_level0_col0\" class=\"col_heading level0 col0\" >ID</th>\n",
       "      <th id=\"T_43add_level0_col1\" class=\"col_heading level0 col1\" >Name</th>\n",
       "      <th id=\"T_43add_level0_col2\" class=\"col_heading level0 col2\" >Test Type</th>\n",
       "      <th id=\"T_43add_level0_col3\" class=\"col_heading level0 col3\" >Description</th>\n",
       "      <th id=\"T_43add_level0_col4\" class=\"col_heading level0 col4\" >Required Inputs</th>\n",
       "      <th id=\"T_43add_level0_col5\" class=\"col_heading level0 col5\" >Params</th>\n",
       "    </tr>\n",
       "  </thead>\n",
       "  <tbody>\n",
       "    <tr>\n",
       "      <td id=\"T_43add_row0_col0\" class=\"data row0 col0\" >validmind.prompt_validation.Bias</td>\n",
       "      <td id=\"T_43add_row0_col1\" class=\"data row0 col1\" >Bias</td>\n",
       "      <td id=\"T_43add_row0_col2\" class=\"data row0 col2\" >ThresholdTest</td>\n",
       "      <td id=\"T_43add_row0_col3\" class=\"data row0 col3\" >Evaluates bias in a Large Language Model based on the order and distribution of exemplars in a prompt....</td>\n",
       "      <td id=\"T_43add_row0_col4\" class=\"data row0 col4\" >['model.prompt']</td>\n",
       "      <td id=\"T_43add_row0_col5\" class=\"data row0 col5\" >{'min_threshold': 7}</td>\n",
       "    </tr>\n",
       "    <tr>\n",
       "      <td id=\"T_43add_row1_col0\" class=\"data row1 col0\" >validmind.prompt_validation.Clarity</td>\n",
       "      <td id=\"T_43add_row1_col1\" class=\"data row1 col1\" >Clarity</td>\n",
       "      <td id=\"T_43add_row1_col2\" class=\"data row1 col2\" >ThresholdTest</td>\n",
       "      <td id=\"T_43add_row1_col3\" class=\"data row1 col3\" >Evaluates and scores the clarity of prompts in a Large Language Model based on specified guidelines....</td>\n",
       "      <td id=\"T_43add_row1_col4\" class=\"data row1 col4\" >['model.prompt']</td>\n",
       "      <td id=\"T_43add_row1_col5\" class=\"data row1 col5\" >{'min_threshold': 7}</td>\n",
       "    </tr>\n",
       "    <tr>\n",
       "      <td id=\"T_43add_row2_col0\" class=\"data row2 col0\" >validmind.prompt_validation.Specificity</td>\n",
       "      <td id=\"T_43add_row2_col1\" class=\"data row2 col1\" >Specificity</td>\n",
       "      <td id=\"T_43add_row2_col2\" class=\"data row2 col2\" >ThresholdTest</td>\n",
       "      <td id=\"T_43add_row2_col3\" class=\"data row2 col3\" >Evaluates and scores the specificity of prompts provided to a Large Language Model (LLM), based on clarity,...</td>\n",
       "      <td id=\"T_43add_row2_col4\" class=\"data row2 col4\" >['model.prompt']</td>\n",
       "      <td id=\"T_43add_row2_col5\" class=\"data row2 col5\" >{'min_threshold': 7}</td>\n",
       "    </tr>\n",
       "    <tr>\n",
       "      <td id=\"T_43add_row3_col0\" class=\"data row3 col0\" >validmind.prompt_validation.Robustness</td>\n",
       "      <td id=\"T_43add_row3_col1\" class=\"data row3 col1\" >Robustness</td>\n",
       "      <td id=\"T_43add_row3_col2\" class=\"data row3 col2\" >ThresholdTest</td>\n",
       "      <td id=\"T_43add_row3_col3\" class=\"data row3 col3\" >Assesses the robustness of prompts provided to a Large Language Model under varying conditions and contexts....</td>\n",
       "      <td id=\"T_43add_row3_col4\" class=\"data row3 col4\" >['model']</td>\n",
       "      <td id=\"T_43add_row3_col5\" class=\"data row3 col5\" >{'num_tests': 10}</td>\n",
       "    </tr>\n",
       "    <tr>\n",
       "      <td id=\"T_43add_row4_col0\" class=\"data row4 col0\" >validmind.prompt_validation.NegativeInstruction</td>\n",
       "      <td id=\"T_43add_row4_col1\" class=\"data row4 col1\" >Negative Instruction</td>\n",
       "      <td id=\"T_43add_row4_col2\" class=\"data row4 col2\" >ThresholdTest</td>\n",
       "      <td id=\"T_43add_row4_col3\" class=\"data row4 col3\" >Evaluates and grades the use of affirmative, proactive language over negative instructions in LLM prompts....</td>\n",
       "      <td id=\"T_43add_row4_col4\" class=\"data row4 col4\" >['model.prompt']</td>\n",
       "      <td id=\"T_43add_row4_col5\" class=\"data row4 col5\" >{'min_threshold': 7}</td>\n",
       "    </tr>\n",
       "    <tr>\n",
       "      <td id=\"T_43add_row5_col0\" class=\"data row5 col0\" >validmind.prompt_validation.Conciseness</td>\n",
       "      <td id=\"T_43add_row5_col1\" class=\"data row5 col1\" >Conciseness</td>\n",
       "      <td id=\"T_43add_row5_col2\" class=\"data row5 col2\" >ThresholdTest</td>\n",
       "      <td id=\"T_43add_row5_col3\" class=\"data row5 col3\" >Analyzes and grades the conciseness of prompts provided to a Large Language Model....</td>\n",
       "      <td id=\"T_43add_row5_col4\" class=\"data row5 col4\" >['model.prompt']</td>\n",
       "      <td id=\"T_43add_row5_col5\" class=\"data row5 col5\" >{'min_threshold': 7}</td>\n",
       "    </tr>\n",
       "    <tr>\n",
       "      <td id=\"T_43add_row6_col0\" class=\"data row6 col0\" >validmind.prompt_validation.Delimitation</td>\n",
       "      <td id=\"T_43add_row6_col1\" class=\"data row6 col1\" >Delimitation</td>\n",
       "      <td id=\"T_43add_row6_col2\" class=\"data row6 col2\" >ThresholdTest</td>\n",
       "      <td id=\"T_43add_row6_col3\" class=\"data row6 col3\" >Evaluates the proper use of delimiters in prompts provided to Large Language Models....</td>\n",
       "      <td id=\"T_43add_row6_col4\" class=\"data row6 col4\" >['model.prompt']</td>\n",
       "      <td id=\"T_43add_row6_col5\" class=\"data row6 col5\" >{'min_threshold': 7}</td>\n",
       "    </tr>\n",
       "    <tr>\n",
       "      <td id=\"T_43add_row7_col0\" class=\"data row7 col0\" >validmind.model_validation.BertScore</td>\n",
       "      <td id=\"T_43add_row7_col1\" class=\"data row7 col1\" >Bert Score</td>\n",
       "      <td id=\"T_43add_row7_col2\" class=\"data row7 col2\" >Metric</td>\n",
       "      <td id=\"T_43add_row7_col3\" class=\"data row7 col3\" >Evaluates the quality of machine-generated text using BERTScore metrics and visualizes the results through histograms...</td>\n",
       "      <td id=\"T_43add_row7_col4\" class=\"data row7 col4\" >['dataset', 'model']</td>\n",
       "      <td id=\"T_43add_row7_col5\" class=\"data row7 col5\" >{}</td>\n",
       "    </tr>\n",
       "    <tr>\n",
       "      <td id=\"T_43add_row8_col0\" class=\"data row8 col0\" >validmind.model_validation.RegardScore</td>\n",
       "      <td id=\"T_43add_row8_col1\" class=\"data row8 col1\" >Regard Score</td>\n",
       "      <td id=\"T_43add_row8_col2\" class=\"data row8 col2\" >Metric</td>\n",
       "      <td id=\"T_43add_row8_col3\" class=\"data row8 col3\" >Computes and visualizes the regard score for each text instance, assessing sentiment and potential biases....</td>\n",
       "      <td id=\"T_43add_row8_col4\" class=\"data row8 col4\" >['dataset', 'model']</td>\n",
       "      <td id=\"T_43add_row8_col5\" class=\"data row8 col5\" >{}</td>\n",
       "    </tr>\n",
       "    <tr>\n",
       "      <td id=\"T_43add_row9_col0\" class=\"data row9 col0\" >validmind.model_validation.BleuScore</td>\n",
       "      <td id=\"T_43add_row9_col1\" class=\"data row9 col1\" >Bleu Score</td>\n",
       "      <td id=\"T_43add_row9_col2\" class=\"data row9 col2\" >Metric</td>\n",
       "      <td id=\"T_43add_row9_col3\" class=\"data row9 col3\" >Evaluates the quality of machine-generated text using BLEU metrics and visualizes the results through histograms...</td>\n",
       "      <td id=\"T_43add_row9_col4\" class=\"data row9 col4\" >['dataset', 'model']</td>\n",
       "      <td id=\"T_43add_row9_col5\" class=\"data row9 col5\" >{}</td>\n",
       "    </tr>\n",
       "    <tr>\n",
       "      <td id=\"T_43add_row10_col0\" class=\"data row10 col0\" >validmind.model_validation.RegressionResidualsPlot</td>\n",
       "      <td id=\"T_43add_row10_col1\" class=\"data row10 col1\" >Regression Residuals Plot</td>\n",
       "      <td id=\"T_43add_row10_col2\" class=\"data row10 col2\" >Metric</td>\n",
       "      <td id=\"T_43add_row10_col3\" class=\"data row10 col3\" >Evaluates regression model performance using residual distribution and actual vs. predicted plots....</td>\n",
       "      <td id=\"T_43add_row10_col4\" class=\"data row10 col4\" >['model', 'dataset']</td>\n",
       "      <td id=\"T_43add_row10_col5\" class=\"data row10 col5\" >{'bin_size': 0.1}</td>\n",
       "    </tr>\n",
       "    <tr>\n",
       "      <td id=\"T_43add_row11_col0\" class=\"data row11 col0\" >validmind.model_validation.FeaturesAUC</td>\n",
       "      <td id=\"T_43add_row11_col1\" class=\"data row11 col1\" >Features AUC</td>\n",
       "      <td id=\"T_43add_row11_col2\" class=\"data row11 col2\" >Metric</td>\n",
       "      <td id=\"T_43add_row11_col3\" class=\"data row11 col3\" >Evaluates the discriminatory power of each individual feature within a binary classification model by calculating the Area Under the Curve (AUC) for each feature separately....</td>\n",
       "      <td id=\"T_43add_row11_col4\" class=\"data row11 col4\" >['model', 'dataset']</td>\n",
       "      <td id=\"T_43add_row11_col5\" class=\"data row11 col5\" >{'fontsize': 12, 'figure_height': 500}</td>\n",
       "    </tr>\n",
       "    <tr>\n",
       "      <td id=\"T_43add_row12_col0\" class=\"data row12 col0\" >validmind.model_validation.ContextualRecall</td>\n",
       "      <td id=\"T_43add_row12_col1\" class=\"data row12 col1\" >Contextual Recall</td>\n",
       "      <td id=\"T_43add_row12_col2\" class=\"data row12 col2\" >Metric</td>\n",
       "      <td id=\"T_43add_row12_col3\" class=\"data row12 col3\" >Evaluates a Natural Language Generation model's ability to generate contextually relevant and factually correct text, visualizing the results through histograms and bar charts, alongside compiling a comprehensive table of descriptive statistics for contextual recall scores....</td>\n",
       "      <td id=\"T_43add_row12_col4\" class=\"data row12 col4\" >['dataset', 'model']</td>\n",
       "      <td id=\"T_43add_row12_col5\" class=\"data row12 col5\" >{}</td>\n",
       "    </tr>\n",
       "    <tr>\n",
       "      <td id=\"T_43add_row13_col0\" class=\"data row13 col0\" >validmind.model_validation.MeteorScore</td>\n",
       "      <td id=\"T_43add_row13_col1\" class=\"data row13 col1\" >Meteor Score</td>\n",
       "      <td id=\"T_43add_row13_col2\" class=\"data row13 col2\" >Metric</td>\n",
       "      <td id=\"T_43add_row13_col3\" class=\"data row13 col3\" >Computes and visualizes the METEOR score for each text generation instance, assessing translation quality....</td>\n",
       "      <td id=\"T_43add_row13_col4\" class=\"data row13 col4\" >['dataset', 'model']</td>\n",
       "      <td id=\"T_43add_row13_col5\" class=\"data row13 col5\" >{}</td>\n",
       "    </tr>\n",
       "    <tr>\n",
       "      <td id=\"T_43add_row14_col0\" class=\"data row14 col0\" >validmind.model_validation.RougeScore</td>\n",
       "      <td id=\"T_43add_row14_col1\" class=\"data row14 col1\" >Rouge Score</td>\n",
       "      <td id=\"T_43add_row14_col2\" class=\"data row14 col2\" >Metric</td>\n",
       "      <td id=\"T_43add_row14_col3\" class=\"data row14 col3\" >Evaluates the quality of machine-generated text using ROUGE metrics and visualizes the results through histograms...</td>\n",
       "      <td id=\"T_43add_row14_col4\" class=\"data row14 col4\" >['dataset', 'model']</td>\n",
       "      <td id=\"T_43add_row14_col5\" class=\"data row14 col5\" >{'metric': 'rouge-1'}</td>\n",
       "    </tr>\n",
       "    <tr>\n",
       "      <td id=\"T_43add_row15_col0\" class=\"data row15 col0\" >validmind.model_validation.ModelMetadata</td>\n",
       "      <td id=\"T_43add_row15_col1\" class=\"data row15 col1\" >Model Metadata</td>\n",
       "      <td id=\"T_43add_row15_col2\" class=\"data row15 col2\" >Metric</td>\n",
       "      <td id=\"T_43add_row15_col3\" class=\"data row15 col3\" >Extracts and summarizes critical metadata from a machine learning model instance for comprehensive analysis....</td>\n",
       "      <td id=\"T_43add_row15_col4\" class=\"data row15 col4\" >['model']</td>\n",
       "      <td id=\"T_43add_row15_col5\" class=\"data row15 col5\" >{}</td>\n",
       "    </tr>\n",
       "    <tr>\n",
       "      <td id=\"T_43add_row16_col0\" class=\"data row16 col0\" >validmind.model_validation.ClusterSizeDistribution</td>\n",
       "      <td id=\"T_43add_row16_col1\" class=\"data row16 col1\" >Cluster Size Distribution</td>\n",
       "      <td id=\"T_43add_row16_col2\" class=\"data row16 col2\" >Metric</td>\n",
       "      <td id=\"T_43add_row16_col3\" class=\"data row16 col3\" >Compares and visualizes the distribution of cluster sizes in model predictions and actual data for assessing...</td>\n",
       "      <td id=\"T_43add_row16_col4\" class=\"data row16 col4\" >['model', 'dataset']</td>\n",
       "      <td id=\"T_43add_row16_col5\" class=\"data row16 col5\" >{}</td>\n",
       "    </tr>\n",
       "    <tr>\n",
       "      <td id=\"T_43add_row17_col0\" class=\"data row17 col0\" >validmind.model_validation.TokenDisparity</td>\n",
       "      <td id=\"T_43add_row17_col1\" class=\"data row17 col1\" >Token Disparity</td>\n",
       "      <td id=\"T_43add_row17_col2\" class=\"data row17 col2\" >Metric</td>\n",
       "      <td id=\"T_43add_row17_col3\" class=\"data row17 col3\" >Evaluates the token disparity between reference and generated texts, visualizing the results through histograms...</td>\n",
       "      <td id=\"T_43add_row17_col4\" class=\"data row17 col4\" >['dataset', 'model']</td>\n",
       "      <td id=\"T_43add_row17_col5\" class=\"data row17 col5\" >{}</td>\n",
       "    </tr>\n",
       "    <tr>\n",
       "      <td id=\"T_43add_row18_col0\" class=\"data row18 col0\" >validmind.model_validation.ToxicityScore</td>\n",
       "      <td id=\"T_43add_row18_col1\" class=\"data row18 col1\" >Toxicity Score</td>\n",
       "      <td id=\"T_43add_row18_col2\" class=\"data row18 col2\" >Metric</td>\n",
       "      <td id=\"T_43add_row18_col3\" class=\"data row18 col3\" >Computes and visualizes the toxicity score for input text, true text, and predicted text, assessing content quality and potential risk....</td>\n",
       "      <td id=\"T_43add_row18_col4\" class=\"data row18 col4\" >['dataset', 'model']</td>\n",
       "      <td id=\"T_43add_row18_col5\" class=\"data row18 col5\" >{}</td>\n",
       "    </tr>\n",
       "    <tr>\n",
       "      <td id=\"T_43add_row19_col0\" class=\"data row19 col0\" >validmind.model_validation.embeddings.CosineSimilarityComparison</td>\n",
       "      <td id=\"T_43add_row19_col1\" class=\"data row19 col1\" >Cosine Similarity Comparison</td>\n",
       "      <td id=\"T_43add_row19_col2\" class=\"data row19 col2\" >Metric</td>\n",
       "      <td id=\"T_43add_row19_col3\" class=\"data row19 col3\" >Computes pairwise cosine similarities between model embeddings and visualizes the results through bar charts,...</td>\n",
       "      <td id=\"T_43add_row19_col4\" class=\"data row19 col4\" >['dataset', 'models']</td>\n",
       "      <td id=\"T_43add_row19_col5\" class=\"data row19 col5\" >{}</td>\n",
       "    </tr>\n",
       "    <tr>\n",
       "      <td id=\"T_43add_row20_col0\" class=\"data row20 col0\" >validmind.model_validation.embeddings.EmbeddingsVisualization2D</td>\n",
       "      <td id=\"T_43add_row20_col1\" class=\"data row20 col1\" >Embeddings Visualization2 D</td>\n",
       "      <td id=\"T_43add_row20_col2\" class=\"data row20 col2\" >Metric</td>\n",
       "      <td id=\"T_43add_row20_col3\" class=\"data row20 col3\" >Visualizes 2D representation of text embeddings generated by a model using t-SNE technique....</td>\n",
       "      <td id=\"T_43add_row20_col4\" class=\"data row20 col4\" >['model', 'dataset']</td>\n",
       "      <td id=\"T_43add_row20_col5\" class=\"data row20 col5\" >{'cluster_column': None, 'perplexity': 30}</td>\n",
       "    </tr>\n",
       "    <tr>\n",
       "      <td id=\"T_43add_row21_col0\" class=\"data row21 col0\" >validmind.model_validation.embeddings.StabilityAnalysisRandomNoise</td>\n",
       "      <td id=\"T_43add_row21_col1\" class=\"data row21 col1\" >Stability Analysis Random Noise</td>\n",
       "      <td id=\"T_43add_row21_col2\" class=\"data row21 col2\" >ThresholdTest</td>\n",
       "      <td id=\"T_43add_row21_col3\" class=\"data row21 col3\" >Evaluate robustness of embeddings models to random noise introduced by using...</td>\n",
       "      <td id=\"T_43add_row21_col4\" class=\"data row21 col4\" >['model', 'dataset']</td>\n",
       "      <td id=\"T_43add_row21_col5\" class=\"data row21 col5\" >{'mean_similarity_threshold': 0.7, 'probability': 0.02}</td>\n",
       "    </tr>\n",
       "    <tr>\n",
       "      <td id=\"T_43add_row22_col0\" class=\"data row22 col0\" >validmind.model_validation.embeddings.TSNEComponentsPairwisePlots</td>\n",
       "      <td id=\"T_43add_row22_col1\" class=\"data row22 col1\" >TSNE Components Pairwise Plots</td>\n",
       "      <td id=\"T_43add_row22_col2\" class=\"data row22 col2\" >Metric</td>\n",
       "      <td id=\"T_43add_row22_col3\" class=\"data row22 col3\" >Plots individual scatter plots for pairwise combinations of t-SNE components of embeddings....</td>\n",
       "      <td id=\"T_43add_row22_col4\" class=\"data row22 col4\" >['dataset', 'model']</td>\n",
       "      <td id=\"T_43add_row22_col5\" class=\"data row22 col5\" >{'n_components': 2, 'perplexity': 30, 'title': 't-SNE'}</td>\n",
       "    </tr>\n",
       "    <tr>\n",
       "      <td id=\"T_43add_row23_col0\" class=\"data row23 col0\" >validmind.model_validation.embeddings.CosineSimilarityDistribution</td>\n",
       "      <td id=\"T_43add_row23_col1\" class=\"data row23 col1\" >Cosine Similarity Distribution</td>\n",
       "      <td id=\"T_43add_row23_col2\" class=\"data row23 col2\" >Metric</td>\n",
       "      <td id=\"T_43add_row23_col3\" class=\"data row23 col3\" >Assesses the similarity between predicted text embeddings from a model using a Cosine Similarity distribution...</td>\n",
       "      <td id=\"T_43add_row23_col4\" class=\"data row23 col4\" >['model', 'dataset']</td>\n",
       "      <td id=\"T_43add_row23_col5\" class=\"data row23 col5\" >{}</td>\n",
       "    </tr>\n",
       "    <tr>\n",
       "      <td id=\"T_43add_row24_col0\" class=\"data row24 col0\" >validmind.model_validation.embeddings.PCAComponentsPairwisePlots</td>\n",
       "      <td id=\"T_43add_row24_col1\" class=\"data row24 col1\" >PCA Components Pairwise Plots</td>\n",
       "      <td id=\"T_43add_row24_col2\" class=\"data row24 col2\" >Metric</td>\n",
       "      <td id=\"T_43add_row24_col3\" class=\"data row24 col3\" >Generates scatter plots for pairwise combinations of principal component analysis (PCA) components of model embeddings....</td>\n",
       "      <td id=\"T_43add_row24_col4\" class=\"data row24 col4\" >['dataset', 'model']</td>\n",
       "      <td id=\"T_43add_row24_col5\" class=\"data row24 col5\" >{'n_components': 3}</td>\n",
       "    </tr>\n",
       "    <tr>\n",
       "      <td id=\"T_43add_row25_col0\" class=\"data row25 col0\" >validmind.model_validation.embeddings.CosineSimilarityHeatmap</td>\n",
       "      <td id=\"T_43add_row25_col1\" class=\"data row25 col1\" >Cosine Similarity Heatmap</td>\n",
       "      <td id=\"T_43add_row25_col2\" class=\"data row25 col2\" >Metric</td>\n",
       "      <td id=\"T_43add_row25_col3\" class=\"data row25 col3\" >Generates an interactive heatmap to visualize the cosine similarities among embeddings derived from a given model....</td>\n",
       "      <td id=\"T_43add_row25_col4\" class=\"data row25 col4\" >['dataset', 'model']</td>\n",
       "      <td id=\"T_43add_row25_col5\" class=\"data row25 col5\" >{'title': 'Cosine Similarity Matrix', 'color': 'Cosine Similarity', 'xaxis_title': 'Index', 'yaxis_title': 'Index', 'color_scale': 'Blues'}</td>\n",
       "    </tr>\n",
       "    <tr>\n",
       "      <td id=\"T_43add_row26_col0\" class=\"data row26 col0\" >validmind.model_validation.embeddings.StabilityAnalysisTranslation</td>\n",
       "      <td id=\"T_43add_row26_col1\" class=\"data row26 col1\" >Stability Analysis Translation</td>\n",
       "      <td id=\"T_43add_row26_col2\" class=\"data row26 col2\" >ThresholdTest</td>\n",
       "      <td id=\"T_43add_row26_col3\" class=\"data row26 col3\" >Evaluate robustness of embeddings models to noise introduced by translating...</td>\n",
       "      <td id=\"T_43add_row26_col4\" class=\"data row26 col4\" >['model', 'dataset']</td>\n",
       "      <td id=\"T_43add_row26_col5\" class=\"data row26 col5\" >{'source_lang': 'en', 'target_lang': 'fr', 'mean_similarity_threshold': 0.7}</td>\n",
       "    </tr>\n",
       "    <tr>\n",
       "      <td id=\"T_43add_row27_col0\" class=\"data row27 col0\" >validmind.model_validation.embeddings.EuclideanDistanceComparison</td>\n",
       "      <td id=\"T_43add_row27_col1\" class=\"data row27 col1\" >Euclidean Distance Comparison</td>\n",
       "      <td id=\"T_43add_row27_col2\" class=\"data row27 col2\" >Metric</td>\n",
       "      <td id=\"T_43add_row27_col3\" class=\"data row27 col3\" >Computes pairwise Euclidean distances between model embeddings and visualizes the results through bar charts,...</td>\n",
       "      <td id=\"T_43add_row27_col4\" class=\"data row27 col4\" >['dataset', 'models']</td>\n",
       "      <td id=\"T_43add_row27_col5\" class=\"data row27 col5\" >{}</td>\n",
       "    </tr>\n",
       "    <tr>\n",
       "      <td id=\"T_43add_row28_col0\" class=\"data row28 col0\" >validmind.model_validation.embeddings.ClusterDistribution</td>\n",
       "      <td id=\"T_43add_row28_col1\" class=\"data row28 col1\" >Cluster Distribution</td>\n",
       "      <td id=\"T_43add_row28_col2\" class=\"data row28 col2\" >Metric</td>\n",
       "      <td id=\"T_43add_row28_col3\" class=\"data row28 col3\" >Assesses the distribution of text embeddings across clusters produced by a model using KMeans clustering....</td>\n",
       "      <td id=\"T_43add_row28_col4\" class=\"data row28 col4\" >['model', 'dataset']</td>\n",
       "      <td id=\"T_43add_row28_col5\" class=\"data row28 col5\" >{'num_clusters': 5}</td>\n",
       "    </tr>\n",
       "    <tr>\n",
       "      <td id=\"T_43add_row29_col0\" class=\"data row29 col0\" >validmind.model_validation.embeddings.EuclideanDistanceHeatmap</td>\n",
       "      <td id=\"T_43add_row29_col1\" class=\"data row29 col1\" >Euclidean Distance Heatmap</td>\n",
       "      <td id=\"T_43add_row29_col2\" class=\"data row29 col2\" >Metric</td>\n",
       "      <td id=\"T_43add_row29_col3\" class=\"data row29 col3\" >Generates an interactive heatmap to visualize the Euclidean distances among embeddings derived from a given model....</td>\n",
       "      <td id=\"T_43add_row29_col4\" class=\"data row29 col4\" >['dataset', 'model']</td>\n",
       "      <td id=\"T_43add_row29_col5\" class=\"data row29 col5\" >{'title': 'Euclidean Distance Matrix', 'color': 'Euclidean Distance', 'xaxis_title': 'Index', 'yaxis_title': 'Index', 'color_scale': 'Blues'}</td>\n",
       "    </tr>\n",
       "    <tr>\n",
       "      <td id=\"T_43add_row30_col0\" class=\"data row30 col0\" >validmind.model_validation.embeddings.StabilityAnalysis</td>\n",
       "      <td id=\"T_43add_row30_col1\" class=\"data row30 col1\" >Stability Analysis</td>\n",
       "      <td id=\"T_43add_row30_col2\" class=\"data row30 col2\" >ThresholdTest</td>\n",
       "      <td id=\"T_43add_row30_col3\" class=\"data row30 col3\" >Base class for embeddings stability analysis tests</td>\n",
       "      <td id=\"T_43add_row30_col4\" class=\"data row30 col4\" >['model', 'dataset']</td>\n",
       "      <td id=\"T_43add_row30_col5\" class=\"data row30 col5\" >{'mean_similarity_threshold': 0.7}</td>\n",
       "    </tr>\n",
       "    <tr>\n",
       "      <td id=\"T_43add_row31_col0\" class=\"data row31 col0\" >validmind.model_validation.embeddings.StabilityAnalysisKeyword</td>\n",
       "      <td id=\"T_43add_row31_col1\" class=\"data row31 col1\" >Stability Analysis Keyword</td>\n",
       "      <td id=\"T_43add_row31_col2\" class=\"data row31 col2\" >ThresholdTest</td>\n",
       "      <td id=\"T_43add_row31_col3\" class=\"data row31 col3\" >Evaluate robustness of embeddings models to keyword swaps on the test dataset...</td>\n",
       "      <td id=\"T_43add_row31_col4\" class=\"data row31 col4\" >['model', 'dataset']</td>\n",
       "      <td id=\"T_43add_row31_col5\" class=\"data row31 col5\" >{'keyword_dict': None, 'mean_similarity_threshold': 0.7}</td>\n",
       "    </tr>\n",
       "    <tr>\n",
       "      <td id=\"T_43add_row32_col0\" class=\"data row32 col0\" >validmind.model_validation.embeddings.StabilityAnalysisSynonyms</td>\n",
       "      <td id=\"T_43add_row32_col1\" class=\"data row32 col1\" >Stability Analysis Synonyms</td>\n",
       "      <td id=\"T_43add_row32_col2\" class=\"data row32 col2\" >ThresholdTest</td>\n",
       "      <td id=\"T_43add_row32_col3\" class=\"data row32 col3\" >Evaluates the stability of text embeddings models when words in test data are replaced by their synonyms randomly....</td>\n",
       "      <td id=\"T_43add_row32_col4\" class=\"data row32 col4\" >['model', 'dataset']</td>\n",
       "      <td id=\"T_43add_row32_col5\" class=\"data row32 col5\" >{'probability': 0.02, 'mean_similarity_threshold': 0.7}</td>\n",
       "    </tr>\n",
       "    <tr>\n",
       "      <td id=\"T_43add_row33_col0\" class=\"data row33 col0\" >validmind.model_validation.embeddings.DescriptiveAnalytics</td>\n",
       "      <td id=\"T_43add_row33_col1\" class=\"data row33 col1\" >Descriptive Analytics</td>\n",
       "      <td id=\"T_43add_row33_col2\" class=\"data row33 col2\" >Metric</td>\n",
       "      <td id=\"T_43add_row33_col3\" class=\"data row33 col3\" >Evaluates statistical properties of text embeddings in an ML model via mean, median, and standard deviation...</td>\n",
       "      <td id=\"T_43add_row33_col4\" class=\"data row33 col4\" >['model', 'dataset']</td>\n",
       "      <td id=\"T_43add_row33_col5\" class=\"data row33 col5\" >{}</td>\n",
       "    </tr>\n",
       "    <tr>\n",
       "      <td id=\"T_43add_row34_col0\" class=\"data row34 col0\" >validmind.model_validation.ragas.ContextEntityRecall</td>\n",
       "      <td id=\"T_43add_row34_col1\" class=\"data row34 col1\" >Context Entity Recall</td>\n",
       "      <td id=\"T_43add_row34_col2\" class=\"data row34 col2\" >Metric</td>\n",
       "      <td id=\"T_43add_row34_col3\" class=\"data row34 col3\" >Evaluates the context entity recall for dataset entries and visualizes the results....</td>\n",
       "      <td id=\"T_43add_row34_col4\" class=\"data row34 col4\" >['dataset']</td>\n",
       "      <td id=\"T_43add_row34_col5\" class=\"data row34 col5\" >{'contexts_column': 'contexts', 'ground_truth_column': 'ground_truth'}</td>\n",
       "    </tr>\n",
       "    <tr>\n",
       "      <td id=\"T_43add_row35_col0\" class=\"data row35 col0\" >validmind.model_validation.ragas.Faithfulness</td>\n",
       "      <td id=\"T_43add_row35_col1\" class=\"data row35 col1\" >Faithfulness</td>\n",
       "      <td id=\"T_43add_row35_col2\" class=\"data row35 col2\" >Metric</td>\n",
       "      <td id=\"T_43add_row35_col3\" class=\"data row35 col3\" >Evaluates the faithfulness of the generated answers with respect to retrieved contexts....</td>\n",
       "      <td id=\"T_43add_row35_col4\" class=\"data row35 col4\" >['dataset']</td>\n",
       "      <td id=\"T_43add_row35_col5\" class=\"data row35 col5\" >{'answer_column': 'answer', 'contexts_column': 'contexts'}</td>\n",
       "    </tr>\n",
       "    <tr>\n",
       "      <td id=\"T_43add_row36_col0\" class=\"data row36 col0\" >validmind.model_validation.ragas.AspectCritique</td>\n",
       "      <td id=\"T_43add_row36_col1\" class=\"data row36 col1\" >Aspect Critique</td>\n",
       "      <td id=\"T_43add_row36_col2\" class=\"data row36 col2\" >Metric</td>\n",
       "      <td id=\"T_43add_row36_col3\" class=\"data row36 col3\" >Evaluates generations against the following aspects: harmfulness, maliciousness,...</td>\n",
       "      <td id=\"T_43add_row36_col4\" class=\"data row36 col4\" >['dataset']</td>\n",
       "      <td id=\"T_43add_row36_col5\" class=\"data row36 col5\" >{'question_column': 'question', 'answer_column': 'answer', 'contexts_column': 'contexts', 'aspects': ['coherence', 'conciseness', 'correctness', 'harmfulness', 'maliciousness'], 'additional_aspects': []}</td>\n",
       "    </tr>\n",
       "    <tr>\n",
       "      <td id=\"T_43add_row37_col0\" class=\"data row37 col0\" >validmind.model_validation.ragas.AnswerSimilarity</td>\n",
       "      <td id=\"T_43add_row37_col1\" class=\"data row37 col1\" >Answer Similarity</td>\n",
       "      <td id=\"T_43add_row37_col2\" class=\"data row37 col2\" >Metric</td>\n",
       "      <td id=\"T_43add_row37_col3\" class=\"data row37 col3\" >Calculates the semantic similarity between generated answers and ground truths...</td>\n",
       "      <td id=\"T_43add_row37_col4\" class=\"data row37 col4\" >['dataset']</td>\n",
       "      <td id=\"T_43add_row37_col5\" class=\"data row37 col5\" >{'answer_column': 'answer', 'ground_truth_column': 'ground_truth'}</td>\n",
       "    </tr>\n",
       "    <tr>\n",
       "      <td id=\"T_43add_row38_col0\" class=\"data row38 col0\" >validmind.model_validation.ragas.AnswerCorrectness</td>\n",
       "      <td id=\"T_43add_row38_col1\" class=\"data row38 col1\" >Answer Correctness</td>\n",
       "      <td id=\"T_43add_row38_col2\" class=\"data row38 col2\" >Metric</td>\n",
       "      <td id=\"T_43add_row38_col3\" class=\"data row38 col3\" >Evaluates the correctness of answers in a dataset with respect to the provided ground...</td>\n",
       "      <td id=\"T_43add_row38_col4\" class=\"data row38 col4\" >['dataset']</td>\n",
       "      <td id=\"T_43add_row38_col5\" class=\"data row38 col5\" >{'question_column': 'question', 'answer_column': 'answer', 'ground_truth_column': 'ground_truth'}</td>\n",
       "    </tr>\n",
       "    <tr>\n",
       "      <td id=\"T_43add_row39_col0\" class=\"data row39 col0\" >validmind.model_validation.ragas.ContextRecall</td>\n",
       "      <td id=\"T_43add_row39_col1\" class=\"data row39 col1\" >Context Recall</td>\n",
       "      <td id=\"T_43add_row39_col2\" class=\"data row39 col2\" >Metric</td>\n",
       "      <td id=\"T_43add_row39_col3\" class=\"data row39 col3\" >Context recall measures the extent to which the retrieved context aligns with the...</td>\n",
       "      <td id=\"T_43add_row39_col4\" class=\"data row39 col4\" >['dataset']</td>\n",
       "      <td id=\"T_43add_row39_col5\" class=\"data row39 col5\" >{'question_column': 'question', 'contexts_column': 'contexts', 'ground_truth_column': 'ground_truth'}</td>\n",
       "    </tr>\n",
       "    <tr>\n",
       "      <td id=\"T_43add_row40_col0\" class=\"data row40 col0\" >validmind.model_validation.ragas.ContextRelevancy</td>\n",
       "      <td id=\"T_43add_row40_col1\" class=\"data row40 col1\" >Context Relevancy</td>\n",
       "      <td id=\"T_43add_row40_col2\" class=\"data row40 col2\" >Metric</td>\n",
       "      <td id=\"T_43add_row40_col3\" class=\"data row40 col3\" >Evaluates the context relevancy metric for entries in a dataset and visualizes the...</td>\n",
       "      <td id=\"T_43add_row40_col4\" class=\"data row40 col4\" >['dataset']</td>\n",
       "      <td id=\"T_43add_row40_col5\" class=\"data row40 col5\" >{'question_column': 'question', 'contexts_column': 'contexts'}</td>\n",
       "    </tr>\n",
       "    <tr>\n",
       "      <td id=\"T_43add_row41_col0\" class=\"data row41 col0\" >validmind.model_validation.ragas.ContextPrecision</td>\n",
       "      <td id=\"T_43add_row41_col1\" class=\"data row41 col1\" >Context Precision</td>\n",
       "      <td id=\"T_43add_row41_col2\" class=\"data row41 col2\" >Metric</td>\n",
       "      <td id=\"T_43add_row41_col3\" class=\"data row41 col3\" >Context Precision is a metric that evaluates whether all of the ground-truth...</td>\n",
       "      <td id=\"T_43add_row41_col4\" class=\"data row41 col4\" >['dataset']</td>\n",
       "      <td id=\"T_43add_row41_col5\" class=\"data row41 col5\" >{'question_column': 'question', 'contexts_column': 'contexts', 'ground_truth_column': 'ground_truth'}</td>\n",
       "    </tr>\n",
       "    <tr>\n",
       "      <td id=\"T_43add_row42_col0\" class=\"data row42 col0\" >validmind.model_validation.ragas.AnswerRelevance</td>\n",
       "      <td id=\"T_43add_row42_col1\" class=\"data row42 col1\" >Answer Relevance</td>\n",
       "      <td id=\"T_43add_row42_col2\" class=\"data row42 col2\" >Metric</td>\n",
       "      <td id=\"T_43add_row42_col3\" class=\"data row42 col3\" >Assesses how pertinent the generated answer is to the given prompt....</td>\n",
       "      <td id=\"T_43add_row42_col4\" class=\"data row42 col4\" >['dataset']</td>\n",
       "      <td id=\"T_43add_row42_col5\" class=\"data row42 col5\" >{'question_column': 'question', 'contexts_column': 'contexts', 'answer_column': 'answer'}</td>\n",
       "    </tr>\n",
       "    <tr>\n",
       "      <td id=\"T_43add_row43_col0\" class=\"data row43 col0\" >validmind.model_validation.sklearn.RegressionModelsPerformanceComparison</td>\n",
       "      <td id=\"T_43add_row43_col1\" class=\"data row43 col1\" >Regression Models Performance Comparison</td>\n",
       "      <td id=\"T_43add_row43_col2\" class=\"data row43 col2\" >Metric</td>\n",
       "      <td id=\"T_43add_row43_col3\" class=\"data row43 col3\" >Compares and evaluates the performance of multiple regression models using five different metrics: MAE, MSE, RMSE,...</td>\n",
       "      <td id=\"T_43add_row43_col4\" class=\"data row43 col4\" >['model', 'dataset']</td>\n",
       "      <td id=\"T_43add_row43_col5\" class=\"data row43 col5\" >{}</td>\n",
       "    </tr>\n",
       "    <tr>\n",
       "      <td id=\"T_43add_row44_col0\" class=\"data row44 col0\" >validmind.model_validation.sklearn.AdjustedMutualInformation</td>\n",
       "      <td id=\"T_43add_row44_col1\" class=\"data row44 col1\" >Adjusted Mutual Information</td>\n",
       "      <td id=\"T_43add_row44_col2\" class=\"data row44 col2\" >Metric</td>\n",
       "      <td id=\"T_43add_row44_col3\" class=\"data row44 col3\" >Evaluates clustering model performance by measuring mutual information between true and predicted labels, adjusting...</td>\n",
       "      <td id=\"T_43add_row44_col4\" class=\"data row44 col4\" >['model', 'datasets']</td>\n",
       "      <td id=\"T_43add_row44_col5\" class=\"data row44 col5\" >{}</td>\n",
       "    </tr>\n",
       "    <tr>\n",
       "      <td id=\"T_43add_row45_col0\" class=\"data row45 col0\" >validmind.model_validation.sklearn.SilhouettePlot</td>\n",
       "      <td id=\"T_43add_row45_col1\" class=\"data row45 col1\" >Silhouette Plot</td>\n",
       "      <td id=\"T_43add_row45_col2\" class=\"data row45 col2\" >Metric</td>\n",
       "      <td id=\"T_43add_row45_col3\" class=\"data row45 col3\" >Calculates and visualizes Silhouette Score, assessing degree of data point suitability to its cluster in ML models....</td>\n",
       "      <td id=\"T_43add_row45_col4\" class=\"data row45 col4\" >['model', 'dataset']</td>\n",
       "      <td id=\"T_43add_row45_col5\" class=\"data row45 col5\" >{}</td>\n",
       "    </tr>\n",
       "    <tr>\n",
       "      <td id=\"T_43add_row46_col0\" class=\"data row46 col0\" >validmind.model_validation.sklearn.RobustnessDiagnosis</td>\n",
       "      <td id=\"T_43add_row46_col1\" class=\"data row46 col1\" >Robustness Diagnosis</td>\n",
       "      <td id=\"T_43add_row46_col2\" class=\"data row46 col2\" >ThresholdTest</td>\n",
       "      <td id=\"T_43add_row46_col3\" class=\"data row46 col3\" >Evaluates the robustness of a machine learning model by injecting Gaussian noise to input data and measuring...</td>\n",
       "      <td id=\"T_43add_row46_col4\" class=\"data row46 col4\" >['model', 'datasets']</td>\n",
       "      <td id=\"T_43add_row46_col5\" class=\"data row46 col5\" >{'features_columns': None, 'scaling_factor_std_dev_list': [0.0, 0.1, 0.2, 0.3, 0.4, 0.5], 'accuracy_decay_threshold': 4}</td>\n",
       "    </tr>\n",
       "    <tr>\n",
       "      <td id=\"T_43add_row47_col0\" class=\"data row47 col0\" >validmind.model_validation.sklearn.AdjustedRandIndex</td>\n",
       "      <td id=\"T_43add_row47_col1\" class=\"data row47 col1\" >Adjusted Rand Index</td>\n",
       "      <td id=\"T_43add_row47_col2\" class=\"data row47 col2\" >Metric</td>\n",
       "      <td id=\"T_43add_row47_col3\" class=\"data row47 col3\" >Measures the similarity between two data clusters using the Adjusted Rand Index (ARI) metric in clustering machine...</td>\n",
       "      <td id=\"T_43add_row47_col4\" class=\"data row47 col4\" >['model', 'datasets']</td>\n",
       "      <td id=\"T_43add_row47_col5\" class=\"data row47 col5\" >{}</td>\n",
       "    </tr>\n",
       "    <tr>\n",
       "      <td id=\"T_43add_row48_col0\" class=\"data row48 col0\" >validmind.model_validation.sklearn.SHAPGlobalImportance</td>\n",
       "      <td id=\"T_43add_row48_col1\" class=\"data row48 col1\" >SHAP Global Importance</td>\n",
       "      <td id=\"T_43add_row48_col2\" class=\"data row48 col2\" >Metric</td>\n",
       "      <td id=\"T_43add_row48_col3\" class=\"data row48 col3\" >Evaluates and visualizes global feature importance using SHAP values for model explanation and risk identification....</td>\n",
       "      <td id=\"T_43add_row48_col4\" class=\"data row48 col4\" >['model', 'dataset']</td>\n",
       "      <td id=\"T_43add_row48_col5\" class=\"data row48 col5\" >{'kernel_explainer_samples': 10, 'tree_or_linear_explainer_samples': 200}</td>\n",
       "    </tr>\n",
       "    <tr>\n",
       "      <td id=\"T_43add_row49_col0\" class=\"data row49 col0\" >validmind.model_validation.sklearn.ConfusionMatrix</td>\n",
       "      <td id=\"T_43add_row49_col1\" class=\"data row49 col1\" >Confusion Matrix</td>\n",
       "      <td id=\"T_43add_row49_col2\" class=\"data row49 col2\" >Metric</td>\n",
       "      <td id=\"T_43add_row49_col3\" class=\"data row49 col3\" >Evaluates and visually represents the classification ML model's predictive performance using a Confusion Matrix...</td>\n",
       "      <td id=\"T_43add_row49_col4\" class=\"data row49 col4\" >['model', 'dataset']</td>\n",
       "      <td id=\"T_43add_row49_col5\" class=\"data row49 col5\" >{}</td>\n",
       "    </tr>\n",
       "    <tr>\n",
       "      <td id=\"T_43add_row50_col0\" class=\"data row50 col0\" >validmind.model_validation.sklearn.HomogeneityScore</td>\n",
       "      <td id=\"T_43add_row50_col1\" class=\"data row50 col1\" >Homogeneity Score</td>\n",
       "      <td id=\"T_43add_row50_col2\" class=\"data row50 col2\" >Metric</td>\n",
       "      <td id=\"T_43add_row50_col3\" class=\"data row50 col3\" >Assesses clustering homogeneity by comparing true and predicted labels, scoring from 0 (heterogeneous) to 1...</td>\n",
       "      <td id=\"T_43add_row50_col4\" class=\"data row50 col4\" >['model', 'datasets']</td>\n",
       "      <td id=\"T_43add_row50_col5\" class=\"data row50 col5\" >{}</td>\n",
       "    </tr>\n",
       "    <tr>\n",
       "      <td id=\"T_43add_row51_col0\" class=\"data row51 col0\" >validmind.model_validation.sklearn.CompletenessScore</td>\n",
       "      <td id=\"T_43add_row51_col1\" class=\"data row51 col1\" >Completeness Score</td>\n",
       "      <td id=\"T_43add_row51_col2\" class=\"data row51 col2\" >Metric</td>\n",
       "      <td id=\"T_43add_row51_col3\" class=\"data row51 col3\" >Evaluates a clustering model's capacity to categorize instances from a single class into the same cluster....</td>\n",
       "      <td id=\"T_43add_row51_col4\" class=\"data row51 col4\" >['model', 'datasets']</td>\n",
       "      <td id=\"T_43add_row51_col5\" class=\"data row51 col5\" >{}</td>\n",
       "    </tr>\n",
       "    <tr>\n",
       "      <td id=\"T_43add_row52_col0\" class=\"data row52 col0\" >validmind.model_validation.sklearn.OverfitDiagnosis</td>\n",
       "      <td id=\"T_43add_row52_col1\" class=\"data row52 col1\" >Overfit Diagnosis</td>\n",
       "      <td id=\"T_43add_row52_col2\" class=\"data row52 col2\" >ThresholdTest</td>\n",
       "      <td id=\"T_43add_row52_col3\" class=\"data row52 col3\" >Detects and visualizes overfit regions in an ML model by comparing performance on training and test datasets....</td>\n",
       "      <td id=\"T_43add_row52_col4\" class=\"data row52 col4\" >['model', 'datasets']</td>\n",
       "      <td id=\"T_43add_row52_col5\" class=\"data row52 col5\" >{'features_columns': None, 'cut_off_percentage': 4}</td>\n",
       "    </tr>\n",
       "    <tr>\n",
       "      <td id=\"T_43add_row53_col0\" class=\"data row53 col0\" >validmind.model_validation.sklearn.ClusterPerformanceMetrics</td>\n",
       "      <td id=\"T_43add_row53_col1\" class=\"data row53 col1\" >Cluster Performance Metrics</td>\n",
       "      <td id=\"T_43add_row53_col2\" class=\"data row53 col2\" >Metric</td>\n",
       "      <td id=\"T_43add_row53_col3\" class=\"data row53 col3\" >Evaluates the performance of clustering machine learning models using multiple established metrics....</td>\n",
       "      <td id=\"T_43add_row53_col4\" class=\"data row53 col4\" >['model', 'datasets']</td>\n",
       "      <td id=\"T_43add_row53_col5\" class=\"data row53 col5\" >{}</td>\n",
       "    </tr>\n",
       "    <tr>\n",
       "      <td id=\"T_43add_row54_col0\" class=\"data row54 col0\" >validmind.model_validation.sklearn.PermutationFeatureImportance</td>\n",
       "      <td id=\"T_43add_row54_col1\" class=\"data row54 col1\" >Permutation Feature Importance</td>\n",
       "      <td id=\"T_43add_row54_col2\" class=\"data row54 col2\" >Metric</td>\n",
       "      <td id=\"T_43add_row54_col3\" class=\"data row54 col3\" >Assesses the significance of each feature in a model by evaluating the impact on model performance when feature...</td>\n",
       "      <td id=\"T_43add_row54_col4\" class=\"data row54 col4\" >['model', 'dataset']</td>\n",
       "      <td id=\"T_43add_row54_col5\" class=\"data row54 col5\" >{'fontsize': None, 'figure_height': 1000}</td>\n",
       "    </tr>\n",
       "    <tr>\n",
       "      <td id=\"T_43add_row55_col0\" class=\"data row55 col0\" >validmind.model_validation.sklearn.FowlkesMallowsScore</td>\n",
       "      <td id=\"T_43add_row55_col1\" class=\"data row55 col1\" >Fowlkes Mallows Score</td>\n",
       "      <td id=\"T_43add_row55_col2\" class=\"data row55 col2\" >Metric</td>\n",
       "      <td id=\"T_43add_row55_col3\" class=\"data row55 col3\" >Evaluates the similarity between predicted and actual cluster assignments in a model using the Fowlkes-Mallows...</td>\n",
       "      <td id=\"T_43add_row55_col4\" class=\"data row55 col4\" >['model', 'datasets']</td>\n",
       "      <td id=\"T_43add_row55_col5\" class=\"data row55 col5\" >{}</td>\n",
       "    </tr>\n",
       "    <tr>\n",
       "      <td id=\"T_43add_row56_col0\" class=\"data row56 col0\" >validmind.model_validation.sklearn.MinimumROCAUCScore</td>\n",
       "      <td id=\"T_43add_row56_col1\" class=\"data row56 col1\" >Minimum ROCAUC Score</td>\n",
       "      <td id=\"T_43add_row56_col2\" class=\"data row56 col2\" >ThresholdTest</td>\n",
       "      <td id=\"T_43add_row56_col3\" class=\"data row56 col3\" >Validates model by checking if the ROC AUC score meets or surpasses a specified threshold....</td>\n",
       "      <td id=\"T_43add_row56_col4\" class=\"data row56 col4\" >['model', 'dataset']</td>\n",
       "      <td id=\"T_43add_row56_col5\" class=\"data row56 col5\" >{'min_threshold': 0.5}</td>\n",
       "    </tr>\n",
       "    <tr>\n",
       "      <td id=\"T_43add_row57_col0\" class=\"data row57 col0\" >validmind.model_validation.sklearn.ClusterCosineSimilarity</td>\n",
       "      <td id=\"T_43add_row57_col1\" class=\"data row57 col1\" >Cluster Cosine Similarity</td>\n",
       "      <td id=\"T_43add_row57_col2\" class=\"data row57 col2\" >Metric</td>\n",
       "      <td id=\"T_43add_row57_col3\" class=\"data row57 col3\" >Measures the intra-cluster similarity of a clustering model using cosine similarity....</td>\n",
       "      <td id=\"T_43add_row57_col4\" class=\"data row57 col4\" >['model', 'dataset']</td>\n",
       "      <td id=\"T_43add_row57_col5\" class=\"data row57 col5\" >{}</td>\n",
       "    </tr>\n",
       "    <tr>\n",
       "      <td id=\"T_43add_row58_col0\" class=\"data row58 col0\" >validmind.model_validation.sklearn.PrecisionRecallCurve</td>\n",
       "      <td id=\"T_43add_row58_col1\" class=\"data row58 col1\" >Precision Recall Curve</td>\n",
       "      <td id=\"T_43add_row58_col2\" class=\"data row58 col2\" >Metric</td>\n",
       "      <td id=\"T_43add_row58_col3\" class=\"data row58 col3\" >Evaluates the precision-recall trade-off for binary classification models and visualizes the Precision-Recall curve....</td>\n",
       "      <td id=\"T_43add_row58_col4\" class=\"data row58 col4\" >['model', 'dataset']</td>\n",
       "      <td id=\"T_43add_row58_col5\" class=\"data row58 col5\" >{}</td>\n",
       "    </tr>\n",
       "    <tr>\n",
       "      <td id=\"T_43add_row59_col0\" class=\"data row59 col0\" >validmind.model_validation.sklearn.ClassifierPerformance</td>\n",
       "      <td id=\"T_43add_row59_col1\" class=\"data row59 col1\" >Classifier Performance</td>\n",
       "      <td id=\"T_43add_row59_col2\" class=\"data row59 col2\" >Metric</td>\n",
       "      <td id=\"T_43add_row59_col3\" class=\"data row59 col3\" >Evaluates performance of binary or multiclass classification models using precision, recall, F1-Score, accuracy,...</td>\n",
       "      <td id=\"T_43add_row59_col4\" class=\"data row59 col4\" >['model', 'dataset']</td>\n",
       "      <td id=\"T_43add_row59_col5\" class=\"data row59 col5\" >{}</td>\n",
       "    </tr>\n",
       "    <tr>\n",
       "      <td id=\"T_43add_row60_col0\" class=\"data row60 col0\" >validmind.model_validation.sklearn.VMeasure</td>\n",
       "      <td id=\"T_43add_row60_col1\" class=\"data row60 col1\" >V Measure</td>\n",
       "      <td id=\"T_43add_row60_col2\" class=\"data row60 col2\" >Metric</td>\n",
       "      <td id=\"T_43add_row60_col3\" class=\"data row60 col3\" >Evaluates homogeneity and completeness of a clustering model using the V Measure Score....</td>\n",
       "      <td id=\"T_43add_row60_col4\" class=\"data row60 col4\" >['model', 'datasets']</td>\n",
       "      <td id=\"T_43add_row60_col5\" class=\"data row60 col5\" >{}</td>\n",
       "    </tr>\n",
       "    <tr>\n",
       "      <td id=\"T_43add_row61_col0\" class=\"data row61 col0\" >validmind.model_validation.sklearn.MinimumF1Score</td>\n",
       "      <td id=\"T_43add_row61_col1\" class=\"data row61 col1\" >Minimum F1 Score</td>\n",
       "      <td id=\"T_43add_row61_col2\" class=\"data row61 col2\" >ThresholdTest</td>\n",
       "      <td id=\"T_43add_row61_col3\" class=\"data row61 col3\" >Evaluates if the model's F1 score on the validation set meets a predefined minimum threshold....</td>\n",
       "      <td id=\"T_43add_row61_col4\" class=\"data row61 col4\" >['model', 'dataset']</td>\n",
       "      <td id=\"T_43add_row61_col5\" class=\"data row61 col5\" >{'min_threshold': 0.5}</td>\n",
       "    </tr>\n",
       "    <tr>\n",
       "      <td id=\"T_43add_row62_col0\" class=\"data row62 col0\" >validmind.model_validation.sklearn.ROCCurve</td>\n",
       "      <td id=\"T_43add_row62_col1\" class=\"data row62 col1\" >ROC Curve</td>\n",
       "      <td id=\"T_43add_row62_col2\" class=\"data row62 col2\" >Metric</td>\n",
       "      <td id=\"T_43add_row62_col3\" class=\"data row62 col3\" >Evaluates binary classification model performance by generating and plotting the Receiver Operating Characteristic...</td>\n",
       "      <td id=\"T_43add_row62_col4\" class=\"data row62 col4\" >['model', 'dataset']</td>\n",
       "      <td id=\"T_43add_row62_col5\" class=\"data row62 col5\" >{}</td>\n",
       "    </tr>\n",
       "    <tr>\n",
       "      <td id=\"T_43add_row63_col0\" class=\"data row63 col0\" >validmind.model_validation.sklearn.RegressionR2Square</td>\n",
       "      <td id=\"T_43add_row63_col1\" class=\"data row63 col1\" >Regression R2 Square</td>\n",
       "      <td id=\"T_43add_row63_col2\" class=\"data row63 col2\" >Metric</td>\n",
       "      <td id=\"T_43add_row63_col3\" class=\"data row63 col3\" >**Purpose**: The purpose of the RegressionR2Square Metric test is to measure the overall goodness-of-fit of a...</td>\n",
       "      <td id=\"T_43add_row63_col4\" class=\"data row63 col4\" >['model', 'datasets']</td>\n",
       "      <td id=\"T_43add_row63_col5\" class=\"data row63 col5\" >{}</td>\n",
       "    </tr>\n",
       "    <tr>\n",
       "      <td id=\"T_43add_row64_col0\" class=\"data row64 col0\" >validmind.model_validation.sklearn.RegressionErrors</td>\n",
       "      <td id=\"T_43add_row64_col1\" class=\"data row64 col1\" >Regression Errors</td>\n",
       "      <td id=\"T_43add_row64_col2\" class=\"data row64 col2\" >Metric</td>\n",
       "      <td id=\"T_43add_row64_col3\" class=\"data row64 col3\" >**Purpose**: This metric is used to measure the performance of a regression model. It gauges the model's accuracy...</td>\n",
       "      <td id=\"T_43add_row64_col4\" class=\"data row64 col4\" >['model', 'datasets']</td>\n",
       "      <td id=\"T_43add_row64_col5\" class=\"data row64 col5\" >{}</td>\n",
       "    </tr>\n",
       "    <tr>\n",
       "      <td id=\"T_43add_row65_col0\" class=\"data row65 col0\" >validmind.model_validation.sklearn.ClusterPerformance</td>\n",
       "      <td id=\"T_43add_row65_col1\" class=\"data row65 col1\" >Cluster Performance</td>\n",
       "      <td id=\"T_43add_row65_col2\" class=\"data row65 col2\" >Metric</td>\n",
       "      <td id=\"T_43add_row65_col3\" class=\"data row65 col3\" >Evaluates and compares a clustering model's performance on training and testing datasets using multiple defined...</td>\n",
       "      <td id=\"T_43add_row65_col4\" class=\"data row65 col4\" >['model', 'datasets']</td>\n",
       "      <td id=\"T_43add_row65_col5\" class=\"data row65 col5\" >{}</td>\n",
       "    </tr>\n",
       "    <tr>\n",
       "      <td id=\"T_43add_row66_col0\" class=\"data row66 col0\" >validmind.model_validation.sklearn.TrainingTestDegradation</td>\n",
       "      <td id=\"T_43add_row66_col1\" class=\"data row66 col1\" >Training Test Degradation</td>\n",
       "      <td id=\"T_43add_row66_col2\" class=\"data row66 col2\" >ThresholdTest</td>\n",
       "      <td id=\"T_43add_row66_col3\" class=\"data row66 col3\" >Tests if model performance degradation between training and test datasets exceeds a predefined threshold....</td>\n",
       "      <td id=\"T_43add_row66_col4\" class=\"data row66 col4\" >['model', 'datasets']</td>\n",
       "      <td id=\"T_43add_row66_col5\" class=\"data row66 col5\" >{'metrics': ['accuracy', 'precision', 'recall', 'f1'], 'max_threshold': 0.1}</td>\n",
       "    </tr>\n",
       "    <tr>\n",
       "      <td id=\"T_43add_row67_col0\" class=\"data row67 col0\" >validmind.model_validation.sklearn.HyperParametersTuning</td>\n",
       "      <td id=\"T_43add_row67_col1\" class=\"data row67 col1\" >Hyper Parameters Tuning</td>\n",
       "      <td id=\"T_43add_row67_col2\" class=\"data row67 col2\" >Metric</td>\n",
       "      <td id=\"T_43add_row67_col3\" class=\"data row67 col3\" >Exerts exhaustive grid search to identify optimal hyperparameters for the model, improving performance....</td>\n",
       "      <td id=\"T_43add_row67_col4\" class=\"data row67 col4\" >['model', 'dataset']</td>\n",
       "      <td id=\"T_43add_row67_col5\" class=\"data row67 col5\" >{'param_grid': None, 'scoring': None}</td>\n",
       "    </tr>\n",
       "    <tr>\n",
       "      <td id=\"T_43add_row68_col0\" class=\"data row68 col0\" >validmind.model_validation.sklearn.KMeansClustersOptimization</td>\n",
       "      <td id=\"T_43add_row68_col1\" class=\"data row68 col1\" >K Means Clusters Optimization</td>\n",
       "      <td id=\"T_43add_row68_col2\" class=\"data row68 col2\" >Metric</td>\n",
       "      <td id=\"T_43add_row68_col3\" class=\"data row68 col3\" >Optimizes the number of clusters in K-means models using Elbow and Silhouette methods....</td>\n",
       "      <td id=\"T_43add_row68_col4\" class=\"data row68 col4\" >['model', 'dataset']</td>\n",
       "      <td id=\"T_43add_row68_col5\" class=\"data row68 col5\" >{'n_clusters': None}</td>\n",
       "    </tr>\n",
       "    <tr>\n",
       "      <td id=\"T_43add_row69_col0\" class=\"data row69 col0\" >validmind.model_validation.sklearn.ModelsPerformanceComparison</td>\n",
       "      <td id=\"T_43add_row69_col1\" class=\"data row69 col1\" >Models Performance Comparison</td>\n",
       "      <td id=\"T_43add_row69_col2\" class=\"data row69 col2\" >Metric</td>\n",
       "      <td id=\"T_43add_row69_col3\" class=\"data row69 col3\" >Evaluates and compares the performance of multiple Machine Learning models using various metrics like accuracy,...</td>\n",
       "      <td id=\"T_43add_row69_col4\" class=\"data row69 col4\" >['model', 'models', 'dataset']</td>\n",
       "      <td id=\"T_43add_row69_col5\" class=\"data row69 col5\" >{}</td>\n",
       "    </tr>\n",
       "    <tr>\n",
       "      <td id=\"T_43add_row70_col0\" class=\"data row70 col0\" >validmind.model_validation.sklearn.WeakspotsDiagnosis</td>\n",
       "      <td id=\"T_43add_row70_col1\" class=\"data row70 col1\" >Weakspots Diagnosis</td>\n",
       "      <td id=\"T_43add_row70_col2\" class=\"data row70 col2\" >ThresholdTest</td>\n",
       "      <td id=\"T_43add_row70_col3\" class=\"data row70 col3\" >Identifies and visualizes weak spots in a machine learning model's performance across various sections of the...</td>\n",
       "      <td id=\"T_43add_row70_col4\" class=\"data row70 col4\" >['model', 'datasets']</td>\n",
       "      <td id=\"T_43add_row70_col5\" class=\"data row70 col5\" >{'features_columns': None, 'thresholds': {'accuracy': 0.75, 'precision': 0.5, 'recall': 0.5, 'f1': 0.7}}</td>\n",
       "    </tr>\n",
       "    <tr>\n",
       "      <td id=\"T_43add_row71_col0\" class=\"data row71 col0\" >validmind.model_validation.sklearn.PopulationStabilityIndex</td>\n",
       "      <td id=\"T_43add_row71_col1\" class=\"data row71 col1\" >Population Stability Index</td>\n",
       "      <td id=\"T_43add_row71_col2\" class=\"data row71 col2\" >Metric</td>\n",
       "      <td id=\"T_43add_row71_col3\" class=\"data row71 col3\" >Evaluates the Population Stability Index (PSI) to quantify the stability of an ML model's predictions across...</td>\n",
       "      <td id=\"T_43add_row71_col4\" class=\"data row71 col4\" >['model', 'datasets']</td>\n",
       "      <td id=\"T_43add_row71_col5\" class=\"data row71 col5\" >{'num_bins': 10, 'mode': 'fixed'}</td>\n",
       "    </tr>\n",
       "    <tr>\n",
       "      <td id=\"T_43add_row72_col0\" class=\"data row72 col0\" >validmind.model_validation.sklearn.MinimumAccuracy</td>\n",
       "      <td id=\"T_43add_row72_col1\" class=\"data row72 col1\" >Minimum Accuracy</td>\n",
       "      <td id=\"T_43add_row72_col2\" class=\"data row72 col2\" >ThresholdTest</td>\n",
       "      <td id=\"T_43add_row72_col3\" class=\"data row72 col3\" >Checks if the model's prediction accuracy meets or surpasses a specified threshold....</td>\n",
       "      <td id=\"T_43add_row72_col4\" class=\"data row72 col4\" >['model', 'dataset']</td>\n",
       "      <td id=\"T_43add_row72_col5\" class=\"data row72 col5\" >{'min_threshold': 0.7}</td>\n",
       "    </tr>\n",
       "    <tr>\n",
       "      <td id=\"T_43add_row73_col0\" class=\"data row73 col0\" >validmind.model_validation.statsmodels.RegressionModelsCoeffs</td>\n",
       "      <td id=\"T_43add_row73_col1\" class=\"data row73 col1\" >Regression Models Coeffs</td>\n",
       "      <td id=\"T_43add_row73_col2\" class=\"data row73 col2\" >Metric</td>\n",
       "      <td id=\"T_43add_row73_col3\" class=\"data row73 col3\" >Compares feature importance by evaluating and contrasting coefficients of different regression models....</td>\n",
       "      <td id=\"T_43add_row73_col4\" class=\"data row73 col4\" >['models']</td>\n",
       "      <td id=\"T_43add_row73_col5\" class=\"data row73 col5\" >{}</td>\n",
       "    </tr>\n",
       "    <tr>\n",
       "      <td id=\"T_43add_row74_col0\" class=\"data row74 col0\" >validmind.model_validation.statsmodels.BoxPierce</td>\n",
       "      <td id=\"T_43add_row74_col1\" class=\"data row74 col1\" >Box Pierce</td>\n",
       "      <td id=\"T_43add_row74_col2\" class=\"data row74 col2\" >Metric</td>\n",
       "      <td id=\"T_43add_row74_col3\" class=\"data row74 col3\" >Detects autocorrelation in time-series data through the Box-Pierce test to validate model performance....</td>\n",
       "      <td id=\"T_43add_row74_col4\" class=\"data row74 col4\" >['dataset']</td>\n",
       "      <td id=\"T_43add_row74_col5\" class=\"data row74 col5\" >{}</td>\n",
       "    </tr>\n",
       "    <tr>\n",
       "      <td id=\"T_43add_row75_col0\" class=\"data row75 col0\" >validmind.model_validation.statsmodels.RegressionCoeffsPlot</td>\n",
       "      <td id=\"T_43add_row75_col1\" class=\"data row75 col1\" >Regression Coeffs Plot</td>\n",
       "      <td id=\"T_43add_row75_col2\" class=\"data row75 col2\" >Metric</td>\n",
       "      <td id=\"T_43add_row75_col3\" class=\"data row75 col3\" >Visualizes regression coefficients with 95% confidence intervals to assess predictor variables' impact on response...</td>\n",
       "      <td id=\"T_43add_row75_col4\" class=\"data row75 col4\" >['models']</td>\n",
       "      <td id=\"T_43add_row75_col5\" class=\"data row75 col5\" >{}</td>\n",
       "    </tr>\n",
       "    <tr>\n",
       "      <td id=\"T_43add_row76_col0\" class=\"data row76 col0\" >validmind.model_validation.statsmodels.RegressionModelSensitivityPlot</td>\n",
       "      <td id=\"T_43add_row76_col1\" class=\"data row76 col1\" >Regression Model Sensitivity Plot</td>\n",
       "      <td id=\"T_43add_row76_col2\" class=\"data row76 col2\" >Metric</td>\n",
       "      <td id=\"T_43add_row76_col3\" class=\"data row76 col3\" >Tests the sensitivity of a regression model to variations in independent variables by applying shocks and...</td>\n",
       "      <td id=\"T_43add_row76_col4\" class=\"data row76 col4\" >['models', 'datasets']</td>\n",
       "      <td id=\"T_43add_row76_col5\" class=\"data row76 col5\" >{'transformation': None, 'shocks': [0.1]}</td>\n",
       "    </tr>\n",
       "    <tr>\n",
       "      <td id=\"T_43add_row77_col0\" class=\"data row77 col0\" >validmind.model_validation.statsmodels.RegressionModelsPerformance</td>\n",
       "      <td id=\"T_43add_row77_col1\" class=\"data row77 col1\" >Regression Models Performance</td>\n",
       "      <td id=\"T_43add_row77_col2\" class=\"data row77 col2\" >Metric</td>\n",
       "      <td id=\"T_43add_row77_col3\" class=\"data row77 col3\" >Evaluates and compares regression models' performance using R-squared, Adjusted R-squared, and MSE metrics....</td>\n",
       "      <td id=\"T_43add_row77_col4\" class=\"data row77 col4\" >['models', 'in_sample_datasets', 'out_of_sample_datasets']</td>\n",
       "      <td id=\"T_43add_row77_col5\" class=\"data row77 col5\" >{}</td>\n",
       "    </tr>\n",
       "    <tr>\n",
       "      <td id=\"T_43add_row78_col0\" class=\"data row78 col0\" >validmind.model_validation.statsmodels.ZivotAndrewsArch</td>\n",
       "      <td id=\"T_43add_row78_col1\" class=\"data row78 col1\" >Zivot Andrews Arch</td>\n",
       "      <td id=\"T_43add_row78_col2\" class=\"data row78 col2\" >Metric</td>\n",
       "      <td id=\"T_43add_row78_col3\" class=\"data row78 col3\" >Evaluates the order of integration and stationarity of time series data using Zivot-Andrews unit root test....</td>\n",
       "      <td id=\"T_43add_row78_col4\" class=\"data row78 col4\" >['dataset']</td>\n",
       "      <td id=\"T_43add_row78_col5\" class=\"data row78 col5\" >{}</td>\n",
       "    </tr>\n",
       "    <tr>\n",
       "      <td id=\"T_43add_row79_col0\" class=\"data row79 col0\" >validmind.model_validation.statsmodels.RegressionModelOutsampleComparison</td>\n",
       "      <td id=\"T_43add_row79_col1\" class=\"data row79 col1\" >Regression Model Outsample Comparison</td>\n",
       "      <td id=\"T_43add_row79_col2\" class=\"data row79 col2\" >Metric</td>\n",
       "      <td id=\"T_43add_row79_col3\" class=\"data row79 col3\" >Computes MSE and RMSE for multiple regression models using out-of-sample test to assess model's prediction accuracy...</td>\n",
       "      <td id=\"T_43add_row79_col4\" class=\"data row79 col4\" >['model', 'dataset']</td>\n",
       "      <td id=\"T_43add_row79_col5\" class=\"data row79 col5\" >{}</td>\n",
       "    </tr>\n",
       "    <tr>\n",
       "      <td id=\"T_43add_row80_col0\" class=\"data row80 col0\" >validmind.model_validation.statsmodels.RegressionModelForecastPlotLevels</td>\n",
       "      <td id=\"T_43add_row80_col1\" class=\"data row80 col1\" >Regression Model Forecast Plot Levels</td>\n",
       "      <td id=\"T_43add_row80_col2\" class=\"data row80 col2\" >Metric</td>\n",
       "      <td id=\"T_43add_row80_col3\" class=\"data row80 col3\" >Compares and visualizes forecasted and actual values of regression models on both raw and transformed datasets....</td>\n",
       "      <td id=\"T_43add_row80_col4\" class=\"data row80 col4\" >['models', 'datasets']</td>\n",
       "      <td id=\"T_43add_row80_col5\" class=\"data row80 col5\" >{'transformation': None}</td>\n",
       "    </tr>\n",
       "    <tr>\n",
       "      <td id=\"T_43add_row81_col0\" class=\"data row81 col0\" >validmind.model_validation.statsmodels.PDRatingClassPlot</td>\n",
       "      <td id=\"T_43add_row81_col1\" class=\"data row81 col1\" >PD Rating Class Plot</td>\n",
       "      <td id=\"T_43add_row81_col2\" class=\"data row81 col2\" >Metric</td>\n",
       "      <td id=\"T_43add_row81_col3\" class=\"data row81 col3\" >Assesses and visualizes credit risk distribution across different rating classes within a dataset via default...</td>\n",
       "      <td id=\"T_43add_row81_col4\" class=\"data row81 col4\" >['model', 'datasets']</td>\n",
       "      <td id=\"T_43add_row81_col5\" class=\"data row81 col5\" >{'title': 'PD by Rating Class', 'rating_classes': ['A', 'B', 'C', 'D']}</td>\n",
       "    </tr>\n",
       "    <tr>\n",
       "      <td id=\"T_43add_row82_col0\" class=\"data row82 col0\" >validmind.model_validation.statsmodels.ScorecardHistogram</td>\n",
       "      <td id=\"T_43add_row82_col1\" class=\"data row82 col1\" >Scorecard Histogram</td>\n",
       "      <td id=\"T_43add_row82_col2\" class=\"data row82 col2\" >Metric</td>\n",
       "      <td id=\"T_43add_row82_col3\" class=\"data row82 col3\" >Creates histograms of credit scores, from both default and non-default instances, generated by a credit-risk model....</td>\n",
       "      <td id=\"T_43add_row82_col4\" class=\"data row82 col4\" >['datasets']</td>\n",
       "      <td id=\"T_43add_row82_col5\" class=\"data row82 col5\" >{'title': 'Histogram of Scores', 'score_column': 'score'}</td>\n",
       "    </tr>\n",
       "    <tr>\n",
       "      <td id=\"T_43add_row83_col0\" class=\"data row83 col0\" >validmind.model_validation.statsmodels.FeatureImportanceAndSignificance</td>\n",
       "      <td id=\"T_43add_row83_col1\" class=\"data row83 col1\" >Feature Importance And Significance</td>\n",
       "      <td id=\"T_43add_row83_col2\" class=\"data row83 col2\" >Metric</td>\n",
       "      <td id=\"T_43add_row83_col3\" class=\"data row83 col3\" >Evaluates and visualizes the statistical significance and feature importance using regression and decision tree...</td>\n",
       "      <td id=\"T_43add_row83_col4\" class=\"data row83 col4\" >['models']</td>\n",
       "      <td id=\"T_43add_row83_col5\" class=\"data row83 col5\" >{'fontsize': 10, 'p_threshold': 0.05, 'significant_only': False, 'figure_height': 800, 'bar_width': 0.3}</td>\n",
       "    </tr>\n",
       "    <tr>\n",
       "      <td id=\"T_43add_row84_col0\" class=\"data row84 col0\" >validmind.model_validation.statsmodels.LJungBox</td>\n",
       "      <td id=\"T_43add_row84_col1\" class=\"data row84 col1\" >L Jung Box</td>\n",
       "      <td id=\"T_43add_row84_col2\" class=\"data row84 col2\" >Metric</td>\n",
       "      <td id=\"T_43add_row84_col3\" class=\"data row84 col3\" >Assesses autocorrelations in dataset features by performing a Ljung-Box test on each feature....</td>\n",
       "      <td id=\"T_43add_row84_col4\" class=\"data row84 col4\" >['dataset']</td>\n",
       "      <td id=\"T_43add_row84_col5\" class=\"data row84 col5\" >{}</td>\n",
       "    </tr>\n",
       "    <tr>\n",
       "      <td id=\"T_43add_row85_col0\" class=\"data row85 col0\" >validmind.model_validation.statsmodels.JarqueBera</td>\n",
       "      <td id=\"T_43add_row85_col1\" class=\"data row85 col1\" >Jarque Bera</td>\n",
       "      <td id=\"T_43add_row85_col2\" class=\"data row85 col2\" >Metric</td>\n",
       "      <td id=\"T_43add_row85_col3\" class=\"data row85 col3\" >Assesses normality of dataset features in an ML model using the Jarque-Bera test....</td>\n",
       "      <td id=\"T_43add_row85_col4\" class=\"data row85 col4\" >['dataset']</td>\n",
       "      <td id=\"T_43add_row85_col5\" class=\"data row85 col5\" >{}</td>\n",
       "    </tr>\n",
       "    <tr>\n",
       "      <td id=\"T_43add_row86_col0\" class=\"data row86 col0\" >validmind.model_validation.statsmodels.PhillipsPerronArch</td>\n",
       "      <td id=\"T_43add_row86_col1\" class=\"data row86 col1\" >Phillips Perron Arch</td>\n",
       "      <td id=\"T_43add_row86_col2\" class=\"data row86 col2\" >Metric</td>\n",
       "      <td id=\"T_43add_row86_col3\" class=\"data row86 col3\" >Executes Phillips-Perron test to assess the stationarity of time series data in each ML model feature....</td>\n",
       "      <td id=\"T_43add_row86_col4\" class=\"data row86 col4\" >['dataset']</td>\n",
       "      <td id=\"T_43add_row86_col5\" class=\"data row86 col5\" >{}</td>\n",
       "    </tr>\n",
       "    <tr>\n",
       "      <td id=\"T_43add_row87_col0\" class=\"data row87 col0\" >validmind.model_validation.statsmodels.KolmogorovSmirnov</td>\n",
       "      <td id=\"T_43add_row87_col1\" class=\"data row87 col1\" >Kolmogorov Smirnov</td>\n",
       "      <td id=\"T_43add_row87_col2\" class=\"data row87 col2\" >Metric</td>\n",
       "      <td id=\"T_43add_row87_col3\" class=\"data row87 col3\" >Executes a feature-wise Kolmogorov-Smirnov test to evaluate alignment with normal distribution in datasets....</td>\n",
       "      <td id=\"T_43add_row87_col4\" class=\"data row87 col4\" >['dataset']</td>\n",
       "      <td id=\"T_43add_row87_col5\" class=\"data row87 col5\" >{'dist': 'norm'}</td>\n",
       "    </tr>\n",
       "    <tr>\n",
       "      <td id=\"T_43add_row88_col0\" class=\"data row88 col0\" >validmind.model_validation.statsmodels.ResidualsVisualInspection</td>\n",
       "      <td id=\"T_43add_row88_col1\" class=\"data row88 col1\" >Residuals Visual Inspection</td>\n",
       "      <td id=\"T_43add_row88_col2\" class=\"data row88 col2\" >Metric</td>\n",
       "      <td id=\"T_43add_row88_col3\" class=\"data row88 col3\" >Provides a comprehensive visual analysis of residuals for regression models utilizing various plot types....</td>\n",
       "      <td id=\"T_43add_row88_col4\" class=\"data row88 col4\" >['dataset']</td>\n",
       "      <td id=\"T_43add_row88_col5\" class=\"data row88 col5\" >{}</td>\n",
       "    </tr>\n",
       "    <tr>\n",
       "      <td id=\"T_43add_row89_col0\" class=\"data row89 col0\" >validmind.model_validation.statsmodels.ShapiroWilk</td>\n",
       "      <td id=\"T_43add_row89_col1\" class=\"data row89 col1\" >Shapiro Wilk</td>\n",
       "      <td id=\"T_43add_row89_col2\" class=\"data row89 col2\" >Metric</td>\n",
       "      <td id=\"T_43add_row89_col3\" class=\"data row89 col3\" >Evaluates feature-wise normality of training data using the Shapiro-Wilk test....</td>\n",
       "      <td id=\"T_43add_row89_col4\" class=\"data row89 col4\" >['dataset']</td>\n",
       "      <td id=\"T_43add_row89_col5\" class=\"data row89 col5\" >{}</td>\n",
       "    </tr>\n",
       "    <tr>\n",
       "      <td id=\"T_43add_row90_col0\" class=\"data row90 col0\" >validmind.model_validation.statsmodels.CumulativePredictionProbabilities</td>\n",
       "      <td id=\"T_43add_row90_col1\" class=\"data row90 col1\" >Cumulative Prediction Probabilities</td>\n",
       "      <td id=\"T_43add_row90_col2\" class=\"data row90 col2\" >Metric</td>\n",
       "      <td id=\"T_43add_row90_col3\" class=\"data row90 col3\" >Visualizes cumulative probabilities of positive and negative classes for both training and testing in logistic...</td>\n",
       "      <td id=\"T_43add_row90_col4\" class=\"data row90 col4\" >['model', 'datasets']</td>\n",
       "      <td id=\"T_43add_row90_col5\" class=\"data row90 col5\" >{'title': 'Cumulative Probabilities'}</td>\n",
       "    </tr>\n",
       "    <tr>\n",
       "      <td id=\"T_43add_row91_col0\" class=\"data row91 col0\" >validmind.model_validation.statsmodels.RegressionModelInsampleComparison</td>\n",
       "      <td id=\"T_43add_row91_col1\" class=\"data row91 col1\" >Regression Model Insample Comparison</td>\n",
       "      <td id=\"T_43add_row91_col2\" class=\"data row91 col2\" >Metric</td>\n",
       "      <td id=\"T_43add_row91_col3\" class=\"data row91 col3\" >Evaluates and compares in-sample performance of multiple regression models using R-Squared, Adjusted R-Squared,...</td>\n",
       "      <td id=\"T_43add_row91_col4\" class=\"data row91 col4\" >['model', 'dataset']</td>\n",
       "      <td id=\"T_43add_row91_col5\" class=\"data row91 col5\" >{}</td>\n",
       "    </tr>\n",
       "    <tr>\n",
       "      <td id=\"T_43add_row92_col0\" class=\"data row92 col0\" >validmind.model_validation.statsmodels.RegressionFeatureSignificance</td>\n",
       "      <td id=\"T_43add_row92_col1\" class=\"data row92 col1\" >Regression Feature Significance</td>\n",
       "      <td id=\"T_43add_row92_col2\" class=\"data row92 col2\" >Metric</td>\n",
       "      <td id=\"T_43add_row92_col3\" class=\"data row92 col3\" >Assesses and visualizes the statistical significance of features in a set of regression models....</td>\n",
       "      <td id=\"T_43add_row92_col4\" class=\"data row92 col4\" >['models']</td>\n",
       "      <td id=\"T_43add_row92_col5\" class=\"data row92 col5\" >{'fontsize': 10, 'p_threshold': 0.05}</td>\n",
       "    </tr>\n",
       "    <tr>\n",
       "      <td id=\"T_43add_row93_col0\" class=\"data row93 col0\" >validmind.model_validation.statsmodels.RegressionModelSummary</td>\n",
       "      <td id=\"T_43add_row93_col1\" class=\"data row93 col1\" >Regression Model Summary</td>\n",
       "      <td id=\"T_43add_row93_col2\" class=\"data row93 col2\" >Metric</td>\n",
       "      <td id=\"T_43add_row93_col3\" class=\"data row93 col3\" >Evaluates regression model performance using metrics including R-Squared, Adjusted R-Squared, MSE, and RMSE....</td>\n",
       "      <td id=\"T_43add_row93_col4\" class=\"data row93 col4\" >['model', 'dataset']</td>\n",
       "      <td id=\"T_43add_row93_col5\" class=\"data row93 col5\" >{}</td>\n",
       "    </tr>\n",
       "    <tr>\n",
       "      <td id=\"T_43add_row94_col0\" class=\"data row94 col0\" >validmind.model_validation.statsmodels.KPSS</td>\n",
       "      <td id=\"T_43add_row94_col1\" class=\"data row94 col1\" >KPSS</td>\n",
       "      <td id=\"T_43add_row94_col2\" class=\"data row94 col2\" >Metric</td>\n",
       "      <td id=\"T_43add_row94_col3\" class=\"data row94 col3\" >Executes KPSS unit root test to validate stationarity of time-series data in machine learning model....</td>\n",
       "      <td id=\"T_43add_row94_col4\" class=\"data row94 col4\" >['dataset']</td>\n",
       "      <td id=\"T_43add_row94_col5\" class=\"data row94 col5\" >{}</td>\n",
       "    </tr>\n",
       "    <tr>\n",
       "      <td id=\"T_43add_row95_col0\" class=\"data row95 col0\" >validmind.model_validation.statsmodels.Lilliefors</td>\n",
       "      <td id=\"T_43add_row95_col1\" class=\"data row95 col1\" >Lilliefors</td>\n",
       "      <td id=\"T_43add_row95_col2\" class=\"data row95 col2\" >Metric</td>\n",
       "      <td id=\"T_43add_row95_col3\" class=\"data row95 col3\" >Assesses the normality of feature distributions in an ML model's training dataset using the Lilliefors test....</td>\n",
       "      <td id=\"T_43add_row95_col4\" class=\"data row95 col4\" >['dataset']</td>\n",
       "      <td id=\"T_43add_row95_col5\" class=\"data row95 col5\" >{}</td>\n",
       "    </tr>\n",
       "    <tr>\n",
       "      <td id=\"T_43add_row96_col0\" class=\"data row96 col0\" >validmind.model_validation.statsmodels.RunsTest</td>\n",
       "      <td id=\"T_43add_row96_col1\" class=\"data row96 col1\" >Runs Test</td>\n",
       "      <td id=\"T_43add_row96_col2\" class=\"data row96 col2\" >Metric</td>\n",
       "      <td id=\"T_43add_row96_col3\" class=\"data row96 col3\" >Executes Runs Test on ML model to detect non-random patterns in output data sequence....</td>\n",
       "      <td id=\"T_43add_row96_col4\" class=\"data row96 col4\" >['dataset']</td>\n",
       "      <td id=\"T_43add_row96_col5\" class=\"data row96 col5\" >{}</td>\n",
       "    </tr>\n",
       "    <tr>\n",
       "      <td id=\"T_43add_row97_col0\" class=\"data row97 col0\" >validmind.model_validation.statsmodels.RegressionPermutationFeatureImportance</td>\n",
       "      <td id=\"T_43add_row97_col1\" class=\"data row97 col1\" >Regression Permutation Feature Importance</td>\n",
       "      <td id=\"T_43add_row97_col2\" class=\"data row97 col2\" >Metric</td>\n",
       "      <td id=\"T_43add_row97_col3\" class=\"data row97 col3\" >Assesses the significance of each feature in a model by evaluating the impact on model performance when feature...</td>\n",
       "      <td id=\"T_43add_row97_col4\" class=\"data row97 col4\" >['model', 'dataset']</td>\n",
       "      <td id=\"T_43add_row97_col5\" class=\"data row97 col5\" >{'fontsize': 12, 'figure_height': 500}</td>\n",
       "    </tr>\n",
       "    <tr>\n",
       "      <td id=\"T_43add_row98_col0\" class=\"data row98 col0\" >validmind.model_validation.statsmodels.PredictionProbabilitiesHistogram</td>\n",
       "      <td id=\"T_43add_row98_col1\" class=\"data row98 col1\" >Prediction Probabilities Histogram</td>\n",
       "      <td id=\"T_43add_row98_col2\" class=\"data row98 col2\" >Metric</td>\n",
       "      <td id=\"T_43add_row98_col3\" class=\"data row98 col3\" >Generates and visualizes histograms of the Probability of Default predictions for both positive and negative...</td>\n",
       "      <td id=\"T_43add_row98_col4\" class=\"data row98 col4\" >['model', 'datasets']</td>\n",
       "      <td id=\"T_43add_row98_col5\" class=\"data row98 col5\" >{'title': 'Histogram of Predictive Probabilities'}</td>\n",
       "    </tr>\n",
       "    <tr>\n",
       "      <td id=\"T_43add_row99_col0\" class=\"data row99 col0\" >validmind.model_validation.statsmodels.DFGLSArch</td>\n",
       "      <td id=\"T_43add_row99_col1\" class=\"data row99 col1\" >DFGLS Arch</td>\n",
       "      <td id=\"T_43add_row99_col2\" class=\"data row99 col2\" >Metric</td>\n",
       "      <td id=\"T_43add_row99_col3\" class=\"data row99 col3\" >Executes Dickey-Fuller GLS metric to determine order of integration and check stationarity in time series data....</td>\n",
       "      <td id=\"T_43add_row99_col4\" class=\"data row99 col4\" >['dataset']</td>\n",
       "      <td id=\"T_43add_row99_col5\" class=\"data row99 col5\" >{}</td>\n",
       "    </tr>\n",
       "    <tr>\n",
       "      <td id=\"T_43add_row100_col0\" class=\"data row100 col0\" >validmind.model_validation.statsmodels.AutoARIMA</td>\n",
       "      <td id=\"T_43add_row100_col1\" class=\"data row100 col1\" >Auto ARIMA</td>\n",
       "      <td id=\"T_43add_row100_col2\" class=\"data row100 col2\" >Metric</td>\n",
       "      <td id=\"T_43add_row100_col3\" class=\"data row100 col3\" >Evaluates ARIMA models for time-series forecasting, ranking them using Bayesian and Akaike Information Criteria....</td>\n",
       "      <td id=\"T_43add_row100_col4\" class=\"data row100 col4\" >['dataset']</td>\n",
       "      <td id=\"T_43add_row100_col5\" class=\"data row100 col5\" >{}</td>\n",
       "    </tr>\n",
       "    <tr>\n",
       "      <td id=\"T_43add_row101_col0\" class=\"data row101 col0\" >validmind.model_validation.statsmodels.ADFTest</td>\n",
       "      <td id=\"T_43add_row101_col1\" class=\"data row101 col1\" >ADF Test</td>\n",
       "      <td id=\"T_43add_row101_col2\" class=\"data row101 col2\" >ThresholdTest</td>\n",
       "      <td id=\"T_43add_row101_col3\" class=\"data row101 col3\" >Assesses the stationarity of time series data using the Augmented Dickey-Fuller (ADF) test....</td>\n",
       "      <td id=\"T_43add_row101_col4\" class=\"data row101 col4\" >['dataset']</td>\n",
       "      <td id=\"T_43add_row101_col5\" class=\"data row101 col5\" >{'threshold': 0.05}</td>\n",
       "    </tr>\n",
       "    <tr>\n",
       "      <td id=\"T_43add_row102_col0\" class=\"data row102 col0\" >validmind.model_validation.statsmodels.GINITable</td>\n",
       "      <td id=\"T_43add_row102_col1\" class=\"data row102 col1\" >GINI Table</td>\n",
       "      <td id=\"T_43add_row102_col2\" class=\"data row102 col2\" >Metric</td>\n",
       "      <td id=\"T_43add_row102_col3\" class=\"data row102 col3\" >Evaluates classification model performance using AUC, GINI, and KS metrics for training and test datasets....</td>\n",
       "      <td id=\"T_43add_row102_col4\" class=\"data row102 col4\" >['model', 'datasets']</td>\n",
       "      <td id=\"T_43add_row102_col5\" class=\"data row102 col5\" >{}</td>\n",
       "    </tr>\n",
       "    <tr>\n",
       "      <td id=\"T_43add_row103_col0\" class=\"data row103 col0\" >validmind.model_validation.statsmodels.RegressionModelForecastPlot</td>\n",
       "      <td id=\"T_43add_row103_col1\" class=\"data row103 col1\" >Regression Model Forecast Plot</td>\n",
       "      <td id=\"T_43add_row103_col2\" class=\"data row103 col2\" >Metric</td>\n",
       "      <td id=\"T_43add_row103_col3\" class=\"data row103 col3\" >Generates plots to visually compare the forecasted outcomes of one or more regression models against actual...</td>\n",
       "      <td id=\"T_43add_row103_col4\" class=\"data row103 col4\" >['models', 'datasets']</td>\n",
       "      <td id=\"T_43add_row103_col5\" class=\"data row103 col5\" >{'start_date': None, 'end_date': None}</td>\n",
       "    </tr>\n",
       "    <tr>\n",
       "      <td id=\"T_43add_row104_col0\" class=\"data row104 col0\" >validmind.model_validation.statsmodels.ADF</td>\n",
       "      <td id=\"T_43add_row104_col1\" class=\"data row104 col1\" >ADF</td>\n",
       "      <td id=\"T_43add_row104_col2\" class=\"data row104 col2\" >Metric</td>\n",
       "      <td id=\"T_43add_row104_col3\" class=\"data row104 col3\" >Assesses the stationarity of a time series dataset using the Augmented Dickey-Fuller (ADF) test....</td>\n",
       "      <td id=\"T_43add_row104_col4\" class=\"data row104 col4\" >['dataset']</td>\n",
       "      <td id=\"T_43add_row104_col5\" class=\"data row104 col5\" >{}</td>\n",
       "    </tr>\n",
       "    <tr>\n",
       "      <td id=\"T_43add_row105_col0\" class=\"data row105 col0\" >validmind.model_validation.statsmodels.DurbinWatsonTest</td>\n",
       "      <td id=\"T_43add_row105_col1\" class=\"data row105 col1\" >Durbin Watson Test</td>\n",
       "      <td id=\"T_43add_row105_col2\" class=\"data row105 col2\" >Metric</td>\n",
       "      <td id=\"T_43add_row105_col3\" class=\"data row105 col3\" >Assesses autocorrelation in time series data features using the Durbin-Watson statistic....</td>\n",
       "      <td id=\"T_43add_row105_col4\" class=\"data row105 col4\" >['dataset']</td>\n",
       "      <td id=\"T_43add_row105_col5\" class=\"data row105 col5\" >{}</td>\n",
       "    </tr>\n",
       "    <tr>\n",
       "      <td id=\"T_43add_row106_col0\" class=\"data row106 col0\" >validmind.data_validation.MissingValuesRisk</td>\n",
       "      <td id=\"T_43add_row106_col1\" class=\"data row106 col1\" >Missing Values Risk</td>\n",
       "      <td id=\"T_43add_row106_col2\" class=\"data row106 col2\" >Metric</td>\n",
       "      <td id=\"T_43add_row106_col3\" class=\"data row106 col3\" >Assesses and quantifies the risk related to missing values in a dataset used for training an ML model....</td>\n",
       "      <td id=\"T_43add_row106_col4\" class=\"data row106 col4\" >['dataset']</td>\n",
       "      <td id=\"T_43add_row106_col5\" class=\"data row106 col5\" >{}</td>\n",
       "    </tr>\n",
       "    <tr>\n",
       "      <td id=\"T_43add_row107_col0\" class=\"data row107 col0\" >validmind.data_validation.IQROutliersTable</td>\n",
       "      <td id=\"T_43add_row107_col1\" class=\"data row107 col1\" >IQR Outliers Table</td>\n",
       "      <td id=\"T_43add_row107_col2\" class=\"data row107 col2\" >Metric</td>\n",
       "      <td id=\"T_43add_row107_col3\" class=\"data row107 col3\" >Determines and summarizes outliers in numerical features using Interquartile Range method....</td>\n",
       "      <td id=\"T_43add_row107_col4\" class=\"data row107 col4\" >['dataset']</td>\n",
       "      <td id=\"T_43add_row107_col5\" class=\"data row107 col5\" >{'features': None, 'threshold': 1.5}</td>\n",
       "    </tr>\n",
       "    <tr>\n",
       "      <td id=\"T_43add_row108_col0\" class=\"data row108 col0\" >validmind.data_validation.BivariateFeaturesBarPlots</td>\n",
       "      <td id=\"T_43add_row108_col1\" class=\"data row108 col1\" >Bivariate Features Bar Plots</td>\n",
       "      <td id=\"T_43add_row108_col2\" class=\"data row108 col2\" >Metric</td>\n",
       "      <td id=\"T_43add_row108_col3\" class=\"data row108 col3\" >Generates visual bar plots to analyze the relationship between paired features within categorical data in the model....</td>\n",
       "      <td id=\"T_43add_row108_col4\" class=\"data row108 col4\" >['dataset']</td>\n",
       "      <td id=\"T_43add_row108_col5\" class=\"data row108 col5\" >{'features_pairs': None}</td>\n",
       "    </tr>\n",
       "    <tr>\n",
       "      <td id=\"T_43add_row109_col0\" class=\"data row109 col0\" >validmind.data_validation.Skewness</td>\n",
       "      <td id=\"T_43add_row109_col1\" class=\"data row109 col1\" >Skewness</td>\n",
       "      <td id=\"T_43add_row109_col2\" class=\"data row109 col2\" >ThresholdTest</td>\n",
       "      <td id=\"T_43add_row109_col3\" class=\"data row109 col3\" >Evaluates the skewness of numerical data in a machine learning model and checks if it falls below a set maximum...</td>\n",
       "      <td id=\"T_43add_row109_col4\" class=\"data row109 col4\" >['dataset']</td>\n",
       "      <td id=\"T_43add_row109_col5\" class=\"data row109 col5\" >{'max_threshold': 1}</td>\n",
       "    </tr>\n",
       "    <tr>\n",
       "      <td id=\"T_43add_row110_col0\" class=\"data row110 col0\" >validmind.data_validation.Duplicates</td>\n",
       "      <td id=\"T_43add_row110_col1\" class=\"data row110 col1\" >Duplicates</td>\n",
       "      <td id=\"T_43add_row110_col2\" class=\"data row110 col2\" >ThresholdTest</td>\n",
       "      <td id=\"T_43add_row110_col3\" class=\"data row110 col3\" >Tests dataset for duplicate entries, ensuring model reliability via data quality verification....</td>\n",
       "      <td id=\"T_43add_row110_col4\" class=\"data row110 col4\" >['dataset']</td>\n",
       "      <td id=\"T_43add_row110_col5\" class=\"data row110 col5\" >{'min_threshold': 1}</td>\n",
       "    </tr>\n",
       "    <tr>\n",
       "      <td id=\"T_43add_row111_col0\" class=\"data row111 col0\" >validmind.data_validation.MissingValuesBarPlot</td>\n",
       "      <td id=\"T_43add_row111_col1\" class=\"data row111 col1\" >Missing Values Bar Plot</td>\n",
       "      <td id=\"T_43add_row111_col2\" class=\"data row111 col2\" >Metric</td>\n",
       "      <td id=\"T_43add_row111_col3\" class=\"data row111 col3\" >Creates a bar plot showcasing the percentage of missing values in each column of the dataset with risk...</td>\n",
       "      <td id=\"T_43add_row111_col4\" class=\"data row111 col4\" >['dataset']</td>\n",
       "      <td id=\"T_43add_row111_col5\" class=\"data row111 col5\" >{'threshold': 80, 'fig_height': 600}</td>\n",
       "    </tr>\n",
       "    <tr>\n",
       "      <td id=\"T_43add_row112_col0\" class=\"data row112 col0\" >validmind.data_validation.DatasetDescription</td>\n",
       "      <td id=\"T_43add_row112_col1\" class=\"data row112 col1\" >Dataset Description</td>\n",
       "      <td id=\"T_43add_row112_col2\" class=\"data row112 col2\" >Metric</td>\n",
       "      <td id=\"T_43add_row112_col3\" class=\"data row112 col3\" >Provides comprehensive analysis and statistical summaries of each field in a machine learning model's dataset....</td>\n",
       "      <td id=\"T_43add_row112_col4\" class=\"data row112 col4\" >['dataset']</td>\n",
       "      <td id=\"T_43add_row112_col5\" class=\"data row112 col5\" >{}</td>\n",
       "    </tr>\n",
       "    <tr>\n",
       "      <td id=\"T_43add_row113_col0\" class=\"data row113 col0\" >validmind.data_validation.ScatterPlot</td>\n",
       "      <td id=\"T_43add_row113_col1\" class=\"data row113 col1\" >Scatter Plot</td>\n",
       "      <td id=\"T_43add_row113_col2\" class=\"data row113 col2\" >Metric</td>\n",
       "      <td id=\"T_43add_row113_col3\" class=\"data row113 col3\" >Creates a scatter plot matrix to visually analyze feature relationships, patterns, and outliers in a dataset....</td>\n",
       "      <td id=\"T_43add_row113_col4\" class=\"data row113 col4\" >['dataset', 'dataset.target_column']</td>\n",
       "      <td id=\"T_43add_row113_col5\" class=\"data row113 col5\" >{}</td>\n",
       "    </tr>\n",
       "    <tr>\n",
       "      <td id=\"T_43add_row114_col0\" class=\"data row114 col0\" >validmind.data_validation.TimeSeriesOutliers</td>\n",
       "      <td id=\"T_43add_row114_col1\" class=\"data row114 col1\" >Time Series Outliers</td>\n",
       "      <td id=\"T_43add_row114_col2\" class=\"data row114 col2\" >ThresholdTest</td>\n",
       "      <td id=\"T_43add_row114_col3\" class=\"data row114 col3\" >Identifies and visualizes outliers in time-series data using z-score method....</td>\n",
       "      <td id=\"T_43add_row114_col4\" class=\"data row114 col4\" >['dataset']</td>\n",
       "      <td id=\"T_43add_row114_col5\" class=\"data row114 col5\" >{'zscore_threshold': 3}</td>\n",
       "    </tr>\n",
       "    <tr>\n",
       "      <td id=\"T_43add_row115_col0\" class=\"data row115 col0\" >validmind.data_validation.TabularCategoricalBarPlots</td>\n",
       "      <td id=\"T_43add_row115_col1\" class=\"data row115 col1\" >Tabular Categorical Bar Plots</td>\n",
       "      <td id=\"T_43add_row115_col2\" class=\"data row115 col2\" >Metric</td>\n",
       "      <td id=\"T_43add_row115_col3\" class=\"data row115 col3\" >Generates and visualizes bar plots for each category in categorical features to evaluate dataset's composition....</td>\n",
       "      <td id=\"T_43add_row115_col4\" class=\"data row115 col4\" >['dataset']</td>\n",
       "      <td id=\"T_43add_row115_col5\" class=\"data row115 col5\" >{}</td>\n",
       "    </tr>\n",
       "    <tr>\n",
       "      <td id=\"T_43add_row116_col0\" class=\"data row116 col0\" >validmind.data_validation.AutoStationarity</td>\n",
       "      <td id=\"T_43add_row116_col1\" class=\"data row116 col1\" >Auto Stationarity</td>\n",
       "      <td id=\"T_43add_row116_col2\" class=\"data row116 col2\" >Metric</td>\n",
       "      <td id=\"T_43add_row116_col3\" class=\"data row116 col3\" >Automates Augmented Dickey-Fuller test to assess stationarity across multiple time series in a DataFrame....</td>\n",
       "      <td id=\"T_43add_row116_col4\" class=\"data row116 col4\" >['dataset']</td>\n",
       "      <td id=\"T_43add_row116_col5\" class=\"data row116 col5\" >{'max_order': 5, 'threshold': 0.05}</td>\n",
       "    </tr>\n",
       "    <tr>\n",
       "      <td id=\"T_43add_row117_col0\" class=\"data row117 col0\" >validmind.data_validation.DescriptiveStatistics</td>\n",
       "      <td id=\"T_43add_row117_col1\" class=\"data row117 col1\" >Descriptive Statistics</td>\n",
       "      <td id=\"T_43add_row117_col2\" class=\"data row117 col2\" >Metric</td>\n",
       "      <td id=\"T_43add_row117_col3\" class=\"data row117 col3\" >Performs a detailed descriptive statistical analysis of both numerical and categorical data within a model's...</td>\n",
       "      <td id=\"T_43add_row117_col4\" class=\"data row117 col4\" >['dataset']</td>\n",
       "      <td id=\"T_43add_row117_col5\" class=\"data row117 col5\" >{}</td>\n",
       "    </tr>\n",
       "    <tr>\n",
       "      <td id=\"T_43add_row118_col0\" class=\"data row118 col0\" >validmind.data_validation.ANOVAOneWayTable</td>\n",
       "      <td id=\"T_43add_row118_col1\" class=\"data row118 col1\" >ANOVA One Way Table</td>\n",
       "      <td id=\"T_43add_row118_col2\" class=\"data row118 col2\" >Metric</td>\n",
       "      <td id=\"T_43add_row118_col3\" class=\"data row118 col3\" >Applies one-way ANOVA (Analysis of Variance) to identify statistically significant numerical features in the...</td>\n",
       "      <td id=\"T_43add_row118_col4\" class=\"data row118 col4\" >['dataset']</td>\n",
       "      <td id=\"T_43add_row118_col5\" class=\"data row118 col5\" >{'features': None, 'p_threshold': 0.05}</td>\n",
       "    </tr>\n",
       "    <tr>\n",
       "      <td id=\"T_43add_row119_col0\" class=\"data row119 col0\" >validmind.data_validation.TargetRateBarPlots</td>\n",
       "      <td id=\"T_43add_row119_col1\" class=\"data row119 col1\" >Target Rate Bar Plots</td>\n",
       "      <td id=\"T_43add_row119_col2\" class=\"data row119 col2\" >Metric</td>\n",
       "      <td id=\"T_43add_row119_col3\" class=\"data row119 col3\" >Generates bar plots visualizing the default rates of categorical features for a classification machine learning...</td>\n",
       "      <td id=\"T_43add_row119_col4\" class=\"data row119 col4\" >['dataset']</td>\n",
       "      <td id=\"T_43add_row119_col5\" class=\"data row119 col5\" >{'default_column': None, 'columns': None}</td>\n",
       "    </tr>\n",
       "    <tr>\n",
       "      <td id=\"T_43add_row120_col0\" class=\"data row120 col0\" >validmind.data_validation.PearsonCorrelationMatrix</td>\n",
       "      <td id=\"T_43add_row120_col1\" class=\"data row120 col1\" >Pearson Correlation Matrix</td>\n",
       "      <td id=\"T_43add_row120_col2\" class=\"data row120 col2\" >Metric</td>\n",
       "      <td id=\"T_43add_row120_col3\" class=\"data row120 col3\" >Evaluates linear dependency between numerical variables in a dataset via a Pearson Correlation coefficient heat map....</td>\n",
       "      <td id=\"T_43add_row120_col4\" class=\"data row120 col4\" >['dataset']</td>\n",
       "      <td id=\"T_43add_row120_col5\" class=\"data row120 col5\" >{}</td>\n",
       "    </tr>\n",
       "    <tr>\n",
       "      <td id=\"T_43add_row121_col0\" class=\"data row121 col0\" >validmind.data_validation.FeatureTargetCorrelationPlot</td>\n",
       "      <td id=\"T_43add_row121_col1\" class=\"data row121 col1\" >Feature Target Correlation Plot</td>\n",
       "      <td id=\"T_43add_row121_col2\" class=\"data row121 col2\" >Metric</td>\n",
       "      <td id=\"T_43add_row121_col3\" class=\"data row121 col3\" >Visualizes the correlation between input features and model's target output in a color-coded horizontal bar plot....</td>\n",
       "      <td id=\"T_43add_row121_col4\" class=\"data row121 col4\" >['dataset']</td>\n",
       "      <td id=\"T_43add_row121_col5\" class=\"data row121 col5\" >{'features': None, 'fig_height': 600}</td>\n",
       "    </tr>\n",
       "    <tr>\n",
       "      <td id=\"T_43add_row122_col0\" class=\"data row122 col0\" >validmind.data_validation.TabularNumericalHistograms</td>\n",
       "      <td id=\"T_43add_row122_col1\" class=\"data row122 col1\" >Tabular Numerical Histograms</td>\n",
       "      <td id=\"T_43add_row122_col2\" class=\"data row122 col2\" >Metric</td>\n",
       "      <td id=\"T_43add_row122_col3\" class=\"data row122 col3\" >Generates histograms for each numerical feature in a dataset to provide visual insights into data distribution and...</td>\n",
       "      <td id=\"T_43add_row122_col4\" class=\"data row122 col4\" >['dataset']</td>\n",
       "      <td id=\"T_43add_row122_col5\" class=\"data row122 col5\" >{}</td>\n",
       "    </tr>\n",
       "    <tr>\n",
       "      <td id=\"T_43add_row123_col0\" class=\"data row123 col0\" >validmind.data_validation.IsolationForestOutliers</td>\n",
       "      <td id=\"T_43add_row123_col1\" class=\"data row123 col1\" >Isolation Forest Outliers</td>\n",
       "      <td id=\"T_43add_row123_col2\" class=\"data row123 col2\" >Metric</td>\n",
       "      <td id=\"T_43add_row123_col3\" class=\"data row123 col3\" >Detects outliers in a dataset using the Isolation Forest algorithm and visualizes results through scatter plots....</td>\n",
       "      <td id=\"T_43add_row123_col4\" class=\"data row123 col4\" >['dataset']</td>\n",
       "      <td id=\"T_43add_row123_col5\" class=\"data row123 col5\" >{'random_state': 0, 'contamination': 0.1, 'features_columns': None}</td>\n",
       "    </tr>\n",
       "    <tr>\n",
       "      <td id=\"T_43add_row124_col0\" class=\"data row124 col0\" >validmind.data_validation.ChiSquaredFeaturesTable</td>\n",
       "      <td id=\"T_43add_row124_col1\" class=\"data row124 col1\" >Chi Squared Features Table</td>\n",
       "      <td id=\"T_43add_row124_col2\" class=\"data row124 col2\" >Metric</td>\n",
       "      <td id=\"T_43add_row124_col3\" class=\"data row124 col3\" >Executes Chi-Squared test for each categorical feature against a target column to assess significant association....</td>\n",
       "      <td id=\"T_43add_row124_col4\" class=\"data row124 col4\" >['dataset']</td>\n",
       "      <td id=\"T_43add_row124_col5\" class=\"data row124 col5\" >{'cat_features': None, 'p_threshold': 0.05}</td>\n",
       "    </tr>\n",
       "    <tr>\n",
       "      <td id=\"T_43add_row125_col0\" class=\"data row125 col0\" >validmind.data_validation.HighCardinality</td>\n",
       "      <td id=\"T_43add_row125_col1\" class=\"data row125 col1\" >High Cardinality</td>\n",
       "      <td id=\"T_43add_row125_col2\" class=\"data row125 col2\" >ThresholdTest</td>\n",
       "      <td id=\"T_43add_row125_col3\" class=\"data row125 col3\" >Assesses the number of unique values in categorical columns to detect high cardinality and potential overfitting....</td>\n",
       "      <td id=\"T_43add_row125_col4\" class=\"data row125 col4\" >['dataset']</td>\n",
       "      <td id=\"T_43add_row125_col5\" class=\"data row125 col5\" >{'num_threshold': 100, 'percent_threshold': 0.1, 'threshold_type': 'percent'}</td>\n",
       "    </tr>\n",
       "    <tr>\n",
       "      <td id=\"T_43add_row126_col0\" class=\"data row126 col0\" >validmind.data_validation.MissingValues</td>\n",
       "      <td id=\"T_43add_row126_col1\" class=\"data row126 col1\" >Missing Values</td>\n",
       "      <td id=\"T_43add_row126_col2\" class=\"data row126 col2\" >ThresholdTest</td>\n",
       "      <td id=\"T_43add_row126_col3\" class=\"data row126 col3\" >Evaluates dataset quality by ensuring missing value ratio across all features does not exceed a set threshold....</td>\n",
       "      <td id=\"T_43add_row126_col4\" class=\"data row126 col4\" >['dataset']</td>\n",
       "      <td id=\"T_43add_row126_col5\" class=\"data row126 col5\" >{'min_threshold': 1}</td>\n",
       "    </tr>\n",
       "    <tr>\n",
       "      <td id=\"T_43add_row127_col0\" class=\"data row127 col0\" >validmind.data_validation.DefaultRatesbyRiskBandPlot</td>\n",
       "      <td id=\"T_43add_row127_col1\" class=\"data row127 col1\" >Default Ratesby Risk Band Plot</td>\n",
       "      <td id=\"T_43add_row127_col2\" class=\"data row127 col2\" >Metric</td>\n",
       "      <td id=\"T_43add_row127_col3\" class=\"data row127 col3\" >Generates a bar plot showcasing the distribution of default rates across different risk bands in a dataset....</td>\n",
       "      <td id=\"T_43add_row127_col4\" class=\"data row127 col4\" >None</td>\n",
       "      <td id=\"T_43add_row127_col5\" class=\"data row127 col5\" >{'title': 'Percentage of Total Accounts by Risk Band'}</td>\n",
       "    </tr>\n",
       "    <tr>\n",
       "      <td id=\"T_43add_row128_col0\" class=\"data row128 col0\" >validmind.data_validation.RollingStatsPlot</td>\n",
       "      <td id=\"T_43add_row128_col1\" class=\"data row128 col1\" >Rolling Stats Plot</td>\n",
       "      <td id=\"T_43add_row128_col2\" class=\"data row128 col2\" >Metric</td>\n",
       "      <td id=\"T_43add_row128_col3\" class=\"data row128 col3\" >This test evaluates the stationarity of time series data by plotting its rolling mean and standard deviation....</td>\n",
       "      <td id=\"T_43add_row128_col4\" class=\"data row128 col4\" >['dataset']</td>\n",
       "      <td id=\"T_43add_row128_col5\" class=\"data row128 col5\" >{'window_size': 12}</td>\n",
       "    </tr>\n",
       "    <tr>\n",
       "      <td id=\"T_43add_row129_col0\" class=\"data row129 col0\" >validmind.data_validation.TabularDescriptionTables</td>\n",
       "      <td id=\"T_43add_row129_col1\" class=\"data row129 col1\" >Tabular Description Tables</td>\n",
       "      <td id=\"T_43add_row129_col2\" class=\"data row129 col2\" >Metric</td>\n",
       "      <td id=\"T_43add_row129_col3\" class=\"data row129 col3\" >Summarizes key descriptive statistics for numerical, categorical, and datetime variables in a dataset....</td>\n",
       "      <td id=\"T_43add_row129_col4\" class=\"data row129 col4\" >['dataset']</td>\n",
       "      <td id=\"T_43add_row129_col5\" class=\"data row129 col5\" >{}</td>\n",
       "    </tr>\n",
       "    <tr>\n",
       "      <td id=\"T_43add_row130_col0\" class=\"data row130 col0\" >validmind.data_validation.AutoMA</td>\n",
       "      <td id=\"T_43add_row130_col1\" class=\"data row130 col1\" >Auto MA</td>\n",
       "      <td id=\"T_43add_row130_col2\" class=\"data row130 col2\" >Metric</td>\n",
       "      <td id=\"T_43add_row130_col3\" class=\"data row130 col3\" >Automatically selects the optimal Moving Average (MA) order for each variable in a time series dataset based on...</td>\n",
       "      <td id=\"T_43add_row130_col4\" class=\"data row130 col4\" >['dataset']</td>\n",
       "      <td id=\"T_43add_row130_col5\" class=\"data row130 col5\" >{'max_ma_order': 3}</td>\n",
       "    </tr>\n",
       "    <tr>\n",
       "      <td id=\"T_43add_row131_col0\" class=\"data row131 col0\" >validmind.data_validation.UniqueRows</td>\n",
       "      <td id=\"T_43add_row131_col1\" class=\"data row131 col1\" >Unique Rows</td>\n",
       "      <td id=\"T_43add_row131_col2\" class=\"data row131 col2\" >ThresholdTest</td>\n",
       "      <td id=\"T_43add_row131_col3\" class=\"data row131 col3\" >Verifies the diversity of the dataset by ensuring that the count of unique rows exceeds a prescribed threshold....</td>\n",
       "      <td id=\"T_43add_row131_col4\" class=\"data row131 col4\" >['dataset']</td>\n",
       "      <td id=\"T_43add_row131_col5\" class=\"data row131 col5\" >{'min_percent_threshold': 1}</td>\n",
       "    </tr>\n",
       "    <tr>\n",
       "      <td id=\"T_43add_row132_col0\" class=\"data row132 col0\" >validmind.data_validation.TooManyZeroValues</td>\n",
       "      <td id=\"T_43add_row132_col1\" class=\"data row132 col1\" >Too Many Zero Values</td>\n",
       "      <td id=\"T_43add_row132_col2\" class=\"data row132 col2\" >ThresholdTest</td>\n",
       "      <td id=\"T_43add_row132_col3\" class=\"data row132 col3\" >Identifies numerical columns in a dataset that contain an excessive number of zero values, defined by a threshold...</td>\n",
       "      <td id=\"T_43add_row132_col4\" class=\"data row132 col4\" >['dataset']</td>\n",
       "      <td id=\"T_43add_row132_col5\" class=\"data row132 col5\" >{'max_percent_threshold': 0.03}</td>\n",
       "    </tr>\n",
       "    <tr>\n",
       "      <td id=\"T_43add_row133_col0\" class=\"data row133 col0\" >validmind.data_validation.HighPearsonCorrelation</td>\n",
       "      <td id=\"T_43add_row133_col1\" class=\"data row133 col1\" >High Pearson Correlation</td>\n",
       "      <td id=\"T_43add_row133_col2\" class=\"data row133 col2\" >ThresholdTest</td>\n",
       "      <td id=\"T_43add_row133_col3\" class=\"data row133 col3\" >Identifies highly correlated feature pairs in a dataset suggesting feature redundancy or multicollinearity....</td>\n",
       "      <td id=\"T_43add_row133_col4\" class=\"data row133 col4\" >['dataset']</td>\n",
       "      <td id=\"T_43add_row133_col5\" class=\"data row133 col5\" >{'max_threshold': 0.3}</td>\n",
       "    </tr>\n",
       "    <tr>\n",
       "      <td id=\"T_43add_row134_col0\" class=\"data row134 col0\" >validmind.data_validation.ACFandPACFPlot</td>\n",
       "      <td id=\"T_43add_row134_col1\" class=\"data row134 col1\" >AC Fand PACF Plot</td>\n",
       "      <td id=\"T_43add_row134_col2\" class=\"data row134 col2\" >Metric</td>\n",
       "      <td id=\"T_43add_row134_col3\" class=\"data row134 col3\" >Analyzes time series data using Autocorrelation Function (ACF) and Partial Autocorrelation Function (PACF) plots to...</td>\n",
       "      <td id=\"T_43add_row134_col4\" class=\"data row134 col4\" >['dataset']</td>\n",
       "      <td id=\"T_43add_row134_col5\" class=\"data row134 col5\" >{}</td>\n",
       "    </tr>\n",
       "    <tr>\n",
       "      <td id=\"T_43add_row135_col0\" class=\"data row135 col0\" >validmind.data_validation.BivariateHistograms</td>\n",
       "      <td id=\"T_43add_row135_col1\" class=\"data row135 col1\" >Bivariate Histograms</td>\n",
       "      <td id=\"T_43add_row135_col2\" class=\"data row135 col2\" >Metric</td>\n",
       "      <td id=\"T_43add_row135_col3\" class=\"data row135 col3\" >Generates bivariate histograms for paired features, aiding in visual inspection of categorical variables'...</td>\n",
       "      <td id=\"T_43add_row135_col4\" class=\"data row135 col4\" >['dataset']</td>\n",
       "      <td id=\"T_43add_row135_col5\" class=\"data row135 col5\" >{'features_pairs': None, 'target_filter': None}</td>\n",
       "    </tr>\n",
       "    <tr>\n",
       "      <td id=\"T_43add_row136_col0\" class=\"data row136 col0\" >validmind.data_validation.WOEBinTable</td>\n",
       "      <td id=\"T_43add_row136_col1\" class=\"data row136 col1\" >WOE Bin Table</td>\n",
       "      <td id=\"T_43add_row136_col2\" class=\"data row136 col2\" >Metric</td>\n",
       "      <td id=\"T_43add_row136_col3\" class=\"data row136 col3\" >Calculates and assesses the Weight of Evidence (WoE) and Information Value (IV) of each feature in a ML model....</td>\n",
       "      <td id=\"T_43add_row136_col4\" class=\"data row136 col4\" >None</td>\n",
       "      <td id=\"T_43add_row136_col5\" class=\"data row136 col5\" >{'breaks_adj': None}</td>\n",
       "    </tr>\n",
       "    <tr>\n",
       "      <td id=\"T_43add_row137_col0\" class=\"data row137 col0\" >validmind.data_validation.HeatmapFeatureCorrelations</td>\n",
       "      <td id=\"T_43add_row137_col1\" class=\"data row137 col1\" >Heatmap Feature Correlations</td>\n",
       "      <td id=\"T_43add_row137_col2\" class=\"data row137 col2\" >Metric</td>\n",
       "      <td id=\"T_43add_row137_col3\" class=\"data row137 col3\" >Creates a heatmap to visually represent correlation patterns between pairs of numerical features in a dataset....</td>\n",
       "      <td id=\"T_43add_row137_col4\" class=\"data row137 col4\" >['dataset']</td>\n",
       "      <td id=\"T_43add_row137_col5\" class=\"data row137 col5\" >{'declutter': None, 'fontsize': None, 'num_features': None}</td>\n",
       "    </tr>\n",
       "    <tr>\n",
       "      <td id=\"T_43add_row138_col0\" class=\"data row138 col0\" >validmind.data_validation.TimeSeriesFrequency</td>\n",
       "      <td id=\"T_43add_row138_col1\" class=\"data row138 col1\" >Time Series Frequency</td>\n",
       "      <td id=\"T_43add_row138_col2\" class=\"data row138 col2\" >ThresholdTest</td>\n",
       "      <td id=\"T_43add_row138_col3\" class=\"data row138 col3\" >Evaluates consistency of time series data frequency and generates a frequency plot....</td>\n",
       "      <td id=\"T_43add_row138_col4\" class=\"data row138 col4\" >['dataset']</td>\n",
       "      <td id=\"T_43add_row138_col5\" class=\"data row138 col5\" >{}</td>\n",
       "    </tr>\n",
       "    <tr>\n",
       "      <td id=\"T_43add_row139_col0\" class=\"data row139 col0\" >validmind.data_validation.DatasetSplit</td>\n",
       "      <td id=\"T_43add_row139_col1\" class=\"data row139 col1\" >Dataset Split</td>\n",
       "      <td id=\"T_43add_row139_col2\" class=\"data row139 col2\" >Metric</td>\n",
       "      <td id=\"T_43add_row139_col3\" class=\"data row139 col3\" >Evaluates and visualizes the distribution proportions among training, testing, and validation datasets of an ML...</td>\n",
       "      <td id=\"T_43add_row139_col4\" class=\"data row139 col4\" >['datasets']</td>\n",
       "      <td id=\"T_43add_row139_col5\" class=\"data row139 col5\" >{}</td>\n",
       "    </tr>\n",
       "    <tr>\n",
       "      <td id=\"T_43add_row140_col0\" class=\"data row140 col0\" >validmind.data_validation.SpreadPlot</td>\n",
       "      <td id=\"T_43add_row140_col1\" class=\"data row140 col1\" >Spread Plot</td>\n",
       "      <td id=\"T_43add_row140_col2\" class=\"data row140 col2\" >Metric</td>\n",
       "      <td id=\"T_43add_row140_col3\" class=\"data row140 col3\" >Visualizes the spread relationship between pairs of time-series variables in a dataset, thereby aiding in...</td>\n",
       "      <td id=\"T_43add_row140_col4\" class=\"data row140 col4\" >['dataset']</td>\n",
       "      <td id=\"T_43add_row140_col5\" class=\"data row140 col5\" >{}</td>\n",
       "    </tr>\n",
       "    <tr>\n",
       "      <td id=\"T_43add_row141_col0\" class=\"data row141 col0\" >validmind.data_validation.TimeSeriesLinePlot</td>\n",
       "      <td id=\"T_43add_row141_col1\" class=\"data row141 col1\" >Time Series Line Plot</td>\n",
       "      <td id=\"T_43add_row141_col2\" class=\"data row141 col2\" >Metric</td>\n",
       "      <td id=\"T_43add_row141_col3\" class=\"data row141 col3\" >Generates and analyses time-series data through line plots revealing trends, patterns, anomalies over time....</td>\n",
       "      <td id=\"T_43add_row141_col4\" class=\"data row141 col4\" >['dataset']</td>\n",
       "      <td id=\"T_43add_row141_col5\" class=\"data row141 col5\" >{}</td>\n",
       "    </tr>\n",
       "    <tr>\n",
       "      <td id=\"T_43add_row142_col0\" class=\"data row142 col0\" >validmind.data_validation.PiTCreditScoresHistogram</td>\n",
       "      <td id=\"T_43add_row142_col1\" class=\"data row142 col1\" >Pi T Credit Scores Histogram</td>\n",
       "      <td id=\"T_43add_row142_col2\" class=\"data row142 col2\" >Metric</td>\n",
       "      <td id=\"T_43add_row142_col3\" class=\"data row142 col3\" >Generates a histogram visualization for observed and predicted credit default scores....</td>\n",
       "      <td id=\"T_43add_row142_col4\" class=\"data row142 col4\" >['dataset', 'model']</td>\n",
       "      <td id=\"T_43add_row142_col5\" class=\"data row142 col5\" >{'title': 'Histogram of Scores'}</td>\n",
       "    </tr>\n",
       "    <tr>\n",
       "      <td id=\"T_43add_row143_col0\" class=\"data row143 col0\" >validmind.data_validation.AutoSeasonality</td>\n",
       "      <td id=\"T_43add_row143_col1\" class=\"data row143 col1\" >Auto Seasonality</td>\n",
       "      <td id=\"T_43add_row143_col2\" class=\"data row143 col2\" >Metric</td>\n",
       "      <td id=\"T_43add_row143_col3\" class=\"data row143 col3\" >Automatically identifies and quantifies optimal seasonality in time series data to improve forecasting model...</td>\n",
       "      <td id=\"T_43add_row143_col4\" class=\"data row143 col4\" >['dataset']</td>\n",
       "      <td id=\"T_43add_row143_col5\" class=\"data row143 col5\" >{'min_period': 1, 'max_period': 4}</td>\n",
       "    </tr>\n",
       "    <tr>\n",
       "      <td id=\"T_43add_row144_col0\" class=\"data row144 col0\" >validmind.data_validation.BivariateScatterPlots</td>\n",
       "      <td id=\"T_43add_row144_col1\" class=\"data row144 col1\" >Bivariate Scatter Plots</td>\n",
       "      <td id=\"T_43add_row144_col2\" class=\"data row144 col2\" >Metric</td>\n",
       "      <td id=\"T_43add_row144_col3\" class=\"data row144 col3\" >Generates bivariate scatterplots to visually inspect relationships between pairs of predictor variables in machine...</td>\n",
       "      <td id=\"T_43add_row144_col4\" class=\"data row144 col4\" >['dataset']</td>\n",
       "      <td id=\"T_43add_row144_col5\" class=\"data row144 col5\" >{'features_pairs': None, 'target_filter': None}</td>\n",
       "    </tr>\n",
       "    <tr>\n",
       "      <td id=\"T_43add_row145_col0\" class=\"data row145 col0\" >validmind.data_validation.EngleGrangerCoint</td>\n",
       "      <td id=\"T_43add_row145_col1\" class=\"data row145 col1\" >Engle Granger Coint</td>\n",
       "      <td id=\"T_43add_row145_col2\" class=\"data row145 col2\" >Metric</td>\n",
       "      <td id=\"T_43add_row145_col3\" class=\"data row145 col3\" >Validates co-integration in pairs of time series data using the Engle-Granger test and classifies them as...</td>\n",
       "      <td id=\"T_43add_row145_col4\" class=\"data row145 col4\" >['dataset']</td>\n",
       "      <td id=\"T_43add_row145_col5\" class=\"data row145 col5\" >{'threshold': 0.05}</td>\n",
       "    </tr>\n",
       "    <tr>\n",
       "      <td id=\"T_43add_row146_col0\" class=\"data row146 col0\" >validmind.data_validation.TimeSeriesMissingValues</td>\n",
       "      <td id=\"T_43add_row146_col1\" class=\"data row146 col1\" >Time Series Missing Values</td>\n",
       "      <td id=\"T_43add_row146_col2\" class=\"data row146 col2\" >ThresholdTest</td>\n",
       "      <td id=\"T_43add_row146_col3\" class=\"data row146 col3\" >Validates time-series data quality by confirming the count of missing values is below a certain threshold....</td>\n",
       "      <td id=\"T_43add_row146_col4\" class=\"data row146 col4\" >['dataset']</td>\n",
       "      <td id=\"T_43add_row146_col5\" class=\"data row146 col5\" >{'min_threshold': 1}</td>\n",
       "    </tr>\n",
       "    <tr>\n",
       "      <td id=\"T_43add_row147_col0\" class=\"data row147 col0\" >validmind.data_validation.TimeSeriesHistogram</td>\n",
       "      <td id=\"T_43add_row147_col1\" class=\"data row147 col1\" >Time Series Histogram</td>\n",
       "      <td id=\"T_43add_row147_col2\" class=\"data row147 col2\" >Metric</td>\n",
       "      <td id=\"T_43add_row147_col3\" class=\"data row147 col3\" >Visualizes distribution of time-series data using histograms and Kernel Density Estimation (KDE) lines....</td>\n",
       "      <td id=\"T_43add_row147_col4\" class=\"data row147 col4\" >['dataset']</td>\n",
       "      <td id=\"T_43add_row147_col5\" class=\"data row147 col5\" >{}</td>\n",
       "    </tr>\n",
       "    <tr>\n",
       "      <td id=\"T_43add_row148_col0\" class=\"data row148 col0\" >validmind.data_validation.LaggedCorrelationHeatmap</td>\n",
       "      <td id=\"T_43add_row148_col1\" class=\"data row148 col1\" >Lagged Correlation Heatmap</td>\n",
       "      <td id=\"T_43add_row148_col2\" class=\"data row148 col2\" >Metric</td>\n",
       "      <td id=\"T_43add_row148_col3\" class=\"data row148 col3\" >Assesses and visualizes correlation between target variable and lagged independent variables in a time-series...</td>\n",
       "      <td id=\"T_43add_row148_col4\" class=\"data row148 col4\" >['dataset']</td>\n",
       "      <td id=\"T_43add_row148_col5\" class=\"data row148 col5\" >{}</td>\n",
       "    </tr>\n",
       "    <tr>\n",
       "      <td id=\"T_43add_row149_col0\" class=\"data row149 col0\" >validmind.data_validation.SeasonalDecompose</td>\n",
       "      <td id=\"T_43add_row149_col1\" class=\"data row149 col1\" >Seasonal Decompose</td>\n",
       "      <td id=\"T_43add_row149_col2\" class=\"data row149 col2\" >Metric</td>\n",
       "      <td id=\"T_43add_row149_col3\" class=\"data row149 col3\" >Decomposes dataset features into observed, trend, seasonal, and residual components to identify patterns and...</td>\n",
       "      <td id=\"T_43add_row149_col4\" class=\"data row149 col4\" >['dataset']</td>\n",
       "      <td id=\"T_43add_row149_col5\" class=\"data row149 col5\" >{'seasonal_model': 'additive'}</td>\n",
       "    </tr>\n",
       "    <tr>\n",
       "      <td id=\"T_43add_row150_col0\" class=\"data row150 col0\" >validmind.data_validation.WOEBinPlots</td>\n",
       "      <td id=\"T_43add_row150_col1\" class=\"data row150 col1\" >WOE Bin Plots</td>\n",
       "      <td id=\"T_43add_row150_col2\" class=\"data row150 col2\" >Metric</td>\n",
       "      <td id=\"T_43add_row150_col3\" class=\"data row150 col3\" >Generates visualizations of Weight of Evidence (WoE) and Information Value (IV) for understanding predictive power...</td>\n",
       "      <td id=\"T_43add_row150_col4\" class=\"data row150 col4\" >None</td>\n",
       "      <td id=\"T_43add_row150_col5\" class=\"data row150 col5\" >{'breaks_adj': None, 'fig_height': 600, 'fig_width': 500}</td>\n",
       "    </tr>\n",
       "    <tr>\n",
       "      <td id=\"T_43add_row151_col0\" class=\"data row151 col0\" >validmind.data_validation.ClassImbalance</td>\n",
       "      <td id=\"T_43add_row151_col1\" class=\"data row151 col1\" >Class Imbalance</td>\n",
       "      <td id=\"T_43add_row151_col2\" class=\"data row151 col2\" >ThresholdTest</td>\n",
       "      <td id=\"T_43add_row151_col3\" class=\"data row151 col3\" >Evaluates and quantifies class distribution imbalance in a dataset used by a machine learning model....</td>\n",
       "      <td id=\"T_43add_row151_col4\" class=\"data row151 col4\" >['dataset']</td>\n",
       "      <td id=\"T_43add_row151_col5\" class=\"data row151 col5\" >{'min_percent_threshold': 10}</td>\n",
       "    </tr>\n",
       "    <tr>\n",
       "      <td id=\"T_43add_row152_col0\" class=\"data row152 col0\" >validmind.data_validation.IQROutliersBarPlot</td>\n",
       "      <td id=\"T_43add_row152_col1\" class=\"data row152 col1\" >IQR Outliers Bar Plot</td>\n",
       "      <td id=\"T_43add_row152_col2\" class=\"data row152 col2\" >Metric</td>\n",
       "      <td id=\"T_43add_row152_col3\" class=\"data row152 col3\" >Visualizes outlier distribution across percentiles in numerical data using Interquartile Range (IQR) method....</td>\n",
       "      <td id=\"T_43add_row152_col4\" class=\"data row152 col4\" >['dataset']</td>\n",
       "      <td id=\"T_43add_row152_col5\" class=\"data row152 col5\" >{'threshold': 1.5, 'num_features': None, 'fig_width': 800}</td>\n",
       "    </tr>\n",
       "    <tr>\n",
       "      <td id=\"T_43add_row153_col0\" class=\"data row153 col0\" >validmind.data_validation.PiTPDHistogram</td>\n",
       "      <td id=\"T_43add_row153_col1\" class=\"data row153 col1\" >Pi TPD Histogram</td>\n",
       "      <td id=\"T_43add_row153_col2\" class=\"data row153 col2\" >Metric</td>\n",
       "      <td id=\"T_43add_row153_col3\" class=\"data row153 col3\" >Assesses credit risk prediction accuracy of a model by comparing actual and predicted defaults at a chosen point in...</td>\n",
       "      <td id=\"T_43add_row153_col4\" class=\"data row153 col4\" >None</td>\n",
       "      <td id=\"T_43add_row153_col5\" class=\"data row153 col5\" >{'title': 'Histogram of PiT Probability of Default'}</td>\n",
       "    </tr>\n",
       "    <tr>\n",
       "      <td id=\"T_43add_row154_col0\" class=\"data row154 col0\" >validmind.data_validation.AutoAR</td>\n",
       "      <td id=\"T_43add_row154_col1\" class=\"data row154 col1\" >Auto AR</td>\n",
       "      <td id=\"T_43add_row154_col2\" class=\"data row154 col2\" >Metric</td>\n",
       "      <td id=\"T_43add_row154_col3\" class=\"data row154 col3\" >Automatically identifies the optimal Autoregressive (AR) order for a time series using BIC and AIC criteria....</td>\n",
       "      <td id=\"T_43add_row154_col4\" class=\"data row154 col4\" >['dataset']</td>\n",
       "      <td id=\"T_43add_row154_col5\" class=\"data row154 col5\" >{'max_ar_order': 3}</td>\n",
       "    </tr>\n",
       "    <tr>\n",
       "      <td id=\"T_43add_row155_col0\" class=\"data row155 col0\" >validmind.data_validation.TabularDateTimeHistograms</td>\n",
       "      <td id=\"T_43add_row155_col1\" class=\"data row155 col1\" >Tabular Date Time Histograms</td>\n",
       "      <td id=\"T_43add_row155_col2\" class=\"data row155 col2\" >Metric</td>\n",
       "      <td id=\"T_43add_row155_col3\" class=\"data row155 col3\" >Generates histograms to provide graphical insight into the distribution of time intervals in model's datetime data....</td>\n",
       "      <td id=\"T_43add_row155_col4\" class=\"data row155 col4\" >['dataset']</td>\n",
       "      <td id=\"T_43add_row155_col5\" class=\"data row155 col5\" >{}</td>\n",
       "    </tr>\n",
       "    <tr>\n",
       "      <td id=\"T_43add_row156_col0\" class=\"data row156 col0\" >validmind.data_validation.nlp.Toxicity</td>\n",
       "      <td id=\"T_43add_row156_col1\" class=\"data row156 col1\" >Toxicity</td>\n",
       "      <td id=\"T_43add_row156_col2\" class=\"data row156 col2\" >Metric</td>\n",
       "      <td id=\"T_43add_row156_col3\" class=\"data row156 col3\" >Analyzes the toxicity of text data within a dataset using a pre-trained toxicity model....</td>\n",
       "      <td id=\"T_43add_row156_col4\" class=\"data row156 col4\" >['dataset']</td>\n",
       "      <td id=\"T_43add_row156_col5\" class=\"data row156 col5\" >{}</td>\n",
       "    </tr>\n",
       "    <tr>\n",
       "      <td id=\"T_43add_row157_col0\" class=\"data row157 col0\" >validmind.data_validation.nlp.PolarityAndSubjectivity</td>\n",
       "      <td id=\"T_43add_row157_col1\" class=\"data row157 col1\" >Polarity And Subjectivity</td>\n",
       "      <td id=\"T_43add_row157_col2\" class=\"data row157 col2\" >Metric</td>\n",
       "      <td id=\"T_43add_row157_col3\" class=\"data row157 col3\" >Analyzes the polarity and subjectivity of text data within a dataset....</td>\n",
       "      <td id=\"T_43add_row157_col4\" class=\"data row157 col4\" >['dataset']</td>\n",
       "      <td id=\"T_43add_row157_col5\" class=\"data row157 col5\" >{}</td>\n",
       "    </tr>\n",
       "    <tr>\n",
       "      <td id=\"T_43add_row158_col0\" class=\"data row158 col0\" >validmind.data_validation.nlp.Punctuations</td>\n",
       "      <td id=\"T_43add_row158_col1\" class=\"data row158 col1\" >Punctuations</td>\n",
       "      <td id=\"T_43add_row158_col2\" class=\"data row158 col2\" >Metric</td>\n",
       "      <td id=\"T_43add_row158_col3\" class=\"data row158 col3\" >Analyzes and visualizes the frequency distribution of punctuation usage in a given text dataset....</td>\n",
       "      <td id=\"T_43add_row158_col4\" class=\"data row158 col4\" >['dataset', 'dataset.text_column']</td>\n",
       "      <td id=\"T_43add_row158_col5\" class=\"data row158 col5\" >{}</td>\n",
       "    </tr>\n",
       "    <tr>\n",
       "      <td id=\"T_43add_row159_col0\" class=\"data row159 col0\" >validmind.data_validation.nlp.Sentiment</td>\n",
       "      <td id=\"T_43add_row159_col1\" class=\"data row159 col1\" >Sentiment</td>\n",
       "      <td id=\"T_43add_row159_col2\" class=\"data row159 col2\" >Metric</td>\n",
       "      <td id=\"T_43add_row159_col3\" class=\"data row159 col3\" >Analyzes the sentiment of text data within a dataset using the VADER sentiment analysis tool....</td>\n",
       "      <td id=\"T_43add_row159_col4\" class=\"data row159 col4\" >['dataset']</td>\n",
       "      <td id=\"T_43add_row159_col5\" class=\"data row159 col5\" >{}</td>\n",
       "    </tr>\n",
       "    <tr>\n",
       "      <td id=\"T_43add_row160_col0\" class=\"data row160 col0\" >validmind.data_validation.nlp.CommonWords</td>\n",
       "      <td id=\"T_43add_row160_col1\" class=\"data row160 col1\" >Common Words</td>\n",
       "      <td id=\"T_43add_row160_col2\" class=\"data row160 col2\" >Metric</td>\n",
       "      <td id=\"T_43add_row160_col3\" class=\"data row160 col3\" >Identifies and visualizes the 40 most frequent non-stopwords in a specified text column within a dataset....</td>\n",
       "      <td id=\"T_43add_row160_col4\" class=\"data row160 col4\" >['dataset', 'dataset.text_column']</td>\n",
       "      <td id=\"T_43add_row160_col5\" class=\"data row160 col5\" >{}</td>\n",
       "    </tr>\n",
       "    <tr>\n",
       "      <td id=\"T_43add_row161_col0\" class=\"data row161 col0\" >validmind.data_validation.nlp.Hashtags</td>\n",
       "      <td id=\"T_43add_row161_col1\" class=\"data row161 col1\" >Hashtags</td>\n",
       "      <td id=\"T_43add_row161_col2\" class=\"data row161 col2\" >ThresholdTest</td>\n",
       "      <td id=\"T_43add_row161_col3\" class=\"data row161 col3\" >Assesses hashtag frequency in a text column, highlighting usage trends and potential dataset bias or spam....</td>\n",
       "      <td id=\"T_43add_row161_col4\" class=\"data row161 col4\" >['dataset', 'dataset.text_column']</td>\n",
       "      <td id=\"T_43add_row161_col5\" class=\"data row161 col5\" >{'top_hashtags': 25}</td>\n",
       "    </tr>\n",
       "    <tr>\n",
       "      <td id=\"T_43add_row162_col0\" class=\"data row162 col0\" >validmind.data_validation.nlp.LanguageDetection</td>\n",
       "      <td id=\"T_43add_row162_col1\" class=\"data row162 col1\" >Language Detection</td>\n",
       "      <td id=\"T_43add_row162_col2\" class=\"data row162 col2\" >Metric</td>\n",
       "      <td id=\"T_43add_row162_col3\" class=\"data row162 col3\" >Detects the language of each text entry in a dataset and visualizes the distribution of languages...</td>\n",
       "      <td id=\"T_43add_row162_col4\" class=\"data row162 col4\" >['dataset']</td>\n",
       "      <td id=\"T_43add_row162_col5\" class=\"data row162 col5\" >{}</td>\n",
       "    </tr>\n",
       "    <tr>\n",
       "      <td id=\"T_43add_row163_col0\" class=\"data row163 col0\" >validmind.data_validation.nlp.Mentions</td>\n",
       "      <td id=\"T_43add_row163_col1\" class=\"data row163 col1\" >Mentions</td>\n",
       "      <td id=\"T_43add_row163_col2\" class=\"data row163 col2\" >ThresholdTest</td>\n",
       "      <td id=\"T_43add_row163_col3\" class=\"data row163 col3\" >Calculates and visualizes frequencies of '@' prefixed mentions in a text-based dataset for NLP model analysis....</td>\n",
       "      <td id=\"T_43add_row163_col4\" class=\"data row163 col4\" >['dataset', 'dataset.text_column']</td>\n",
       "      <td id=\"T_43add_row163_col5\" class=\"data row163 col5\" >{'top_mentions': 25}</td>\n",
       "    </tr>\n",
       "    <tr>\n",
       "      <td id=\"T_43add_row164_col0\" class=\"data row164 col0\" >validmind.data_validation.nlp.TextDescription</td>\n",
       "      <td id=\"T_43add_row164_col1\" class=\"data row164 col1\" >Text Description</td>\n",
       "      <td id=\"T_43add_row164_col2\" class=\"data row164 col2\" >Metric</td>\n",
       "      <td id=\"T_43add_row164_col3\" class=\"data row164 col3\" >Performs comprehensive textual analysis on a dataset using NLTK, evaluating various parameters and generating...</td>\n",
       "      <td id=\"T_43add_row164_col4\" class=\"data row164 col4\" >['dataset', 'dataset.text_column']</td>\n",
       "      <td id=\"T_43add_row164_col5\" class=\"data row164 col5\" >{'unwanted_tokens': {'s', 'us', 'dollar', ' ', \"'s\", 'dr', 'mr', '``', 'mrs', \"s'\", \"''\", 'ms'}, 'num_top_words': 3, 'lang': 'english'}</td>\n",
       "    </tr>\n",
       "    <tr>\n",
       "      <td id=\"T_43add_row165_col0\" class=\"data row165 col0\" >validmind.data_validation.nlp.StopWords</td>\n",
       "      <td id=\"T_43add_row165_col1\" class=\"data row165 col1\" >Stop Words</td>\n",
       "      <td id=\"T_43add_row165_col2\" class=\"data row165 col2\" >ThresholdTest</td>\n",
       "      <td id=\"T_43add_row165_col3\" class=\"data row165 col3\" >Evaluates and visualizes the frequency of English stop words in a text dataset against a defined threshold....</td>\n",
       "      <td id=\"T_43add_row165_col4\" class=\"data row165 col4\" >['dataset']</td>\n",
       "      <td id=\"T_43add_row165_col5\" class=\"data row165 col5\" >{'min_percent_threshold': 0.5, 'num_words': 25}</td>\n",
       "    </tr>\n",
       "  </tbody>\n",
       "</table>\n"
      ],
      "text/plain": [
       "<pandas.io.formats.style.Styler at 0x2ca35f2b0>"
      ]
     },
     "execution_count": 4,
     "metadata": {},
     "output_type": "execute_result"
    }
   ],
   "source": [
    "vm.tests.list_tests()"
   ]
  },
  {
   "cell_type": "markdown",
   "metadata": {},
   "source": [
    "Let's do some data quality assessments by running a few individual tests related to data assessment. You will use the `vm.tests.list_tests()` function introduced above in combination with `vm.tests.list_tags()` and `vm.tests.list_task_types()` to find which prebuilt tests are relevant for data quality assessment.\n"
   ]
  },
  {
   "cell_type": "code",
   "execution_count": 5,
   "metadata": {},
   "outputs": [
    {
     "data": {
      "text/plain": [
       "['AUC',\n",
       " 'anomaly_detection',\n",
       " 'binary_classification',\n",
       " 'categorical_data',\n",
       " 'correlation',\n",
       " 'credit_risk',\n",
       " 'data_distribution',\n",
       " 'data_quality',\n",
       " 'data_validation',\n",
       " 'feature_importance',\n",
       " 'few_shot',\n",
       " 'forecasting',\n",
       " 'frequency_analysis',\n",
       " 'kmeans',\n",
       " 'llm',\n",
       " 'logistic_regression',\n",
       " 'model_comparison',\n",
       " 'model_diagnosis',\n",
       " 'model_interpretation',\n",
       " 'model_metadata',\n",
       " 'model_performance',\n",
       " 'model_selection',\n",
       " 'multiclass_classification',\n",
       " 'nlp',\n",
       " 'numerical_data',\n",
       " 'qualitative',\n",
       " 'rag_performance',\n",
       " 'ragas',\n",
       " 'retrieval_performance',\n",
       " 'risk_analysis',\n",
       " 'seasonality',\n",
       " 'senstivity_analysis',\n",
       " 'sklearn',\n",
       " 'stationarity',\n",
       " 'statistical_test',\n",
       " 'statsmodels',\n",
       " 'tabular_data',\n",
       " 'text_data',\n",
       " 'text_embeddings',\n",
       " 'time_series_data',\n",
       " 'unit_root_test',\n",
       " 'visualization',\n",
       " 'zero_shot']"
      ]
     },
     "execution_count": 5,
     "metadata": {},
     "output_type": "execute_result"
    }
   ],
   "source": [
    "# Get the list of available tags\n",
    "sorted(vm.tests.list_tags())"
   ]
  },
  {
   "cell_type": "code",
   "execution_count": 6,
   "metadata": {},
   "outputs": [
    {
     "data": {
      "text/plain": [
       "['classification',\n",
       " 'clustering',\n",
       " 'feature_extraction',\n",
       " 'nlp',\n",
       " 'regression',\n",
       " 'text_classification',\n",
       " 'text_generation',\n",
       " 'text_qa',\n",
       " 'text_summarization']"
      ]
     },
     "execution_count": 6,
     "metadata": {},
     "output_type": "execute_result"
    }
   ],
   "source": [
    "# Get the list of available task types\n",
    "sorted(vm.tests.list_task_types())"
   ]
  },
  {
   "cell_type": "markdown",
   "metadata": {},
   "source": [
    "You can pass `tags` and `task_types` as parameters to the `vm.tests.list_tests()` function to filter the tests based on the tags and task types. For example, to find tests related to tabular data quality for classification models, you can call `list_tests()` like this:\n"
   ]
  },
  {
   "cell_type": "code",
   "execution_count": 7,
   "metadata": {},
   "outputs": [
    {
     "data": {
      "text/html": [
       "<style type=\"text/css\">\n",
       "#T_c8920 th {\n",
       "  text-align: left;\n",
       "}\n",
       "#T_c8920_row0_col0, #T_c8920_row0_col1, #T_c8920_row0_col2, #T_c8920_row0_col3, #T_c8920_row0_col4, #T_c8920_row0_col5, #T_c8920_row1_col0, #T_c8920_row1_col1, #T_c8920_row1_col2, #T_c8920_row1_col3, #T_c8920_row1_col4, #T_c8920_row1_col5, #T_c8920_row2_col0, #T_c8920_row2_col1, #T_c8920_row2_col2, #T_c8920_row2_col3, #T_c8920_row2_col4, #T_c8920_row2_col5, #T_c8920_row3_col0, #T_c8920_row3_col1, #T_c8920_row3_col2, #T_c8920_row3_col3, #T_c8920_row3_col4, #T_c8920_row3_col5, #T_c8920_row4_col0, #T_c8920_row4_col1, #T_c8920_row4_col2, #T_c8920_row4_col3, #T_c8920_row4_col4, #T_c8920_row4_col5, #T_c8920_row5_col0, #T_c8920_row5_col1, #T_c8920_row5_col2, #T_c8920_row5_col3, #T_c8920_row5_col4, #T_c8920_row5_col5, #T_c8920_row6_col0, #T_c8920_row6_col1, #T_c8920_row6_col2, #T_c8920_row6_col3, #T_c8920_row6_col4, #T_c8920_row6_col5 {\n",
       "  text-align: left;\n",
       "}\n",
       "</style>\n",
       "<table id=\"T_c8920\">\n",
       "  <thead>\n",
       "    <tr>\n",
       "      <th id=\"T_c8920_level0_col0\" class=\"col_heading level0 col0\" >ID</th>\n",
       "      <th id=\"T_c8920_level0_col1\" class=\"col_heading level0 col1\" >Name</th>\n",
       "      <th id=\"T_c8920_level0_col2\" class=\"col_heading level0 col2\" >Test Type</th>\n",
       "      <th id=\"T_c8920_level0_col3\" class=\"col_heading level0 col3\" >Description</th>\n",
       "      <th id=\"T_c8920_level0_col4\" class=\"col_heading level0 col4\" >Required Inputs</th>\n",
       "      <th id=\"T_c8920_level0_col5\" class=\"col_heading level0 col5\" >Params</th>\n",
       "    </tr>\n",
       "  </thead>\n",
       "  <tbody>\n",
       "    <tr>\n",
       "      <td id=\"T_c8920_row0_col0\" class=\"data row0 col0\" >validmind.data_validation.MissingValuesRisk</td>\n",
       "      <td id=\"T_c8920_row0_col1\" class=\"data row0 col1\" >Missing Values Risk</td>\n",
       "      <td id=\"T_c8920_row0_col2\" class=\"data row0 col2\" >Metric</td>\n",
       "      <td id=\"T_c8920_row0_col3\" class=\"data row0 col3\" >Assesses and quantifies the risk related to missing values in a dataset used for training an ML model....</td>\n",
       "      <td id=\"T_c8920_row0_col4\" class=\"data row0 col4\" >['dataset']</td>\n",
       "      <td id=\"T_c8920_row0_col5\" class=\"data row0 col5\" >{}</td>\n",
       "    </tr>\n",
       "    <tr>\n",
       "      <td id=\"T_c8920_row1_col0\" class=\"data row1 col0\" >validmind.data_validation.Skewness</td>\n",
       "      <td id=\"T_c8920_row1_col1\" class=\"data row1 col1\" >Skewness</td>\n",
       "      <td id=\"T_c8920_row1_col2\" class=\"data row1 col2\" >ThresholdTest</td>\n",
       "      <td id=\"T_c8920_row1_col3\" class=\"data row1 col3\" >Evaluates the skewness of numerical data in a machine learning model and checks if it falls below a set maximum...</td>\n",
       "      <td id=\"T_c8920_row1_col4\" class=\"data row1 col4\" >['dataset']</td>\n",
       "      <td id=\"T_c8920_row1_col5\" class=\"data row1 col5\" >{'max_threshold': 1}</td>\n",
       "    </tr>\n",
       "    <tr>\n",
       "      <td id=\"T_c8920_row2_col0\" class=\"data row2 col0\" >validmind.data_validation.Duplicates</td>\n",
       "      <td id=\"T_c8920_row2_col1\" class=\"data row2 col1\" >Duplicates</td>\n",
       "      <td id=\"T_c8920_row2_col2\" class=\"data row2 col2\" >ThresholdTest</td>\n",
       "      <td id=\"T_c8920_row2_col3\" class=\"data row2 col3\" >Tests dataset for duplicate entries, ensuring model reliability via data quality verification....</td>\n",
       "      <td id=\"T_c8920_row2_col4\" class=\"data row2 col4\" >['dataset']</td>\n",
       "      <td id=\"T_c8920_row2_col5\" class=\"data row2 col5\" >{'min_threshold': 1}</td>\n",
       "    </tr>\n",
       "    <tr>\n",
       "      <td id=\"T_c8920_row3_col0\" class=\"data row3 col0\" >validmind.data_validation.MissingValuesBarPlot</td>\n",
       "      <td id=\"T_c8920_row3_col1\" class=\"data row3 col1\" >Missing Values Bar Plot</td>\n",
       "      <td id=\"T_c8920_row3_col2\" class=\"data row3 col2\" >Metric</td>\n",
       "      <td id=\"T_c8920_row3_col3\" class=\"data row3 col3\" >Creates a bar plot showcasing the percentage of missing values in each column of the dataset with risk...</td>\n",
       "      <td id=\"T_c8920_row3_col4\" class=\"data row3 col4\" >['dataset']</td>\n",
       "      <td id=\"T_c8920_row3_col5\" class=\"data row3 col5\" >{'threshold': 80, 'fig_height': 600}</td>\n",
       "    </tr>\n",
       "    <tr>\n",
       "      <td id=\"T_c8920_row4_col0\" class=\"data row4 col0\" >validmind.data_validation.HighCardinality</td>\n",
       "      <td id=\"T_c8920_row4_col1\" class=\"data row4 col1\" >High Cardinality</td>\n",
       "      <td id=\"T_c8920_row4_col2\" class=\"data row4 col2\" >ThresholdTest</td>\n",
       "      <td id=\"T_c8920_row4_col3\" class=\"data row4 col3\" >Assesses the number of unique values in categorical columns to detect high cardinality and potential overfitting....</td>\n",
       "      <td id=\"T_c8920_row4_col4\" class=\"data row4 col4\" >['dataset']</td>\n",
       "      <td id=\"T_c8920_row4_col5\" class=\"data row4 col5\" >{'num_threshold': 100, 'percent_threshold': 0.1, 'threshold_type': 'percent'}</td>\n",
       "    </tr>\n",
       "    <tr>\n",
       "      <td id=\"T_c8920_row5_col0\" class=\"data row5 col0\" >validmind.data_validation.MissingValues</td>\n",
       "      <td id=\"T_c8920_row5_col1\" class=\"data row5 col1\" >Missing Values</td>\n",
       "      <td id=\"T_c8920_row5_col2\" class=\"data row5 col2\" >ThresholdTest</td>\n",
       "      <td id=\"T_c8920_row5_col3\" class=\"data row5 col3\" >Evaluates dataset quality by ensuring missing value ratio across all features does not exceed a set threshold....</td>\n",
       "      <td id=\"T_c8920_row5_col4\" class=\"data row5 col4\" >['dataset']</td>\n",
       "      <td id=\"T_c8920_row5_col5\" class=\"data row5 col5\" >{'min_threshold': 1}</td>\n",
       "    </tr>\n",
       "    <tr>\n",
       "      <td id=\"T_c8920_row6_col0\" class=\"data row6 col0\" >validmind.data_validation.HighPearsonCorrelation</td>\n",
       "      <td id=\"T_c8920_row6_col1\" class=\"data row6 col1\" >High Pearson Correlation</td>\n",
       "      <td id=\"T_c8920_row6_col2\" class=\"data row6 col2\" >ThresholdTest</td>\n",
       "      <td id=\"T_c8920_row6_col3\" class=\"data row6 col3\" >Identifies highly correlated feature pairs in a dataset suggesting feature redundancy or multicollinearity....</td>\n",
       "      <td id=\"T_c8920_row6_col4\" class=\"data row6 col4\" >['dataset']</td>\n",
       "      <td id=\"T_c8920_row6_col5\" class=\"data row6 col5\" >{'max_threshold': 0.3}</td>\n",
       "    </tr>\n",
       "  </tbody>\n",
       "</table>\n"
      ],
      "text/plain": [
       "<pandas.io.formats.style.Styler at 0x2ca47cdf0>"
      ]
     },
     "execution_count": 7,
     "metadata": {},
     "output_type": "execute_result"
    }
   ],
   "source": [
    "vm.tests.list_tests(task=\"classification\", tags=[\"tabular_data\", \"data_quality\"])"
   ]
  },
  {
   "cell_type": "markdown",
   "metadata": {},
   "source": [
    "## Data preparation\n"
   ]
  },
  {
   "cell_type": "code",
   "execution_count": 8,
   "metadata": {},
   "outputs": [
    {
     "name": "stdout",
     "output_type": "stream",
     "text": [
      "Columns ['bal_date', 'cust_id', 'LOB_data', 'cust_ipid_nm', 'ult_parent_cust_ipid_no', 'ult_parent_cust_nm', 'client', 'subclient', 'EOD', 'Total_Outflow', 'Total_Inflow', 'Total_Outflow_Volume', 'Total_Inflow_Volume']\n",
      "Size [100000, 13]\n"
     ]
    },
    {
     "data": {
      "text/html": [
       "<div>\n",
       "<style scoped>\n",
       "    .dataframe tbody tr th:only-of-type {\n",
       "        vertical-align: middle;\n",
       "    }\n",
       "\n",
       "    .dataframe tbody tr th {\n",
       "        vertical-align: top;\n",
       "    }\n",
       "\n",
       "    .dataframe thead th {\n",
       "        text-align: right;\n",
       "    }\n",
       "</style>\n",
       "<table border=\"1\" class=\"dataframe\">\n",
       "  <thead>\n",
       "    <tr style=\"text-align: right;\">\n",
       "      <th></th>\n",
       "      <th>bal_date</th>\n",
       "      <th>cust_id</th>\n",
       "      <th>LOB_data</th>\n",
       "      <th>cust_ipid_nm</th>\n",
       "      <th>ult_parent_cust_ipid_no</th>\n",
       "      <th>ult_parent_cust_nm</th>\n",
       "      <th>client</th>\n",
       "      <th>subclient</th>\n",
       "      <th>EOD</th>\n",
       "      <th>Total_Outflow</th>\n",
       "      <th>Total_Inflow</th>\n",
       "      <th>Total_Outflow_Volume</th>\n",
       "      <th>Total_Inflow_Volume</th>\n",
       "    </tr>\n",
       "  </thead>\n",
       "  <tbody>\n",
       "    <tr>\n",
       "      <th>0</th>\n",
       "      <td>09/20/22</td>\n",
       "      <td>193226329</td>\n",
       "      <td>ASSET SERVICING INTERNAL</td>\n",
       "      <td>1</td>\n",
       "      <td>849333769</td>\n",
       "      <td>Company of 1</td>\n",
       "      <td>BANK 8</td>\n",
       "      <td>INVESTMENT BANK</td>\n",
       "      <td>620588441</td>\n",
       "      <td>6045789727</td>\n",
       "      <td>6056785345</td>\n",
       "      <td>65</td>\n",
       "      <td>69</td>\n",
       "    </tr>\n",
       "    <tr>\n",
       "      <th>1</th>\n",
       "      <td>12/28/22</td>\n",
       "      <td>147845695</td>\n",
       "      <td>ASSET SERVICING INTERNAL</td>\n",
       "      <td>2</td>\n",
       "      <td>846403000</td>\n",
       "      <td>Company of 2</td>\n",
       "      <td>BANK 2</td>\n",
       "      <td>COMMERCIAL BANK</td>\n",
       "      <td>749542305</td>\n",
       "      <td>7668359015</td>\n",
       "      <td>7821262323</td>\n",
       "      <td>79</td>\n",
       "      <td>71</td>\n",
       "    </tr>\n",
       "    <tr>\n",
       "      <th>2</th>\n",
       "      <td>12/09/22</td>\n",
       "      <td>972808766</td>\n",
       "      <td>ASSET SERVICING INTERNAL</td>\n",
       "      <td>0</td>\n",
       "      <td>898029133</td>\n",
       "      <td>Company of 0</td>\n",
       "      <td>BANK 9</td>\n",
       "      <td>COMMERCIAL BANK</td>\n",
       "      <td>587273414</td>\n",
       "      <td>5734508268</td>\n",
       "      <td>5808149422</td>\n",
       "      <td>55</td>\n",
       "      <td>54</td>\n",
       "    </tr>\n",
       "    <tr>\n",
       "      <th>3</th>\n",
       "      <td>11/11/22</td>\n",
       "      <td>569050631</td>\n",
       "      <td>ASSET SERVICING INTERNAL</td>\n",
       "      <td>0</td>\n",
       "      <td>579834489</td>\n",
       "      <td>Company of 0</td>\n",
       "      <td>BANK 8</td>\n",
       "      <td>COMMERCIAL BANK</td>\n",
       "      <td>569466714</td>\n",
       "      <td>5938051746</td>\n",
       "      <td>5959450622</td>\n",
       "      <td>55</td>\n",
       "      <td>57</td>\n",
       "    </tr>\n",
       "  </tbody>\n",
       "</table>\n",
       "</div>"
      ],
      "text/plain": [
       "   bal_date    cust_id                  LOB_data  cust_ipid_nm  \\\n",
       "0  09/20/22  193226329  ASSET SERVICING INTERNAL             1   \n",
       "1  12/28/22  147845695  ASSET SERVICING INTERNAL             2   \n",
       "2  12/09/22  972808766  ASSET SERVICING INTERNAL             0   \n",
       "3  11/11/22  569050631  ASSET SERVICING INTERNAL             0   \n",
       "\n",
       "   ult_parent_cust_ipid_no ult_parent_cust_nm  client        subclient  \\\n",
       "0                849333769       Company of 1  BANK 8  INVESTMENT BANK   \n",
       "1                846403000       Company of 2  BANK 2  COMMERCIAL BANK   \n",
       "2                898029133       Company of 0  BANK 9  COMMERCIAL BANK   \n",
       "3                579834489       Company of 0  BANK 8  COMMERCIAL BANK   \n",
       "\n",
       "         EOD  Total_Outflow  Total_Inflow  Total_Outflow_Volume  \\\n",
       "0  620588441     6045789727    6056785345                    65   \n",
       "1  749542305     7668359015    7821262323                    79   \n",
       "2  587273414     5734508268    5808149422                    55   \n",
       "3  569466714     5938051746    5959450622                    55   \n",
       "\n",
       "   Total_Inflow_Volume  \n",
       "0                   69  \n",
       "1                   71  \n",
       "2                   54  \n",
       "3                   57  "
      ]
     },
     "execution_count": 8,
     "metadata": {},
     "output_type": "execute_result"
    }
   ],
   "source": [
    "import pandas as pd\n",
    "raw_df = pd.read_csv(\"./datasets/odm_data_example/synthetic_data.csv\")\n",
    "print(f\"Columns {list(raw_df.columns)}\")\n",
    "print(f\"Size {list(raw_df.shape)}\")\n",
    "\n",
    "raw_df.head(4)"
   ]
  },
  {
   "cell_type": "markdown",
   "metadata": {},
   "source": [
    "# Data validation\n",
    "\n",
    "Now that we have loaded our dataset, we can go ahead and run some data validation tests right away to start assessing and documenting the quality of our data. Since we are using a text dataset, we can use ValidMind's built-in array of text data quality tests to check that things like number of duplicates, missing values, and other common text data issues are not present in our dataset. We can also run some tests to check the sentiment and toxicity of our data."
   ]
  },
  {
   "cell_type": "markdown",
   "metadata": {},
   "source": [
    "## Validmind objects\n"
   ]
  },
  {
   "cell_type": "code",
   "execution_count": 9,
   "metadata": {},
   "outputs": [
    {
     "name": "stderr",
     "output_type": "stream",
     "text": [
      "2024-05-23 16:52:04,891 - INFO(validmind.client): Pandas dataset detected. Initializing VM Dataset instance...\n"
     ]
    }
   ],
   "source": [
    "vm_raw_ds = vm.init_dataset(\n",
    "    dataset=raw_df,\n",
    "    input_id=\"raw_dataset\",\n",
    "    target_column=\"cust_ipid_nm\"\n",
    ")"
   ]
  },
  {
   "cell_type": "markdown",
   "metadata": {},
   "source": [
    "## Data Validation"
   ]
  },
  {
   "cell_type": "code",
   "execution_count": 10,
   "metadata": {},
   "outputs": [
    {
     "data": {
      "text/html": [
       "<style type=\"text/css\">\n",
       "#T_24950 th {\n",
       "  text-align: left;\n",
       "}\n",
       "#T_24950_row0_col0, #T_24950_row0_col1, #T_24950_row0_col2, #T_24950_row0_col3, #T_24950_row0_col4, #T_24950_row0_col5, #T_24950_row1_col0, #T_24950_row1_col1, #T_24950_row1_col2, #T_24950_row1_col3, #T_24950_row1_col4, #T_24950_row1_col5, #T_24950_row2_col0, #T_24950_row2_col1, #T_24950_row2_col2, #T_24950_row2_col3, #T_24950_row2_col4, #T_24950_row2_col5, #T_24950_row3_col0, #T_24950_row3_col1, #T_24950_row3_col2, #T_24950_row3_col3, #T_24950_row3_col4, #T_24950_row3_col5, #T_24950_row4_col0, #T_24950_row4_col1, #T_24950_row4_col2, #T_24950_row4_col3, #T_24950_row4_col4, #T_24950_row4_col5, #T_24950_row5_col0, #T_24950_row5_col1, #T_24950_row5_col2, #T_24950_row5_col3, #T_24950_row5_col4, #T_24950_row5_col5, #T_24950_row6_col0, #T_24950_row6_col1, #T_24950_row6_col2, #T_24950_row6_col3, #T_24950_row6_col4, #T_24950_row6_col5, #T_24950_row7_col0, #T_24950_row7_col1, #T_24950_row7_col2, #T_24950_row7_col3, #T_24950_row7_col4, #T_24950_row7_col5, #T_24950_row8_col0, #T_24950_row8_col1, #T_24950_row8_col2, #T_24950_row8_col3, #T_24950_row8_col4, #T_24950_row8_col5, #T_24950_row9_col0, #T_24950_row9_col1, #T_24950_row9_col2, #T_24950_row9_col3, #T_24950_row9_col4, #T_24950_row9_col5, #T_24950_row10_col0, #T_24950_row10_col1, #T_24950_row10_col2, #T_24950_row10_col3, #T_24950_row10_col4, #T_24950_row10_col5, #T_24950_row11_col0, #T_24950_row11_col1, #T_24950_row11_col2, #T_24950_row11_col3, #T_24950_row11_col4, #T_24950_row11_col5, #T_24950_row12_col0, #T_24950_row12_col1, #T_24950_row12_col2, #T_24950_row12_col3, #T_24950_row12_col4, #T_24950_row12_col5, #T_24950_row13_col0, #T_24950_row13_col1, #T_24950_row13_col2, #T_24950_row13_col3, #T_24950_row13_col4, #T_24950_row13_col5, #T_24950_row14_col0, #T_24950_row14_col1, #T_24950_row14_col2, #T_24950_row14_col3, #T_24950_row14_col4, #T_24950_row14_col5, #T_24950_row15_col0, #T_24950_row15_col1, #T_24950_row15_col2, #T_24950_row15_col3, #T_24950_row15_col4, #T_24950_row15_col5, #T_24950_row16_col0, #T_24950_row16_col1, #T_24950_row16_col2, #T_24950_row16_col3, #T_24950_row16_col4, #T_24950_row16_col5, #T_24950_row17_col0, #T_24950_row17_col1, #T_24950_row17_col2, #T_24950_row17_col3, #T_24950_row17_col4, #T_24950_row17_col5, #T_24950_row18_col0, #T_24950_row18_col1, #T_24950_row18_col2, #T_24950_row18_col3, #T_24950_row18_col4, #T_24950_row18_col5, #T_24950_row19_col0, #T_24950_row19_col1, #T_24950_row19_col2, #T_24950_row19_col3, #T_24950_row19_col4, #T_24950_row19_col5, #T_24950_row20_col0, #T_24950_row20_col1, #T_24950_row20_col2, #T_24950_row20_col3, #T_24950_row20_col4, #T_24950_row20_col5, #T_24950_row21_col0, #T_24950_row21_col1, #T_24950_row21_col2, #T_24950_row21_col3, #T_24950_row21_col4, #T_24950_row21_col5, #T_24950_row22_col0, #T_24950_row22_col1, #T_24950_row22_col2, #T_24950_row22_col3, #T_24950_row22_col4, #T_24950_row22_col5, #T_24950_row23_col0, #T_24950_row23_col1, #T_24950_row23_col2, #T_24950_row23_col3, #T_24950_row23_col4, #T_24950_row23_col5, #T_24950_row24_col0, #T_24950_row24_col1, #T_24950_row24_col2, #T_24950_row24_col3, #T_24950_row24_col4, #T_24950_row24_col5, #T_24950_row25_col0, #T_24950_row25_col1, #T_24950_row25_col2, #T_24950_row25_col3, #T_24950_row25_col4, #T_24950_row25_col5, #T_24950_row26_col0, #T_24950_row26_col1, #T_24950_row26_col2, #T_24950_row26_col3, #T_24950_row26_col4, #T_24950_row26_col5, #T_24950_row27_col0, #T_24950_row27_col1, #T_24950_row27_col2, #T_24950_row27_col3, #T_24950_row27_col4, #T_24950_row27_col5, #T_24950_row28_col0, #T_24950_row28_col1, #T_24950_row28_col2, #T_24950_row28_col3, #T_24950_row28_col4, #T_24950_row28_col5, #T_24950_row29_col0, #T_24950_row29_col1, #T_24950_row29_col2, #T_24950_row29_col3, #T_24950_row29_col4, #T_24950_row29_col5, #T_24950_row30_col0, #T_24950_row30_col1, #T_24950_row30_col2, #T_24950_row30_col3, #T_24950_row30_col4, #T_24950_row30_col5, #T_24950_row31_col0, #T_24950_row31_col1, #T_24950_row31_col2, #T_24950_row31_col3, #T_24950_row31_col4, #T_24950_row31_col5, #T_24950_row32_col0, #T_24950_row32_col1, #T_24950_row32_col2, #T_24950_row32_col3, #T_24950_row32_col4, #T_24950_row32_col5, #T_24950_row33_col0, #T_24950_row33_col1, #T_24950_row33_col2, #T_24950_row33_col3, #T_24950_row33_col4, #T_24950_row33_col5, #T_24950_row34_col0, #T_24950_row34_col1, #T_24950_row34_col2, #T_24950_row34_col3, #T_24950_row34_col4, #T_24950_row34_col5, #T_24950_row35_col0, #T_24950_row35_col1, #T_24950_row35_col2, #T_24950_row35_col3, #T_24950_row35_col4, #T_24950_row35_col5, #T_24950_row36_col0, #T_24950_row36_col1, #T_24950_row36_col2, #T_24950_row36_col3, #T_24950_row36_col4, #T_24950_row36_col5, #T_24950_row37_col0, #T_24950_row37_col1, #T_24950_row37_col2, #T_24950_row37_col3, #T_24950_row37_col4, #T_24950_row37_col5, #T_24950_row38_col0, #T_24950_row38_col1, #T_24950_row38_col2, #T_24950_row38_col3, #T_24950_row38_col4, #T_24950_row38_col5, #T_24950_row39_col0, #T_24950_row39_col1, #T_24950_row39_col2, #T_24950_row39_col3, #T_24950_row39_col4, #T_24950_row39_col5, #T_24950_row40_col0, #T_24950_row40_col1, #T_24950_row40_col2, #T_24950_row40_col3, #T_24950_row40_col4, #T_24950_row40_col5, #T_24950_row41_col0, #T_24950_row41_col1, #T_24950_row41_col2, #T_24950_row41_col3, #T_24950_row41_col4, #T_24950_row41_col5, #T_24950_row42_col0, #T_24950_row42_col1, #T_24950_row42_col2, #T_24950_row42_col3, #T_24950_row42_col4, #T_24950_row42_col5, #T_24950_row43_col0, #T_24950_row43_col1, #T_24950_row43_col2, #T_24950_row43_col3, #T_24950_row43_col4, #T_24950_row43_col5, #T_24950_row44_col0, #T_24950_row44_col1, #T_24950_row44_col2, #T_24950_row44_col3, #T_24950_row44_col4, #T_24950_row44_col5, #T_24950_row45_col0, #T_24950_row45_col1, #T_24950_row45_col2, #T_24950_row45_col3, #T_24950_row45_col4, #T_24950_row45_col5, #T_24950_row46_col0, #T_24950_row46_col1, #T_24950_row46_col2, #T_24950_row46_col3, #T_24950_row46_col4, #T_24950_row46_col5, #T_24950_row47_col0, #T_24950_row47_col1, #T_24950_row47_col2, #T_24950_row47_col3, #T_24950_row47_col4, #T_24950_row47_col5, #T_24950_row48_col0, #T_24950_row48_col1, #T_24950_row48_col2, #T_24950_row48_col3, #T_24950_row48_col4, #T_24950_row48_col5, #T_24950_row49_col0, #T_24950_row49_col1, #T_24950_row49_col2, #T_24950_row49_col3, #T_24950_row49_col4, #T_24950_row49_col5, #T_24950_row50_col0, #T_24950_row50_col1, #T_24950_row50_col2, #T_24950_row50_col3, #T_24950_row50_col4, #T_24950_row50_col5, #T_24950_row51_col0, #T_24950_row51_col1, #T_24950_row51_col2, #T_24950_row51_col3, #T_24950_row51_col4, #T_24950_row51_col5, #T_24950_row52_col0, #T_24950_row52_col1, #T_24950_row52_col2, #T_24950_row52_col3, #T_24950_row52_col4, #T_24950_row52_col5, #T_24950_row53_col0, #T_24950_row53_col1, #T_24950_row53_col2, #T_24950_row53_col3, #T_24950_row53_col4, #T_24950_row53_col5, #T_24950_row54_col0, #T_24950_row54_col1, #T_24950_row54_col2, #T_24950_row54_col3, #T_24950_row54_col4, #T_24950_row54_col5, #T_24950_row55_col0, #T_24950_row55_col1, #T_24950_row55_col2, #T_24950_row55_col3, #T_24950_row55_col4, #T_24950_row55_col5, #T_24950_row56_col0, #T_24950_row56_col1, #T_24950_row56_col2, #T_24950_row56_col3, #T_24950_row56_col4, #T_24950_row56_col5, #T_24950_row57_col0, #T_24950_row57_col1, #T_24950_row57_col2, #T_24950_row57_col3, #T_24950_row57_col4, #T_24950_row57_col5, #T_24950_row58_col0, #T_24950_row58_col1, #T_24950_row58_col2, #T_24950_row58_col3, #T_24950_row58_col4, #T_24950_row58_col5, #T_24950_row59_col0, #T_24950_row59_col1, #T_24950_row59_col2, #T_24950_row59_col3, #T_24950_row59_col4, #T_24950_row59_col5 {\n",
       "  text-align: left;\n",
       "}\n",
       "</style>\n",
       "<table id=\"T_24950\">\n",
       "  <thead>\n",
       "    <tr>\n",
       "      <th id=\"T_24950_level0_col0\" class=\"col_heading level0 col0\" >ID</th>\n",
       "      <th id=\"T_24950_level0_col1\" class=\"col_heading level0 col1\" >Name</th>\n",
       "      <th id=\"T_24950_level0_col2\" class=\"col_heading level0 col2\" >Test Type</th>\n",
       "      <th id=\"T_24950_level0_col3\" class=\"col_heading level0 col3\" >Description</th>\n",
       "      <th id=\"T_24950_level0_col4\" class=\"col_heading level0 col4\" >Required Inputs</th>\n",
       "      <th id=\"T_24950_level0_col5\" class=\"col_heading level0 col5\" >Params</th>\n",
       "    </tr>\n",
       "  </thead>\n",
       "  <tbody>\n",
       "    <tr>\n",
       "      <td id=\"T_24950_row0_col0\" class=\"data row0 col0\" >validmind.data_validation.nlp.Hashtags</td>\n",
       "      <td id=\"T_24950_row0_col1\" class=\"data row0 col1\" >Hashtags</td>\n",
       "      <td id=\"T_24950_row0_col2\" class=\"data row0 col2\" >ThresholdTest</td>\n",
       "      <td id=\"T_24950_row0_col3\" class=\"data row0 col3\" >Assesses hashtag frequency in a text column, highlighting usage trends and potential dataset bias or spam....</td>\n",
       "      <td id=\"T_24950_row0_col4\" class=\"data row0 col4\" >['dataset', 'dataset.text_column']</td>\n",
       "      <td id=\"T_24950_row0_col5\" class=\"data row0 col5\" >{'top_hashtags': 25}</td>\n",
       "    </tr>\n",
       "    <tr>\n",
       "      <td id=\"T_24950_row1_col0\" class=\"data row1 col0\" >validmind.data_validation.HighCardinality</td>\n",
       "      <td id=\"T_24950_row1_col1\" class=\"data row1 col1\" >High Cardinality</td>\n",
       "      <td id=\"T_24950_row1_col2\" class=\"data row1 col2\" >ThresholdTest</td>\n",
       "      <td id=\"T_24950_row1_col3\" class=\"data row1 col3\" >Assesses the number of unique values in categorical columns to detect high cardinality and potential overfitting....</td>\n",
       "      <td id=\"T_24950_row1_col4\" class=\"data row1 col4\" >['dataset']</td>\n",
       "      <td id=\"T_24950_row1_col5\" class=\"data row1 col5\" >{'num_threshold': 100, 'percent_threshold': 0.1, 'threshold_type': 'percent'}</td>\n",
       "    </tr>\n",
       "    <tr>\n",
       "      <td id=\"T_24950_row2_col0\" class=\"data row2 col0\" >validmind.data_validation.EngleGrangerCoint</td>\n",
       "      <td id=\"T_24950_row2_col1\" class=\"data row2 col1\" >Engle Granger Coint</td>\n",
       "      <td id=\"T_24950_row2_col2\" class=\"data row2 col2\" >Metric</td>\n",
       "      <td id=\"T_24950_row2_col3\" class=\"data row2 col3\" >Validates co-integration in pairs of time series data using the Engle-Granger test and classifies them as...</td>\n",
       "      <td id=\"T_24950_row2_col4\" class=\"data row2 col4\" >['dataset']</td>\n",
       "      <td id=\"T_24950_row2_col5\" class=\"data row2 col5\" >{'threshold': 0.05}</td>\n",
       "    </tr>\n",
       "    <tr>\n",
       "      <td id=\"T_24950_row3_col0\" class=\"data row3 col0\" >validmind.data_validation.nlp.TextDescription</td>\n",
       "      <td id=\"T_24950_row3_col1\" class=\"data row3 col1\" >Text Description</td>\n",
       "      <td id=\"T_24950_row3_col2\" class=\"data row3 col2\" >Metric</td>\n",
       "      <td id=\"T_24950_row3_col3\" class=\"data row3 col3\" >Performs comprehensive textual analysis on a dataset using NLTK, evaluating various parameters and generating...</td>\n",
       "      <td id=\"T_24950_row3_col4\" class=\"data row3 col4\" >['dataset', 'dataset.text_column']</td>\n",
       "      <td id=\"T_24950_row3_col5\" class=\"data row3 col5\" >{'unwanted_tokens': {'s', 'us', 'dollar', ' ', \"'s\", 'dr', 'mr', '``', 'mrs', \"s'\", \"''\", 'ms'}, 'num_top_words': 3, 'lang': 'english'}</td>\n",
       "    </tr>\n",
       "    <tr>\n",
       "      <td id=\"T_24950_row4_col0\" class=\"data row4 col0\" >validmind.data_validation.TooManyZeroValues</td>\n",
       "      <td id=\"T_24950_row4_col1\" class=\"data row4 col1\" >Too Many Zero Values</td>\n",
       "      <td id=\"T_24950_row4_col2\" class=\"data row4 col2\" >ThresholdTest</td>\n",
       "      <td id=\"T_24950_row4_col3\" class=\"data row4 col3\" >Identifies numerical columns in a dataset that contain an excessive number of zero values, defined by a threshold...</td>\n",
       "      <td id=\"T_24950_row4_col4\" class=\"data row4 col4\" >['dataset']</td>\n",
       "      <td id=\"T_24950_row4_col5\" class=\"data row4 col5\" >{'max_percent_threshold': 0.03}</td>\n",
       "    </tr>\n",
       "    <tr>\n",
       "      <td id=\"T_24950_row5_col0\" class=\"data row5 col0\" >validmind.data_validation.TimeSeriesOutliers</td>\n",
       "      <td id=\"T_24950_row5_col1\" class=\"data row5 col1\" >Time Series Outliers</td>\n",
       "      <td id=\"T_24950_row5_col2\" class=\"data row5 col2\" >ThresholdTest</td>\n",
       "      <td id=\"T_24950_row5_col3\" class=\"data row5 col3\" >Identifies and visualizes outliers in time-series data using z-score method....</td>\n",
       "      <td id=\"T_24950_row5_col4\" class=\"data row5 col4\" >['dataset']</td>\n",
       "      <td id=\"T_24950_row5_col5\" class=\"data row5 col5\" >{'zscore_threshold': 3}</td>\n",
       "    </tr>\n",
       "    <tr>\n",
       "      <td id=\"T_24950_row6_col0\" class=\"data row6 col0\" >validmind.data_validation.ANOVAOneWayTable</td>\n",
       "      <td id=\"T_24950_row6_col1\" class=\"data row6 col1\" >ANOVA One Way Table</td>\n",
       "      <td id=\"T_24950_row6_col2\" class=\"data row6 col2\" >Metric</td>\n",
       "      <td id=\"T_24950_row6_col3\" class=\"data row6 col3\" >Applies one-way ANOVA (Analysis of Variance) to identify statistically significant numerical features in the...</td>\n",
       "      <td id=\"T_24950_row6_col4\" class=\"data row6 col4\" >['dataset']</td>\n",
       "      <td id=\"T_24950_row6_col5\" class=\"data row6 col5\" >{'features': None, 'p_threshold': 0.05}</td>\n",
       "    </tr>\n",
       "    <tr>\n",
       "      <td id=\"T_24950_row7_col0\" class=\"data row7 col0\" >validmind.data_validation.DescriptiveStatistics</td>\n",
       "      <td id=\"T_24950_row7_col1\" class=\"data row7 col1\" >Descriptive Statistics</td>\n",
       "      <td id=\"T_24950_row7_col2\" class=\"data row7 col2\" >Metric</td>\n",
       "      <td id=\"T_24950_row7_col3\" class=\"data row7 col3\" >Performs a detailed descriptive statistical analysis of both numerical and categorical data within a model's...</td>\n",
       "      <td id=\"T_24950_row7_col4\" class=\"data row7 col4\" >['dataset']</td>\n",
       "      <td id=\"T_24950_row7_col5\" class=\"data row7 col5\" >{}</td>\n",
       "    </tr>\n",
       "    <tr>\n",
       "      <td id=\"T_24950_row8_col0\" class=\"data row8 col0\" >validmind.data_validation.RollingStatsPlot</td>\n",
       "      <td id=\"T_24950_row8_col1\" class=\"data row8 col1\" >Rolling Stats Plot</td>\n",
       "      <td id=\"T_24950_row8_col2\" class=\"data row8 col2\" >Metric</td>\n",
       "      <td id=\"T_24950_row8_col3\" class=\"data row8 col3\" >This test evaluates the stationarity of time series data by plotting its rolling mean and standard deviation....</td>\n",
       "      <td id=\"T_24950_row8_col4\" class=\"data row8 col4\" >['dataset']</td>\n",
       "      <td id=\"T_24950_row8_col5\" class=\"data row8 col5\" >{'window_size': 12}</td>\n",
       "    </tr>\n",
       "    <tr>\n",
       "      <td id=\"T_24950_row9_col0\" class=\"data row9 col0\" >validmind.data_validation.nlp.PolarityAndSubjectivity</td>\n",
       "      <td id=\"T_24950_row9_col1\" class=\"data row9 col1\" >Polarity And Subjectivity</td>\n",
       "      <td id=\"T_24950_row9_col2\" class=\"data row9 col2\" >Metric</td>\n",
       "      <td id=\"T_24950_row9_col3\" class=\"data row9 col3\" >Analyzes the polarity and subjectivity of text data within a dataset....</td>\n",
       "      <td id=\"T_24950_row9_col4\" class=\"data row9 col4\" >['dataset']</td>\n",
       "      <td id=\"T_24950_row9_col5\" class=\"data row9 col5\" >{}</td>\n",
       "    </tr>\n",
       "    <tr>\n",
       "      <td id=\"T_24950_row10_col0\" class=\"data row10 col0\" >validmind.data_validation.LaggedCorrelationHeatmap</td>\n",
       "      <td id=\"T_24950_row10_col1\" class=\"data row10 col1\" >Lagged Correlation Heatmap</td>\n",
       "      <td id=\"T_24950_row10_col2\" class=\"data row10 col2\" >Metric</td>\n",
       "      <td id=\"T_24950_row10_col3\" class=\"data row10 col3\" >Assesses and visualizes correlation between target variable and lagged independent variables in a time-series...</td>\n",
       "      <td id=\"T_24950_row10_col4\" class=\"data row10 col4\" >['dataset']</td>\n",
       "      <td id=\"T_24950_row10_col5\" class=\"data row10 col5\" >{}</td>\n",
       "    </tr>\n",
       "    <tr>\n",
       "      <td id=\"T_24950_row11_col0\" class=\"data row11 col0\" >validmind.data_validation.TabularNumericalHistograms</td>\n",
       "      <td id=\"T_24950_row11_col1\" class=\"data row11 col1\" >Tabular Numerical Histograms</td>\n",
       "      <td id=\"T_24950_row11_col2\" class=\"data row11 col2\" >Metric</td>\n",
       "      <td id=\"T_24950_row11_col3\" class=\"data row11 col3\" >Generates histograms for each numerical feature in a dataset to provide visual insights into data distribution and...</td>\n",
       "      <td id=\"T_24950_row11_col4\" class=\"data row11 col4\" >['dataset']</td>\n",
       "      <td id=\"T_24950_row11_col5\" class=\"data row11 col5\" >{}</td>\n",
       "    </tr>\n",
       "    <tr>\n",
       "      <td id=\"T_24950_row12_col0\" class=\"data row12 col0\" >validmind.data_validation.SeasonalDecompose</td>\n",
       "      <td id=\"T_24950_row12_col1\" class=\"data row12 col1\" >Seasonal Decompose</td>\n",
       "      <td id=\"T_24950_row12_col2\" class=\"data row12 col2\" >Metric</td>\n",
       "      <td id=\"T_24950_row12_col3\" class=\"data row12 col3\" >Decomposes dataset features into observed, trend, seasonal, and residual components to identify patterns and...</td>\n",
       "      <td id=\"T_24950_row12_col4\" class=\"data row12 col4\" >['dataset']</td>\n",
       "      <td id=\"T_24950_row12_col5\" class=\"data row12 col5\" >{'seasonal_model': 'additive'}</td>\n",
       "    </tr>\n",
       "    <tr>\n",
       "      <td id=\"T_24950_row13_col0\" class=\"data row13 col0\" >validmind.data_validation.DatasetSplit</td>\n",
       "      <td id=\"T_24950_row13_col1\" class=\"data row13 col1\" >Dataset Split</td>\n",
       "      <td id=\"T_24950_row13_col2\" class=\"data row13 col2\" >Metric</td>\n",
       "      <td id=\"T_24950_row13_col3\" class=\"data row13 col3\" >Evaluates and visualizes the distribution proportions among training, testing, and validation datasets of an ML...</td>\n",
       "      <td id=\"T_24950_row13_col4\" class=\"data row13 col4\" >['datasets']</td>\n",
       "      <td id=\"T_24950_row13_col5\" class=\"data row13 col5\" >{}</td>\n",
       "    </tr>\n",
       "    <tr>\n",
       "      <td id=\"T_24950_row14_col0\" class=\"data row14 col0\" >validmind.data_validation.WOEBinPlots</td>\n",
       "      <td id=\"T_24950_row14_col1\" class=\"data row14 col1\" >WOE Bin Plots</td>\n",
       "      <td id=\"T_24950_row14_col2\" class=\"data row14 col2\" >Metric</td>\n",
       "      <td id=\"T_24950_row14_col3\" class=\"data row14 col3\" >Generates visualizations of Weight of Evidence (WoE) and Information Value (IV) for understanding predictive power...</td>\n",
       "      <td id=\"T_24950_row14_col4\" class=\"data row14 col4\" >None</td>\n",
       "      <td id=\"T_24950_row14_col5\" class=\"data row14 col5\" >{'breaks_adj': None, 'fig_height': 600, 'fig_width': 500}</td>\n",
       "    </tr>\n",
       "    <tr>\n",
       "      <td id=\"T_24950_row15_col0\" class=\"data row15 col0\" >validmind.data_validation.nlp.Punctuations</td>\n",
       "      <td id=\"T_24950_row15_col1\" class=\"data row15 col1\" >Punctuations</td>\n",
       "      <td id=\"T_24950_row15_col2\" class=\"data row15 col2\" >Metric</td>\n",
       "      <td id=\"T_24950_row15_col3\" class=\"data row15 col3\" >Analyzes and visualizes the frequency distribution of punctuation usage in a given text dataset....</td>\n",
       "      <td id=\"T_24950_row15_col4\" class=\"data row15 col4\" >['dataset', 'dataset.text_column']</td>\n",
       "      <td id=\"T_24950_row15_col5\" class=\"data row15 col5\" >{}</td>\n",
       "    </tr>\n",
       "    <tr>\n",
       "      <td id=\"T_24950_row16_col0\" class=\"data row16 col0\" >validmind.data_validation.ClassImbalance</td>\n",
       "      <td id=\"T_24950_row16_col1\" class=\"data row16 col1\" >Class Imbalance</td>\n",
       "      <td id=\"T_24950_row16_col2\" class=\"data row16 col2\" >ThresholdTest</td>\n",
       "      <td id=\"T_24950_row16_col3\" class=\"data row16 col3\" >Evaluates and quantifies class distribution imbalance in a dataset used by a machine learning model....</td>\n",
       "      <td id=\"T_24950_row16_col4\" class=\"data row16 col4\" >['dataset']</td>\n",
       "      <td id=\"T_24950_row16_col5\" class=\"data row16 col5\" >{'min_percent_threshold': 10}</td>\n",
       "    </tr>\n",
       "    <tr>\n",
       "      <td id=\"T_24950_row17_col0\" class=\"data row17 col0\" >validmind.data_validation.nlp.Toxicity</td>\n",
       "      <td id=\"T_24950_row17_col1\" class=\"data row17 col1\" >Toxicity</td>\n",
       "      <td id=\"T_24950_row17_col2\" class=\"data row17 col2\" >Metric</td>\n",
       "      <td id=\"T_24950_row17_col3\" class=\"data row17 col3\" >Analyzes the toxicity of text data within a dataset using a pre-trained toxicity model....</td>\n",
       "      <td id=\"T_24950_row17_col4\" class=\"data row17 col4\" >['dataset']</td>\n",
       "      <td id=\"T_24950_row17_col5\" class=\"data row17 col5\" >{}</td>\n",
       "    </tr>\n",
       "    <tr>\n",
       "      <td id=\"T_24950_row18_col0\" class=\"data row18 col0\" >validmind.data_validation.SpreadPlot</td>\n",
       "      <td id=\"T_24950_row18_col1\" class=\"data row18 col1\" >Spread Plot</td>\n",
       "      <td id=\"T_24950_row18_col2\" class=\"data row18 col2\" >Metric</td>\n",
       "      <td id=\"T_24950_row18_col3\" class=\"data row18 col3\" >Visualizes the spread relationship between pairs of time-series variables in a dataset, thereby aiding in...</td>\n",
       "      <td id=\"T_24950_row18_col4\" class=\"data row18 col4\" >['dataset']</td>\n",
       "      <td id=\"T_24950_row18_col5\" class=\"data row18 col5\" >{}</td>\n",
       "    </tr>\n",
       "    <tr>\n",
       "      <td id=\"T_24950_row19_col0\" class=\"data row19 col0\" >validmind.data_validation.AutoAR</td>\n",
       "      <td id=\"T_24950_row19_col1\" class=\"data row19 col1\" >Auto AR</td>\n",
       "      <td id=\"T_24950_row19_col2\" class=\"data row19 col2\" >Metric</td>\n",
       "      <td id=\"T_24950_row19_col3\" class=\"data row19 col3\" >Automatically identifies the optimal Autoregressive (AR) order for a time series using BIC and AIC criteria....</td>\n",
       "      <td id=\"T_24950_row19_col4\" class=\"data row19 col4\" >['dataset']</td>\n",
       "      <td id=\"T_24950_row19_col5\" class=\"data row19 col5\" >{'max_ar_order': 3}</td>\n",
       "    </tr>\n",
       "    <tr>\n",
       "      <td id=\"T_24950_row20_col0\" class=\"data row20 col0\" >validmind.data_validation.PiTPDHistogram</td>\n",
       "      <td id=\"T_24950_row20_col1\" class=\"data row20 col1\" >Pi TPD Histogram</td>\n",
       "      <td id=\"T_24950_row20_col2\" class=\"data row20 col2\" >Metric</td>\n",
       "      <td id=\"T_24950_row20_col3\" class=\"data row20 col3\" >Assesses credit risk prediction accuracy of a model by comparing actual and predicted defaults at a chosen point in...</td>\n",
       "      <td id=\"T_24950_row20_col4\" class=\"data row20 col4\" >None</td>\n",
       "      <td id=\"T_24950_row20_col5\" class=\"data row20 col5\" >{'title': 'Histogram of PiT Probability of Default'}</td>\n",
       "    </tr>\n",
       "    <tr>\n",
       "      <td id=\"T_24950_row21_col0\" class=\"data row21 col0\" >validmind.data_validation.MissingValuesRisk</td>\n",
       "      <td id=\"T_24950_row21_col1\" class=\"data row21 col1\" >Missing Values Risk</td>\n",
       "      <td id=\"T_24950_row21_col2\" class=\"data row21 col2\" >Metric</td>\n",
       "      <td id=\"T_24950_row21_col3\" class=\"data row21 col3\" >Assesses and quantifies the risk related to missing values in a dataset used for training an ML model....</td>\n",
       "      <td id=\"T_24950_row21_col4\" class=\"data row21 col4\" >['dataset']</td>\n",
       "      <td id=\"T_24950_row21_col5\" class=\"data row21 col5\" >{}</td>\n",
       "    </tr>\n",
       "    <tr>\n",
       "      <td id=\"T_24950_row22_col0\" class=\"data row22 col0\" >validmind.data_validation.TabularCategoricalBarPlots</td>\n",
       "      <td id=\"T_24950_row22_col1\" class=\"data row22 col1\" >Tabular Categorical Bar Plots</td>\n",
       "      <td id=\"T_24950_row22_col2\" class=\"data row22 col2\" >Metric</td>\n",
       "      <td id=\"T_24950_row22_col3\" class=\"data row22 col3\" >Generates and visualizes bar plots for each category in categorical features to evaluate dataset's composition....</td>\n",
       "      <td id=\"T_24950_row22_col4\" class=\"data row22 col4\" >['dataset']</td>\n",
       "      <td id=\"T_24950_row22_col5\" class=\"data row22 col5\" >{}</td>\n",
       "    </tr>\n",
       "    <tr>\n",
       "      <td id=\"T_24950_row23_col0\" class=\"data row23 col0\" >validmind.data_validation.MissingValues</td>\n",
       "      <td id=\"T_24950_row23_col1\" class=\"data row23 col1\" >Missing Values</td>\n",
       "      <td id=\"T_24950_row23_col2\" class=\"data row23 col2\" >ThresholdTest</td>\n",
       "      <td id=\"T_24950_row23_col3\" class=\"data row23 col3\" >Evaluates dataset quality by ensuring missing value ratio across all features does not exceed a set threshold....</td>\n",
       "      <td id=\"T_24950_row23_col4\" class=\"data row23 col4\" >['dataset']</td>\n",
       "      <td id=\"T_24950_row23_col5\" class=\"data row23 col5\" >{'min_threshold': 1}</td>\n",
       "    </tr>\n",
       "    <tr>\n",
       "      <td id=\"T_24950_row24_col0\" class=\"data row24 col0\" >validmind.data_validation.AutoSeasonality</td>\n",
       "      <td id=\"T_24950_row24_col1\" class=\"data row24 col1\" >Auto Seasonality</td>\n",
       "      <td id=\"T_24950_row24_col2\" class=\"data row24 col2\" >Metric</td>\n",
       "      <td id=\"T_24950_row24_col3\" class=\"data row24 col3\" >Automatically identifies and quantifies optimal seasonality in time series data to improve forecasting model...</td>\n",
       "      <td id=\"T_24950_row24_col4\" class=\"data row24 col4\" >['dataset']</td>\n",
       "      <td id=\"T_24950_row24_col5\" class=\"data row24 col5\" >{'min_period': 1, 'max_period': 4}</td>\n",
       "    </tr>\n",
       "    <tr>\n",
       "      <td id=\"T_24950_row25_col0\" class=\"data row25 col0\" >validmind.data_validation.BivariateScatterPlots</td>\n",
       "      <td id=\"T_24950_row25_col1\" class=\"data row25 col1\" >Bivariate Scatter Plots</td>\n",
       "      <td id=\"T_24950_row25_col2\" class=\"data row25 col2\" >Metric</td>\n",
       "      <td id=\"T_24950_row25_col3\" class=\"data row25 col3\" >Generates bivariate scatterplots to visually inspect relationships between pairs of predictor variables in machine...</td>\n",
       "      <td id=\"T_24950_row25_col4\" class=\"data row25 col4\" >['dataset']</td>\n",
       "      <td id=\"T_24950_row25_col5\" class=\"data row25 col5\" >{'features_pairs': None, 'target_filter': None}</td>\n",
       "    </tr>\n",
       "    <tr>\n",
       "      <td id=\"T_24950_row26_col0\" class=\"data row26 col0\" >validmind.data_validation.TimeSeriesFrequency</td>\n",
       "      <td id=\"T_24950_row26_col1\" class=\"data row26 col1\" >Time Series Frequency</td>\n",
       "      <td id=\"T_24950_row26_col2\" class=\"data row26 col2\" >ThresholdTest</td>\n",
       "      <td id=\"T_24950_row26_col3\" class=\"data row26 col3\" >Evaluates consistency of time series data frequency and generates a frequency plot....</td>\n",
       "      <td id=\"T_24950_row26_col4\" class=\"data row26 col4\" >['dataset']</td>\n",
       "      <td id=\"T_24950_row26_col5\" class=\"data row26 col5\" >{}</td>\n",
       "    </tr>\n",
       "    <tr>\n",
       "      <td id=\"T_24950_row27_col0\" class=\"data row27 col0\" >validmind.data_validation.HeatmapFeatureCorrelations</td>\n",
       "      <td id=\"T_24950_row27_col1\" class=\"data row27 col1\" >Heatmap Feature Correlations</td>\n",
       "      <td id=\"T_24950_row27_col2\" class=\"data row27 col2\" >Metric</td>\n",
       "      <td id=\"T_24950_row27_col3\" class=\"data row27 col3\" >Creates a heatmap to visually represent correlation patterns between pairs of numerical features in a dataset....</td>\n",
       "      <td id=\"T_24950_row27_col4\" class=\"data row27 col4\" >['dataset']</td>\n",
       "      <td id=\"T_24950_row27_col5\" class=\"data row27 col5\" >{'declutter': None, 'fontsize': None, 'num_features': None}</td>\n",
       "    </tr>\n",
       "    <tr>\n",
       "      <td id=\"T_24950_row28_col0\" class=\"data row28 col0\" >validmind.data_validation.TabularDateTimeHistograms</td>\n",
       "      <td id=\"T_24950_row28_col1\" class=\"data row28 col1\" >Tabular Date Time Histograms</td>\n",
       "      <td id=\"T_24950_row28_col2\" class=\"data row28 col2\" >Metric</td>\n",
       "      <td id=\"T_24950_row28_col3\" class=\"data row28 col3\" >Generates histograms to provide graphical insight into the distribution of time intervals in model's datetime data....</td>\n",
       "      <td id=\"T_24950_row28_col4\" class=\"data row28 col4\" >['dataset']</td>\n",
       "      <td id=\"T_24950_row28_col5\" class=\"data row28 col5\" >{}</td>\n",
       "    </tr>\n",
       "    <tr>\n",
       "      <td id=\"T_24950_row29_col0\" class=\"data row29 col0\" >validmind.data_validation.BivariateHistograms</td>\n",
       "      <td id=\"T_24950_row29_col1\" class=\"data row29 col1\" >Bivariate Histograms</td>\n",
       "      <td id=\"T_24950_row29_col2\" class=\"data row29 col2\" >Metric</td>\n",
       "      <td id=\"T_24950_row29_col3\" class=\"data row29 col3\" >Generates bivariate histograms for paired features, aiding in visual inspection of categorical variables'...</td>\n",
       "      <td id=\"T_24950_row29_col4\" class=\"data row29 col4\" >['dataset']</td>\n",
       "      <td id=\"T_24950_row29_col5\" class=\"data row29 col5\" >{'features_pairs': None, 'target_filter': None}</td>\n",
       "    </tr>\n",
       "    <tr>\n",
       "      <td id=\"T_24950_row30_col0\" class=\"data row30 col0\" >validmind.data_validation.PiTCreditScoresHistogram</td>\n",
       "      <td id=\"T_24950_row30_col1\" class=\"data row30 col1\" >Pi T Credit Scores Histogram</td>\n",
       "      <td id=\"T_24950_row30_col2\" class=\"data row30 col2\" >Metric</td>\n",
       "      <td id=\"T_24950_row30_col3\" class=\"data row30 col3\" >Generates a histogram visualization for observed and predicted credit default scores....</td>\n",
       "      <td id=\"T_24950_row30_col4\" class=\"data row30 col4\" >['dataset', 'model']</td>\n",
       "      <td id=\"T_24950_row30_col5\" class=\"data row30 col5\" >{'title': 'Histogram of Scores'}</td>\n",
       "    </tr>\n",
       "    <tr>\n",
       "      <td id=\"T_24950_row31_col0\" class=\"data row31 col0\" >validmind.data_validation.DatasetDescription</td>\n",
       "      <td id=\"T_24950_row31_col1\" class=\"data row31 col1\" >Dataset Description</td>\n",
       "      <td id=\"T_24950_row31_col2\" class=\"data row31 col2\" >Metric</td>\n",
       "      <td id=\"T_24950_row31_col3\" class=\"data row31 col3\" >Provides comprehensive analysis and statistical summaries of each field in a machine learning model's dataset....</td>\n",
       "      <td id=\"T_24950_row31_col4\" class=\"data row31 col4\" >['dataset']</td>\n",
       "      <td id=\"T_24950_row31_col5\" class=\"data row31 col5\" >{}</td>\n",
       "    </tr>\n",
       "    <tr>\n",
       "      <td id=\"T_24950_row32_col0\" class=\"data row32 col0\" >validmind.data_validation.AutoStationarity</td>\n",
       "      <td id=\"T_24950_row32_col1\" class=\"data row32 col1\" >Auto Stationarity</td>\n",
       "      <td id=\"T_24950_row32_col2\" class=\"data row32 col2\" >Metric</td>\n",
       "      <td id=\"T_24950_row32_col3\" class=\"data row32 col3\" >Automates Augmented Dickey-Fuller test to assess stationarity across multiple time series in a DataFrame....</td>\n",
       "      <td id=\"T_24950_row32_col4\" class=\"data row32 col4\" >['dataset']</td>\n",
       "      <td id=\"T_24950_row32_col5\" class=\"data row32 col5\" >{'max_order': 5, 'threshold': 0.05}</td>\n",
       "    </tr>\n",
       "    <tr>\n",
       "      <td id=\"T_24950_row33_col0\" class=\"data row33 col0\" >validmind.data_validation.nlp.Sentiment</td>\n",
       "      <td id=\"T_24950_row33_col1\" class=\"data row33 col1\" >Sentiment</td>\n",
       "      <td id=\"T_24950_row33_col2\" class=\"data row33 col2\" >Metric</td>\n",
       "      <td id=\"T_24950_row33_col3\" class=\"data row33 col3\" >Analyzes the sentiment of text data within a dataset using the VADER sentiment analysis tool....</td>\n",
       "      <td id=\"T_24950_row33_col4\" class=\"data row33 col4\" >['dataset']</td>\n",
       "      <td id=\"T_24950_row33_col5\" class=\"data row33 col5\" >{}</td>\n",
       "    </tr>\n",
       "    <tr>\n",
       "      <td id=\"T_24950_row34_col0\" class=\"data row34 col0\" >validmind.data_validation.TimeSeriesLinePlot</td>\n",
       "      <td id=\"T_24950_row34_col1\" class=\"data row34 col1\" >Time Series Line Plot</td>\n",
       "      <td id=\"T_24950_row34_col2\" class=\"data row34 col2\" >Metric</td>\n",
       "      <td id=\"T_24950_row34_col3\" class=\"data row34 col3\" >Generates and analyses time-series data through line plots revealing trends, patterns, anomalies over time....</td>\n",
       "      <td id=\"T_24950_row34_col4\" class=\"data row34 col4\" >['dataset']</td>\n",
       "      <td id=\"T_24950_row34_col5\" class=\"data row34 col5\" >{}</td>\n",
       "    </tr>\n",
       "    <tr>\n",
       "      <td id=\"T_24950_row35_col0\" class=\"data row35 col0\" >validmind.data_validation.ScatterPlot</td>\n",
       "      <td id=\"T_24950_row35_col1\" class=\"data row35 col1\" >Scatter Plot</td>\n",
       "      <td id=\"T_24950_row35_col2\" class=\"data row35 col2\" >Metric</td>\n",
       "      <td id=\"T_24950_row35_col3\" class=\"data row35 col3\" >Creates a scatter plot matrix to visually analyze feature relationships, patterns, and outliers in a dataset....</td>\n",
       "      <td id=\"T_24950_row35_col4\" class=\"data row35 col4\" >['dataset', 'dataset.target_column']</td>\n",
       "      <td id=\"T_24950_row35_col5\" class=\"data row35 col5\" >{}</td>\n",
       "    </tr>\n",
       "    <tr>\n",
       "      <td id=\"T_24950_row36_col0\" class=\"data row36 col0\" >validmind.data_validation.nlp.LanguageDetection</td>\n",
       "      <td id=\"T_24950_row36_col1\" class=\"data row36 col1\" >Language Detection</td>\n",
       "      <td id=\"T_24950_row36_col2\" class=\"data row36 col2\" >Metric</td>\n",
       "      <td id=\"T_24950_row36_col3\" class=\"data row36 col3\" >Detects the language of each text entry in a dataset and visualizes the distribution of languages...</td>\n",
       "      <td id=\"T_24950_row36_col4\" class=\"data row36 col4\" >['dataset']</td>\n",
       "      <td id=\"T_24950_row36_col5\" class=\"data row36 col5\" >{}</td>\n",
       "    </tr>\n",
       "    <tr>\n",
       "      <td id=\"T_24950_row37_col0\" class=\"data row37 col0\" >validmind.data_validation.IsolationForestOutliers</td>\n",
       "      <td id=\"T_24950_row37_col1\" class=\"data row37 col1\" >Isolation Forest Outliers</td>\n",
       "      <td id=\"T_24950_row37_col2\" class=\"data row37 col2\" >Metric</td>\n",
       "      <td id=\"T_24950_row37_col3\" class=\"data row37 col3\" >Detects outliers in a dataset using the Isolation Forest algorithm and visualizes results through scatter plots....</td>\n",
       "      <td id=\"T_24950_row37_col4\" class=\"data row37 col4\" >['dataset']</td>\n",
       "      <td id=\"T_24950_row37_col5\" class=\"data row37 col5\" >{'random_state': 0, 'contamination': 0.1, 'features_columns': None}</td>\n",
       "    </tr>\n",
       "    <tr>\n",
       "      <td id=\"T_24950_row38_col0\" class=\"data row38 col0\" >validmind.data_validation.Skewness</td>\n",
       "      <td id=\"T_24950_row38_col1\" class=\"data row38 col1\" >Skewness</td>\n",
       "      <td id=\"T_24950_row38_col2\" class=\"data row38 col2\" >ThresholdTest</td>\n",
       "      <td id=\"T_24950_row38_col3\" class=\"data row38 col3\" >Evaluates the skewness of numerical data in a machine learning model and checks if it falls below a set maximum...</td>\n",
       "      <td id=\"T_24950_row38_col4\" class=\"data row38 col4\" >['dataset']</td>\n",
       "      <td id=\"T_24950_row38_col5\" class=\"data row38 col5\" >{'max_threshold': 1}</td>\n",
       "    </tr>\n",
       "    <tr>\n",
       "      <td id=\"T_24950_row39_col0\" class=\"data row39 col0\" >validmind.data_validation.nlp.Mentions</td>\n",
       "      <td id=\"T_24950_row39_col1\" class=\"data row39 col1\" >Mentions</td>\n",
       "      <td id=\"T_24950_row39_col2\" class=\"data row39 col2\" >ThresholdTest</td>\n",
       "      <td id=\"T_24950_row39_col3\" class=\"data row39 col3\" >Calculates and visualizes frequencies of '@' prefixed mentions in a text-based dataset for NLP model analysis....</td>\n",
       "      <td id=\"T_24950_row39_col4\" class=\"data row39 col4\" >['dataset', 'dataset.text_column']</td>\n",
       "      <td id=\"T_24950_row39_col5\" class=\"data row39 col5\" >{'top_mentions': 25}</td>\n",
       "    </tr>\n",
       "    <tr>\n",
       "      <td id=\"T_24950_row40_col0\" class=\"data row40 col0\" >validmind.data_validation.MissingValuesBarPlot</td>\n",
       "      <td id=\"T_24950_row40_col1\" class=\"data row40 col1\" >Missing Values Bar Plot</td>\n",
       "      <td id=\"T_24950_row40_col2\" class=\"data row40 col2\" >Metric</td>\n",
       "      <td id=\"T_24950_row40_col3\" class=\"data row40 col3\" >Creates a bar plot showcasing the percentage of missing values in each column of the dataset with risk...</td>\n",
       "      <td id=\"T_24950_row40_col4\" class=\"data row40 col4\" >['dataset']</td>\n",
       "      <td id=\"T_24950_row40_col5\" class=\"data row40 col5\" >{'threshold': 80, 'fig_height': 600}</td>\n",
       "    </tr>\n",
       "    <tr>\n",
       "      <td id=\"T_24950_row41_col0\" class=\"data row41 col0\" >validmind.data_validation.nlp.StopWords</td>\n",
       "      <td id=\"T_24950_row41_col1\" class=\"data row41 col1\" >Stop Words</td>\n",
       "      <td id=\"T_24950_row41_col2\" class=\"data row41 col2\" >ThresholdTest</td>\n",
       "      <td id=\"T_24950_row41_col3\" class=\"data row41 col3\" >Evaluates and visualizes the frequency of English stop words in a text dataset against a defined threshold....</td>\n",
       "      <td id=\"T_24950_row41_col4\" class=\"data row41 col4\" >['dataset']</td>\n",
       "      <td id=\"T_24950_row41_col5\" class=\"data row41 col5\" >{'min_percent_threshold': 0.5, 'num_words': 25}</td>\n",
       "    </tr>\n",
       "    <tr>\n",
       "      <td id=\"T_24950_row42_col0\" class=\"data row42 col0\" >validmind.data_validation.HighPearsonCorrelation</td>\n",
       "      <td id=\"T_24950_row42_col1\" class=\"data row42 col1\" >High Pearson Correlation</td>\n",
       "      <td id=\"T_24950_row42_col2\" class=\"data row42 col2\" >ThresholdTest</td>\n",
       "      <td id=\"T_24950_row42_col3\" class=\"data row42 col3\" >Identifies highly correlated feature pairs in a dataset suggesting feature redundancy or multicollinearity....</td>\n",
       "      <td id=\"T_24950_row42_col4\" class=\"data row42 col4\" >['dataset']</td>\n",
       "      <td id=\"T_24950_row42_col5\" class=\"data row42 col5\" >{'max_threshold': 0.3}</td>\n",
       "    </tr>\n",
       "    <tr>\n",
       "      <td id=\"T_24950_row43_col0\" class=\"data row43 col0\" >validmind.data_validation.IQROutliersTable</td>\n",
       "      <td id=\"T_24950_row43_col1\" class=\"data row43 col1\" >IQR Outliers Table</td>\n",
       "      <td id=\"T_24950_row43_col2\" class=\"data row43 col2\" >Metric</td>\n",
       "      <td id=\"T_24950_row43_col3\" class=\"data row43 col3\" >Determines and summarizes outliers in numerical features using Interquartile Range method....</td>\n",
       "      <td id=\"T_24950_row43_col4\" class=\"data row43 col4\" >['dataset']</td>\n",
       "      <td id=\"T_24950_row43_col5\" class=\"data row43 col5\" >{'features': None, 'threshold': 1.5}</td>\n",
       "    </tr>\n",
       "    <tr>\n",
       "      <td id=\"T_24950_row44_col0\" class=\"data row44 col0\" >validmind.data_validation.ACFandPACFPlot</td>\n",
       "      <td id=\"T_24950_row44_col1\" class=\"data row44 col1\" >AC Fand PACF Plot</td>\n",
       "      <td id=\"T_24950_row44_col2\" class=\"data row44 col2\" >Metric</td>\n",
       "      <td id=\"T_24950_row44_col3\" class=\"data row44 col3\" >Analyzes time series data using Autocorrelation Function (ACF) and Partial Autocorrelation Function (PACF) plots to...</td>\n",
       "      <td id=\"T_24950_row44_col4\" class=\"data row44 col4\" >['dataset']</td>\n",
       "      <td id=\"T_24950_row44_col5\" class=\"data row44 col5\" >{}</td>\n",
       "    </tr>\n",
       "    <tr>\n",
       "      <td id=\"T_24950_row45_col0\" class=\"data row45 col0\" >validmind.data_validation.UniqueRows</td>\n",
       "      <td id=\"T_24950_row45_col1\" class=\"data row45 col1\" >Unique Rows</td>\n",
       "      <td id=\"T_24950_row45_col2\" class=\"data row45 col2\" >ThresholdTest</td>\n",
       "      <td id=\"T_24950_row45_col3\" class=\"data row45 col3\" >Verifies the diversity of the dataset by ensuring that the count of unique rows exceeds a prescribed threshold....</td>\n",
       "      <td id=\"T_24950_row45_col4\" class=\"data row45 col4\" >['dataset']</td>\n",
       "      <td id=\"T_24950_row45_col5\" class=\"data row45 col5\" >{'min_percent_threshold': 1}</td>\n",
       "    </tr>\n",
       "    <tr>\n",
       "      <td id=\"T_24950_row46_col0\" class=\"data row46 col0\" >validmind.data_validation.PearsonCorrelationMatrix</td>\n",
       "      <td id=\"T_24950_row46_col1\" class=\"data row46 col1\" >Pearson Correlation Matrix</td>\n",
       "      <td id=\"T_24950_row46_col2\" class=\"data row46 col2\" >Metric</td>\n",
       "      <td id=\"T_24950_row46_col3\" class=\"data row46 col3\" >Evaluates linear dependency between numerical variables in a dataset via a Pearson Correlation coefficient heat map....</td>\n",
       "      <td id=\"T_24950_row46_col4\" class=\"data row46 col4\" >['dataset']</td>\n",
       "      <td id=\"T_24950_row46_col5\" class=\"data row46 col5\" >{}</td>\n",
       "    </tr>\n",
       "    <tr>\n",
       "      <td id=\"T_24950_row47_col0\" class=\"data row47 col0\" >validmind.data_validation.TimeSeriesMissingValues</td>\n",
       "      <td id=\"T_24950_row47_col1\" class=\"data row47 col1\" >Time Series Missing Values</td>\n",
       "      <td id=\"T_24950_row47_col2\" class=\"data row47 col2\" >ThresholdTest</td>\n",
       "      <td id=\"T_24950_row47_col3\" class=\"data row47 col3\" >Validates time-series data quality by confirming the count of missing values is below a certain threshold....</td>\n",
       "      <td id=\"T_24950_row47_col4\" class=\"data row47 col4\" >['dataset']</td>\n",
       "      <td id=\"T_24950_row47_col5\" class=\"data row47 col5\" >{'min_threshold': 1}</td>\n",
       "    </tr>\n",
       "    <tr>\n",
       "      <td id=\"T_24950_row48_col0\" class=\"data row48 col0\" >validmind.data_validation.Duplicates</td>\n",
       "      <td id=\"T_24950_row48_col1\" class=\"data row48 col1\" >Duplicates</td>\n",
       "      <td id=\"T_24950_row48_col2\" class=\"data row48 col2\" >ThresholdTest</td>\n",
       "      <td id=\"T_24950_row48_col3\" class=\"data row48 col3\" >Tests dataset for duplicate entries, ensuring model reliability via data quality verification....</td>\n",
       "      <td id=\"T_24950_row48_col4\" class=\"data row48 col4\" >['dataset']</td>\n",
       "      <td id=\"T_24950_row48_col5\" class=\"data row48 col5\" >{'min_threshold': 1}</td>\n",
       "    </tr>\n",
       "    <tr>\n",
       "      <td id=\"T_24950_row49_col0\" class=\"data row49 col0\" >validmind.data_validation.FeatureTargetCorrelationPlot</td>\n",
       "      <td id=\"T_24950_row49_col1\" class=\"data row49 col1\" >Feature Target Correlation Plot</td>\n",
       "      <td id=\"T_24950_row49_col2\" class=\"data row49 col2\" >Metric</td>\n",
       "      <td id=\"T_24950_row49_col3\" class=\"data row49 col3\" >Visualizes the correlation between input features and model's target output in a color-coded horizontal bar plot....</td>\n",
       "      <td id=\"T_24950_row49_col4\" class=\"data row49 col4\" >['dataset']</td>\n",
       "      <td id=\"T_24950_row49_col5\" class=\"data row49 col5\" >{'features': None, 'fig_height': 600}</td>\n",
       "    </tr>\n",
       "    <tr>\n",
       "      <td id=\"T_24950_row50_col0\" class=\"data row50 col0\" >validmind.data_validation.AutoMA</td>\n",
       "      <td id=\"T_24950_row50_col1\" class=\"data row50 col1\" >Auto MA</td>\n",
       "      <td id=\"T_24950_row50_col2\" class=\"data row50 col2\" >Metric</td>\n",
       "      <td id=\"T_24950_row50_col3\" class=\"data row50 col3\" >Automatically selects the optimal Moving Average (MA) order for each variable in a time series dataset based on...</td>\n",
       "      <td id=\"T_24950_row50_col4\" class=\"data row50 col4\" >['dataset']</td>\n",
       "      <td id=\"T_24950_row50_col5\" class=\"data row50 col5\" >{'max_ma_order': 3}</td>\n",
       "    </tr>\n",
       "    <tr>\n",
       "      <td id=\"T_24950_row51_col0\" class=\"data row51 col0\" >validmind.data_validation.IQROutliersBarPlot</td>\n",
       "      <td id=\"T_24950_row51_col1\" class=\"data row51 col1\" >IQR Outliers Bar Plot</td>\n",
       "      <td id=\"T_24950_row51_col2\" class=\"data row51 col2\" >Metric</td>\n",
       "      <td id=\"T_24950_row51_col3\" class=\"data row51 col3\" >Visualizes outlier distribution across percentiles in numerical data using Interquartile Range (IQR) method....</td>\n",
       "      <td id=\"T_24950_row51_col4\" class=\"data row51 col4\" >['dataset']</td>\n",
       "      <td id=\"T_24950_row51_col5\" class=\"data row51 col5\" >{'threshold': 1.5, 'num_features': None, 'fig_width': 800}</td>\n",
       "    </tr>\n",
       "    <tr>\n",
       "      <td id=\"T_24950_row52_col0\" class=\"data row52 col0\" >validmind.data_validation.WOEBinTable</td>\n",
       "      <td id=\"T_24950_row52_col1\" class=\"data row52 col1\" >WOE Bin Table</td>\n",
       "      <td id=\"T_24950_row52_col2\" class=\"data row52 col2\" >Metric</td>\n",
       "      <td id=\"T_24950_row52_col3\" class=\"data row52 col3\" >Calculates and assesses the Weight of Evidence (WoE) and Information Value (IV) of each feature in a ML model....</td>\n",
       "      <td id=\"T_24950_row52_col4\" class=\"data row52 col4\" >None</td>\n",
       "      <td id=\"T_24950_row52_col5\" class=\"data row52 col5\" >{'breaks_adj': None}</td>\n",
       "    </tr>\n",
       "    <tr>\n",
       "      <td id=\"T_24950_row53_col0\" class=\"data row53 col0\" >validmind.data_validation.BivariateFeaturesBarPlots</td>\n",
       "      <td id=\"T_24950_row53_col1\" class=\"data row53 col1\" >Bivariate Features Bar Plots</td>\n",
       "      <td id=\"T_24950_row53_col2\" class=\"data row53 col2\" >Metric</td>\n",
       "      <td id=\"T_24950_row53_col3\" class=\"data row53 col3\" >Generates visual bar plots to analyze the relationship between paired features within categorical data in the model....</td>\n",
       "      <td id=\"T_24950_row53_col4\" class=\"data row53 col4\" >['dataset']</td>\n",
       "      <td id=\"T_24950_row53_col5\" class=\"data row53 col5\" >{'features_pairs': None}</td>\n",
       "    </tr>\n",
       "    <tr>\n",
       "      <td id=\"T_24950_row54_col0\" class=\"data row54 col0\" >validmind.data_validation.DefaultRatesbyRiskBandPlot</td>\n",
       "      <td id=\"T_24950_row54_col1\" class=\"data row54 col1\" >Default Ratesby Risk Band Plot</td>\n",
       "      <td id=\"T_24950_row54_col2\" class=\"data row54 col2\" >Metric</td>\n",
       "      <td id=\"T_24950_row54_col3\" class=\"data row54 col3\" >Generates a bar plot showcasing the distribution of default rates across different risk bands in a dataset....</td>\n",
       "      <td id=\"T_24950_row54_col4\" class=\"data row54 col4\" >None</td>\n",
       "      <td id=\"T_24950_row54_col5\" class=\"data row54 col5\" >{'title': 'Percentage of Total Accounts by Risk Band'}</td>\n",
       "    </tr>\n",
       "    <tr>\n",
       "      <td id=\"T_24950_row55_col0\" class=\"data row55 col0\" >validmind.data_validation.TimeSeriesHistogram</td>\n",
       "      <td id=\"T_24950_row55_col1\" class=\"data row55 col1\" >Time Series Histogram</td>\n",
       "      <td id=\"T_24950_row55_col2\" class=\"data row55 col2\" >Metric</td>\n",
       "      <td id=\"T_24950_row55_col3\" class=\"data row55 col3\" >Visualizes distribution of time-series data using histograms and Kernel Density Estimation (KDE) lines....</td>\n",
       "      <td id=\"T_24950_row55_col4\" class=\"data row55 col4\" >['dataset']</td>\n",
       "      <td id=\"T_24950_row55_col5\" class=\"data row55 col5\" >{}</td>\n",
       "    </tr>\n",
       "    <tr>\n",
       "      <td id=\"T_24950_row56_col0\" class=\"data row56 col0\" >validmind.data_validation.TargetRateBarPlots</td>\n",
       "      <td id=\"T_24950_row56_col1\" class=\"data row56 col1\" >Target Rate Bar Plots</td>\n",
       "      <td id=\"T_24950_row56_col2\" class=\"data row56 col2\" >Metric</td>\n",
       "      <td id=\"T_24950_row56_col3\" class=\"data row56 col3\" >Generates bar plots visualizing the default rates of categorical features for a classification machine learning...</td>\n",
       "      <td id=\"T_24950_row56_col4\" class=\"data row56 col4\" >['dataset']</td>\n",
       "      <td id=\"T_24950_row56_col5\" class=\"data row56 col5\" >{'default_column': None, 'columns': None}</td>\n",
       "    </tr>\n",
       "    <tr>\n",
       "      <td id=\"T_24950_row57_col0\" class=\"data row57 col0\" >validmind.data_validation.TabularDescriptionTables</td>\n",
       "      <td id=\"T_24950_row57_col1\" class=\"data row57 col1\" >Tabular Description Tables</td>\n",
       "      <td id=\"T_24950_row57_col2\" class=\"data row57 col2\" >Metric</td>\n",
       "      <td id=\"T_24950_row57_col3\" class=\"data row57 col3\" >Summarizes key descriptive statistics for numerical, categorical, and datetime variables in a dataset....</td>\n",
       "      <td id=\"T_24950_row57_col4\" class=\"data row57 col4\" >['dataset']</td>\n",
       "      <td id=\"T_24950_row57_col5\" class=\"data row57 col5\" >{}</td>\n",
       "    </tr>\n",
       "    <tr>\n",
       "      <td id=\"T_24950_row58_col0\" class=\"data row58 col0\" >validmind.data_validation.ChiSquaredFeaturesTable</td>\n",
       "      <td id=\"T_24950_row58_col1\" class=\"data row58 col1\" >Chi Squared Features Table</td>\n",
       "      <td id=\"T_24950_row58_col2\" class=\"data row58 col2\" >Metric</td>\n",
       "      <td id=\"T_24950_row58_col3\" class=\"data row58 col3\" >Executes Chi-Squared test for each categorical feature against a target column to assess significant association....</td>\n",
       "      <td id=\"T_24950_row58_col4\" class=\"data row58 col4\" >['dataset']</td>\n",
       "      <td id=\"T_24950_row58_col5\" class=\"data row58 col5\" >{'cat_features': None, 'p_threshold': 0.05}</td>\n",
       "    </tr>\n",
       "    <tr>\n",
       "      <td id=\"T_24950_row59_col0\" class=\"data row59 col0\" >validmind.data_validation.nlp.CommonWords</td>\n",
       "      <td id=\"T_24950_row59_col1\" class=\"data row59 col1\" >Common Words</td>\n",
       "      <td id=\"T_24950_row59_col2\" class=\"data row59 col2\" >Metric</td>\n",
       "      <td id=\"T_24950_row59_col3\" class=\"data row59 col3\" >Identifies and visualizes the 40 most frequent non-stopwords in a specified text column within a dataset....</td>\n",
       "      <td id=\"T_24950_row59_col4\" class=\"data row59 col4\" >['dataset', 'dataset.text_column']</td>\n",
       "      <td id=\"T_24950_row59_col5\" class=\"data row59 col5\" >{}</td>\n",
       "    </tr>\n",
       "  </tbody>\n",
       "</table>\n"
      ],
      "text/plain": [
       "<pandas.io.formats.style.Styler at 0x2ca47d2a0>"
      ]
     },
     "execution_count": 10,
     "metadata": {},
     "output_type": "execute_result"
    }
   ],
   "source": [
    "vm.tests.list_tests(filter=\"data_validation\")"
   ]
  },
  {
   "cell_type": "markdown",
   "metadata": {},
   "source": [
    "### Dataset summary"
   ]
  },
  {
   "cell_type": "code",
   "execution_count": 11,
   "metadata": {},
   "outputs": [
    {
     "name": "stderr",
     "output_type": "stream",
     "text": [
      "2024-05-23 16:52:05,761 - INFO(validmind.client): Pandas dataset detected. Initializing VM Dataset instance...\n"
     ]
    },
    {
     "data": {
      "application/vnd.jupyter.widget-view+json": {
       "model_id": "28ec81e740d340d4a864103dc16bd037",
       "version_major": 2,
       "version_minor": 0
      },
      "text/plain": [
       "VBox(children=(HTML(value='<h1>Dataset Description</h1>'), HTML(value=\"<p><strong>Dataset Description</strong>…"
      ]
     },
     "metadata": {},
     "output_type": "display_data"
    },
    {
     "data": {
      "text/html": [
       "\n",
       "<script defer type=\"module\">\n",
       "import hljs from 'https://unpkg.com/@highlightjs/cdn-assets@11.9.0/es/highlight.min.js';\n",
       "import python from 'https://cdnjs.cloudflare.com/ajax/libs/highlight.js/11.9.0/es/languages/python.min.js';\n",
       "\n",
       "hljs.registerLanguage('python', python);\n",
       "hljs.highlightAll();\n",
       "</script>\n"
      ],
      "text/plain": [
       "<IPython.core.display.HTML object>"
      ]
     },
     "metadata": {},
     "output_type": "display_data"
    },
    {
     "data": {
      "text/html": [
       "\n",
       "<script>\n",
       "window.MathJax = {\n",
       "    tex2jax: {\n",
       "        inlineMath: [['$', '$'], ['\\\\(', '\\\\)']],\n",
       "        displayMath: [['$$', '$$'], ['\\[', '\\]']],\n",
       "        processEscapes: true,\n",
       "        skipTags: ['script', 'noscript', 'style', 'textarea', 'pre'],\n",
       "        ignoreClass: \".*\",\n",
       "        processClass: \"math\"\n",
       "    }\n",
       "};\n",
       "setTimeout(function () {\n",
       "    var script = document.createElement('script');\n",
       "    script.type = 'text/javascript';\n",
       "    script.src = 'https://cdnjs.cloudflare.com/ajax/libs/mathjax/2.7.7/MathJax.js?config=TeX-AMS_HTML';\n",
       "    document.head.appendChild(script);\n",
       "}, 300);\n",
       "</script>\n"
      ],
      "text/plain": [
       "<IPython.core.display.HTML object>"
      ]
     },
     "metadata": {},
     "output_type": "display_data"
    }
   ],
   "source": [
    "vm_ds_summary = vm.init_dataset(\n",
    "    dataset=raw_df.drop('bal_date', axis=1),\n",
    "    input_id=\"raw_dataset\",\n",
    "    target_column=\"cust_ipid_nm\"\n",
    ")\n",
    "result = vm.tests.run_test(\n",
    "    \"validmind.data_validation.DatasetDescription\",\n",
    "    dataset=vm_ds_summary\n",
    ").log()"
   ]
  },
  {
   "cell_type": "markdown",
   "metadata": {},
   "source": [
    "### Duplicates\n",
    "\n",
    "First, let's check for duplicates in our dataset. We can use the `validmind.data_validation.Duplicates` test and pass our dataset:"
   ]
  },
  {
   "cell_type": "code",
   "execution_count": 12,
   "metadata": {},
   "outputs": [
    {
     "data": {
      "application/vnd.jupyter.widget-view+json": {
       "model_id": "0b9c04daa5e44aa49e2865b5c4b8fcba",
       "version_major": 2,
       "version_minor": 0
      },
      "text/plain": [
       "VBox(children=(HTML(value='\\n            <h1>Duplicates ✅</h1>\\n            <p><strong>Duplicates</strong> cal…"
      ]
     },
     "metadata": {},
     "output_type": "display_data"
    },
    {
     "data": {
      "text/html": [
       "\n",
       "<script defer type=\"module\">\n",
       "import hljs from 'https://unpkg.com/@highlightjs/cdn-assets@11.9.0/es/highlight.min.js';\n",
       "import python from 'https://cdnjs.cloudflare.com/ajax/libs/highlight.js/11.9.0/es/languages/python.min.js';\n",
       "\n",
       "hljs.registerLanguage('python', python);\n",
       "hljs.highlightAll();\n",
       "</script>\n"
      ],
      "text/plain": [
       "<IPython.core.display.HTML object>"
      ]
     },
     "metadata": {},
     "output_type": "display_data"
    },
    {
     "data": {
      "text/html": [
       "\n",
       "<script>\n",
       "window.MathJax = {\n",
       "    tex2jax: {\n",
       "        inlineMath: [['$', '$'], ['\\\\(', '\\\\)']],\n",
       "        displayMath: [['$$', '$$'], ['\\[', '\\]']],\n",
       "        processEscapes: true,\n",
       "        skipTags: ['script', 'noscript', 'style', 'textarea', 'pre'],\n",
       "        ignoreClass: \".*\",\n",
       "        processClass: \"math\"\n",
       "    }\n",
       "};\n",
       "setTimeout(function () {\n",
       "    var script = document.createElement('script');\n",
       "    script.type = 'text/javascript';\n",
       "    script.src = 'https://cdnjs.cloudflare.com/ajax/libs/mathjax/2.7.7/MathJax.js?config=TeX-AMS_HTML';\n",
       "    document.head.appendChild(script);\n",
       "}, 300);\n",
       "</script>\n"
      ],
      "text/plain": [
       "<IPython.core.display.HTML object>"
      ]
     },
     "metadata": {},
     "output_type": "display_data"
    }
   ],
   "source": [
    "result = vm.tests.run_test(\n",
    "    \"validmind.data_validation.Duplicates\",\n",
    "    dataset=vm_raw_ds\n",
    ").log()"
   ]
  },
  {
   "cell_type": "markdown",
   "metadata": {},
   "source": [
    "### Missing values\n",
    "\n",
    "Next, let's check for missing values in our dataset. We can use the `validmind.data_validation.MissingValues` test and pass our dataset:"
   ]
  },
  {
   "cell_type": "code",
   "execution_count": 13,
   "metadata": {},
   "outputs": [
    {
     "data": {
      "application/vnd.jupyter.widget-view+json": {
       "model_id": "daa1ea93d8874ef090e3fb7023aa1294",
       "version_major": 2,
       "version_minor": 0
      },
      "text/plain": [
       "VBox(children=(HTML(value='\\n            <h1>Missing Values ✅</h1>\\n            <p><strong>Missing Values</str…"
      ]
     },
     "metadata": {},
     "output_type": "display_data"
    },
    {
     "data": {
      "text/html": [
       "\n",
       "<script defer type=\"module\">\n",
       "import hljs from 'https://unpkg.com/@highlightjs/cdn-assets@11.9.0/es/highlight.min.js';\n",
       "import python from 'https://cdnjs.cloudflare.com/ajax/libs/highlight.js/11.9.0/es/languages/python.min.js';\n",
       "\n",
       "hljs.registerLanguage('python', python);\n",
       "hljs.highlightAll();\n",
       "</script>\n"
      ],
      "text/plain": [
       "<IPython.core.display.HTML object>"
      ]
     },
     "metadata": {},
     "output_type": "display_data"
    },
    {
     "data": {
      "text/html": [
       "\n",
       "<script>\n",
       "window.MathJax = {\n",
       "    tex2jax: {\n",
       "        inlineMath: [['$', '$'], ['\\\\(', '\\\\)']],\n",
       "        displayMath: [['$$', '$$'], ['\\[', '\\]']],\n",
       "        processEscapes: true,\n",
       "        skipTags: ['script', 'noscript', 'style', 'textarea', 'pre'],\n",
       "        ignoreClass: \".*\",\n",
       "        processClass: \"math\"\n",
       "    }\n",
       "};\n",
       "setTimeout(function () {\n",
       "    var script = document.createElement('script');\n",
       "    script.type = 'text/javascript';\n",
       "    script.src = 'https://cdnjs.cloudflare.com/ajax/libs/mathjax/2.7.7/MathJax.js?config=TeX-AMS_HTML';\n",
       "    document.head.appendChild(script);\n",
       "}, 300);\n",
       "</script>\n"
      ],
      "text/plain": [
       "<IPython.core.display.HTML object>"
      ]
     },
     "metadata": {},
     "output_type": "display_data"
    }
   ],
   "source": [
    "result = vm.tests.run_test(\n",
    "    \"validmind.data_validation.MissingValues\",\n",
    "    dataset=vm_raw_ds\n",
    ")"
   ]
  },
  {
   "cell_type": "markdown",
   "metadata": {},
   "source": [
    "### Unique rows\n",
    "\n",
    "Next, let's check for unique rows in our dataset. We can use the `validmind.data_validation.UniqueRows` test and pass our dataset:"
   ]
  },
  {
   "cell_type": "code",
   "execution_count": 14,
   "metadata": {},
   "outputs": [
    {
     "data": {
      "application/vnd.jupyter.widget-view+json": {
       "model_id": "f017c6322f604a1a8f94e84a40fdd4c8",
       "version_major": 2,
       "version_minor": 0
      },
      "text/plain": [
       "VBox(children=(HTML(value='\\n            <h1>Unique Rows ✅</h1>\\n            <p><strong>Unique Rows</strong> c…"
      ]
     },
     "metadata": {},
     "output_type": "display_data"
    },
    {
     "data": {
      "text/html": [
       "\n",
       "<script defer type=\"module\">\n",
       "import hljs from 'https://unpkg.com/@highlightjs/cdn-assets@11.9.0/es/highlight.min.js';\n",
       "import python from 'https://cdnjs.cloudflare.com/ajax/libs/highlight.js/11.9.0/es/languages/python.min.js';\n",
       "\n",
       "hljs.registerLanguage('python', python);\n",
       "hljs.highlightAll();\n",
       "</script>\n"
      ],
      "text/plain": [
       "<IPython.core.display.HTML object>"
      ]
     },
     "metadata": {},
     "output_type": "display_data"
    },
    {
     "data": {
      "text/html": [
       "\n",
       "<script>\n",
       "window.MathJax = {\n",
       "    tex2jax: {\n",
       "        inlineMath: [['$', '$'], ['\\\\(', '\\\\)']],\n",
       "        displayMath: [['$$', '$$'], ['\\[', '\\]']],\n",
       "        processEscapes: true,\n",
       "        skipTags: ['script', 'noscript', 'style', 'textarea', 'pre'],\n",
       "        ignoreClass: \".*\",\n",
       "        processClass: \"math\"\n",
       "    }\n",
       "};\n",
       "setTimeout(function () {\n",
       "    var script = document.createElement('script');\n",
       "    script.type = 'text/javascript';\n",
       "    script.src = 'https://cdnjs.cloudflare.com/ajax/libs/mathjax/2.7.7/MathJax.js?config=TeX-AMS_HTML';\n",
       "    document.head.appendChild(script);\n",
       "}, 300);\n",
       "</script>\n"
      ],
      "text/plain": [
       "<IPython.core.display.HTML object>"
      ]
     },
     "metadata": {},
     "output_type": "display_data"
    }
   ],
   "source": [
    "result = vm.tests.run_test(\n",
    "    \"validmind.data_validation.UniqueRows\",\n",
    "    dataset=vm_raw_ds\n",
    ")"
   ]
  },
  {
   "cell_type": "markdown",
   "metadata": {},
   "source": [
    "### High cardinality\n",
    "\n",
    "Next, let's check for high cardinality in our dataset. We can use the `validmind.data_validation.HighCardinality` test and pass our dataset:"
   ]
  },
  {
   "cell_type": "code",
   "execution_count": 15,
   "metadata": {},
   "outputs": [
    {
     "data": {
      "application/vnd.jupyter.widget-view+json": {
       "model_id": "808e639c5406424bb9af964fbc92f9b3",
       "version_major": 2,
       "version_minor": 0
      },
      "text/plain": [
       "VBox(children=(HTML(value='\\n            <h1>High Cardinality ✅</h1>\\n            <p><strong>High Cardinality<…"
      ]
     },
     "metadata": {},
     "output_type": "display_data"
    },
    {
     "data": {
      "text/html": [
       "\n",
       "<script defer type=\"module\">\n",
       "import hljs from 'https://unpkg.com/@highlightjs/cdn-assets@11.9.0/es/highlight.min.js';\n",
       "import python from 'https://cdnjs.cloudflare.com/ajax/libs/highlight.js/11.9.0/es/languages/python.min.js';\n",
       "\n",
       "hljs.registerLanguage('python', python);\n",
       "hljs.highlightAll();\n",
       "</script>\n"
      ],
      "text/plain": [
       "<IPython.core.display.HTML object>"
      ]
     },
     "metadata": {},
     "output_type": "display_data"
    },
    {
     "data": {
      "text/html": [
       "\n",
       "<script>\n",
       "window.MathJax = {\n",
       "    tex2jax: {\n",
       "        inlineMath: [['$', '$'], ['\\\\(', '\\\\)']],\n",
       "        displayMath: [['$$', '$$'], ['\\[', '\\]']],\n",
       "        processEscapes: true,\n",
       "        skipTags: ['script', 'noscript', 'style', 'textarea', 'pre'],\n",
       "        ignoreClass: \".*\",\n",
       "        processClass: \"math\"\n",
       "    }\n",
       "};\n",
       "setTimeout(function () {\n",
       "    var script = document.createElement('script');\n",
       "    script.type = 'text/javascript';\n",
       "    script.src = 'https://cdnjs.cloudflare.com/ajax/libs/mathjax/2.7.7/MathJax.js?config=TeX-AMS_HTML';\n",
       "    document.head.appendChild(script);\n",
       "}, 300);\n",
       "</script>\n"
      ],
      "text/plain": [
       "<IPython.core.display.HTML object>"
      ]
     },
     "metadata": {},
     "output_type": "display_data"
    }
   ],
   "source": [
    "result = vm.tests.run_test(\n",
    "    \"validmind.data_validation.HighCardinality\",\n",
    "    dataset=vm_raw_ds\n",
    ").log()"
   ]
  },
  {
   "cell_type": "markdown",
   "metadata": {},
   "source": [
    "### Skewness\n",
    "\n",
    "Next, let's check for skewness in our dataset. We can use the `validmind.data_validation.Skewness` test and pass our dataset:"
   ]
  },
  {
   "cell_type": "code",
   "execution_count": 16,
   "metadata": {},
   "outputs": [
    {
     "data": {
      "application/vnd.jupyter.widget-view+json": {
       "model_id": "266cdc8e2764456ab21ce6f04b1604a9",
       "version_major": 2,
       "version_minor": 0
      },
      "text/plain": [
       "VBox(children=(HTML(value='\\n            <h1>Skewness ✅</h1>\\n            <p><strong>Skewness</strong> evaluat…"
      ]
     },
     "metadata": {},
     "output_type": "display_data"
    },
    {
     "data": {
      "text/html": [
       "\n",
       "<script defer type=\"module\">\n",
       "import hljs from 'https://unpkg.com/@highlightjs/cdn-assets@11.9.0/es/highlight.min.js';\n",
       "import python from 'https://cdnjs.cloudflare.com/ajax/libs/highlight.js/11.9.0/es/languages/python.min.js';\n",
       "\n",
       "hljs.registerLanguage('python', python);\n",
       "hljs.highlightAll();\n",
       "</script>\n"
      ],
      "text/plain": [
       "<IPython.core.display.HTML object>"
      ]
     },
     "metadata": {},
     "output_type": "display_data"
    },
    {
     "data": {
      "text/html": [
       "\n",
       "<script>\n",
       "window.MathJax = {\n",
       "    tex2jax: {\n",
       "        inlineMath: [['$', '$'], ['\\\\(', '\\\\)']],\n",
       "        displayMath: [['$$', '$$'], ['\\[', '\\]']],\n",
       "        processEscapes: true,\n",
       "        skipTags: ['script', 'noscript', 'style', 'textarea', 'pre'],\n",
       "        ignoreClass: \".*\",\n",
       "        processClass: \"math\"\n",
       "    }\n",
       "};\n",
       "setTimeout(function () {\n",
       "    var script = document.createElement('script');\n",
       "    script.type = 'text/javascript';\n",
       "    script.src = 'https://cdnjs.cloudflare.com/ajax/libs/mathjax/2.7.7/MathJax.js?config=TeX-AMS_HTML';\n",
       "    document.head.appendChild(script);\n",
       "}, 300);\n",
       "</script>\n"
      ],
      "text/plain": [
       "<IPython.core.display.HTML object>"
      ]
     },
     "metadata": {},
     "output_type": "display_data"
    }
   ],
   "source": [
    "result = vm.tests.run_test(\n",
    "    \"validmind.data_validation.Skewness\",\n",
    "    dataset=vm_raw_ds\n",
    ").log()"
   ]
  },
  {
   "cell_type": "markdown",
   "metadata": {},
   "source": [
    "### Zero Values\n",
    "\n",
    "Next, let's check for zeros values in our dataset. We can use the `validmind.data_validation.TooManyZeroValues` test and pass our dataset:"
   ]
  },
  {
   "cell_type": "code",
   "execution_count": 17,
   "metadata": {},
   "outputs": [
    {
     "data": {
      "application/vnd.jupyter.widget-view+json": {
       "model_id": "b45cb05319ee43d5902bcb68bdd5e4cd",
       "version_major": 2,
       "version_minor": 0
      },
      "text/plain": [
       "VBox(children=(HTML(value='\\n            <h1>Too Many Zero Values ✅</h1>\\n            <p><strong>Too Many Zero…"
      ]
     },
     "metadata": {},
     "output_type": "display_data"
    },
    {
     "data": {
      "text/html": [
       "\n",
       "<script defer type=\"module\">\n",
       "import hljs from 'https://unpkg.com/@highlightjs/cdn-assets@11.9.0/es/highlight.min.js';\n",
       "import python from 'https://cdnjs.cloudflare.com/ajax/libs/highlight.js/11.9.0/es/languages/python.min.js';\n",
       "\n",
       "hljs.registerLanguage('python', python);\n",
       "hljs.highlightAll();\n",
       "</script>\n"
      ],
      "text/plain": [
       "<IPython.core.display.HTML object>"
      ]
     },
     "metadata": {},
     "output_type": "display_data"
    },
    {
     "data": {
      "text/html": [
       "\n",
       "<script>\n",
       "window.MathJax = {\n",
       "    tex2jax: {\n",
       "        inlineMath: [['$', '$'], ['\\\\(', '\\\\)']],\n",
       "        displayMath: [['$$', '$$'], ['\\[', '\\]']],\n",
       "        processEscapes: true,\n",
       "        skipTags: ['script', 'noscript', 'style', 'textarea', 'pre'],\n",
       "        ignoreClass: \".*\",\n",
       "        processClass: \"math\"\n",
       "    }\n",
       "};\n",
       "setTimeout(function () {\n",
       "    var script = document.createElement('script');\n",
       "    script.type = 'text/javascript';\n",
       "    script.src = 'https://cdnjs.cloudflare.com/ajax/libs/mathjax/2.7.7/MathJax.js?config=TeX-AMS_HTML';\n",
       "    document.head.appendChild(script);\n",
       "}, 300);\n",
       "</script>\n"
      ],
      "text/plain": [
       "<IPython.core.display.HTML object>"
      ]
     },
     "metadata": {},
     "output_type": "display_data"
    }
   ],
   "source": [
    "result = vm.tests.run_test(\n",
    "    \"validmind.data_validation.TooManyZeroValues\",\n",
    "    dataset=vm_raw_ds\n",
    ").log()"
   ]
  },
  {
   "cell_type": "markdown",
   "metadata": {},
   "source": [
    "### Descriptive statistics\n",
    "\n",
    "Next, let's check statistics of our dataset. We can use the `validmind.data_validation.DescriptiveStatistics` test and pass our dataset:"
   ]
  },
  {
   "cell_type": "code",
   "execution_count": 18,
   "metadata": {},
   "outputs": [
    {
     "data": {
      "application/vnd.jupyter.widget-view+json": {
       "model_id": "a5b2e88857db497e8ba1725acc0d7401",
       "version_major": 2,
       "version_minor": 0
      },
      "text/plain": [
       "VBox(children=(HTML(value='<h1>Descriptive Statistics</h1>'), HTML(value=\"<p><strong>Descriptive Statistics</s…"
      ]
     },
     "metadata": {},
     "output_type": "display_data"
    },
    {
     "data": {
      "text/html": [
       "\n",
       "<script defer type=\"module\">\n",
       "import hljs from 'https://unpkg.com/@highlightjs/cdn-assets@11.9.0/es/highlight.min.js';\n",
       "import python from 'https://cdnjs.cloudflare.com/ajax/libs/highlight.js/11.9.0/es/languages/python.min.js';\n",
       "\n",
       "hljs.registerLanguage('python', python);\n",
       "hljs.highlightAll();\n",
       "</script>\n"
      ],
      "text/plain": [
       "<IPython.core.display.HTML object>"
      ]
     },
     "metadata": {},
     "output_type": "display_data"
    },
    {
     "data": {
      "text/html": [
       "\n",
       "<script>\n",
       "window.MathJax = {\n",
       "    tex2jax: {\n",
       "        inlineMath: [['$', '$'], ['\\\\(', '\\\\)']],\n",
       "        displayMath: [['$$', '$$'], ['\\[', '\\]']],\n",
       "        processEscapes: true,\n",
       "        skipTags: ['script', 'noscript', 'style', 'textarea', 'pre'],\n",
       "        ignoreClass: \".*\",\n",
       "        processClass: \"math\"\n",
       "    }\n",
       "};\n",
       "setTimeout(function () {\n",
       "    var script = document.createElement('script');\n",
       "    script.type = 'text/javascript';\n",
       "    script.src = 'https://cdnjs.cloudflare.com/ajax/libs/mathjax/2.7.7/MathJax.js?config=TeX-AMS_HTML';\n",
       "    document.head.appendChild(script);\n",
       "}, 300);\n",
       "</script>\n"
      ],
      "text/plain": [
       "<IPython.core.display.HTML object>"
      ]
     },
     "metadata": {},
     "output_type": "display_data"
    }
   ],
   "source": [
    "result = vm.tests.run_test(\n",
    "    \"validmind.data_validation.DescriptiveStatistics\",\n",
    "    dataset=vm_raw_ds\n",
    ").log()"
   ]
  },
  {
   "cell_type": "markdown",
   "metadata": {},
   "source": [
    "### High pearson correlation\n",
    "\n",
    "Next, let's check person correlation of our dataset. We can use the `validmind.data_validation.HighPearsonCorrelation` test and pass our dataset:"
   ]
  },
  {
   "cell_type": "code",
   "execution_count": 19,
   "metadata": {},
   "outputs": [
    {
     "data": {
      "application/vnd.jupyter.widget-view+json": {
       "model_id": "61ed74694d9444f8913b7e8b8b2e7f71",
       "version_major": 2,
       "version_minor": 0
      },
      "text/plain": [
       "VBox(children=(HTML(value='\\n            <h1>High Pearson Correlation ❌</h1>\\n            <p><strong>High Pear…"
      ]
     },
     "metadata": {},
     "output_type": "display_data"
    },
    {
     "data": {
      "text/html": [
       "\n",
       "<script defer type=\"module\">\n",
       "import hljs from 'https://unpkg.com/@highlightjs/cdn-assets@11.9.0/es/highlight.min.js';\n",
       "import python from 'https://cdnjs.cloudflare.com/ajax/libs/highlight.js/11.9.0/es/languages/python.min.js';\n",
       "\n",
       "hljs.registerLanguage('python', python);\n",
       "hljs.highlightAll();\n",
       "</script>\n"
      ],
      "text/plain": [
       "<IPython.core.display.HTML object>"
      ]
     },
     "metadata": {},
     "output_type": "display_data"
    },
    {
     "data": {
      "text/html": [
       "\n",
       "<script>\n",
       "window.MathJax = {\n",
       "    tex2jax: {\n",
       "        inlineMath: [['$', '$'], ['\\\\(', '\\\\)']],\n",
       "        displayMath: [['$$', '$$'], ['\\[', '\\]']],\n",
       "        processEscapes: true,\n",
       "        skipTags: ['script', 'noscript', 'style', 'textarea', 'pre'],\n",
       "        ignoreClass: \".*\",\n",
       "        processClass: \"math\"\n",
       "    }\n",
       "};\n",
       "setTimeout(function () {\n",
       "    var script = document.createElement('script');\n",
       "    script.type = 'text/javascript';\n",
       "    script.src = 'https://cdnjs.cloudflare.com/ajax/libs/mathjax/2.7.7/MathJax.js?config=TeX-AMS_HTML';\n",
       "    document.head.appendChild(script);\n",
       "}, 300);\n",
       "</script>\n"
      ],
      "text/plain": [
       "<IPython.core.display.HTML object>"
      ]
     },
     "metadata": {},
     "output_type": "display_data"
    }
   ],
   "source": [
    "result = vm.tests.run_test(\n",
    "    \"validmind.data_validation.HighPearsonCorrelation\",\n",
    "    dataset=vm_raw_ds\n",
    ")\n",
    "result.log()"
   ]
  },
  {
   "cell_type": "markdown",
   "metadata": {},
   "source": [
    "### Pearson correlation matrix\n",
    "\n",
    "Next, let's check person correlation matrix of our dataset. We can use the `validmind.data_validation.PearsonCorrelationMatrix` test and pass our dataset:"
   ]
  },
  {
   "cell_type": "code",
   "execution_count": 20,
   "metadata": {},
   "outputs": [
    {
     "data": {
      "application/vnd.jupyter.widget-view+json": {
       "model_id": "c812f0d2bf8644b281af081c5fa30e50",
       "version_major": 2,
       "version_minor": 0
      },
      "text/plain": [
       "VBox(children=(HTML(value='<h1>Pearson Correlation Matrix</h1>'), HTML(value=\"<p><strong>Pearson Correlation M…"
      ]
     },
     "metadata": {},
     "output_type": "display_data"
    },
    {
     "data": {
      "text/html": [
       "\n",
       "<script defer type=\"module\">\n",
       "import hljs from 'https://unpkg.com/@highlightjs/cdn-assets@11.9.0/es/highlight.min.js';\n",
       "import python from 'https://cdnjs.cloudflare.com/ajax/libs/highlight.js/11.9.0/es/languages/python.min.js';\n",
       "\n",
       "hljs.registerLanguage('python', python);\n",
       "hljs.highlightAll();\n",
       "</script>\n"
      ],
      "text/plain": [
       "<IPython.core.display.HTML object>"
      ]
     },
     "metadata": {},
     "output_type": "display_data"
    },
    {
     "data": {
      "text/html": [
       "\n",
       "<script>\n",
       "window.MathJax = {\n",
       "    tex2jax: {\n",
       "        inlineMath: [['$', '$'], ['\\\\(', '\\\\)']],\n",
       "        displayMath: [['$$', '$$'], ['\\[', '\\]']],\n",
       "        processEscapes: true,\n",
       "        skipTags: ['script', 'noscript', 'style', 'textarea', 'pre'],\n",
       "        ignoreClass: \".*\",\n",
       "        processClass: \"math\"\n",
       "    }\n",
       "};\n",
       "setTimeout(function () {\n",
       "    var script = document.createElement('script');\n",
       "    script.type = 'text/javascript';\n",
       "    script.src = 'https://cdnjs.cloudflare.com/ajax/libs/mathjax/2.7.7/MathJax.js?config=TeX-AMS_HTML';\n",
       "    document.head.appendChild(script);\n",
       "}, 300);\n",
       "</script>\n"
      ],
      "text/plain": [
       "<IPython.core.display.HTML object>"
      ]
     },
     "metadata": {},
     "output_type": "display_data"
    }
   ],
   "source": [
    "result = vm.tests.run_test(\n",
    "    \"validmind.data_validation.PearsonCorrelationMatrix\",\n",
    "    dataset=vm_raw_ds\n",
    ").log()"
   ]
  },
  {
   "cell_type": "markdown",
   "metadata": {},
   "source": [
    "## Segmentation of clients"
   ]
  },
  {
   "cell_type": "code",
   "execution_count": 21,
   "metadata": {},
   "outputs": [],
   "source": [
    "from sklearn.preprocessing import StandardScaler\n",
    "from sklearn.cluster import KMeans"
   ]
  },
  {
   "cell_type": "code",
   "execution_count": 22,
   "metadata": {},
   "outputs": [
    {
     "data": {
      "text/html": [
       "<div>\n",
       "<style scoped>\n",
       "    .dataframe tbody tr th:only-of-type {\n",
       "        vertical-align: middle;\n",
       "    }\n",
       "\n",
       "    .dataframe tbody tr th {\n",
       "        vertical-align: top;\n",
       "    }\n",
       "\n",
       "    .dataframe thead th {\n",
       "        text-align: right;\n",
       "    }\n",
       "</style>\n",
       "<table border=\"1\" class=\"dataframe\">\n",
       "  <thead>\n",
       "    <tr style=\"text-align: right;\">\n",
       "      <th></th>\n",
       "      <th>cust_ipid_nm</th>\n",
       "      <th>EOD</th>\n",
       "      <th>Total_Outflow</th>\n",
       "      <th>Total_Inflow</th>\n",
       "      <th>Total_Outflow_Volume</th>\n",
       "      <th>Total_Inflow_Volume</th>\n",
       "    </tr>\n",
       "  </thead>\n",
       "  <tbody>\n",
       "    <tr>\n",
       "      <th>0</th>\n",
       "      <td>1</td>\n",
       "      <td>620588441</td>\n",
       "      <td>6045789727</td>\n",
       "      <td>6056785345</td>\n",
       "      <td>65</td>\n",
       "      <td>69</td>\n",
       "    </tr>\n",
       "    <tr>\n",
       "      <th>1</th>\n",
       "      <td>2</td>\n",
       "      <td>749542305</td>\n",
       "      <td>7668359015</td>\n",
       "      <td>7821262323</td>\n",
       "      <td>79</td>\n",
       "      <td>71</td>\n",
       "    </tr>\n",
       "  </tbody>\n",
       "</table>\n",
       "</div>"
      ],
      "text/plain": [
       "   cust_ipid_nm        EOD  Total_Outflow  Total_Inflow  Total_Outflow_Volume  \\\n",
       "0             1  620588441     6045789727    6056785345                    65   \n",
       "1             2  749542305     7668359015    7821262323                    79   \n",
       "\n",
       "   Total_Inflow_Volume  \n",
       "0                   69  \n",
       "1                   71  "
      ]
     },
     "execution_count": 22,
     "metadata": {},
     "output_type": "execute_result"
    }
   ],
   "source": [
    "cluster_df = raw_df.drop(columns=['LOB_data','cust_id', 'bal_date', 'ult_parent_cust_ipid_no','ult_parent_cust_nm','client','subclient'], axis=1)\n",
    "target_column = 'cust_ipid_nm'\n",
    "cluster_df.head(2)"
   ]
  },
  {
   "cell_type": "markdown",
   "metadata": {},
   "source": [
    "### Clustering\n",
    "Let's build Kmeans model"
   ]
  },
  {
   "cell_type": "code",
   "execution_count": 23,
   "metadata": {},
   "outputs": [],
   "source": [
    "from validmind.datasets.cluster import digits as demo_dataset\n",
    "cluster_df = cluster_df.dropna()\n",
    "train_df, validation_df, test_df = demo_dataset.preprocess(cluster_df)\n",
    "\n",
    "x_train = train_df.drop(target_column, axis=1)\n",
    "y_train = train_df[target_column]\n",
    "x_val = validation_df.drop(target_column, axis=1)\n",
    "y_val = validation_df[target_column]\n",
    "x_test = test_df.drop(target_column, axis=1)\n",
    "y_test = test_df[target_column]\n",
    "\n",
    "\n",
    "x_train = pd.concat([x_train, x_val], axis=0)\n",
    "y_train = pd.concat([y_train, y_val], axis=0)\n",
    "\n",
    "scale = False\n",
    "if scale:\n",
    "    scaler = StandardScaler()\n",
    "    x_train = scaler.fit_transform(x_train)\n",
    "    x_val = scaler.fit_transform(x_val)\n",
    "    x_test = scaler.fit_transform(x_test)\n",
    "\n",
    "\n",
    "n_clusters = 4\n",
    "model = KMeans(init=\"k-means++\", n_clusters=n_clusters, n_init=4) # random_state=0\n",
    "model = model.fit(x_train)"
   ]
  },
  {
   "cell_type": "markdown",
   "metadata": {},
   "source": [
    "Let's prepate VM dataset objects"
   ]
  },
  {
   "cell_type": "code",
   "execution_count": 24,
   "metadata": {},
   "outputs": [
    {
     "name": "stderr",
     "output_type": "stream",
     "text": [
      "2024-05-23 16:53:47,181 - INFO(validmind.client): Pandas dataset detected. Initializing VM Dataset instance...\n"
     ]
    },
    {
     "name": "stderr",
     "output_type": "stream",
     "text": [
      "2024-05-23 16:53:47,340 - INFO(validmind.client): Pandas dataset detected. Initializing VM Dataset instance...\n"
     ]
    }
   ],
   "source": [
    "vm_train_ds = vm.init_dataset(\n",
    "    dataset=train_df,\n",
    "    target_column=target_column\n",
    ")\n",
    "\n",
    "vm_test_ds = vm.init_dataset(\n",
    "    dataset=test_df,\n",
    "    target_column=target_column\n",
    ")"
   ]
  },
  {
   "cell_type": "code",
   "execution_count": 25,
   "metadata": {},
   "outputs": [],
   "source": [
    "vm_model = vm.init_model(\n",
    "    model,\n",
    "    input_id=\"kmean_model\"\n",
    ")"
   ]
  },
  {
   "cell_type": "markdown",
   "metadata": {},
   "source": [
    "### Prediction\n",
    "Prediction values can be attached using `assign_prediction` interface."
   ]
  },
  {
   "cell_type": "code",
   "execution_count": 26,
   "metadata": {},
   "outputs": [
    {
     "name": "stderr",
     "output_type": "stream",
     "text": [
      "2024-05-23 16:53:47,620 - INFO(validmind.vm_models.dataset.utils): Running predict_proba()... This may take a while\n",
      "2024-05-23 16:53:47,620 - INFO(validmind.vm_models.dataset.utils): Not running predict_proba() for unsupported models.\n",
      "2024-05-23 16:53:47,621 - INFO(validmind.vm_models.dataset.utils): Running predict()... This may take a while\n",
      "/Users/anilsorathiya/work/validmind/repos/developer-framework/.venv/lib/python3.10/site-packages/sklearn/base.py:465: UserWarning:\n",
      "\n",
      "X does not have valid feature names, but KMeans was fitted with feature names\n",
      "\n",
      "2024-05-23 16:53:47,623 - INFO(validmind.vm_models.dataset.utils): Done running predict()\n",
      "2024-05-23 16:53:47,624 - INFO(validmind.vm_models.dataset.dataset): No probabilities computed or provided. Not adding probability column to the dataset.\n",
      "2024-05-23 16:53:47,625 - INFO(validmind.vm_models.dataset.utils): Running predict_proba()... This may take a while\n",
      "2024-05-23 16:53:47,626 - INFO(validmind.vm_models.dataset.utils): Not running predict_proba() for unsupported models.\n",
      "2024-05-23 16:53:47,626 - INFO(validmind.vm_models.dataset.utils): Running predict()... This may take a while\n",
      "/Users/anilsorathiya/work/validmind/repos/developer-framework/.venv/lib/python3.10/site-packages/sklearn/base.py:465: UserWarning:\n",
      "\n",
      "X does not have valid feature names, but KMeans was fitted with feature names\n",
      "\n",
      "2024-05-23 16:53:47,628 - INFO(validmind.vm_models.dataset.utils): Done running predict()\n",
      "2024-05-23 16:53:47,629 - INFO(validmind.vm_models.dataset.dataset): No probabilities computed or provided. Not adding probability column to the dataset.\n"
     ]
    }
   ],
   "source": [
    "vm_train_ds.assign_predictions(model=vm_model)\n",
    "vm_test_ds.assign_predictions(model=vm_model)"
   ]
  },
  {
   "cell_type": "markdown",
   "metadata": {},
   "source": [
    "### Compare Manual vs predicted "
   ]
  },
  {
   "cell_type": "code",
   "execution_count": 27,
   "metadata": {},
   "outputs": [
    {
     "data": {
      "application/vnd.jupyter.widget-view+json": {
       "model_id": "27ac2609a9a444db86093b2b8abffa45",
       "version_major": 2,
       "version_minor": 0
      },
      "text/plain": [
       "VBox(children=(HTML(value='<h1>Confusion Matrix Training</h1>'), HTML(value=\"<p><strong>Confusion Matrix</stro…"
      ]
     },
     "metadata": {},
     "output_type": "display_data"
    },
    {
     "data": {
      "text/html": [
       "\n",
       "<script defer type=\"module\">\n",
       "import hljs from 'https://unpkg.com/@highlightjs/cdn-assets@11.9.0/es/highlight.min.js';\n",
       "import python from 'https://cdnjs.cloudflare.com/ajax/libs/highlight.js/11.9.0/es/languages/python.min.js';\n",
       "\n",
       "hljs.registerLanguage('python', python);\n",
       "hljs.highlightAll();\n",
       "</script>\n"
      ],
      "text/plain": [
       "<IPython.core.display.HTML object>"
      ]
     },
     "metadata": {},
     "output_type": "display_data"
    },
    {
     "data": {
      "text/html": [
       "\n",
       "<script>\n",
       "window.MathJax = {\n",
       "    tex2jax: {\n",
       "        inlineMath: [['$', '$'], ['\\\\(', '\\\\)']],\n",
       "        displayMath: [['$$', '$$'], ['\\[', '\\]']],\n",
       "        processEscapes: true,\n",
       "        skipTags: ['script', 'noscript', 'style', 'textarea', 'pre'],\n",
       "        ignoreClass: \".*\",\n",
       "        processClass: \"math\"\n",
       "    }\n",
       "};\n",
       "setTimeout(function () {\n",
       "    var script = document.createElement('script');\n",
       "    script.type = 'text/javascript';\n",
       "    script.src = 'https://cdnjs.cloudflare.com/ajax/libs/mathjax/2.7.7/MathJax.js?config=TeX-AMS_HTML';\n",
       "    document.head.appendChild(script);\n",
       "}, 300);\n",
       "</script>\n"
      ],
      "text/plain": [
       "<IPython.core.display.HTML object>"
      ]
     },
     "metadata": {},
     "output_type": "display_data"
    }
   ],
   "source": [
    "result = vm.tests.run_test(\n",
    "    \"validmind.model_validation.sklearn.ConfusionMatrix:training\",\n",
    "    inputs={\n",
    "        \"dataset\":vm_train_ds,\n",
    "        \"model\":vm_model\n",
    "    }\n",
    ").log()"
   ]
  },
  {
   "cell_type": "markdown",
   "metadata": {},
   "source": [
    "### Confusion matrix - test data"
   ]
  },
  {
   "cell_type": "code",
   "execution_count": 28,
   "metadata": {},
   "outputs": [
    {
     "data": {
      "application/vnd.jupyter.widget-view+json": {
       "model_id": "250dbfbfbe28445fabee4d5c3a398240",
       "version_major": 2,
       "version_minor": 0
      },
      "text/plain": [
       "VBox(children=(HTML(value='<h1>Confusion Matrix Test</h1>'), HTML(value=\"<p><strong>Confusion Matrix</strong> …"
      ]
     },
     "metadata": {},
     "output_type": "display_data"
    },
    {
     "data": {
      "text/html": [
       "\n",
       "<script defer type=\"module\">\n",
       "import hljs from 'https://unpkg.com/@highlightjs/cdn-assets@11.9.0/es/highlight.min.js';\n",
       "import python from 'https://cdnjs.cloudflare.com/ajax/libs/highlight.js/11.9.0/es/languages/python.min.js';\n",
       "\n",
       "hljs.registerLanguage('python', python);\n",
       "hljs.highlightAll();\n",
       "</script>\n"
      ],
      "text/plain": [
       "<IPython.core.display.HTML object>"
      ]
     },
     "metadata": {},
     "output_type": "display_data"
    },
    {
     "data": {
      "text/html": [
       "\n",
       "<script>\n",
       "window.MathJax = {\n",
       "    tex2jax: {\n",
       "        inlineMath: [['$', '$'], ['\\\\(', '\\\\)']],\n",
       "        displayMath: [['$$', '$$'], ['\\[', '\\]']],\n",
       "        processEscapes: true,\n",
       "        skipTags: ['script', 'noscript', 'style', 'textarea', 'pre'],\n",
       "        ignoreClass: \".*\",\n",
       "        processClass: \"math\"\n",
       "    }\n",
       "};\n",
       "setTimeout(function () {\n",
       "    var script = document.createElement('script');\n",
       "    script.type = 'text/javascript';\n",
       "    script.src = 'https://cdnjs.cloudflare.com/ajax/libs/mathjax/2.7.7/MathJax.js?config=TeX-AMS_HTML';\n",
       "    document.head.appendChild(script);\n",
       "}, 300);\n",
       "</script>\n"
      ],
      "text/plain": [
       "<IPython.core.display.HTML object>"
      ]
     },
     "metadata": {},
     "output_type": "display_data"
    }
   ],
   "source": [
    "result = vm.tests.run_test(\n",
    "    \"validmind.model_validation.sklearn.ConfusionMatrix:test\",\n",
    "    inputs={\n",
    "        \"dataset\":vm_test_ds,\n",
    "        \"model\":vm_model\n",
    "    }\n",
    ").log()"
   ]
  },
  {
   "cell_type": "markdown",
   "metadata": {},
   "source": [
    "### Hyper parameter tuning"
   ]
  },
  {
   "cell_type": "code",
   "execution_count": 29,
   "metadata": {},
   "outputs": [
    {
     "data": {
      "application/vnd.jupyter.widget-view+json": {
       "model_id": "6e16b3e6ac5e4d94836c6809854e9cce",
       "version_major": 2,
       "version_minor": 0
      },
      "text/plain": [
       "VBox(children=(HTML(value='<h1>Hyper Parameters Tuning</h1>'), HTML(value='<p><strong>Hyper Parameters Tuning<…"
      ]
     },
     "metadata": {},
     "output_type": "display_data"
    },
    {
     "data": {
      "text/html": [
       "\n",
       "<script defer type=\"module\">\n",
       "import hljs from 'https://unpkg.com/@highlightjs/cdn-assets@11.9.0/es/highlight.min.js';\n",
       "import python from 'https://cdnjs.cloudflare.com/ajax/libs/highlight.js/11.9.0/es/languages/python.min.js';\n",
       "\n",
       "hljs.registerLanguage('python', python);\n",
       "hljs.highlightAll();\n",
       "</script>\n"
      ],
      "text/plain": [
       "<IPython.core.display.HTML object>"
      ]
     },
     "metadata": {},
     "output_type": "display_data"
    },
    {
     "data": {
      "text/html": [
       "\n",
       "<script>\n",
       "window.MathJax = {\n",
       "    tex2jax: {\n",
       "        inlineMath: [['$', '$'], ['\\\\(', '\\\\)']],\n",
       "        displayMath: [['$$', '$$'], ['\\[', '\\]']],\n",
       "        processEscapes: true,\n",
       "        skipTags: ['script', 'noscript', 'style', 'textarea', 'pre'],\n",
       "        ignoreClass: \".*\",\n",
       "        processClass: \"math\"\n",
       "    }\n",
       "};\n",
       "setTimeout(function () {\n",
       "    var script = document.createElement('script');\n",
       "    script.type = 'text/javascript';\n",
       "    script.src = 'https://cdnjs.cloudflare.com/ajax/libs/mathjax/2.7.7/MathJax.js?config=TeX-AMS_HTML';\n",
       "    document.head.appendChild(script);\n",
       "}, 300);\n",
       "</script>\n"
      ],
      "text/plain": [
       "<IPython.core.display.HTML object>"
      ]
     },
     "metadata": {},
     "output_type": "display_data"
    }
   ],
   "source": [
    "result = vm.tests.run_test(\n",
    "    \"validmind.model_validation.sklearn.HyperParametersTuning\",\n",
    "    inputs={\n",
    "        \"dataset\":vm_train_ds,\n",
    "        \"model\":vm_model\n",
    "    },\n",
    "    params={\n",
    "         \"param_grid\": {\"n_clusters\": range(3, 6)}\n",
    "    }\n",
    ").log()"
   ]
  },
  {
   "cell_type": "markdown",
   "metadata": {},
   "source": [
    "### Cluster performance metrics"
   ]
  },
  {
   "cell_type": "code",
   "execution_count": 30,
   "metadata": {},
   "outputs": [
    {
     "data": {
      "application/vnd.jupyter.widget-view+json": {
       "model_id": "2892dd97be7344fd878d99d6787f80b1",
       "version_major": 2,
       "version_minor": 0
      },
      "text/plain": [
       "VBox(children=(HTML(value='<h1>Cluster Performance Metrics</h1>'), HTML(value='<p><strong>Cluster Performance …"
      ]
     },
     "metadata": {},
     "output_type": "display_data"
    },
    {
     "data": {
      "text/html": [
       "\n",
       "<script defer type=\"module\">\n",
       "import hljs from 'https://unpkg.com/@highlightjs/cdn-assets@11.9.0/es/highlight.min.js';\n",
       "import python from 'https://cdnjs.cloudflare.com/ajax/libs/highlight.js/11.9.0/es/languages/python.min.js';\n",
       "\n",
       "hljs.registerLanguage('python', python);\n",
       "hljs.highlightAll();\n",
       "</script>\n"
      ],
      "text/plain": [
       "<IPython.core.display.HTML object>"
      ]
     },
     "metadata": {},
     "output_type": "display_data"
    },
    {
     "data": {
      "text/html": [
       "\n",
       "<script>\n",
       "window.MathJax = {\n",
       "    tex2jax: {\n",
       "        inlineMath: [['$', '$'], ['\\\\(', '\\\\)']],\n",
       "        displayMath: [['$$', '$$'], ['\\[', '\\]']],\n",
       "        processEscapes: true,\n",
       "        skipTags: ['script', 'noscript', 'style', 'textarea', 'pre'],\n",
       "        ignoreClass: \".*\",\n",
       "        processClass: \"math\"\n",
       "    }\n",
       "};\n",
       "setTimeout(function () {\n",
       "    var script = document.createElement('script');\n",
       "    script.type = 'text/javascript';\n",
       "    script.src = 'https://cdnjs.cloudflare.com/ajax/libs/mathjax/2.7.7/MathJax.js?config=TeX-AMS_HTML';\n",
       "    document.head.appendChild(script);\n",
       "}, 300);\n",
       "</script>\n"
      ],
      "text/plain": [
       "<IPython.core.display.HTML object>"
      ]
     },
     "metadata": {},
     "output_type": "display_data"
    }
   ],
   "source": [
    "result = vm.tests.run_test(\n",
    "    \"validmind.model_validation.sklearn.ClusterPerformanceMetrics\",\n",
    "    inputs={\n",
    "        \"datasets\": (vm_train_ds, vm_test_ds),\n",
    "        \"model\":vm_model\n",
    "    }\n",
    ").log()"
   ]
  },
  {
   "cell_type": "markdown",
   "metadata": {},
   "source": [
    "### No of clusters optimization\n"
   ]
  },
  {
   "cell_type": "code",
   "execution_count": 31,
   "metadata": {},
   "outputs": [
    {
     "data": {
      "application/vnd.jupyter.widget-view+json": {
       "model_id": "eef4fa2c03e143d19f64d94ba7f31ba7",
       "version_major": 2,
       "version_minor": 0
      },
      "text/plain": [
       "VBox(children=(HTML(value='<h1>K Means Clusters Optimization</h1>'), HTML(value=\"<p><strong>K-Means Clusters O…"
      ]
     },
     "metadata": {},
     "output_type": "display_data"
    },
    {
     "data": {
      "text/html": [
       "\n",
       "<script defer type=\"module\">\n",
       "import hljs from 'https://unpkg.com/@highlightjs/cdn-assets@11.9.0/es/highlight.min.js';\n",
       "import python from 'https://cdnjs.cloudflare.com/ajax/libs/highlight.js/11.9.0/es/languages/python.min.js';\n",
       "\n",
       "hljs.registerLanguage('python', python);\n",
       "hljs.highlightAll();\n",
       "</script>\n"
      ],
      "text/plain": [
       "<IPython.core.display.HTML object>"
      ]
     },
     "metadata": {},
     "output_type": "display_data"
    },
    {
     "data": {
      "text/html": [
       "\n",
       "<script>\n",
       "window.MathJax = {\n",
       "    tex2jax: {\n",
       "        inlineMath: [['$', '$'], ['\\\\(', '\\\\)']],\n",
       "        displayMath: [['$$', '$$'], ['\\[', '\\]']],\n",
       "        processEscapes: true,\n",
       "        skipTags: ['script', 'noscript', 'style', 'textarea', 'pre'],\n",
       "        ignoreClass: \".*\",\n",
       "        processClass: \"math\"\n",
       "    }\n",
       "};\n",
       "setTimeout(function () {\n",
       "    var script = document.createElement('script');\n",
       "    script.type = 'text/javascript';\n",
       "    script.src = 'https://cdnjs.cloudflare.com/ajax/libs/mathjax/2.7.7/MathJax.js?config=TeX-AMS_HTML';\n",
       "    document.head.appendChild(script);\n",
       "}, 300);\n",
       "</script>\n"
      ],
      "text/plain": [
       "<IPython.core.display.HTML object>"
      ]
     },
     "metadata": {},
     "output_type": "display_data"
    }
   ],
   "source": [
    "result = vm.tests.run_test(\n",
    "    \"validmind.model_validation.sklearn.KMeansClustersOptimization\",\n",
    "    inputs={\n",
    "        \"dataset\": vm_train_ds,\n",
    "        \"model\":vm_model\n",
    "    },\n",
    "    params={\n",
    "        \"n_clusters\": range(2, 8),\n",
    "    }\n",
    "\n",
    ").log()"
   ]
  },
  {
   "cell_type": "markdown",
   "metadata": {},
   "source": [
    "## Operational deposit  model"
   ]
  },
  {
   "cell_type": "markdown",
   "metadata": {},
   "source": [
    "### Operational deposit model compuation"
   ]
  },
  {
   "cell_type": "code",
   "execution_count": 32,
   "metadata": {},
   "outputs": [],
   "source": [
    "operational_deposit_df = raw_df.copy()\n",
    "target_column = 'cust_ipid_nm'\n",
    "\n",
    "# Eod_outflow_ratio\n",
    "# Step 4: Statistical Analysis\n",
    "def calculate_eod_outflow_ratio(df):\n",
    "    df['eod_outflow_ratio'] = df['EOD'] / df['Total_Outflow']\n",
    "    \n",
    "    return df\n",
    "\n",
    "operational_deposit_df = calculate_eod_outflow_ratio(operational_deposit_df)\n",
    "\n",
    "# Step 5: Model Implementation\n",
    "def rolling_average(df, window=30):\n",
    "    df['rolling_eod_balance'] = df.groupby('cust_ipid_nm')['EOD'].rolling(window=window).mean().reset_index(level=0, drop=True)\n",
    "    df['rolling_daily_outflow'] = df.groupby('cust_ipid_nm')['Total_Outflow'].rolling(window=window).mean().reset_index(level=0, drop=True)\n",
    "    return df\n",
    "\n",
    "operational_deposit_df = rolling_average(operational_deposit_df)\n",
    "\n",
    "# # Step 6: Output Generation\n",
    "# def generate_outputs(df):\n",
    "#     output_df = df.groupby(['cust_ipid_nm', 'subclient']).agg({\n",
    "#         'rolling_eod_balance': 'last',\n",
    "#         'rolling_daily_outflow': 'last'\n",
    "#     }).reset_index()\n",
    "#     output_df['operational_core'] = output_df['rolling_eod_balance'] / output_df['rolling_daily_outflow']\n",
    "#     return output_df\n",
    "\n",
    "# raw_df = generate_outputs(raw_df)\n"
   ]
  },
  {
   "cell_type": "markdown",
   "metadata": {},
   "source": [
    "### Prepare VM dataset for the model"
   ]
  },
  {
   "cell_type": "code",
   "execution_count": 33,
   "metadata": {},
   "outputs": [
    {
     "name": "stderr",
     "output_type": "stream",
     "text": [
      "2024-05-23 16:57:00,172 - INFO(validmind.client): Pandas dataset detected. Initializing VM Dataset instance...\n"
     ]
    }
   ],
   "source": [
    "from validmind.datasets.cluster import digits as demo_dataset\n",
    "operational_deposit_df = operational_deposit_df.dropna()\n",
    "\n",
    "x_train = operational_deposit_df.drop(target_column, axis=1)\n",
    "y_train = operational_deposit_df[target_column]\n",
    "\n",
    "vm_od_ds = vm.init_dataset(\n",
    "    dataset=operational_deposit_df,\n",
    "    input_id=\"od_dataset\",\n",
    "    target_column=\"cust_ipid_nm\"\n",
    ")"
   ]
  },
  {
   "cell_type": "markdown",
   "metadata": {},
   "source": [
    "### VM model\n",
    "VM provides flexibility to generate model as per the use case requirement. Here, it's simple we treat prediction value as value of column `rolling_daily_outflow`"
   ]
  },
  {
   "cell_type": "code",
   "execution_count": 34,
   "metadata": {},
   "outputs": [
    {
     "name": "stderr",
     "output_type": "stream",
     "text": [
      "2024-05-23 16:57:00,591 - INFO(validmind.vm_models.dataset.dataset): No probabilities computed or provided. Not adding probability column to the dataset.\n"
     ]
    },
    {
     "name": "stdout",
     "output_type": "stream",
     "text": [
      "=================\n",
      "VMDataset object: \n",
      "=================\n",
      "Input ID: od_dataset\n",
      "Target Column: cust_ipid_nm\n",
      "Feature Columns: ['bal_date', 'cust_id', 'LOB_data', 'ult_parent_cust_ipid_no', 'ult_parent_cust_nm', 'client', 'subclient', 'EOD', 'Total_Outflow', 'Total_Inflow', 'Total_Outflow_Volume', 'Total_Inflow_Volume', 'eod_outflow_ratio', 'rolling_eod_balance']\n",
      "Text Column: None\n",
      "Extra Columns: ExtraColumns(extras=set(), group_by_column=None, prediction_columns={'operational_deposit': 'rolling_daily_outflow'}, probability_columns={})\n",
      "Target Class Labels: None\n",
      "Columns: ['bal_date', 'cust_id', 'LOB_data', 'cust_ipid_nm', 'ult_parent_cust_ipid_no', 'ult_parent_cust_nm', 'client', 'subclient', 'EOD', 'Total_Outflow', 'Total_Inflow', 'Total_Outflow_Volume', 'Total_Inflow_Volume', 'eod_outflow_ratio', 'rolling_eod_balance', 'rolling_daily_outflow', 'rolling_daily_outflow']\n",
      "Index: [  105   106   109 ... 99997 99998 99999]\n",
      "=================\n",
      "\n"
     ]
    }
   ],
   "source": [
    "def operational_deposit(input):\n",
    "    return input[\"rolling_daily_outflow\"]\n",
    "\n",
    "vm_od_model = vm.init_model(input_id=\"operational_deposit\", predict_fn=operational_deposit)\n",
    "vm_od_ds.assign_predictions(model=vm_od_model, prediction_column=\"rolling_daily_outflow\")\n",
    "print(vm_od_ds)"
   ]
  },
  {
   "cell_type": "markdown",
   "metadata": {},
   "source": [
    "### External test provider"
   ]
  },
  {
   "cell_type": "code",
   "execution_count": 35,
   "metadata": {},
   "outputs": [],
   "source": [
    "from validmind.tests import LocalTestProvider\n",
    "\n",
    "tests_folder = \"tests\"\n",
    "# initialize the test provider with the tests folder we created earlier\n",
    "my_test_provider = LocalTestProvider(tests_folder)\n",
    "\n",
    "vm.tests.register_test_provider(\n",
    "    namespace=\"my_test_provider\",\n",
    "    test_provider=my_test_provider,\n",
    ")"
   ]
  },
  {
   "cell_type": "markdown",
   "metadata": {},
   "source": [
    "### Simple custom test\n",
    "Let's plot timeseries line plot by grouping a specific column in the dataset"
   ]
  },
  {
   "cell_type": "code",
   "execution_count": 36,
   "metadata": {},
   "outputs": [
    {
     "name": "stderr",
     "output_type": "stream",
     "text": [
      "/Users/anilsorathiya/work/validmind/repos/developer-framework/notebooks/code_sharing/operational_deposit/tests/TimeseriesGroupbyPlot.py:22: FutureWarning:\n",
      "\n",
      "The default value of numeric_only in DataFrameGroupBy.mean is deprecated. In a future version, numeric_only will default to False. Either specify numeric_only or select only columns which should be valid for the function.\n",
      "\n"
     ]
    },
    {
     "data": {
      "application/vnd.jupyter.widget-view+json": {
       "model_id": "a6e6d9bdd4534087906ef02712cc188c",
       "version_major": 2,
       "version_minor": 0
      },
      "text/plain": [
       "VBox(children=(HTML(value='<h1>Timeseries Groupby Plot Total Outflow</h1>'), HTML(value='<p><strong>Timeseries…"
      ]
     },
     "metadata": {},
     "output_type": "display_data"
    },
    {
     "data": {
      "text/html": [
       "\n",
       "<script defer type=\"module\">\n",
       "import hljs from 'https://unpkg.com/@highlightjs/cdn-assets@11.9.0/es/highlight.min.js';\n",
       "import python from 'https://cdnjs.cloudflare.com/ajax/libs/highlight.js/11.9.0/es/languages/python.min.js';\n",
       "\n",
       "hljs.registerLanguage('python', python);\n",
       "hljs.highlightAll();\n",
       "</script>\n"
      ],
      "text/plain": [
       "<IPython.core.display.HTML object>"
      ]
     },
     "metadata": {},
     "output_type": "display_data"
    },
    {
     "data": {
      "text/html": [
       "\n",
       "<script>\n",
       "window.MathJax = {\n",
       "    tex2jax: {\n",
       "        inlineMath: [['$', '$'], ['\\\\(', '\\\\)']],\n",
       "        displayMath: [['$$', '$$'], ['\\[', '\\]']],\n",
       "        processEscapes: true,\n",
       "        skipTags: ['script', 'noscript', 'style', 'textarea', 'pre'],\n",
       "        ignoreClass: \".*\",\n",
       "        processClass: \"math\"\n",
       "    }\n",
       "};\n",
       "setTimeout(function () {\n",
       "    var script = document.createElement('script');\n",
       "    script.type = 'text/javascript';\n",
       "    script.src = 'https://cdnjs.cloudflare.com/ajax/libs/mathjax/2.7.7/MathJax.js?config=TeX-AMS_HTML';\n",
       "    document.head.appendChild(script);\n",
       "}, 300);\n",
       "</script>\n"
      ],
      "text/plain": [
       "<IPython.core.display.HTML object>"
      ]
     },
     "metadata": {},
     "output_type": "display_data"
    }
   ],
   "source": [
    "from validmind.tests import run_test\n",
    "\n",
    "result = run_test(\n",
    "    \"my_test_provider.TimeseriesGroupbyPlot:Total_Outflow\",\n",
    "    inputs={\n",
    "        \"dataset\": vm_od_ds,\n",
    "        \"model\": vm_od_model\n",
    "    },\n",
    "    params={\n",
    "        \"date_column\": \"bal_date\",\n",
    "        \"groupby_column\": \"cust_ipid_nm\",\n",
    "        \"y_column\": \"Total_Outflow\",\n",
    "    },\n",
    ").log()"
   ]
  },
  {
   "cell_type": "code",
   "execution_count": 37,
   "metadata": {},
   "outputs": [
    {
     "name": "stderr",
     "output_type": "stream",
     "text": [
      "/Users/anilsorathiya/work/validmind/repos/developer-framework/notebooks/code_sharing/operational_deposit/tests/TimeseriesGroupbyPlot.py:22: FutureWarning:\n",
      "\n",
      "The default value of numeric_only in DataFrameGroupBy.mean is deprecated. In a future version, numeric_only will default to False. Either specify numeric_only or select only columns which should be valid for the function.\n",
      "\n"
     ]
    },
    {
     "data": {
      "application/vnd.jupyter.widget-view+json": {
       "model_id": "22db6b52608048f9a858999cf730c38f",
       "version_major": 2,
       "version_minor": 0
      },
      "text/plain": [
       "VBox(children=(HTML(value='<h1>Timeseries Groupby Plot Total Outflow</h1>'), HTML(value='<p><strong>Time Serie…"
      ]
     },
     "metadata": {},
     "output_type": "display_data"
    },
    {
     "data": {
      "text/html": [
       "\n",
       "<script defer type=\"module\">\n",
       "import hljs from 'https://unpkg.com/@highlightjs/cdn-assets@11.9.0/es/highlight.min.js';\n",
       "import python from 'https://cdnjs.cloudflare.com/ajax/libs/highlight.js/11.9.0/es/languages/python.min.js';\n",
       "\n",
       "hljs.registerLanguage('python', python);\n",
       "hljs.highlightAll();\n",
       "</script>\n"
      ],
      "text/plain": [
       "<IPython.core.display.HTML object>"
      ]
     },
     "metadata": {},
     "output_type": "display_data"
    },
    {
     "data": {
      "text/html": [
       "\n",
       "<script>\n",
       "window.MathJax = {\n",
       "    tex2jax: {\n",
       "        inlineMath: [['$', '$'], ['\\\\(', '\\\\)']],\n",
       "        displayMath: [['$$', '$$'], ['\\[', '\\]']],\n",
       "        processEscapes: true,\n",
       "        skipTags: ['script', 'noscript', 'style', 'textarea', 'pre'],\n",
       "        ignoreClass: \".*\",\n",
       "        processClass: \"math\"\n",
       "    }\n",
       "};\n",
       "setTimeout(function () {\n",
       "    var script = document.createElement('script');\n",
       "    script.type = 'text/javascript';\n",
       "    script.src = 'https://cdnjs.cloudflare.com/ajax/libs/mathjax/2.7.7/MathJax.js?config=TeX-AMS_HTML';\n",
       "    document.head.appendChild(script);\n",
       "}, 300);\n",
       "</script>\n"
      ],
      "text/plain": [
       "<IPython.core.display.HTML object>"
      ]
     },
     "metadata": {},
     "output_type": "display_data"
    }
   ],
   "source": [
    "from validmind.tests import run_test\n",
    "result = run_test(\n",
    "    \"my_test_provider.TimeseriesGroupbyPlot:Total_Outflow\",\n",
    "    inputs={\n",
    "        \"dataset\": vm_od_ds,\n",
    "        \"model\": vm_od_model\n",
    "    },\n",
    "    params={\n",
    "        \"date_column\": \"bal_date\",\n",
    "        \"groupby_column\": \"client\",\n",
    "        \"y_column\": \"Total_Outflow\",\n",
    "    },\n",
    ").log()"
   ]
  },
  {
   "cell_type": "code",
   "execution_count": 38,
   "metadata": {},
   "outputs": [
    {
     "name": "stderr",
     "output_type": "stream",
     "text": [
      "/Users/anilsorathiya/work/validmind/repos/developer-framework/notebooks/code_sharing/operational_deposit/tests/TimeseriesGroupbyPlot.py:22: FutureWarning:\n",
      "\n",
      "The default value of numeric_only in DataFrameGroupBy.mean is deprecated. In a future version, numeric_only will default to False. Either specify numeric_only or select only columns which should be valid for the function.\n",
      "\n"
     ]
    },
    {
     "data": {
      "application/vnd.jupyter.widget-view+json": {
       "model_id": "44a719f907c947408946ef2ab6f68bde",
       "version_major": 2,
       "version_minor": 0
      },
      "text/plain": [
       "VBox(children=(HTML(value='<h1>Timeseries Groupby Plot Eod Outflow Ratio</h1>'), HTML(value='<p><strong>Time S…"
      ]
     },
     "metadata": {},
     "output_type": "display_data"
    },
    {
     "data": {
      "text/html": [
       "\n",
       "<script defer type=\"module\">\n",
       "import hljs from 'https://unpkg.com/@highlightjs/cdn-assets@11.9.0/es/highlight.min.js';\n",
       "import python from 'https://cdnjs.cloudflare.com/ajax/libs/highlight.js/11.9.0/es/languages/python.min.js';\n",
       "\n",
       "hljs.registerLanguage('python', python);\n",
       "hljs.highlightAll();\n",
       "</script>\n"
      ],
      "text/plain": [
       "<IPython.core.display.HTML object>"
      ]
     },
     "metadata": {},
     "output_type": "display_data"
    },
    {
     "data": {
      "text/html": [
       "\n",
       "<script>\n",
       "window.MathJax = {\n",
       "    tex2jax: {\n",
       "        inlineMath: [['$', '$'], ['\\\\(', '\\\\)']],\n",
       "        displayMath: [['$$', '$$'], ['\\[', '\\]']],\n",
       "        processEscapes: true,\n",
       "        skipTags: ['script', 'noscript', 'style', 'textarea', 'pre'],\n",
       "        ignoreClass: \".*\",\n",
       "        processClass: \"math\"\n",
       "    }\n",
       "};\n",
       "setTimeout(function () {\n",
       "    var script = document.createElement('script');\n",
       "    script.type = 'text/javascript';\n",
       "    script.src = 'https://cdnjs.cloudflare.com/ajax/libs/mathjax/2.7.7/MathJax.js?config=TeX-AMS_HTML';\n",
       "    document.head.appendChild(script);\n",
       "}, 300);\n",
       "</script>\n"
      ],
      "text/plain": [
       "<IPython.core.display.HTML object>"
      ]
     },
     "metadata": {},
     "output_type": "display_data"
    }
   ],
   "source": [
    "from validmind.tests import run_test\n",
    "\n",
    "result = run_test(\n",
    "    \"my_test_provider.TimeseriesGroupbyPlot:eod_outflow_ratio\",\n",
    "    inputs={\n",
    "        \"dataset\": vm_od_ds,\n",
    "        \"model\": vm_od_model\n",
    "    },\n",
    "    params={\n",
    "        \"date_column\": \"bal_date\",\n",
    "        \"groupby_column\": \"subclient\",\n",
    "        \"y_column\": \"eod_outflow_ratio\",\n",
    "    },\n",
    ").log()"
   ]
  },
  {
   "cell_type": "code",
   "execution_count": 39,
   "metadata": {},
   "outputs": [
    {
     "name": "stderr",
     "output_type": "stream",
     "text": [
      "/Users/anilsorathiya/work/validmind/repos/developer-framework/notebooks/code_sharing/operational_deposit/tests/TimeseriesGroupbyPlot.py:22: FutureWarning:\n",
      "\n",
      "The default value of numeric_only in DataFrameGroupBy.mean is deprecated. In a future version, numeric_only will default to False. Either specify numeric_only or select only columns which should be valid for the function.\n",
      "\n"
     ]
    },
    {
     "data": {
      "application/vnd.jupyter.widget-view+json": {
       "model_id": "011ef68b89b4450184552a3c70458410",
       "version_major": 2,
       "version_minor": 0
      },
      "text/plain": [
       "VBox(children=(HTML(value='<h1>Timeseries Groupby Plot Rolling Eod Balance</h1>'), HTML(value='<p><strong>Time…"
      ]
     },
     "metadata": {},
     "output_type": "display_data"
    },
    {
     "data": {
      "text/html": [
       "\n",
       "<script defer type=\"module\">\n",
       "import hljs from 'https://unpkg.com/@highlightjs/cdn-assets@11.9.0/es/highlight.min.js';\n",
       "import python from 'https://cdnjs.cloudflare.com/ajax/libs/highlight.js/11.9.0/es/languages/python.min.js';\n",
       "\n",
       "hljs.registerLanguage('python', python);\n",
       "hljs.highlightAll();\n",
       "</script>\n"
      ],
      "text/plain": [
       "<IPython.core.display.HTML object>"
      ]
     },
     "metadata": {},
     "output_type": "display_data"
    },
    {
     "data": {
      "text/html": [
       "\n",
       "<script>\n",
       "window.MathJax = {\n",
       "    tex2jax: {\n",
       "        inlineMath: [['$', '$'], ['\\\\(', '\\\\)']],\n",
       "        displayMath: [['$$', '$$'], ['\\[', '\\]']],\n",
       "        processEscapes: true,\n",
       "        skipTags: ['script', 'noscript', 'style', 'textarea', 'pre'],\n",
       "        ignoreClass: \".*\",\n",
       "        processClass: \"math\"\n",
       "    }\n",
       "};\n",
       "setTimeout(function () {\n",
       "    var script = document.createElement('script');\n",
       "    script.type = 'text/javascript';\n",
       "    script.src = 'https://cdnjs.cloudflare.com/ajax/libs/mathjax/2.7.7/MathJax.js?config=TeX-AMS_HTML';\n",
       "    document.head.appendChild(script);\n",
       "}, 300);\n",
       "</script>\n"
      ],
      "text/plain": [
       "<IPython.core.display.HTML object>"
      ]
     },
     "metadata": {},
     "output_type": "display_data"
    }
   ],
   "source": [
    "from validmind.tests import run_test\n",
    "\n",
    "result = run_test(\n",
    "    \"my_test_provider.TimeseriesGroupbyPlot:rolling_eod_balance\",\n",
    "    inputs={\n",
    "        \"dataset\": vm_od_ds,\n",
    "        \"model\": vm_od_model\n",
    "    },\n",
    "    params={\n",
    "        \"date_column\": \"bal_date\",\n",
    "        \"groupby_column\": \"subclient\",\n",
    "        \"y_column\": \"rolling_eod_balance\",\n",
    "    },\n",
    ").log()"
   ]
  },
  {
   "cell_type": "markdown",
   "metadata": {},
   "source": [
    "<a id='toc8_'></a>\n",
    "\n",
    "## Where to go from here\n",
    "\n",
    "In this notebook you have learned the end-to-end process to document a model with the ValidMind Developer Framework, running through some very common scenarios in a typical model development setting:\n",
    "\n",
    "- Running out-of-the-box tests\n",
    "- Documenting your model by adding evidence to model documentation\n",
    "- Extending the capabilities of the Developer Framework by implementing custom tests\n",
    "- Ensuring that the documentation is complete by running all tests in the documentation template\n",
    "\n",
    "As a next step, you can explore the following notebooks to get a deeper understanding on how the developer framework allows you generate model documentation for any use case:\n",
    "\n",
    "<a id='toc8_1_'></a>\n",
    "\n",
    "### Use cases\n",
    "\n",
    "- [Application scorecard demo](../code_samples/credit_risk/application_scorecard_demo.ipynb)\n",
    "- [Linear regression documentation demo](../code_samples/regression/quickstart_regression_full_suite.ipynb)\n",
    "- [LLM model documentation demo](../code_samples/nlp_and_llm/foundation_models_integration_demo.ipynb)\n",
    "\n",
    "<a id='toc8_2_'></a>\n",
    "\n",
    "### More how-to guides and code samples\n",
    "\n",
    "- [Explore available tests in detail](../how_to/explore_tests.ipynb)\n",
    "- [In-depth guide for implementing custom tests](../code_samples/custom_tests/implement_custom_tests.ipynb)\n",
    "- [In-depth guide to external test providers](../code_samples/custom_tests/integrate_external_test_providers.ipynb)\n",
    "- [Configuring dataset features](../how_to/configure_dataset_features.ipynb)\n",
    "- [Introduction to unit and composite metrics](../how_to/run_unit_metrics.ipynb)\n",
    "\n",
    "<a id='toc8_3_'></a>\n",
    "\n",
    "### Discover more learning resources\n",
    "\n",
    "All notebook samples can be found in the following directories of the Developer Framework GitHub repository:\n",
    "\n",
    "- [Code samples](https://github.com/validmind/developer-framework/tree/main/notebooks/code_samples)\n",
    "- [How-to guides](https://github.com/validmind/developer-framework/tree/main/notebooks/how_to)\n"
   ]
  },
  {
   "cell_type": "code",
   "execution_count": null,
   "metadata": {},
   "outputs": [],
   "source": []
  }
 ],
 "metadata": {
  "kernelspec": {
   "display_name": ".venv",
   "language": "python",
   "name": "python3"
  },
  "language_info": {
   "codemirror_mode": {
    "name": "ipython",
    "version": 3
   },
   "file_extension": ".py",
   "mimetype": "text/x-python",
   "name": "python",
   "nbconvert_exporter": "python",
   "pygments_lexer": "ipython3",
   "version": "3.10.14"
  }
 },
 "nbformat": 4,
 "nbformat_minor": 2
}
