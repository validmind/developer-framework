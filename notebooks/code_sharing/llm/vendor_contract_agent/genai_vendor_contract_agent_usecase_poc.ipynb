{
 "cells": [
  {
   "cell_type": "markdown",
   "metadata": {},
   "source": [
    "# Vendor Contract QA Agent Documentation POC"
   ]
  },
  {
   "cell_type": "markdown",
   "metadata": {},
   "source": [
    "## Pre-requisites"
   ]
  },
  {
   "cell_type": "code",
   "execution_count": null,
   "metadata": {},
   "outputs": [],
   "source": [
    "%pip install google-search-results --quiet\n",
    "%pip install beautifulsoup4 --quiet"
   ]
  },
  {
   "cell_type": "code",
   "execution_count": null,
   "metadata": {
    "metadata": {}
   },
   "outputs": [],
   "source": [
    "# load openai api key\n",
    "import os\n",
    "\n",
    "from dotenv import load_dotenv\n",
    "\n",
    "load_dotenv()\n",
    "\n",
    "if not \"OPENAI_API_KEY\" in os.environ:\n",
    "    raise ValueError(\"OPENAI_API_KEY is not set\")\n",
    "\n",
    "if not \"SERP_API_KEY\" in os.environ:\n",
    "    raise ValueError(\n",
    "        \"SERP_API_KEY is not set. \"\n",
    "        \"You can get it from https://serpapi.com/manage-api-key.\"\n",
    "    )"
   ]
  },
  {
   "cell_type": "code",
   "execution_count": null,
   "metadata": {},
   "outputs": [],
   "source": [
    "import sys\n",
    "\n",
    "sys.path.append(os.getcwd())\n",
    "\n",
    "from utils import (\n",
    "    client,\n",
    "    init_db,\n",
    "    get_schema_description,\n",
    "    get_tools_spec,\n",
    ")"
   ]
  },
  {
   "cell_type": "code",
   "execution_count": null,
   "metadata": {},
   "outputs": [],
   "source": [
    "init_db()"
   ]
  },
  {
   "cell_type": "markdown",
   "metadata": {},
   "source": [
    "# Create Agent"
   ]
  },
  {
   "cell_type": "markdown",
   "metadata": {},
   "source": [
    "### Load Tools and DB Schema Spec"
   ]
  },
  {
   "cell_type": "code",
   "execution_count": null,
   "metadata": {},
   "outputs": [],
   "source": [
    "tools_spec = get_tools_spec()"
   ]
  },
  {
   "cell_type": "code",
   "execution_count": null,
   "metadata": {},
   "outputs": [],
   "source": [
    "print(get_schema_description())"
   ]
  },
  {
   "cell_type": "markdown",
   "metadata": {},
   "source": [
    "### Create an Assistant"
   ]
  },
  {
   "cell_type": "code",
   "execution_count": null,
   "metadata": {},
   "outputs": [],
   "source": [
    "AGENT_SYSTEM_PROMPT = f\"\"\"\n",
    "# Mission:\n",
    "You are an AI Agent that helps employees answer questions they might have about everything related to software vendors.\n",
    "You will be asked questions such as \"Do we have a vendor for cloud storage?\" or \"I need a tool for project management\".\n",
    "You should use the tools available to you as well as semantic search on the documents you have access to to answer these questions.\n",
    "\n",
    "# Guidelines:\n",
    "For \"Do we have a vendor for cloud storage?\", you could use the `query_database` to query the contracts database for cloud storage vendors.\n",
    "Then you could search your document repository for information on the vendors you found.\n",
    "If none are found, then you might search online using the `search_online` tool to discover new vendors.\n",
    "Or, for the question \"I need a tool for project management\", if you cannot find a relevant vendor in the database,\n",
    "  you could use the `search_online` tool to find out if any existing vendors provide project management tools.\n",
    "\n",
    "# Constraints:\n",
    "You should always try and find relevant information from the database.\n",
    "You can search online to find new information or confirm information that you already know - you don't have to confirm with the user to perform a search.\n",
    "You should only fall back to your existing knowledge of vendors to help you come up with good search queries or when you want to enrich your answers.\n",
    "  - For example, if the user is asking for a certain product and you find a vendor in the db that doesn't mention that product but you know they offer it, you can share that with the user.\n",
    "You should only use your document retrieval system to find extra information related to vendors found in the database or online - essentially to enrich your knowledge before answering.\n",
    "Don't make assumptions about what values to plug into functions. Ask for clarification if a user request is ambiguous.\n",
    "\n",
    "# DB Schema:\n",
    "{get_schema_description()}\n",
    "\"\"\".strip()\n",
    "\n",
    "AGENT_NAME = \"Vendor Contract Q/A Assistant\"\n",
    "AGENT_ID = None\n",
    "\n",
    "for assistant in client.beta.assistants.list():\n",
    "    # if we already have an agent with the same name, use that\n",
    "    print(\"Using existing agent...\")\n",
    "    if assistant.name == AGENT_NAME:\n",
    "        AGENT_ID = assistant.id\n",
    "        break\n",
    "\n",
    "if AGENT_ID is None:\n",
    "    # Create an agent using the OpenAI Assistants API\n",
    "    print(\"Creating agent...\")\n",
    "    agent = client.beta.assistants.create(\n",
    "        name=AGENT_NAME,\n",
    "        instructions=AGENT_SYSTEM_PROMPT,\n",
    "        model=\"gpt-4o\",\n",
    "        tools=tools_spec,\n",
    "    )\n",
    "    AGENT_ID = agent.id\n",
    "\n",
    "print(f\"Assistant ID: {AGENT_ID}\")"
   ]
  },
  {
   "cell_type": "markdown",
   "metadata": {},
   "source": [
    "# Use the Agent"
   ]
  },
  {
   "cell_type": "code",
   "execution_count": null,
   "metadata": {},
   "outputs": [],
   "source": [
    "from utils import AgentEventHandler\n",
    "\n",
    "os.environ[\"DEBUG\"] = \"0\"\n",
    "\n",
    "\n",
    "def single_pass_agent(input):\n",
    "    thread = client.beta.threads.create()\n",
    "\n",
    "    client.beta.threads.messages.create(\n",
    "        thread_id=thread.id,\n",
    "        role=\"user\",\n",
    "        content=input[\"question\"],\n",
    "    )\n",
    "\n",
    "    with client.beta.threads.runs.stream(\n",
    "        thread_id=thread.id,\n",
    "        assistant_id=AGENT_ID,\n",
    "        event_handler=AgentEventHandler(input),\n",
    "    ) as stream:\n",
    "        stream.until_done()\n",
    "\n",
    "    return input"
   ]
  },
  {
   "cell_type": "code",
   "execution_count": null,
   "metadata": {},
   "outputs": [],
   "source": [
    "import json\n",
    "\n",
    "input = {\"question\": \"Do we have contracts with microsoft?\"}\n",
    "\n",
    "single_pass_agent(input)\n",
    "\n",
    "print(json.dumps(input, indent=5))"
   ]
  },
  {
   "cell_type": "markdown",
   "metadata": {},
   "source": [
    "# Use the Agent with ValidMind"
   ]
  },
  {
   "cell_type": "code",
   "execution_count": null,
   "metadata": {},
   "outputs": [],
   "source": [
    "import pandas as pd\n",
    "import validmind as vm\n",
    "\n",
    "vm.init(\n",
    "    api_host=\"https://api.prod.validmind.ai/api/v1/tracking\",\n",
    "    api_key=\"...\",\n",
    "    api_secret=\"...\",\n",
    "    model=\"...\",\n",
    ")\n",
    "\n",
    "vm_model = vm.init_model(\n",
    "    predict_fn=single_pass_agent,\n",
    "    input_id=\"vendor_qa_agent\",\n",
    ")\n",
    "\n",
    "vm_model.predict(pd.DataFrame({\"question\": [\"Do we have contracts with microsoft?\"]}))"
   ]
  },
  {
   "cell_type": "code",
   "execution_count": null,
   "metadata": {},
   "outputs": [],
   "source": [
    "test_df = pd.DataFrame(\n",
    "    {\n",
    "        \"question\": [\n",
    "            \"Do we have contracts with microsoft?\",\n",
    "            \"Do we have contracts with google?\",\n",
    "            \"Do we have contracts with amazon?\",\n",
    "            \"What vendors do we have that offer cloud storage?\",\n",
    "            \"Do we have relationships with server hardware vendors?\",\n",
    "            \"How much is our total spend on project management software?\",\n",
    "            \"I need an ERP system for our company. Can you help me find one?\",\n",
    "        ],\n",
    "        \"ground_truth\": [\n",
    "            \"Yes, we have 2 contracts with Microsoft: C014 and C015.\",\n",
    "            \"No, we do not have contracts with Google.\",\n",
    "            \"Yes, we have 2 contracts with Amazon: C007 and C008.\",\n",
    "            \"We have multiple vendors who have a cloud storage offering: Amazon Web Services (Vendor ID: V005), Microsoft (Vendor ID: V011), IBM (Vendor ID: V012) and Oracle (Vendor ID: V014)\",\n",
    "            \"We have relationships with the following server hardware vendors: Dell (Vendor ID: V013), HP (Vendor ID: V015) and Cisco (Vendor ID: V001).\",\n",
    "            \"We don't have any existing contracts for project management software. So the total spend is $0.\",\n",
    "            \"We have an existing relationship with SAP for ERP software (Vendor ID: V004). The following two contracts are in place: C005 and C006.\",\n",
    "        ],\n",
    "    }\n",
    ")\n",
    "\n",
    "vm_test_dataset = vm.init_dataset(\n",
    "    test_df,\n",
    "    input_id=\"vendor_qa_test_dataset\",\n",
    ")"
   ]
  },
  {
   "cell_type": "code",
   "execution_count": null,
   "metadata": {},
   "outputs": [],
   "source": [
    "vm_test_dataset.assign_predictions(vm_model)"
   ]
  },
  {
   "cell_type": "code",
   "execution_count": null,
   "metadata": {},
   "outputs": [],
   "source": [
    "import json\n",
    "\n",
    "pred_column = vm_test_dataset.prediction_column(vm_model)\n",
    "\n",
    "print(json.dumps(vm_test_dataset.df[pred_column][0], indent=5))"
   ]
  },
  {
   "cell_type": "code",
   "execution_count": null,
   "metadata": {},
   "outputs": [],
   "source": [
    "vm.tests.list_tests(filter=\"rag\")"
   ]
  },
  {
   "cell_type": "code",
   "execution_count": null,
   "metadata": {},
   "outputs": [],
   "source": [
    "for test_id in sorted(vm.tests.list_tests(filter=\"rag\", pretty=False)):\n",
    "    vm.tests.describe_test(test_id)"
   ]
  },
  {
   "cell_type": "code",
   "execution_count": null,
   "metadata": {},
   "outputs": [],
   "source": [
    "from validmind.tests import run_test\n",
    "\n",
    "rag_tests_inputs = {\"dataset\": vm_test_dataset}\n",
    "\n",
    "# for the tests that need the contexts and generated answer, we can pass a mapping as parameters\n",
    "rag_tests_params = {\n",
    "    \"contexts_column\": f\"{pred_column}.contexts\",\n",
    "    \"answer_column\": lambda row: \"\\n\\n\".join(row[pred_column][\"messages\"]),\n",
    "}"
   ]
  },
  {
   "cell_type": "code",
   "execution_count": null,
   "metadata": {},
   "outputs": [],
   "source": [
    "vm_test_dataset.df.head()"
   ]
  },
  {
   "cell_type": "code",
   "execution_count": null,
   "metadata": {},
   "outputs": [],
   "source": [
    "import os\n",
    "\n",
    "os.environ[\"VM_OVERRIDE_METADATA\"] = \"true\""
   ]
  },
  {
   "cell_type": "code",
   "execution_count": null,
   "metadata": {},
   "outputs": [],
   "source": [
    "result = run_test(\n",
    "    \"validmind.model_validation.ragas.AnswerCorrectness\",\n",
    "    inputs=rag_tests_inputs,\n",
    "    params=rag_tests_params,\n",
    ")\n",
    "result.log()"
   ]
  },
  {
   "cell_type": "code",
   "execution_count": null,
   "metadata": {},
   "outputs": [],
   "source": [
    "result = run_test(\n",
    "    \"validmind.model_validation.ragas.AnswerRelevance\",\n",
    "    inputs=rag_tests_inputs,\n",
    "    params=rag_tests_params,\n",
    ")\n",
    "result.log()"
   ]
  },
  {
   "cell_type": "code",
   "execution_count": null,
   "metadata": {},
   "outputs": [],
   "source": [
    "result = run_test(\n",
    "    \"validmind.model_validation.ragas.AnswerSimilarity\",\n",
    "    inputs=rag_tests_inputs,\n",
    "    params=rag_tests_params,\n",
    ")\n",
    "result.log()"
   ]
  },
  {
   "cell_type": "code",
   "execution_count": null,
   "metadata": {},
   "outputs": [],
   "source": [
    "result = run_test(\n",
    "    \"validmind.model_validation.ragas.AspectCritique\",\n",
    "    inputs=rag_tests_inputs,\n",
    "    params={\n",
    "        **rag_tests_params,\n",
    "        \"additional_aspects\": [\n",
    "            (\n",
    "                \"professionalism\",\n",
    "                \"Ensure the response is professional and appropriate for a business setting.\",\n",
    "            ),\n",
    "        ],\n",
    "    },\n",
    ")\n",
    "result.log()"
   ]
  },
  {
   "cell_type": "code",
   "execution_count": null,
   "metadata": {},
   "outputs": [],
   "source": [
    "result = run_test(\n",
    "    \"validmind.model_validation.ragas.ContextEntityRecall\",\n",
    "    inputs=rag_tests_inputs,\n",
    "    params=rag_tests_params,\n",
    ")\n",
    "result.log()"
   ]
  },
  {
   "cell_type": "code",
   "execution_count": null,
   "metadata": {},
   "outputs": [],
   "source": [
    "result = run_test(\n",
    "    \"validmind.model_validation.ragas.ContextPrecision\",\n",
    "    inputs=rag_tests_inputs,\n",
    "    params=rag_tests_params,\n",
    ")\n",
    "result.log()"
   ]
  },
  {
   "cell_type": "code",
   "execution_count": null,
   "metadata": {},
   "outputs": [],
   "source": [
    "result = run_test(\n",
    "    \"validmind.model_validation.ragas.ContextRecall\",\n",
    "    inputs=rag_tests_inputs,\n",
    "    params=rag_tests_params,\n",
    ")\n",
    "result.log()"
   ]
  },
  {
   "cell_type": "code",
   "execution_count": null,
   "metadata": {},
   "outputs": [],
   "source": [
    "result = run_test(\n",
    "    \"validmind.model_validation.ragas.ContextRelevancy\",\n",
    "    inputs=rag_tests_inputs,\n",
    "    params=rag_tests_params,\n",
    ")\n",
    "result.log()"
   ]
  },
  {
   "cell_type": "code",
   "execution_count": null,
   "metadata": {},
   "outputs": [],
   "source": [
    "result = run_test(\n",
    "    \"validmind.model_validation.ragas.Faithfulness\",\n",
    "    inputs=rag_tests_inputs,\n",
    "    params=rag_tests_params,\n",
    ")"
   ]
  }
 ],
 "metadata": {
  "kernelspec": {
   "display_name": "Python 3 (ipykernel)",
   "language": "python",
   "name": "python3"
  },
  "language_info": {
   "codemirror_mode": {
    "name": "ipython",
    "version": 3
   },
   "file_extension": ".py",
   "mimetype": "text/x-python",
   "name": "python",
   "nbconvert_exporter": "python",
   "pygments_lexer": "ipython3",
   "version": "3.8.13"
  }
 },
 "nbformat": 4,
 "nbformat_minor": 4
}
