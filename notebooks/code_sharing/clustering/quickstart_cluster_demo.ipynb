{
    "cells": [
        {
            "attachments": {},
            "cell_type": "markdown",
            "metadata": {
                "id": "ZnZV4XfHSPcw"
            },
            "source": [
                "# Quickstart for clustering Documentation — Full Suite\n",
                "\n",
                "<!-- This interactive notebook guides you through the process of documenting a model with the ValidMind Developer Framework. It uses the [Bank Customer Churn Prediction](https://www.kaggle.com/code/kmalit/bank-customer-churn-prediction/data) sample dataset from Kaggle to train a simple classification model.\n",
                "\n",
                "As part of the notebook, you will learn how to train a sample model while exploring how the documentation process works:\n",
                "\n",
                "- Initializing the ValidMind Developer Framework\n",
                "- Loading a sample dataset provided by the library to train a simple classification model\n",
                "- Running a ValidMind test suite to quickly generate documention about the data and model -->"
            ]
        },
        {
            "attachments": {},
            "cell_type": "markdown",
            "metadata": {},
            "source": [
                "## ValidMind at a glance\n",
                "\n",
                "ValidMind's platform enables organizations to identify, document, and manage model risks for all types of models, including AI/ML models, LLMs, and statistical models. As a model developer, you use the ValidMind Developer Framework to automate documentation and validation tests, and then use the ValidMind AI Risk Platform UI to collaborate on model documentation. Together, these products simplify model risk management, facilitate compliance with regulations and institutional standards, and enhance collaboration between yourself and model validators.\n",
                "\n",
                "If this is your first time trying out ValidMind, you can make use of the following resources alongside this notebook:\n",
                "\n",
                "- [Get started](https://docs.validmind.ai/get-started/get-started.html) — The basics, including key concepts, and how our products work\n",
                "- [Get started with the ValidMind Developer Framework](https://docs.validmind.ai/developer/get-started-developer-framework.html) —  The path for developers, more code samples, and our developer reference"
            ]
        },
        {
            "attachments": {},
            "cell_type": "markdown",
            "metadata": {
                "id": "ZNcbDRubSPc1"
            },
            "source": [
                "## Before you begin\n",
                "\n",
                "To use the ValidMind Developer Framework with a Jupyter notebook, you need to install and initialize the client library first, along with getting your Python environment ready. When running this notebook locally, this includes installing any missing prerequisite modules that you discover with `pip install`. "
            ]
        },
        {
            "attachments": {},
            "cell_type": "markdown",
            "metadata": {},
            "source": [
                "## Install the client library\n",
                "\n",
                "The client library provides Python support for the ValidMind Developer Framework. To install it:"
            ]
        },
        {
            "cell_type": "code",
            "execution_count": null,
            "metadata": {
                "id": "6G5-kHOZ7YWk"
            },
            "outputs": [],
            "source": [
                "%pip install -q validmind"
            ]
        },
        {
            "attachments": {},
            "cell_type": "markdown",
            "metadata": {
                "id": "_ZqI8W5jSPc1"
            },
            "source": [
                "## Initialize the client library\n",
                "\n",
                "ValidMind generates a unique _code snippet_ for each registered model to connect with your developer environment. You initialize the client library with this code snippet, which ensures that your documentation and tests are uploaded to the correct model when you run the notebook.\n",
                "\n",
                "Get your code snippet:\n",
                "\n",
                "1. In a browser, [log in to ValidMind](https://docs.validmind.ai/guide/configuration/log-in-to-validmind.html).\n",
                "\n",
                "2. In the left sidebar, navigate to **Model Inventory** and click **+ Register new model**.\n",
                "\n",
                "3. Enter the model details and click **Continue**. ([Need more help?](https://docs.validmind.ai/guide/model-inventory/register-models-in-inventory.html))\n",
                "\n",
                "4. Go to **Getting Started** and click **Copy snippet to clipboard**.\n",
                "\n",
                "Next, replace this placeholder with your own code snippet:"
            ]
        },
        {
            "cell_type": "code",
            "execution_count": null,
            "metadata": {
                "id": "5hqGn9jHSPc2"
            },
            "outputs": [],
            "source": [
                "# Replace with your code snippet\n",
                "\n",
                "import validmind as vm\n",
                "\n",
                "vm.init(\n",
                "    api_host=\"...\",\n",
                "    api_key=\"...\",\n",
                "    api_secret=\"...\",\n",
                "    model=\"...\",\n",
                ")"
            ]
        },
        {
            "attachments": {},
            "cell_type": "markdown",
            "metadata": {},
            "source": [
                "## Initialize the Python environment\n",
                "\n",
                "Next, let's import the necessary libraries and set up your Python environment for data analysis:"
            ]
        },
        {
            "cell_type": "code",
            "execution_count": null,
            "metadata": {},
            "outputs": [],
            "source": [
                "import numpy as np\n",
                "import pandas as pd\n",
                "from time import time\n",
                "import pyarrow.feather as feather\n",
                "\n",
                "from sklearn import metrics\n",
                "from sklearn.pipeline import make_pipeline\n",
                "from sklearn.preprocessing import StandardScaler\n",
                "from sklearn.datasets import load_digits\n",
                "\n",
                "from sklearn.cluster import KMeans"
            ]
        },
        {
            "cell_type": "markdown",
            "metadata": {},
            "source": [
                "### Preview the documentation template\n",
                "\n",
                "A template predefines sections for your model documentation and provides a general outline to follow, making the documentation process much easier.\n",
                "\n",
                "You will upload documentation and test results into this template later on. For now, take a look at the structure that the template provides with the `vm.preview_template()` function from the ValidMind library and note the empty sections:"
            ]
        },
        {
            "cell_type": "code",
            "execution_count": null,
            "metadata": {},
            "outputs": [],
            "source": [
                "vm.preview_template()"
            ]
        },
        {
            "attachments": {},
            "cell_type": "markdown",
            "metadata": {
                "id": "WT4iDaNPSPc4"
            },
            "source": [
                "## Load the sample dataset\n",
                "\n",
                "The sample dataset used here is provided by the ValidMind library, along with a second, different dataset you can try as well. \n",
                "\n",
                "To be able to use either sample dataset, you need to import the dataset and load it into a pandas [DataFrame](https://pandas.pydata.org/docs/reference/api/pandas.DataFrame.html), a two-dimensional tabular data structure that makes use of rows and columns:"
            ]
        },
        {
            "cell_type": "code",
            "execution_count": null,
            "metadata": {
                "id": "BlNanClPSPc5"
            },
            "outputs": [],
            "source": [
                "read_df = feather.read_feather('../20231026 SampleData_filtered.f')\n",
                "\n",
                "df = read_df.drop(['language_code', 'title_snippet_processed',\n",
                "                  'Prob_LogReg_L2_model', 'distance center'], axis=1)\n",
                "target_column = \"Cluster\"\n",
                "cluster_labels = my_dict = dict(\n",
                "    zip(range(len(np.unique(df.Cluster))), np.unique(df.Cluster)))"
            ]
        },
        {
            "attachments": {},
            "cell_type": "markdown",
            "metadata": {
                "id": "7iMY_9V3SPc5"
            },
            "source": [
                "### Initialize a ValidMind dataset object\n",
                "\n",
                "Before you can run a test suite, which are just a collection of tests, you must first initialize a ValidMind dataset object using the [`init_dataset`](https://docs.validmind.ai/validmind/validmind.html#init_dataset) function from the ValidMind (`vm`) module. \n",
                "\n",
                "This function takes a number of arguments: \n",
                "\n",
                "- `dataset` — the raw dataset that you want to analyze\n",
                "- `target_column` — the name of the target column in the dataset \n",
                "- `cluster_labels` — the list of class labels used for classification model training"
            ]
        },
        {
            "cell_type": "code",
            "execution_count": null,
            "metadata": {
                "id": "X64u5AbHSPc6"
            },
            "outputs": [],
            "source": [
                "vm_dataset = vm.init_dataset(\n",
                "    dataset=df,\n",
                "    target_column=target_column,\n",
                "    class_labels=cluster_labels\n",
                ")"
            ]
        },
        {
            "attachments": {},
            "cell_type": "markdown",
            "metadata": {
                "id": "sP6OZpdGSPc6"
            },
            "source": [
                "## Document the model\n",
                "\n",
                "As part of documenting the model with the ValidMind Developer Framework, you need to preprocess the raw dataset, initialize some training and test datasets, initialize a model object you can use for testing, and then run the full suite of tests. "
            ]
        },
        {
            "attachments": {},
            "cell_type": "markdown",
            "metadata": {
                "id": "XNI6mCy0SPc6"
            },
            "source": [
                "### Prepocess the raw dataset\n",
                "\n",
                "Preprocessing performs a number of operations to get ready for the subsequent steps:\n",
                "\n",
                "- Preprocess the data: Splits the DataFrame (`df`) into multiple datasets (`train_df`, `validation_df`, and `test_df`) using `demo_dataset.preprocess` to simplify preprocessing.\n",
                "- Separate features and targets: Drops the target column to create feature sets (`x_train`, `x_val`) and target sets (`y_train`, `y_val`).\n",
                "- Scale data using `StandardScaler`. \n",
                "- Initialize KMeans clustering algorithm: Creates an `KMeans` object with `k-means++` method.\n",
                "- Fit the model: Trains the model on `x_train` and `y_train`."
            ]
        },
        {
            "cell_type": "code",
            "execution_count": null,
            "metadata": {
                "id": "PMeDVcpsSPc7"
            },
            "outputs": [],
            "source": [
                " from validmind.datasets.cluster import digits as demo_dataset\n",
                "train_df, validation_df, test_df = demo_dataset.preprocess(df)\n",
                "\n",
                "x_train = train_df.drop(target_column, axis=1)\n",
                "y_train = train_df[target_column]\n",
                "x_val = validation_df.drop(target_column, axis=1)\n",
                "y_val = validation_df[target_column]\n",
                "x_test = test_df.drop(target_column, axis=1)\n",
                "y_test = test_df[target_column]\n",
                "x_train = pd.concat([x_train, x_val], axis=0)\n",
                "y_train = pd.concat([y_train, y_val], axis=0)\n",
                "\n",
                "scale = False\n",
                "if scale:\n",
                "    scaler = StandardScaler()\n",
                "    x_train = scaler.fit_transform(x_train)\n",
                "    x_val = scaler.fit_transform(x_val)\n",
                "    x_test = scaler.fit_transform(x_test)\n",
                "\n",
                "\n",
                "n_clusters = len(list(cluster_labels.values()))\n",
                "model = KMeans(init=\"k-means++\", n_clusters=n_clusters, n_init=4, random_state=0)\n",
                "model = model.fit(x_train)"
            ]
        },
        {
            "attachments": {},
            "cell_type": "markdown",
            "metadata": {
                "id": "DTO0bN4qSPc7"
            },
            "source": [
                "### Initialize the training and test datasets\n",
                "\n",
                "With the datasets ready, you can now initialize the training and test datasets (`train_df` and `test_df`) created earlier into their own dataset objects using [`vm.init_dataset()`](https://docs.validmind.ai/validmind/validmind.html#init_dataset):"
            ]
        },
        {
            "cell_type": "code",
            "execution_count": null,
            "metadata": {
                "id": "ShiOFS7bSPc7"
            },
            "outputs": [],
            "source": [
                "vm_train_ds = vm.init_dataset(\n",
                "    dataset=train_df,\n",
                "    target_column=target_column\n",
                ")\n",
                "\n",
                "vm_test_ds = vm.init_dataset(\n",
                "    dataset=test_df,\n",
                "    target_column=target_column\n",
                ")"
            ]
        },
        {
            "attachments": {},
            "cell_type": "markdown",
            "metadata": {
                "id": "l6dpArGCSPc7"
            },
            "source": [
                "### Initialize a model object \n",
                "\n",
                "Additionally, you need to initialize a ValidMind model object (`vm_model`) that can be passed to other functions for analysis and tests on the data. You simply intialize this model object with [`vm.init_model()`](https://docs.validmind.ai/validmind/validmind.html#init_model):"
            ]
        },
        {
            "cell_type": "code",
            "execution_count": null,
            "metadata": {
                "id": "wE0OckXjSPc7"
            },
            "outputs": [],
            "source": [
                "vm_model = vm.init_model(\n",
                "    model,\n",
                "    train_ds=vm_train_ds,\n",
                "    test_ds=vm_test_ds,\n",
                ")"
            ]
        },
        {
            "attachments": {},
            "cell_type": "markdown",
            "metadata": {
                "id": "8xaBL0_3SPc7"
            },
            "source": [
                "### Run the full suite of tests\n",
                "\n",
                "This is where it all comes together: you are now ready to run the full suite of tests for the model as defined by the documentation template you looked at earlier. \n",
                "\n",
                "The [`vm.run_documentation_tests`](https://docs.validmind.ai/validmind/validmind.html#run_documentation_tests) function finds and runs every test specified in the template and then uploads all the documentation and test artifacts that get generated to the ValidMind AI Risk Platform. \n",
                "\n",
                "The function takes two arguments:\n",
                "\n",
                "- `dataset`: The data to be tested, specified as `vm_dataset`.\n",
                "- `model`: The model to be used for testing, specified as `vm_model`.\n",
                "\n",
                "The variable `full_suite` then holds the result of these tests."
            ]
        },
        {
            "cell_type": "code",
            "execution_count": null,
            "metadata": {},
            "outputs": [],
            "source": [
                "config = {\n",
                "    \"validmind.model_validation.sklearn.HyperParametersTuning\": {\n",
                "        \"param_grid\": {\"n_clusters\": range(40, 60)}\n",
                "    },\n",
                "    \"validmind.model_validation.sklearn.KMeansClustersOptimization\": {\n",
                "        \"n_clusters\": range(40, 60)\n",
                "    }\n",
                "}\n",
                "vm.run_documentation_tests(\n",
                "    model=vm_model, section=\"model_development_clustering\", config=config)"
            ]
        },
        {
            "attachments": {},
            "cell_type": "markdown",
            "metadata": {},
            "source": [
                "## Next steps\n",
                "\n",
                "You can look at the results of this test suite right in the notebook where you ran the code, as you would expect. But there is a better way: view the test results as part of your model documentation right in the ValidMind Platform UI: \n",
                "\n",
                "1. In the ValidMind Platform UI, go to the **Documentation** page for the model you registered earlier. ([Need more help?](https://docs.validmind.ai/guide/model-documentation/working-with-model-documentation.html)\n",
                "\n",
                "2. Expand the following sections and take a look around:\n",
                "   \n",
                "   - **2. Data Preparation**\n",
                "   - **3. Model Development**\n",
                "\n",
                "What you can see now is a much more easily consumable version of the documentation, including the results of the tests you just performed, along with other parts of your model documentation that still need to be completed. There is a wealth of information that gets uploaded when you run the full test suite, so take a closer look around, especially at test results that might need attention (hint: some of the tests in 2.1 Data description look like they need some attention).\n",
                "\n",
                "If you want to learn more about where you are in the model documentation process, take a look at [Get started with the ValidMind Developer Framework\n",
                "](https://docs.validmind.ai/developer/get-started-developer-framework.html).\n"
            ]
        }
    ],
    "metadata": {
        "colab": {
            "provenance": []
        },
        "gpuClass": "standard",
        "kernelspec": {
            "display_name": "developer-framework",
            "language": "python",
            "name": "developer-framework"
        },
        "language_info": {
            "codemirror_mode": {
                "name": "ipython",
                "version": 3
            },
            "file_extension": ".py",
            "mimetype": "text/x-python",
            "name": "python",
            "nbconvert_exporter": "python",
            "pygments_lexer": "ipython3",
            "version": "3.9.6"
        }
    },
    "nbformat": 4,
    "nbformat_minor": 0
}
