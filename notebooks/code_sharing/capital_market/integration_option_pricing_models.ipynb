{
 "cells": [
  {
   "cell_type": "markdown",
   "id": "4696c537",
   "metadata": {},
   "source": [
    "## ValidMind Initialization\n"
   ]
  },
  {
   "cell_type": "code",
   "execution_count": null,
   "id": "ff91300d",
   "metadata": {},
   "outputs": [],
   "source": [
    "import validmind as vm\n",
    "\n",
    "vm.init(\n",
    "  api_host = \"...\",\n",
    "  api_key = \"...\",\n",
    "  api_secret = \"...\",\n",
    "  project = \"...\"\n",
    ")"
   ]
  },
  {
   "cell_type": "markdown",
   "id": "082698d7",
   "metadata": {},
   "source": [
    "## Prepare dataset \n"
   ]
  },
  {
   "cell_type": "code",
   "execution_count": null,
   "id": "1f8fe37d",
   "metadata": {},
   "outputs": [],
   "source": [
    "import pandas as pd\n",
    "\n",
    "# strikes = [90, 95, 100, 105, 110]\n",
    "# maturities = [0.5, 1.0, 1.5, 2.0]\n",
    "data_df = pd.DataFrame({\"K\": [90, 95, 100, 105, 110], \"T\": [0.5, 1.0, 1.5, 2.0, 2.5]})\n",
    "print(data_df)\n",
    "\n",
    "vm_ds =  vm.init_dataset(\n",
    "    data_df,\n",
    "    input_id = \"vm_dataset\"\n",
    ")"
   ]
  },
  {
   "cell_type": "markdown",
   "id": "184c2152",
   "metadata": {},
   "source": [
    "# BlackScholesModel"
   ]
  },
  {
   "cell_type": "markdown",
   "id": "3a147efe",
   "metadata": {},
   "source": [
    "## model"
   ]
  },
  {
   "cell_type": "code",
   "execution_count": 4,
   "id": "e182fff1",
   "metadata": {},
   "outputs": [],
   "source": [
    "import numpy as np\n",
    "from scipy.optimize import minimize\n",
    "\n",
    "class OptionPricing:\n",
    "    def __init__(self, S0, r, M, N):\n",
    "        self.S0 = S0\n",
    "        self.r = r\n",
    "        self.M = M \n",
    "        self.N = N \n",
    "\n",
    "    def monte_carlo_simulation(self, T):\n",
    "        raise NotImplementedError(\"Must be implemented by subclasses\")\n",
    "\n",
    "    def price_option(self, K, T):\n",
    "        raise NotImplementedError(\"Must be implemented by subclasses\")\n",
    "\n",
    "\n",
    "class BlackScholesModel(OptionPricing):\n",
    "    def __init__(self, S0, r, M, N, sigma):\n",
    "        super().__init__(S0, r, M, N)\n",
    "        self.sigma = sigma\n",
    "\n",
    "    def monte_carlo_simulation(self, T):\n",
    "        dt = T / self.M\n",
    "        price_paths = np.zeros((self.N, self.M + 1))\n",
    "        price_paths[:, 0] = self.S0\n",
    "        for t in range(1, self.M + 1):\n",
    "            Z = np.random.standard_normal(self.N)\n",
    "            price_paths[:, t] = price_paths[:, t - 1] * np.exp((self.r - 0.5 * self.sigma**2) * dt + self.sigma * np.sqrt(dt) * Z)\n",
    "        return price_paths\n",
    "\n",
    "    def price_option(self, K, T):\n",
    "        price_paths = self.monte_carlo_simulation(T)\n",
    "        payoffs = np.maximum(price_paths[:, -1] - K, 0)\n",
    "        return np.exp(-self.r * T) * np.mean(payoffs)\n",
    "    \n",
    "    def calibrate(self, market_prices, strikes, maturities):\n",
    "        def objective_function(params):\n",
    "            self.sigma = params[0]\n",
    "            model_prices = [self.price_option(K, T) for K, T in zip(strikes, maturities)]\n",
    "            return np.sum((np.array(market_prices) - np.array(model_prices))**2)\n",
    "        \n",
    "        result = minimize(objective_function, [self.sigma], bounds=[(0.01, 1.0)])\n",
    "        self.sigma = result.x[0]\n",
    "\n"
   ]
  },
  {
   "cell_type": "markdown",
   "id": "de63bc52",
   "metadata": {},
   "source": [
    "##  Generate synthetic data\n"
   ]
  },
  {
   "cell_type": "code",
   "execution_count": 5,
   "id": "fcb199e9",
   "metadata": {},
   "outputs": [],
   "source": [
    "def generate_synthetic_market_data(model, strikes, maturities):\n",
    "    market_prices = [model.price_option(K, T) for K, T in zip(strikes, maturities)]\n",
    "    return market_prices"
   ]
  },
  {
   "cell_type": "code",
   "execution_count": 30,
   "id": "1bf6c603",
   "metadata": {},
   "outputs": [],
   "source": [
    "# Parameters for synthetic data\n",
    "S0 = 100\n",
    "r = 0.05\n",
    "true_sigma = 0.2\n",
    "true_v0 = 0.2\n",
    "true_kappa = 2.0\n",
    "true_theta = 0.2\n",
    "true_xi = 0.1\n",
    "true_rho = -0.5\n",
    "N = 10000\n",
    "M = 1000\n",
    "\n",
    "strikes = [90, 95, 100, 105, 110]\n",
    "maturities = [0.5, 1.0, 1.5, 2.0]\n",
    "\n",
    "# Generate synthetic market data using the true parameters\n",
    "bs_model = BlackScholesModel(S0, r, M, N, true_sigma)\n",
    "bs_market_prices = generate_synthetic_market_data(bs_model, strikes, maturities)"
   ]
  },
  {
   "cell_type": "markdown",
   "id": "739f37ec",
   "metadata": {},
   "source": [
    "## Calibrate models\n"
   ]
  },
  {
   "cell_type": "code",
   "execution_count": null,
   "id": "e2c3e4ec",
   "metadata": {},
   "outputs": [],
   "source": [
    "bs_model.calibrate(bs_market_prices, strikes, maturities)\n",
    "print(\"Calibrated sigma:\", bs_model.sigma)"
   ]
  },
  {
   "cell_type": "markdown",
   "id": "2aebff09",
   "metadata": {},
   "source": [
    "## Prediction function for option price "
   ]
  },
  {
   "cell_type": "code",
   "execution_count": 32,
   "id": "16bbfceb",
   "metadata": {},
   "outputs": [],
   "source": [
    "\n",
    "def predict_bs_option_price(input):\n",
    "    price_paths = bs_model.monte_carlo_simulation(input[\"T\"])\n",
    "    payoffs = np.maximum(price_paths[:, -1] - input[\"K\"], 0)\n",
    "    return np.exp(-bs_model.r * input[\"T\"]) * np.mean(payoffs)\n",
    "\n",
    "vm_bs_model = vm.init_model(input_id=\"bs_model\", predict_fn=predict_bs_option_price)"
   ]
  },
  {
   "cell_type": "markdown",
   "id": "6f33d4bd",
   "metadata": {},
   "source": [
    "## Predict option price "
   ]
  },
  {
   "cell_type": "code",
   "execution_count": null,
   "id": "897b309e",
   "metadata": {},
   "outputs": [],
   "source": [
    "vm_ds.assign_predictions(model=vm_bs_model)\n",
    "print(vm_ds.df)"
   ]
  },
  {
   "cell_type": "markdown",
   "id": "e8329daf",
   "metadata": {},
   "source": [
    "# Stochastic Volatility Model"
   ]
  },
  {
   "cell_type": "markdown",
   "id": "f5c8368a",
   "metadata": {},
   "source": [
    "## model"
   ]
  },
  {
   "cell_type": "code",
   "execution_count": 34,
   "id": "da6b4b65",
   "metadata": {},
   "outputs": [],
   "source": [
    "import numpy as np\n",
    "from scipy.optimize import minimize\n",
    "\n",
    "class OptionPricing:\n",
    "    def __init__(self, S0, K, T, r):\n",
    "        self.S0 = S0\n",
    "        self.K = K\n",
    "        self.T = T\n",
    "        self.r = r\n",
    "\n",
    "    def monte_carlo_simulation(self, N, M):\n",
    "        raise NotImplementedError(\"Must be implemented by subclasses\")\n",
    "\n",
    "    def price_option(self, N, M):\n",
    "        raise NotImplementedError(\"Must be implemented by subclasses\")\n",
    "\n",
    "\n",
    "class StochasticVolatilityModel(OptionPricing):\n",
    "    def __init__(self, S0, K, T, r, v0, kappa, theta, xi, rho):\n",
    "        super().__init__(S0, K, T, r)\n",
    "        self.v0 = v0\n",
    "        self.kappa = kappa\n",
    "        self.theta = theta\n",
    "        self.xi = xi\n",
    "        self.rho = rho\n",
    "\n",
    "    def monte_carlo_simulation(self, N, M):\n",
    "        dt = self.T / M\n",
    "        price_paths = np.zeros((int(N), int(M) + 1))\n",
    "        vol_paths = np.zeros((int(N), int(M) + 1))\n",
    "        price_paths[:, 0] = self.S0\n",
    "        vol_paths[:, 0] = self.v0\n",
    "        for t in range(1, M + 1):\n",
    "            Z1 = np.random.standard_normal(N)\n",
    "            Z2 = np.random.standard_normal(N)\n",
    "            W1 = Z1\n",
    "            W2 = self.rho * Z1 + np.sqrt(1 - self.rho**2) * Z2\n",
    "            vol_paths[:, t] = np.abs(vol_paths[:, t - 1] + self.kappa * (self.theta - vol_paths[:, t - 1]) * dt + self.xi * np.sqrt(vol_paths[:, t - 1] * dt) * W1)\n",
    "            price_paths[:, t] = price_paths[:, t - 1] * np.exp((self.r - 0.5 * vol_paths[:, t - 1]) * dt + np.sqrt(vol_paths[:, t - 1] * dt) * W2)\n",
    "        return price_paths\n",
    "\n",
    "    def price_option(self, N, M):\n",
    "        price_paths = self.monte_carlo_simulation(N, M)\n",
    "        payoffs = np.maximum(price_paths[:, -1] - self.K, 0)\n",
    "        return np.exp(-self.r * self.T) * np.mean(payoffs)\n",
    "    \n",
    "    def calibrate(self, market_prices, strikes, maturities):\n",
    "        def objective_function(params):\n",
    "            self.v0, self.kappa, self.theta, self.xi, self.rho = params\n",
    "            model_prices = [self.price_option(10000, 100) for K, T in zip(strikes, maturities)]\n",
    "            return np.sum((np.array(market_prices) - np.array(model_prices))**2)\n",
    "        \n",
    "        initial_guess = [self.v0, self.kappa, self.theta, self.xi, self.rho]\n",
    "        bounds = [(0.01, 1.0), (0.01, 5.0), (0.01, 1.0), (0.01, 1.0), (-1.0, 1.0)]\n",
    "        result = minimize(objective_function, initial_guess, bounds=bounds)\n",
    "        self.v0, self.kappa, self.theta, self.xi, self.rho = result.x"
   ]
  },
  {
   "cell_type": "markdown",
   "id": "b431313d",
   "metadata": {},
   "source": [
    "##  Generate synthetic data\n"
   ]
  },
  {
   "cell_type": "code",
   "execution_count": 35,
   "id": "3f075556",
   "metadata": {},
   "outputs": [],
   "source": [
    "def generate_synthetic_market_data(model, strikes, maturities):\n",
    "    market_prices = [model.price_option(10000, 100) for K, T in zip(strikes, maturities)]\n",
    "    return market_prices"
   ]
  },
  {
   "cell_type": "code",
   "execution_count": 36,
   "id": "4a4d51c0",
   "metadata": {},
   "outputs": [],
   "source": [
    "# Parameters for synthetic data\n",
    "S0 = 100\n",
    "r = 0.05\n",
    "true_sigma = 0.2\n",
    "true_v0 = 0.2\n",
    "true_kappa = 2.0\n",
    "true_theta = 0.2\n",
    "true_xi = 0.1\n",
    "true_rho = -0.5\n",
    "\n",
    "strikes = [90, 95, 100, 105, 110]\n",
    "maturities = [0.5, 1.0, 1.5, 2.0]\n",
    "\n",
    "# Generate synthetic market data using the true parameters\n",
    "sv_model = StochasticVolatilityModel(S0, 100, 1, r, true_v0, true_kappa, true_theta, true_xi, true_rho)\n",
    "sv_market_prices = generate_synthetic_market_data(sv_model, strikes, maturities)\n"
   ]
  },
  {
   "cell_type": "markdown",
   "id": "282d6513",
   "metadata": {},
   "source": [
    "## Calibrate models\n"
   ]
  },
  {
   "cell_type": "code",
   "execution_count": null,
   "id": "13d3adf9",
   "metadata": {},
   "outputs": [],
   "source": [
    "sv_model.calibrate(sv_market_prices, strikes, maturities)\n",
    "print(\"Calibrated parameters: v0 =\", sv_model.v0, \", kappa =\", sv_model.kappa, \", theta =\", sv_model.theta, \", xi =\", sv_model.xi, \", rho =\", sv_model.rho)"
   ]
  },
  {
   "cell_type": "markdown",
   "id": "35849c3f",
   "metadata": {},
   "source": [
    "## Prediction function for option price "
   ]
  },
  {
   "cell_type": "code",
   "execution_count": 38,
   "id": "e73dd445",
   "metadata": {},
   "outputs": [],
   "source": [
    "\n",
    "def predict_sv_option_price(input):\n",
    "    price_paths = sv_model.monte_carlo_simulation(int(input[\"N\"]), int(input[\"M\"]))\n",
    "    payoffs = np.maximum(price_paths[:, -1] - sv_model.K, 0)\n",
    "    return np.exp(-sv_model.r * sv_model.T) * np.mean(payoffs)\n",
    "\n",
    "\n",
    "vm_sv_model = vm.init_model(input_id=\"sv_model\", predict_fn=predict_sv_option_price)"
   ]
  },
  {
   "cell_type": "markdown",
   "id": "4419f29a",
   "metadata": {},
   "source": [
    "## Predict option price "
   ]
  },
  {
   "cell_type": "code",
   "execution_count": null,
   "id": "a19f97a2",
   "metadata": {},
   "outputs": [],
   "source": [
    "import pandas as pd\n",
    "\n",
    "# strikes = [90, 95, 100, 105, 110]\n",
    "# maturities = [0.5, 1.0, 1.5, 2.0]\n",
    "data_sv_df = pd.DataFrame({\"K\": [90, 95, 100, 105, 110], \"T\": [0.5, 1.0, 1.5, 2.0, 2.5]})\n",
    "data_sv_df[\"N\"] = 100000\n",
    "data_sv_df[\"M\"] = 100\n",
    "print(data_sv_df)\n",
    "\n",
    "vm_sv_ds =  vm.init_dataset(\n",
    "    data_sv_df,\n",
    "    input_id = \"vm_sv_dataset\"\n",
    ")"
   ]
  },
  {
   "cell_type": "code",
   "execution_count": null,
   "id": "6eed2603",
   "metadata": {},
   "outputs": [],
   "source": [
    "vm_sv_ds.assign_predictions(model=vm_sv_model)\n",
    "print(vm_sv_ds)"
   ]
  },
  {
   "cell_type": "markdown",
   "id": "4eaaa8e7",
   "metadata": {},
   "source": [
    "# Knockout Option"
   ]
  },
  {
   "cell_type": "markdown",
   "id": "7ed34b3c",
   "metadata": {},
   "source": [
    "# model"
   ]
  },
  {
   "cell_type": "code",
   "execution_count": 43,
   "id": "24a8f2b3",
   "metadata": {},
   "outputs": [],
   "source": [
    "import matplotlib.pyplot as plt\n",
    "\n",
    "class KnockoutOption:\n",
    "    def __init__(self, model, S0, K, T, r, barrier):\n",
    "        self.model = model\n",
    "        self.S0 = S0\n",
    "        self.K = K\n",
    "        self.T = T\n",
    "        self.r = r\n",
    "        self.barrier = barrier\n"
   ]
  },
  {
   "cell_type": "markdown",
   "id": "ec7efd62",
   "metadata": {},
   "source": [
    "##  Generate synthetic data\n"
   ]
  },
  {
   "cell_type": "code",
   "execution_count": null,
   "id": "f27967f7",
   "metadata": {},
   "outputs": [],
   "source": []
  },
  {
   "cell_type": "code",
   "execution_count": 44,
   "id": "3af4d8da",
   "metadata": {},
   "outputs": [],
   "source": [
    "# Example usage:\n",
    "S0 = 100\n",
    "T = 1\n",
    "r = 0.05\n",
    "N = 100000\n",
    "M = 100\n",
    "strike_range = (90, 110)\n",
    "barrier_range = (100, 120)\n",
    "sigma=0.2\n",
    "bs_model = BlackScholesModel(S0, 100, 1, r, sigma=sigma)\n",
    "\n",
    "# Generate synthetic market data using the true parameters\n",
    "ko_model = KnockoutOption(bs_model, S0, strike_range[0], T, r, barrier_range[0])\n"
   ]
  },
  {
   "cell_type": "markdown",
   "id": "4d77bcd2",
   "metadata": {},
   "source": [
    "## Prediction function for option price "
   ]
  },
  {
   "cell_type": "code",
   "execution_count": 54,
   "id": "defd8efd",
   "metadata": {},
   "outputs": [],
   "source": [
    "def predict_knockout_option_price(input):\n",
    "        dt = ko_model.T / input[\"M\"]\n",
    "        price_paths = np.zeros((int(input[\"N\"]), int(input[\"M\"]) + 1))\n",
    "        vol_paths = np.zeros((int(input[\"N\"]), int(input[\"M\"]) + 1)) if isinstance(ko_model.model, StochasticVolatilityModel) else None\n",
    "        price_paths[:, 0] = ko_model.S0\n",
    "        if vol_paths is not None:\n",
    "            vol_paths[:, 0] = ko_model.model.v0\n",
    "        \n",
    "        for t in range(1, int(input[\"M\"]) + 1):\n",
    "            Z1 = np.random.standard_normal(int(input[\"N\"]))\n",
    "            if vol_paths is None:\n",
    "                # Black-Scholes Model\n",
    "                price_paths[:, t] = price_paths[:, t - 1] * np.exp(\n",
    "                    (ko_model.r - 0.5 * ko_model.model.sigma**2) * dt + ko_model.model.sigma * np.sqrt(dt) * Z1\n",
    "                )\n",
    "            else:\n",
    "                # Stochastic Volatility Model\n",
    "                Z2 = np.random.standard_normal(int(input[\"N\"]))\n",
    "                W1 = Z1\n",
    "                W2 = ko_model.model.rho * Z1 + np.sqrt(1 - ko_model.model.rho**2) * Z2\n",
    "                vol_paths[:, t] = np.abs(vol_paths[:, t - 1] + ko_model.model.kappa * (ko_model.model.theta - vol_paths[:, t - 1]) * dt + ko_model.model.xi * np.sqrt(vol_paths[:, t - 1] * dt) * W1)\n",
    "                price_paths[:, t] = price_paths[:, t - 1] * np.exp(\n",
    "                    (ko_model.r - 0.5 * vol_paths[:, t - 1]) * dt + np.sqrt(vol_paths[:, t - 1] * dt) * W2\n",
    "                )\n",
    "            \n",
    "            # Knockout condition\n",
    "            price_paths[:, t][price_paths[:, t] >= ko_model.barrier] = 0\n",
    "        \n",
    "        payoffs = np.maximum(price_paths[:, -1] - ko_model.K, 0)\n",
    "        return np.exp(-ko_model.r * ko_model.T) * np.mean(payoffs)\n",
    "\n",
    "\n",
    "vm_ko_model = vm.init_model(input_id=\"ko_model\", predict_fn=predict_knockout_option_price)"
   ]
  },
  {
   "cell_type": "markdown",
   "id": "2417f627",
   "metadata": {},
   "source": [
    "## Predict option price "
   ]
  },
  {
   "cell_type": "code",
   "execution_count": null,
   "id": "79cbcaad",
   "metadata": {},
   "outputs": [],
   "source": [
    "import pandas as pd\n",
    "\n",
    "# strikes = [90, 95, 100, 105, 110]\n",
    "# maturities = [0.5, 1.0, 1.5, 2.0]\n",
    "data_ko_df = pd.DataFrame({\"K\": [90, 95, 100, 105, 110], \"T\": [0.5, 1.0, 1.5, 2.0, 2.5]})\n",
    "data_ko_df[\"N\"] = 100000\n",
    "data_ko_df[\"M\"] = 100\n",
    "print(data_ko_df)\n",
    "\n",
    "vm_ko_ds =  vm.init_dataset(\n",
    "    data_ko_df,\n",
    "    input_id = \"vm_ko_dataset\"\n",
    ")"
   ]
  },
  {
   "cell_type": "code",
   "execution_count": null,
   "id": "fdf13b8a",
   "metadata": {},
   "outputs": [],
   "source": [
    "vm_ko_ds.assign_predictions(model=vm_ko_model)\n",
    "print(vm_ko_ds)"
   ]
  },
  {
   "cell_type": "code",
   "execution_count": null,
   "id": "fb9c0fd3",
   "metadata": {},
   "outputs": [],
   "source": [
    "vm_ko_ds._df\n"
   ]
  },
  {
   "cell_type": "code",
   "execution_count": null,
   "id": "c8bb875b",
   "metadata": {},
   "outputs": [],
   "source": []
  }
 ],
 "metadata": {
  "kernelspec": {
   "display_name": "Python 3 (ipykernel)",
   "language": "python",
   "name": "python3"
  },
  "language_info": {
   "codemirror_mode": {
    "name": "ipython",
    "version": 3
   },
   "file_extension": ".py",
   "mimetype": "text/x-python",
   "name": "python",
   "nbconvert_exporter": "python",
   "pygments_lexer": "ipython3",
   "version": "3.10.14"
  }
 },
 "nbformat": 4,
 "nbformat_minor": 5
}
