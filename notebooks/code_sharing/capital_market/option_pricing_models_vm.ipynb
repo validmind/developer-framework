{
 "cells": [
  {
   "cell_type": "markdown",
   "id": "4696c537",
   "metadata": {},
   "source": [
    "## ValidMind Initialization\n"
   ]
  },
  {
   "cell_type": "code",
   "execution_count": 76,
   "id": "ff91300d",
   "metadata": {},
   "outputs": [],
   "source": [
    "import validmind as vm\n",
    "\n",
    "vm.init(\n",
    "  api_host = \"http://localhost:3000/api/v1/tracking\",\n",
    "  api_key = \"...\",\n",
    "  api_secret = \"...\",\n",
    "  project = \"...\"\n",
    ")"
   ]
  },
  {
   "cell_type": "markdown",
   "id": "4eaaa8e7",
   "metadata": {},
   "source": [
    "# Knockout Option pricing model"
   ]
  },
  {
   "cell_type": "markdown",
   "id": "7ed34b3c",
   "metadata": {},
   "source": [
    "# model"
   ]
  },
  {
   "cell_type": "code",
   "execution_count": 79,
   "id": "24a8f2b3",
   "metadata": {},
   "outputs": [],
   "source": [
    "import matplotlib.pyplot as plt\n",
    "import numpy as np\n",
    "\n",
    "class BlackScholesModel:\n",
    "    def __init__(self, S0, K, T, r, sigma):\n",
    "        self.S0 = S0\n",
    "        self.K = K\n",
    "        self.T = T\n",
    "        self.r = r\n",
    "        self.sigma = sigma\n",
    "\n",
    "class StochasticVolatilityModel:\n",
    "    def __init__(self, S0, K, T, r, v0, kappa, theta, xi, rho):\n",
    "        self.S0 = S0\n",
    "        self.K = K\n",
    "        self.T = T\n",
    "        self.r = r\n",
    "        self.v0 = v0\n",
    "        self.kappa = kappa\n",
    "        self.theta = theta\n",
    "        self.xi = xi\n",
    "        self.rho = rho\n",
    "\n",
    "\n",
    "class KnockoutOption:\n",
    "    def __init__(self, model, S0, K, T, r, barrier):\n",
    "        self.model = model\n",
    "        self.S0 = S0\n",
    "        self.K = K\n",
    "        self.T = T\n",
    "        self.r = r\n",
    "        self.barrier = barrier\n",
    "\n",
    "    def price_knockout_option(self, N, M):\n",
    "        dt = self.T / M\n",
    "        price_paths = np.zeros((N, M + 1))\n",
    "        vol_paths = np.zeros((N, M + 1)) if isinstance(self.model, StochasticVolatilityModel) else None\n",
    "        price_paths[:, 0] = self.S0\n",
    "        if vol_paths is not None:\n",
    "            vol_paths[:, 0] = self.model.v0\n",
    "        \n",
    "        for t in range(1, M + 1):\n",
    "            Z1 = np.random.standard_normal(N)\n",
    "            if vol_paths is None:\n",
    "                # Black-Scholes Model\n",
    "                price_paths[:, t] = price_paths[:, t - 1] * np.exp(\n",
    "                    (self.r - 0.5 * self.model.sigma**2) * dt + self.model.sigma * np.sqrt(dt) * Z1\n",
    "                )\n",
    "            else:\n",
    "                # Stochastic Volatility Model\n",
    "                Z2 = np.random.standard_normal(N)\n",
    "                W1 = Z1\n",
    "                W2 = self.model.rho * Z1 + np.sqrt(1 - self.model.rho**2) * Z2\n",
    "                vol_paths[:, t] = np.abs(vol_paths[:, t - 1] + self.model.kappa * (self.model.theta - vol_paths[:, t - 1]) * dt + self.model.xi * np.sqrt(vol_paths[:, t - 1] * dt) * W1)\n",
    "                price_paths[:, t] = price_paths[:, t - 1] * np.exp(\n",
    "                    (self.r - 0.5 * vol_paths[:, t - 1]) * dt + np.sqrt(vol_paths[:, t - 1] * dt) * W2\n",
    "                )\n",
    "            \n",
    "            # Knockout condition\n",
    "            price_paths[:, t][price_paths[:, t] >= self.barrier] = 0\n",
    "        payoffs = np.maximum(price_paths[:, -1] - self.K, 0)\n",
    "        return np.exp(-self.r * self.T) * np.mean(payoffs)"
   ]
  },
  {
   "cell_type": "markdown",
   "id": "2c086479",
   "metadata": {},
   "source": [
    "## Sensitivity"
   ]
  },
  {
   "cell_type": "code",
   "execution_count": 82,
   "id": "cebad80e",
   "metadata": {},
   "outputs": [],
   "source": [
    "def sensitivity_testing(model_type, S0, T, r, N, M, strike_range=None, barrier_range=None, sigma=0.2):\n",
    "    \"\"\"\n",
    "    This is sensitivity test\n",
    "    \"\"\"\n",
    "    if strike_range:\n",
    "        strike_prices = np.linspace(strike_range[0], strike_range[1], 50)\n",
    "        knockout_prices_strike = []\n",
    "\n",
    "        for K in strike_prices:\n",
    "            if model_type == 'BS':\n",
    "                model = BlackScholesModel(S0, K, T, r, sigma)\n",
    "            # else:\n",
    "                # model = StochasticVolatilityModel(S0, K, T, r, model_params['v0'], model_params['kappa'], model_params['theta'], model_params['xi'], model_params['rho'])\n",
    "            \n",
    "            knockout_option = KnockoutOption(model, S0, K, T, r, barrier_range[0])\n",
    "            price = knockout_option.price_knockout_option(N, M)\n",
    "            knockout_prices_strike.append(price)\n",
    "        \n",
    "        fig1 = plt.figure(figsize=(10, 6))\n",
    "        plt.plot(strike_prices, knockout_prices_strike, label='Knockout Option Price')\n",
    "        plt.xlabel('Strike Price')\n",
    "        plt.ylabel('Option Price')\n",
    "        plt.title('Knockout Option Price Sensitivity to Strike Price')\n",
    "        plt.legend()\n",
    "        plt.grid(True)\n",
    "        plt.show()\n",
    "\n",
    "    if barrier_range:\n",
    "        barriers = np.linspace(barrier_range[0], barrier_range[1], 50)\n",
    "        knockout_prices_barrier = []\n",
    "\n",
    "        for barrier in barriers:\n",
    "            if model_type == 'BS':\n",
    "                model = BlackScholesModel(S0, strike_range[0], T, r, sigma)\n",
    "            # else:\n",
    "                # model = StochasticVolatilityModel(S0, strike_range[0], T, r, model_params['v0'], model_params['kappa'], model_params['theta'], model_params['xi'], model_params['rho'])\n",
    "            \n",
    "            knockout_option = KnockoutOption(model, S0, strike_range[0], T, r, barrier)\n",
    "            price = knockout_option.price_knockout_option(N, M)\n",
    "            knockout_prices_barrier.append(price)\n",
    "        \n",
    "        fig2 =  plt.figure(figsize=(10, 6))\n",
    "        plt.plot(barriers, knockout_prices_barrier, label='Knockout Option Price')\n",
    "        plt.xlabel('Barrier Level')\n",
    "        plt.ylabel('Option Price')\n",
    "        plt.title('Knockout Option Price Sensitivity to Barrier Level')\n",
    "        plt.legend()\n",
    "        plt.grid(True)\n",
    "        plt.show()\n",
    "\n",
    "    return fig1, fig2\n"
   ]
  },
  {
   "cell_type": "code",
   "execution_count": 83,
   "id": "923ab6a6",
   "metadata": {},
   "outputs": [
    {
     "data": {
      "image/png": "[encoded data removed]",
      "text/plain": [
       "<Figure size 1000x600 with 1 Axes>"
      ]
     },
     "metadata": {},
     "output_type": "display_data"
    },
    {
     "data": {
      "image/png": "[encoded data removed]",
      "text/plain": [
       "<Figure size 1000x600 with 1 Axes>"
      ]
     },
     "metadata": {},
     "output_type": "display_data"
    },
    {
     "data": {
      "text/plain": [
       "(<Figure size 1000x600 with 1 Axes>, <Figure size 1000x600 with 1 Axes>)"
      ]
     },
     "execution_count": 83,
     "metadata": {},
     "output_type": "execute_result"
    }
   ],
   "source": [
    "# Example usage:\n",
    "S0 = 100\n",
    "T = 1\n",
    "r = 0.05\n",
    "N = 100000\n",
    "M = 100\n",
    "strike_range = (90, 110)\n",
    "barrier_range = (100, 120)\n",
    "\n",
    "# Black-Scholes Model Sensitivity Testing\n",
    "sensitivity_testing('BS', S0, T, r, N, M, strike_range=strike_range, barrier_range=barrier_range, sigma=0.2)\n"
   ]
  },
  {
   "cell_type": "markdown",
   "id": "1925e9c2",
   "metadata": {},
   "source": [
    "## Move sensitivity into VM test "
   ]
  },
  {
   "cell_type": "code",
   "execution_count": 56,
   "id": "0281323e",
   "metadata": {},
   "outputs": [],
   "source": [
    "import io\n",
    "import matplotlib.pyplot as plt\n",
    "\n",
    "@vm.test(\"my_custom_tests.SensitivityTesting\")\n",
    "def sensitivity_testing(model_type, S0, T, r, N, M, strike_range=None, barrier_range=None, sigma=0.2):\n",
    "    \"\"\"\n",
    "    This is sensitivity test\n",
    "    \"\"\"\n",
    "    if strike_range:\n",
    "        strike_prices = np.linspace(strike_range[0], strike_range[1], 50)\n",
    "        knockout_prices_strike = []\n",
    "\n",
    "        for K in strike_prices:\n",
    "            if model_type == 'BS':\n",
    "                model = BlackScholesModel(S0, K, T, r, sigma)\n",
    "            # else:\n",
    "                # model = StochasticVolatilityModel(S0, K, T, r, model_params['v0'], model_params['kappa'], model_params['theta'], model_params['xi'], model_params['rho'])\n",
    "            \n",
    "            knockout_option = KnockoutOption(model, S0, K, T, r, barrier_range[0])\n",
    "            price = knockout_option.price_knockout_option(N, M)\n",
    "            knockout_prices_strike.append(price)\n",
    "        \n",
    "        fig1 = plt.figure(figsize=(10, 6))\n",
    "        plt.plot(strike_prices, knockout_prices_strike, label='Knockout Option Price')\n",
    "        plt.xlabel('Strike Price')\n",
    "        plt.ylabel('Option Price')\n",
    "        plt.title('Knockout Option Price Sensitivity to Strike Price')\n",
    "        plt.legend()\n",
    "        plt.grid(True)\n",
    "        plt.close()  # close the plot to avoid displaying it\n",
    "\n",
    "    if barrier_range:\n",
    "        barriers = np.linspace(barrier_range[0], barrier_range[1], 50)\n",
    "        knockout_prices_barrier = []\n",
    "\n",
    "        for barrier in barriers:\n",
    "            if model_type == 'BS':\n",
    "                model = BlackScholesModel(S0, strike_range[0], T, r, sigma)\n",
    "            # else:\n",
    "                # model = StochasticVolatilityModel(S0, strike_range[0], T, r, model_params['v0'], model_params['kappa'], model_params['theta'], model_params['xi'], model_params['rho'])\n",
    "            \n",
    "            knockout_option = KnockoutOption(model, S0, strike_range[0], T, r, barrier)\n",
    "            price = knockout_option.price_knockout_option(N, M)\n",
    "            knockout_prices_barrier.append(price)\n",
    "        \n",
    "        fig2 =  plt.figure(figsize=(10, 6))\n",
    "        plt.plot(barriers, knockout_prices_barrier, label='Knockout Option Price')\n",
    "        plt.xlabel('Barrier Level')\n",
    "        plt.ylabel('Option Price')\n",
    "        plt.title('Knockout Option Price Sensitivity to Barrier Level')\n",
    "        plt.legend()\n",
    "        plt.grid(True)\n",
    "        plt.close()  # close the plot to avoid displaying it\n",
    "\n",
    "    return fig1, fig2\n"
   ]
  },
  {
   "cell_type": "markdown",
   "id": "2cbac0be",
   "metadata": {},
   "source": [
    "## Run test"
   ]
  },
  {
   "cell_type": "code",
   "execution_count": 84,
   "id": "4f307fe8",
   "metadata": {},
   "outputs": [
    {
     "data": {
      "application/vnd.jupyter.widget-view+json": {
       "model_id": "88d44ac44213455d8c0c36af40f58c27",
       "version_major": 2,
       "version_minor": 0
      },
      "text/plain": [
       "VBox(children=(HTML(value='<h1>Sensitivity Testing</h1>'), HTML(value=\"<p><strong>Sensitivity Testing</strong>…"
      ]
     },
     "metadata": {},
     "output_type": "display_data"
    },
    {
     "data": {
      "text/html": [
       "\n",
       "<script defer type=\"module\">\n",
       "import hljs from 'https://unpkg.com/@highlightjs/cdn-assets@11.9.0/es/highlight.min.js';\n",
       "import python from 'https://cdnjs.cloudflare.com/ajax/libs/highlight.js/11.9.0/es/languages/python.min.js';\n",
       "\n",
       "hljs.registerLanguage('python', python);\n",
       "hljs.highlightAll();\n",
       "</script>\n"
      ],
      "text/plain": [
       "<IPython.core.display.HTML object>"
      ]
     },
     "metadata": {},
     "output_type": "display_data"
    },
    {
     "data": {
      "text/html": [
       "\n",
       "<script>\n",
       "window.MathJax = {\n",
       "    tex2jax: {\n",
       "        inlineMath: [['$', '$'], ['\\\\(', '\\\\)']],\n",
       "        displayMath: [['$$', '$$'], ['\\[', '\\]']],\n",
       "        processEscapes: true,\n",
       "        skipTags: ['script', 'noscript', 'style', 'textarea', 'pre'],\n",
       "        ignoreClass: \".*\",\n",
       "        processClass: \"math\"\n",
       "    }\n",
       "};\n",
       "setTimeout(function () {\n",
       "    var script = document.createElement('script');\n",
       "    script.type = 'text/javascript';\n",
       "    script.src = 'https://cdnjs.cloudflare.com/ajax/libs/mathjax/2.7.7/MathJax.js?config=TeX-AMS_HTML';\n",
       "    document.head.appendChild(script);\n",
       "}, 300);\n",
       "</script>\n"
      ],
      "text/plain": [
       "<IPython.core.display.HTML object>"
      ]
     },
     "metadata": {},
     "output_type": "display_data"
    }
   ],
   "source": [
    "from validmind.tests import run_test\n",
    "# Example usage:\n",
    "S0 = 100\n",
    "T = 1\n",
    "r = 0.05\n",
    "N = 100000\n",
    "M = 100\n",
    "strike_range = (90, 110)\n",
    "barrier_range = (100, 120)\n",
    "\n",
    "result = run_test(\n",
    "    \"my_custom_tests.SensitivityTesting\",\n",
    "    params={\n",
    "        \"model_type\": 'BS',\n",
    "        \"S0\": S0,\n",
    "        \"T\": T,\n",
    "        \"r\": r,\n",
    "        \"N\": N,\n",
    "        \"M\": M,\n",
    "        \"strike_range\": strike_range,\n",
    "        \"barrier_range\": barrier_range,\n",
    "        \"sigma\": 0.2\n",
    "    },\n",
    ")\n",
    "result.log()"
   ]
  },
  {
   "cell_type": "markdown",
   "id": "cb5af031",
   "metadata": {},
   "source": [
    "## version 2"
   ]
  },
  {
   "cell_type": "code",
   "execution_count": 23,
   "id": "f4e51d04",
   "metadata": {},
   "outputs": [],
   "source": [
    "@vm.test(\"my_custom_tests.SensitivityTesting_Strike\")\n",
    "def sensitivity_testing(model_type, S0, T, r, N, M, strike_range=None, barrier=None, model_params=None):\n",
    "    \"\"\"\n",
    "    This is sensitivity test\n",
    "    \"\"\"\n",
    "    if strike_range:\n",
    "        strike_prices = np.linspace(strike_range[0], strike_range[1], 50)\n",
    "        knockout_prices_strike = []\n",
    "\n",
    "        for K in strike_prices:\n",
    "            if model_type == 'BS':\n",
    "                model = BlackScholesModel(model_params[\"S0\"], K, model_params[\"T\"], model_params[\"r\"], model_params[\"sigma\"])\n",
    "            else:\n",
    "                model = StochasticVolatilityModel(S0, K, T, r, model_params['v0'], model_params['kappa'], model_params['theta'], model_params['xi'], model_params['rho'])\n",
    "            \n",
    "            knockout_option = KnockoutOption(model, model_params[\"S0\"], K, model_params[\"T\"], model_params[\"r\"], barrier_range[0])\n",
    "            price = knockout_option.price_knockout_option(N, M)\n",
    "            knockout_prices_strike.append(price)\n",
    "        \n",
    "        fig1 = plt.figure(figsize=(10, 6))\n",
    "        plt.plot(strike_prices, knockout_prices_strike, label='Knockout Option Price')\n",
    "        plt.xlabel('Strike Price')\n",
    "        plt.ylabel('Option Price')\n",
    "        plt.title('Knockout Option Price Sensitivity to Strike Price')\n",
    "        plt.legend()\n",
    "        plt.grid(True)\n",
    "        plt.close()  # close the plot to avoid displaying it\n",
    "\n",
    "    return fig1"
   ]
  },
  {
   "cell_type": "code",
   "execution_count": null,
   "id": "0c68bdd1",
   "metadata": {},
   "outputs": [],
   "source": [
    "result = run_test(\n",
    "    \"my_custom_tests.SensitivityTesting_Strike\",\n",
    "    params={\n",
    "        \"model_type\": 'BS',\n",
    "        \"N\": N,\n",
    "        \"M\": M,\n",
    "        \"strike_range\": strike_range,\n",
    "        \"barrier\": barrier_range[0],\n",
    "        \"model_params\": {\n",
    "            \"S0\": S0,\n",
    "            \"T\": T,\n",
    "            \"r\": r,\n",
    "            \"sigma\": 0.2,\n",
    "            \"v0\": 0.2,\n",
    "            \"kappa\":2,\n",
    "            \"theta\":0.2,\n",
    "            \"xi\":0.1,\n",
    "            \"rho\":-0.5,\n",
    "        }\n",
    "    },\n",
    "\n",
    ")\n",
    "result.log()"
   ]
  },
  {
   "cell_type": "code",
   "execution_count": null,
   "id": "082ba312",
   "metadata": {},
   "outputs": [],
   "source": [
    "result = run_test(\n",
    "    \"my_custom_tests.SensitivityTesting_Strike\",\n",
    "    params={\n",
    "        \"model_type\": 'SV',\n",
    "        \"N\": N,\n",
    "        \"M\": M,\n",
    "        \"strike_range\": strike_range,\n",
    "        \"barrier\": barrier_range[0],\n",
    "        \"model_params\": {\n",
    "            \"S0\": S0,\n",
    "            \"T\": T,\n",
    "            \"r\": r,\n",
    "            \"sigma\": 0.2,\n",
    "            \"v0\": 0.2,\n",
    "            \"kappa\":2,\n",
    "            \"theta\":0.2,\n",
    "            \"xi\":0.1,\n",
    "            \"rho\":-0.5,\n",
    "        }\n",
    "    },\n",
    ")\n",
    "result.log()"
   ]
  },
  {
   "cell_type": "markdown",
   "id": "a92a4783",
   "metadata": {},
   "source": [
    "## Version table"
   ]
  },
  {
   "cell_type": "code",
   "execution_count": 53,
   "id": "d926eb12",
   "metadata": {},
   "outputs": [],
   "source": [
    "@vm.test(\"my_custom_tests.SensitivityTestingTable\")\n",
    "def sensitivity_testing(model_type, S0, T, r, N, M, strike=None, barrier=None, sigma=None, v0=None, kappa=None,theta=None, xi=None, rho=None):\n",
    "    \"\"\"\n",
    "    This is sensitivity test\n",
    "\"\"\"\n",
    "    if model_type == 'BS':\n",
    "        model = BlackScholesModel(S0, strike, T, r, sigma)\n",
    "    else:\n",
    "        model = StochasticVolatilityModel(S0, strike, T, r, v0, kappa, theta, xi, rho)\n",
    "    \n",
    "    knockout_option = KnockoutOption(model, S0, strike, T, r, barrier)\n",
    "    price = knockout_option.price_knockout_option(N, M)\n",
    "\n",
    "    return price"
   ]
  },
  {
   "cell_type": "markdown",
   "id": "451e3295",
   "metadata": {},
   "source": [
    "# Strike Sensitivity "
   ]
  },
  {
   "cell_type": "code",
   "execution_count": 75,
   "id": "72ed3bfc",
   "metadata": {},
   "outputs": [
    {
     "data": {
      "application/vnd.jupyter.widget-view+json": {
       "model_id": "e6d8917f918548a097c602a3c3753e82",
       "version_major": 2,
       "version_minor": 0
      },
      "text/plain": [
       "VBox(children=(HTML(value='<h1>Sensitivity Testing Table Strike Range</h1>'), HTML(value=\"<p><strong>Sensitivi…"
      ]
     },
     "metadata": {},
     "output_type": "display_data"
    },
    {
     "data": {
      "text/html": [
       "\n",
       "<script defer type=\"module\">\n",
       "import hljs from 'https://unpkg.com/@highlightjs/cdn-assets@11.9.0/es/highlight.min.js';\n",
       "import python from 'https://cdnjs.cloudflare.com/ajax/libs/highlight.js/11.9.0/es/languages/python.min.js';\n",
       "\n",
       "hljs.registerLanguage('python', python);\n",
       "hljs.highlightAll();\n",
       "</script>\n"
      ],
      "text/plain": [
       "<IPython.core.display.HTML object>"
      ]
     },
     "metadata": {},
     "output_type": "display_data"
    },
    {
     "data": {
      "text/html": [
       "\n",
       "<script>\n",
       "window.MathJax = {\n",
       "    tex2jax: {\n",
       "        inlineMath: [['$', '$'], ['\\\\(', '\\\\)']],\n",
       "        displayMath: [['$$', '$$'], ['\\[', '\\]']],\n",
       "        processEscapes: true,\n",
       "        skipTags: ['script', 'noscript', 'style', 'textarea', 'pre'],\n",
       "        ignoreClass: \".*\",\n",
       "        processClass: \"math\"\n",
       "    }\n",
       "};\n",
       "setTimeout(function () {\n",
       "    var script = document.createElement('script');\n",
       "    script.type = 'text/javascript';\n",
       "    script.src = 'https://cdnjs.cloudflare.com/ajax/libs/mathjax/2.7.7/MathJax.js?config=TeX-AMS_HTML';\n",
       "    document.head.appendChild(script);\n",
       "}, 300);\n",
       "</script>\n"
      ],
      "text/plain": [
       "<IPython.core.display.HTML object>"
      ]
     },
     "metadata": {},
     "output_type": "display_data"
    }
   ],
   "source": [
    "result = run_test(\n",
    "    \"my_custom_tests.SensitivityTestingTable:StrikeRange\",\n",
    "    param_grid={\n",
    "        \"model_type\": ['SV'],\n",
    "        \"N\": [N],\n",
    "        \"M\": [M],\n",
    "        \"strike\": list(np.linspace(strike_range[0], strike_range[1], 50)),\n",
    "        \"barrier\": [barrier_range[0]],\n",
    "        \"S0\": [S0],\n",
    "        \"T\": [T],\n",
    "        \"r\": [r],\n",
    "        \"sigma\": [0.2],\n",
    "        \"v0\": [0.2],\n",
    "        \"kappa\": [2],\n",
    "        \"theta\": [0.2],\n",
    "        \"xi\": [0.1],\n",
    "        \"rho\": [-0.5],\n",
    "    },\n",
    ")\n",
    "result.log()"
   ]
  },
  {
   "cell_type": "code",
   "execution_count": 100,
   "id": "bb0ec514",
   "metadata": {},
   "outputs": [
    {
     "data": {
      "application/vnd.jupyter.widget-view+json": {
       "model_id": "d6517f35050e42a891988bbc6b4f9412",
       "version_major": 2,
       "version_minor": 0
      },
      "text/plain": [
       "VBox(children=(HTML(value='<h1>Sensitivity Testing Table Barrier Range</h1>'), HTML(value=\"<p><strong>Sensitiv…"
      ]
     },
     "metadata": {},
     "output_type": "display_data"
    },
    {
     "data": {
      "text/html": [
       "\n",
       "<script defer type=\"module\">\n",
       "import hljs from 'https://unpkg.com/@highlightjs/cdn-assets@11.9.0/es/highlight.min.js';\n",
       "import python from 'https://cdnjs.cloudflare.com/ajax/libs/highlight.js/11.9.0/es/languages/python.min.js';\n",
       "\n",
       "hljs.registerLanguage('python', python);\n",
       "hljs.highlightAll();\n",
       "</script>\n"
      ],
      "text/plain": [
       "<IPython.core.display.HTML object>"
      ]
     },
     "metadata": {},
     "output_type": "display_data"
    },
    {
     "data": {
      "text/html": [
       "\n",
       "<script>\n",
       "window.MathJax = {\n",
       "    tex2jax: {\n",
       "        inlineMath: [['$', '$'], ['\\\\(', '\\\\)']],\n",
       "        displayMath: [['$$', '$$'], ['\\[', '\\]']],\n",
       "        processEscapes: true,\n",
       "        skipTags: ['script', 'noscript', 'style', 'textarea', 'pre'],\n",
       "        ignoreClass: \".*\",\n",
       "        processClass: \"math\"\n",
       "    }\n",
       "};\n",
       "setTimeout(function () {\n",
       "    var script = document.createElement('script');\n",
       "    script.type = 'text/javascript';\n",
       "    script.src = 'https://cdnjs.cloudflare.com/ajax/libs/mathjax/2.7.7/MathJax.js?config=TeX-AMS_HTML';\n",
       "    document.head.appendChild(script);\n",
       "}, 300);\n",
       "</script>\n"
      ],
      "text/plain": [
       "<IPython.core.display.HTML object>"
      ]
     },
     "metadata": {},
     "output_type": "display_data"
    }
   ],
   "source": [
    "result = run_test(\n",
    "    \"my_custom_tests.SensitivityTestingTable:BarrierRange\",\n",
    "    param_grid={\n",
    "        \"model_type\": ['BS'],\n",
    "        \"N\": [N],\n",
    "        \"M\": [M],\n",
    "        \"strike\": [strike_range[0]],\n",
    "        \"barrier\": list(np.linspace(barrier_range[0], barrier_range[1], 50)),\n",
    "        \"S0\": [S0],\n",
    "        \"T\": [T],\n",
    "        \"r\": [r],\n",
    "        \"sigma\": [0.2],\n",
    "        \"v0\": [0.2],\n",
    "        \"kappa\": [2],\n",
    "        \"theta\": [0.2],\n",
    "        \"xi\": [0.1],\n",
    "        \"rho\": [-0.5],\n",
    "    },\n",
    ")\n",
    "result.log()"
   ]
  },
  {
   "cell_type": "code",
   "execution_count": 104,
   "id": "36f05be0",
   "metadata": {},
   "outputs": [],
   "source": [
    "def plot_results(df, params: dict = None):\n",
    "        fig2 =  plt.figure(figsize=(10, 6))\n",
    "        plt.plot(df[params[\"x\"]], df[params[\"y\"]], label='Knockout Option Price')\n",
    "        plt.xlabel('Barrier Level')\n",
    "        plt.ylabel('Option Price')\n",
    "        plt.title('Knockout Option Price Sensitivity to Barrier Level')\n",
    "        plt.legend()\n",
    "        plt.grid(True)\n",
    "        plt.show()  # close the plot to avoid displaying it\n"
   ]
  },
  {
   "cell_type": "code",
   "execution_count": 105,
   "id": "a509fba9",
   "metadata": {},
   "outputs": [
    {
     "data": {
      "image/png": "[encoded data removed]",
      "text/plain": [
       "<Figure size 1000x600 with 1 Axes>"
      ]
     },
     "metadata": {},
     "output_type": "display_data"
    }
   ],
   "source": [
    "plot_results(pd.DataFrame(result.metric.summary.results[0].data), params={\"x\": \"barrier\",\"y\":\"value\"})"
   ]
  },
  {
   "cell_type": "code",
   "execution_count": 87,
   "id": "81015061",
   "metadata": {},
   "outputs": [
    {
     "data": {
      "text/html": [
       "<div>\n",
       "<style scoped>\n",
       "    .dataframe tbody tr th:only-of-type {\n",
       "        vertical-align: middle;\n",
       "    }\n",
       "\n",
       "    .dataframe tbody tr th {\n",
       "        vertical-align: top;\n",
       "    }\n",
       "\n",
       "    .dataframe thead th {\n",
       "        text-align: right;\n",
       "    }\n",
       "</style>\n",
       "<table border=\"1\" class=\"dataframe\">\n",
       "  <thead>\n",
       "    <tr style=\"text-align: right;\">\n",
       "      <th></th>\n",
       "      <th>model_type</th>\n",
       "      <th>N</th>\n",
       "      <th>M</th>\n",
       "      <th>strike</th>\n",
       "      <th>barrier</th>\n",
       "      <th>S0</th>\n",
       "      <th>T</th>\n",
       "      <th>r</th>\n",
       "      <th>sigma</th>\n",
       "      <th>v0</th>\n",
       "      <th>kappa</th>\n",
       "      <th>theta</th>\n",
       "      <th>xi</th>\n",
       "      <th>rho</th>\n",
       "      <th>value</th>\n",
       "    </tr>\n",
       "  </thead>\n",
       "  <tbody>\n",
       "    <tr>\n",
       "      <th>0</th>\n",
       "      <td>BS</td>\n",
       "      <td>100000</td>\n",
       "      <td>100</td>\n",
       "      <td>90</td>\n",
       "      <td>100.000000</td>\n",
       "      <td>100</td>\n",
       "      <td>1</td>\n",
       "      <td>0.05</td>\n",
       "      <td>0.2</td>\n",
       "      <td>0.2</td>\n",
       "      <td>2</td>\n",
       "      <td>0.2</td>\n",
       "      <td>0.1</td>\n",
       "      <td>-0.5</td>\n",
       "      <td>0.0319</td>\n",
       "    </tr>\n",
       "    <tr>\n",
       "      <th>1</th>\n",
       "      <td>BS</td>\n",
       "      <td>100000</td>\n",
       "      <td>100</td>\n",
       "      <td>90</td>\n",
       "      <td>100.408163</td>\n",
       "      <td>100</td>\n",
       "      <td>1</td>\n",
       "      <td>0.05</td>\n",
       "      <td>0.2</td>\n",
       "      <td>0.2</td>\n",
       "      <td>2</td>\n",
       "      <td>0.2</td>\n",
       "      <td>0.1</td>\n",
       "      <td>-0.5</td>\n",
       "      <td>0.0385</td>\n",
       "    </tr>\n",
       "    <tr>\n",
       "      <th>2</th>\n",
       "      <td>BS</td>\n",
       "      <td>100000</td>\n",
       "      <td>100</td>\n",
       "      <td>90</td>\n",
       "      <td>100.816327</td>\n",
       "      <td>100</td>\n",
       "      <td>1</td>\n",
       "      <td>0.05</td>\n",
       "      <td>0.2</td>\n",
       "      <td>0.2</td>\n",
       "      <td>2</td>\n",
       "      <td>0.2</td>\n",
       "      <td>0.1</td>\n",
       "      <td>-0.5</td>\n",
       "      <td>0.0526</td>\n",
       "    </tr>\n",
       "    <tr>\n",
       "      <th>3</th>\n",
       "      <td>BS</td>\n",
       "      <td>100000</td>\n",
       "      <td>100</td>\n",
       "      <td>90</td>\n",
       "      <td>101.224490</td>\n",
       "      <td>100</td>\n",
       "      <td>1</td>\n",
       "      <td>0.05</td>\n",
       "      <td>0.2</td>\n",
       "      <td>0.2</td>\n",
       "      <td>2</td>\n",
       "      <td>0.2</td>\n",
       "      <td>0.1</td>\n",
       "      <td>-0.5</td>\n",
       "      <td>0.0624</td>\n",
       "    </tr>\n",
       "    <tr>\n",
       "      <th>4</th>\n",
       "      <td>BS</td>\n",
       "      <td>100000</td>\n",
       "      <td>100</td>\n",
       "      <td>90</td>\n",
       "      <td>101.632653</td>\n",
       "      <td>100</td>\n",
       "      <td>1</td>\n",
       "      <td>0.05</td>\n",
       "      <td>0.2</td>\n",
       "      <td>0.2</td>\n",
       "      <td>2</td>\n",
       "      <td>0.2</td>\n",
       "      <td>0.1</td>\n",
       "      <td>-0.5</td>\n",
       "      <td>0.0846</td>\n",
       "    </tr>\n",
       "    <tr>\n",
       "      <th>...</th>\n",
       "      <td>...</td>\n",
       "      <td>...</td>\n",
       "      <td>...</td>\n",
       "      <td>...</td>\n",
       "      <td>...</td>\n",
       "      <td>...</td>\n",
       "      <td>...</td>\n",
       "      <td>...</td>\n",
       "      <td>...</td>\n",
       "      <td>...</td>\n",
       "      <td>...</td>\n",
       "      <td>...</td>\n",
       "      <td>...</td>\n",
       "      <td>...</td>\n",
       "      <td>...</td>\n",
       "    </tr>\n",
       "    <tr>\n",
       "      <th>95</th>\n",
       "      <td>SV</td>\n",
       "      <td>100000</td>\n",
       "      <td>100</td>\n",
       "      <td>90</td>\n",
       "      <td>118.367347</td>\n",
       "      <td>100</td>\n",
       "      <td>1</td>\n",
       "      <td>0.05</td>\n",
       "      <td>0.2</td>\n",
       "      <td>0.2</td>\n",
       "      <td>2</td>\n",
       "      <td>0.2</td>\n",
       "      <td>0.1</td>\n",
       "      <td>-0.5</td>\n",
       "      <td>0.6225</td>\n",
       "    </tr>\n",
       "    <tr>\n",
       "      <th>96</th>\n",
       "      <td>SV</td>\n",
       "      <td>100000</td>\n",
       "      <td>100</td>\n",
       "      <td>90</td>\n",
       "      <td>118.775510</td>\n",
       "      <td>100</td>\n",
       "      <td>1</td>\n",
       "      <td>0.05</td>\n",
       "      <td>0.2</td>\n",
       "      <td>0.2</td>\n",
       "      <td>2</td>\n",
       "      <td>0.2</td>\n",
       "      <td>0.1</td>\n",
       "      <td>-0.5</td>\n",
       "      <td>0.6314</td>\n",
       "    </tr>\n",
       "    <tr>\n",
       "      <th>97</th>\n",
       "      <td>SV</td>\n",
       "      <td>100000</td>\n",
       "      <td>100</td>\n",
       "      <td>90</td>\n",
       "      <td>119.183673</td>\n",
       "      <td>100</td>\n",
       "      <td>1</td>\n",
       "      <td>0.05</td>\n",
       "      <td>0.2</td>\n",
       "      <td>0.2</td>\n",
       "      <td>2</td>\n",
       "      <td>0.2</td>\n",
       "      <td>0.1</td>\n",
       "      <td>-0.5</td>\n",
       "      <td>0.6776</td>\n",
       "    </tr>\n",
       "    <tr>\n",
       "      <th>98</th>\n",
       "      <td>SV</td>\n",
       "      <td>100000</td>\n",
       "      <td>100</td>\n",
       "      <td>90</td>\n",
       "      <td>119.591837</td>\n",
       "      <td>100</td>\n",
       "      <td>1</td>\n",
       "      <td>0.05</td>\n",
       "      <td>0.2</td>\n",
       "      <td>0.2</td>\n",
       "      <td>2</td>\n",
       "      <td>0.2</td>\n",
       "      <td>0.1</td>\n",
       "      <td>-0.5</td>\n",
       "      <td>0.7266</td>\n",
       "    </tr>\n",
       "    <tr>\n",
       "      <th>99</th>\n",
       "      <td>SV</td>\n",
       "      <td>100000</td>\n",
       "      <td>100</td>\n",
       "      <td>90</td>\n",
       "      <td>120.000000</td>\n",
       "      <td>100</td>\n",
       "      <td>1</td>\n",
       "      <td>0.05</td>\n",
       "      <td>0.2</td>\n",
       "      <td>0.2</td>\n",
       "      <td>2</td>\n",
       "      <td>0.2</td>\n",
       "      <td>0.1</td>\n",
       "      <td>-0.5</td>\n",
       "      <td>0.7360</td>\n",
       "    </tr>\n",
       "  </tbody>\n",
       "</table>\n",
       "<p>100 rows × 15 columns</p>\n",
       "</div>"
      ],
      "text/plain": [
       "   model_type       N    M  strike     barrier   S0  T     r  sigma   v0  \\\n",
       "0          BS  100000  100      90  100.000000  100  1  0.05    0.2  0.2   \n",
       "1          BS  100000  100      90  100.408163  100  1  0.05    0.2  0.2   \n",
       "2          BS  100000  100      90  100.816327  100  1  0.05    0.2  0.2   \n",
       "3          BS  100000  100      90  101.224490  100  1  0.05    0.2  0.2   \n",
       "4          BS  100000  100      90  101.632653  100  1  0.05    0.2  0.2   \n",
       "..        ...     ...  ...     ...         ...  ... ..   ...    ...  ...   \n",
       "95         SV  100000  100      90  118.367347  100  1  0.05    0.2  0.2   \n",
       "96         SV  100000  100      90  118.775510  100  1  0.05    0.2  0.2   \n",
       "97         SV  100000  100      90  119.183673  100  1  0.05    0.2  0.2   \n",
       "98         SV  100000  100      90  119.591837  100  1  0.05    0.2  0.2   \n",
       "99         SV  100000  100      90  120.000000  100  1  0.05    0.2  0.2   \n",
       "\n",
       "    kappa  theta   xi  rho   value  \n",
       "0       2    0.2  0.1 -0.5  0.0319  \n",
       "1       2    0.2  0.1 -0.5  0.0385  \n",
       "2       2    0.2  0.1 -0.5  0.0526  \n",
       "3       2    0.2  0.1 -0.5  0.0624  \n",
       "4       2    0.2  0.1 -0.5  0.0846  \n",
       "..    ...    ...  ...  ...     ...  \n",
       "95      2    0.2  0.1 -0.5  0.6225  \n",
       "96      2    0.2  0.1 -0.5  0.6314  \n",
       "97      2    0.2  0.1 -0.5  0.6776  \n",
       "98      2    0.2  0.1 -0.5  0.7266  \n",
       "99      2    0.2  0.1 -0.5  0.7360  \n",
       "\n",
       "[100 rows x 15 columns]"
      ]
     },
     "execution_count": 87,
     "metadata": {},
     "output_type": "execute_result"
    }
   ],
   "source": [
    "import pandas as pd\n",
    "pd.DataFrame(result.metric.summary.results[0].data)"
   ]
  },
  {
   "cell_type": "code",
   "execution_count": null,
   "id": "1cefb35f",
   "metadata": {},
   "outputs": [],
   "source": [
    "result = run_test(\n",
    "    \"my_custom_tests.SensitivityTestingTable:StrikeRange\",\n",
    "    param_grid={\n",
    "        \"model_type\": ['SV'],\n",
    "        \"N\": [N],\n",
    "        \"M\": [M],\n",
    "        \"strike\": [strike_range[0]],\n",
    "        \"barrier\": [barrier_range[0]],\n",
    "        \"S0\": [S0],\n",
    "        \"T\": [T],\n",
    "        \"r\": [r],\n",
    "        \"sigma\": list(np.linspace(0.2, 0.99, 50)),\n",
    "        \"v0\": [0.2],\n",
    "        \"kappa\": [2],\n",
    "        \"theta\": [0.2],\n",
    "        \"xi\": [0.1],\n",
    "        \"rho\": [-0.5],\n",
    "    },\n",
    ")\n",
    "result.log()"
   ]
  },
  {
   "cell_type": "code",
   "execution_count": null,
   "id": "74ea65bd",
   "metadata": {},
   "outputs": [],
   "source": []
  }
 ],
 "metadata": {
  "kernelspec": {
   "display_name": "Python 3 (ipykernel)",
   "language": "python",
   "name": "python3"
  },
  "language_info": {
   "codemirror_mode": {
    "name": "ipython",
    "version": 3
   },
   "file_extension": ".py",
   "mimetype": "text/x-python",
   "name": "python",
   "nbconvert_exporter": "python",
   "pygments_lexer": "ipython3",
   "version": "3.10.14"
  }
 },
 "nbformat": 4,
 "nbformat_minor": 5
}
