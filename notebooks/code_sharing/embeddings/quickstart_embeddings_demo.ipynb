{
 "cells": [
  {
   "cell_type": "markdown",
   "id": "644aeb31",
   "metadata": {},
   "source": [
    "# BERT Embeddings for Financial News Articles\n",
    "\n",
    "This notebook demonstrates the use of a BERT model to create embeddings for news articles. This matches the Oliver Wyman NewsTrack model and will act as a POC for embeddings model support in the ValidMind Developer Framework."
   ]
  },
  {
   "cell_type": "markdown",
   "id": "0d49538d",
   "metadata": {},
   "source": [
    "## ValidMind at a glance\n",
    "\n",
    "ValidMind's platform enables organizations to identify, document, and manage model risks for all types of models, including AI/ML models, LLMs, and statistical models. As a model developer, you use the ValidMind Developer Framework to automate documentation and validation tests, and then use the ValidMind AI Risk Platform UI to collaborate on model documentation. Together, these products simplify model risk management, facilitate compliance with regulations and institutional standards, and enhance collaboration between yourself and model validators.\n",
    "\n",
    "If this is your first time trying out ValidMind, you can make use of the following resources alongside this notebook:\n",
    "\n",
    "- [Get started](https://docs.validmind.ai/guide/get-started.html) — The basics, including key concepts, and how our products work\n",
    "- [Get started with the ValidMind Developer Framework](https://docs.validmind.ai/guide/get-started-developer-framework.html) —  The path for developers, more code samples, and our developer reference"
   ]
  },
  {
   "cell_type": "markdown",
   "id": "0b6f02be",
   "metadata": {},
   "source": [
    "## Before you begin\n",
    "\n",
    "::: {.callout-tip}\n",
    "### New to ValidMind? \n",
    "For access to all features available in this notebook, create a free ValidMind account. \n",
    "\n",
    "Signing up is FREE — [**Sign up now**](https://app.prod.validmind.ai)\n",
    ":::\n",
    "\n",
    "If you encounter errors due to missing modules in your Python environment, install the modules with `pip install`, and then re-run the notebook. For more help, refer to [Installing Python Modules](https://docs.python.org/3/installing/index.html)."
   ]
  },
  {
   "cell_type": "markdown",
   "id": "4b27fcda",
   "metadata": {},
   "source": [
    "## Install the client library\n",
    "\n",
    "The client library provides Python support for the ValidMind Developer Framework. To install it:"
   ]
  },
  {
   "cell_type": "code",
   "execution_count": null,
   "id": "d1365a88",
   "metadata": {},
   "outputs": [],
   "source": [
    "%pip install -q validmind"
   ]
  },
  {
   "cell_type": "markdown",
   "id": "03369f9e",
   "metadata": {},
   "source": [
    "## Initialize the client library\n",
    "\n",
    "ValidMind generates a unique _code snippet_ for each registered model to connect with your developer environment. You initialize the client library with this code snippet, which ensures that your documentation and tests are uploaded to the correct model when you run the notebook.\n",
    "\n",
    "Get your code snippet:\n",
    "\n",
    "1. In a browser, log into the [Platform UI](https://app.prod.validmind.ai).\n",
    "\n",
    "2. In the left sidebar, navigate to **Model Inventory** and click **+ Register new model**.\n",
    "\n",
    "3. Enter the model details and click **Continue**. ([Need more help?](https://docs.validmind.ai/guide/register-models-in-model-inventory.html))\n",
    "\n",
    "4. Go to **Getting Started** and click **Copy snippet to clipboard**.\n",
    "\n",
    "Next, replace this placeholder with your own code snippet:"
   ]
  },
  {
   "cell_type": "code",
   "execution_count": null,
   "id": "ab825078",
   "metadata": {},
   "outputs": [],
   "source": [
    "# Replace with your code snippet\n",
    "\n",
    "import validmind as vm\n",
    "\n",
    "vm.init(\n",
    "    api_host=\"...\",\n",
    "    api_key=\"...\",\n",
    "    api_secret=\"...\",\n",
    "    project=\"...\"\n",
    ")"
   ]
  },
  {
   "cell_type": "markdown",
   "id": "e4978450",
   "metadata": {},
   "source": [
    "## Initialize the Python environment\n",
    "\n",
    "Next, let's import the necessary libraries and set up your Python environment for data analysis:"
   ]
  },
  {
   "cell_type": "code",
   "execution_count": null,
   "id": "032173e6",
   "metadata": {},
   "outputs": [],
   "source": [
    "import pandas as pd\n",
    "from transformers import pipeline"
   ]
  },
  {
   "cell_type": "markdown",
   "id": "d7682299",
   "metadata": {},
   "source": [
    "### Preview the documentation template\n",
    "\n",
    "A template predefines sections for your model documentation and provides a general outline to follow, making the documentation process much easier.\n",
    "\n",
    "You will upload documentation and test results into this template later on. For now, take a look at the structure that the template provides with the `vm.preview_template()` function from the ValidMind library and note the empty sections:"
   ]
  },
  {
   "cell_type": "code",
   "execution_count": null,
   "id": "28968af1",
   "metadata": {},
   "outputs": [],
   "source": [
    "vm.preview_template()"
   ]
  },
  {
   "cell_type": "markdown",
   "id": "a871f69d",
   "metadata": {},
   "source": [
    "## Load the sample dataset\n",
    "\n",
    "The sample dataset used here is provided by the ValidMind library, along with a second, different dataset you can try as well. \n",
    "\n",
    "To be able to use either sample dataset, you need to import the dataset and load it into a pandas [DataFrame](https://pandas.pydata.org/docs/reference/api/pandas.DataFrame.html), a two-dimensional tabular data structure that makes use of rows and columns:"
   ]
  },
  {
   "cell_type": "code",
   "execution_count": null,
   "id": "da124a63",
   "metadata": {},
   "outputs": [],
   "source": [
    "\n",
    "# This dataset should be located at the `notebooks/` directory root.\n",
    "df = pd.read_feather('../20231026 SampleData_filtered.f')\n",
    "\n",
    "news_articles_df = pd.DataFrame(df, columns=['title_snippet_processed'])\n",
    "news_articles_df.head()"
   ]
  },
  {
   "cell_type": "markdown",
   "id": "9a10399e",
   "metadata": {},
   "source": [
    "### Initialize a ValidMind dataset object\n",
    "\n",
    "Before you can run a test suite, which are just a collection of tests, you must first initialize a ValidMind dataset object using the [`init_dataset`](https://docs.validmind.ai/validmind/validmind.html#init_dataset) function from the ValidMind (`vm`) module. \n",
    "\n",
    "This function takes a number of arguments: \n",
    "\n",
    "- `dataset` — the raw dataset that you want to analyze\n",
    "- `text_column` — the name of the text column in the dataset \n"
   ]
  },
  {
   "cell_type": "code",
   "execution_count": null,
   "id": "e4e6e77d",
   "metadata": {},
   "outputs": [],
   "source": [
    "vm_dataset = vm.init_dataset(\n",
    "    dataset=news_articles_df,\n",
    "    text_column=\"title_snippet_processed\",\n",
    ")"
   ]
  },
  {
   "cell_type": "markdown",
   "id": "dfa3df54",
   "metadata": {},
   "source": [
    "## Document the model\n",
    "\n",
    "As part of documenting the model with the ValidMind Developer Framework, you need to preprocess the raw dataset, initialize some training and test datasets, initialize a model object you can use for testing, and then run the full suite of tests. "
   ]
  },
  {
   "cell_type": "code",
   "execution_count": null,
   "id": "237d9d35",
   "metadata": {},
   "outputs": [],
   "source": [
    "\n",
    "embedding_model = pipeline(\n",
    "    'feature-extraction', model='bert-base-uncased', tokenizer='bert-base-uncased')"
   ]
  },
  {
   "cell_type": "code",
   "execution_count": null,
   "id": "665b1558",
   "metadata": {},
   "outputs": [],
   "source": [
    "vm_test_ds = vm.init_dataset(\n",
    "    dataset=news_articles_df,\n",
    "    text_column=\"title_snippet_processed\",\n",
    ")\n",
    "\n",
    "vm_model = vm.init_model(\n",
    "    embedding_model,\n",
    "    test_ds=vm_test_ds,\n",
    ")"
   ]
  },
  {
   "cell_type": "code",
   "execution_count": null,
   "id": "7520f5e8",
   "metadata": {},
   "outputs": [],
   "source": [
    "config = {\n",
    "    \"validmind.model_validation.embeddings.StabilityAnalysisKeyword\": {\n",
    "        \"keyword_dict\": {\n",
    "            'investors': 'shareholders',\n",
    "            'tech': 'technology',\n",
    "            'are': 'exist',\n",
    "            'this': 'that',\n",
    "            'after': 'post',\n",
    "            'by': 'via',\n",
    "            'announced': 'declared',\n",
    "            'have': 'possess',\n",
    "            'global': 'worldwide',\n",
    "            'industry': 'sector',\n",
    "            'major': 'primary',\n",
    "        }\n",
    "    }\n",
    "}\n",
    "document_tests = vm.run_documentation_tests(\n",
    "    model=vm_model, dataset=vm_dataset, section=\"data_preparation\", config=config)"
   ]
  }
 ],
 "metadata": {
  "kernelspec": {
   "display_name": "developer-framework",
   "language": "python",
   "name": "developer-framework"
  },
  "language_info": {
   "codemirror_mode": {
    "name": "ipython",
    "version": 3
   },
   "file_extension": ".py",
   "mimetype": "text/x-python",
   "name": "python",
   "nbconvert_exporter": "python",
   "pygments_lexer": "ipython3",
   "version": "3.9.6"
  }
 },
 "nbformat": 4,
 "nbformat_minor": 5
}
