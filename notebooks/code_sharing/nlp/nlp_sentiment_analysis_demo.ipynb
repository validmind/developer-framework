{
  "cells": [
    {
      "attachments": {},
      "cell_type": "markdown",
      "metadata": {},
      "source": [
        "# Natural Language Processing Analysis & Binary Classification Using CatBoost\n",
        "\n",
        "This notebook aims to provide an introduction to documenting an NLP model using the ValidMind Developer Framework. The use case presented is a sentiment analysis of tweets related to COVID-19 into \"positive\" and \"negative\"; the model is a binary text classification using the PyTorch library.\n",
        "\n",
        "We will train a sample model and demonstrate the following documentation functionalities:\n",
        "\n",
        "- Initializing the ValidMind Developer Framework\n",
        "- Using a sample datasets provided by the library to train a simple nlp classification model using PyTorch library\n",
        "- Running a test various tests to quickly generate document about the data and model"
      ]
    },
    {
      "cell_type": "markdown",
      "metadata": {},
      "source": [
        "## Before you begin\n",
        "\n",
        "::: {.callout-tip}\n",
        "### New to ValidMind? \n",
        "For access to all features available in this notebook, create a free ValidMind account. \n",
        "\n",
        "Signing up is FREE — [**Sign up now!**](https://app.prod.validmind.ai)\n",
        ":::\n",
        "\n",
        "If you encounter errors due to missing modules in your Python environment, install the modules with `pip install`, and then re-run the notebook. For more help, refer to [Installing Python Modules](https://docs.python.org/3/installing/index.html)."
      ]
    },
    {
      "attachments": {},
      "cell_type": "markdown",
      "metadata": {},
      "source": [
        "## Install the client library"
      ]
    },
    {
      "cell_type": "code",
      "execution_count": null,
      "metadata": {},
      "outputs": [],
      "source": [
        "%pip install -q validmind"
      ]
    },
    {
      "attachments": {},
      "cell_type": "markdown",
      "metadata": {},
      "source": [
        "## Initialize the client library\n",
        "\n",
        "ValidMind generates a unique _code snippet_ for each registered model to connect with your developer environment. You initialize the client library with this code snippet, which ensures that your documentation and tests are uploaded to the correct model when you run the notebook.\n",
        "\n",
        "Get your code snippet:\n",
        "\n",
        "1. In a browser, log into the [Platform UI](https://app.prod.validmind.ai).\n",
        "\n",
        "2. In the left sidebar, navigate to **Model Inventory** and click **+ Register new model**.\n",
        "\n",
        "3. Enter the model details, making sure to select **`NLP-based Text Classification`**, and click **Continue**. ([Need more help?](https://docs.validmind.ai/guide/register-models-in-model-inventory.html))\n",
        "\n",
        "4. Go to **Getting Started** and click **Copy snippet to clipboard**.\n",
        "\n",
        "Next, replace this placeholder with your own code snippet:"
      ]
    },
    {
      "cell_type": "code",
      "execution_count": null,
      "metadata": {},
      "outputs": [],
      "source": [
        "# Replace with your code snippet\n",
        "import validmind as vm\n",
        "\n",
        "vm.init(\n",
        "    api_host=\"https://api.prod.validmind.ai/api/v1/tracking\",\n",
        "    api_key=\"...\",\n",
        "    api_secret=\"...\",\n",
        "    project=\"...\"\n",
        ")"
      ]
    },
    {
      "attachments": {},
      "cell_type": "markdown",
      "metadata": {},
      "source": [
        "## 1. Exploratory Data Analysis of Covid tweets data\n",
        "The emphasis in this section is on the in-depth analysis and preprocessing of the text data (tweets). In this section, we introduce the manually tagged COVID-19 tweets, which range from Highly Negative to Highly Positive, representing five distinct classes. In this Exploratory Data Analysis (EDA), these five classes will be simplified to two classes: Positive and Negative.\n",
        "\n"
      ]
    },
    {
      "attachments": {},
      "cell_type": "markdown",
      "metadata": {},
      "source": [
        "### Load library"
      ]
    },
    {
      "cell_type": "code",
      "execution_count": null,
      "metadata": {},
      "outputs": [],
      "source": [
        "%set_env PYTORCH_MPS_HIGH_WATERMARK_RATIO 0.8\n",
        "\n",
        "import pandas as pd\n",
        "import numpy as np\n",
        "import os\n",
        "%matplotlib inline\n",
        "\n",
        "import warnings\n",
        "warnings.filterwarnings('ignore')\n",
        "\n",
        "import torch\n",
        "if torch.backends.mps.is_available():\n",
        "    device = torch.device(\"mps\")\n",
        "elif torch.cuda.is_available():\n",
        "    device = torch.device(\"cuda\")\n",
        "else:\n",
        "    device = torch.device(\"cpu\")\n",
        "\n",
        "device = \"cpu\"\n",
        "\n",
        "train_model = False"
      ]
    },
    {
      "attachments": {},
      "cell_type": "markdown",
      "metadata": {},
      "source": [
        "###  Load covid-19 tweets data"
      ]
    },
    {
      "cell_type": "code",
      "execution_count": null,
      "metadata": {},
      "outputs": [],
      "source": [
        "from validmind.datasets.nlp import twitter_covid_19 as demo_data\n",
        "df = demo_data.load_data()\n",
        "df.head(10)"
      ]
    },
    {
      "attachments": {},
      "cell_type": "markdown",
      "metadata": {},
      "source": [
        "### Run text data quality test plan\n",
        "In this section we use the ValidMind Developer Framework to run various data quality checks on the dataset, and send the results to the model document on the ValidMind Platform UI."
      ]
    },
    {
      "cell_type": "code",
      "execution_count": null,
      "metadata": {},
      "outputs": [],
      "source": [
        "vm_ds = vm.init_dataset(dataset=df, type=\"generic\",\n",
        "                        text_column='OriginalTweet', target_column=\"Sentiment\")"
      ]
    },
    {
      "cell_type": "code",
      "execution_count": null,
      "metadata": {},
      "outputs": [],
      "source": [
        "config = {\n",
        "    \"class_imbalance\": {\"min_percent_threshold\": 3}\n",
        "}\n",
        "text_data_test_suite = vm.run_test_suite(\"text_data_quality\",\n",
        "                                         dataset=vm_ds,\n",
        "                                         config=config)"
      ]
    },
    {
      "attachments": {},
      "cell_type": "markdown",
      "metadata": {},
      "source": [
        "## 2. Preprocess data"
      ]
    },
    {
      "attachments": {},
      "cell_type": "markdown",
      "metadata": {},
      "source": [
        "### Handle class bias \n",
        "One way to handle class bias is to merge a specific class data with related class. \n",
        "Here, we will copy the text and class lables in separate columns so that the original text is also there for comparison."
      ]
    },
    {
      "cell_type": "code",
      "execution_count": null,
      "metadata": {},
      "outputs": [],
      "source": [
        "print(\"Original Classes:\", df.Sentiment.unique())\n",
        "\n",
        "df['text'] = df.OriginalTweet\n",
        "df[\"text\"] = df[\"text\"].astype(str)\n",
        "\n",
        "\n",
        "def classes_def(x):\n",
        "    if x == \"Extremely Positive\":\n",
        "        return \"positive\"\n",
        "    elif x == \"Extremely Negative\":\n",
        "        return \"negative\"\n",
        "    elif x == \"Negative\":\n",
        "        return \"negative\"\n",
        "    elif x == \"Positive\":\n",
        "        return \"positive\"\n",
        "    else:\n",
        "        return \"neutral\"\n",
        "\n",
        "\n",
        "df['sentiment'] = df['Sentiment'].apply(lambda x: classes_def(x))\n",
        "target = df['sentiment']\n",
        "\n",
        "print(df.sentiment.value_counts(normalize=True))\n",
        "print(\"Modified Classes:\", df.sentiment.unique())"
      ]
    },
    {
      "attachments": {},
      "cell_type": "markdown",
      "metadata": {},
      "source": [
        "### Remove neutral class"
      ]
    },
    {
      "cell_type": "code",
      "execution_count": null,
      "metadata": {},
      "outputs": [],
      "source": [
        "df = df[df[\"sentiment\"] != \"neutral\"]\n",
        "print(df.sentiment.unique())\n",
        "print(df.sentiment.value_counts(normalize=True))\n",
        "print(df.shape)"
      ]
    },
    {
      "cell_type": "code",
      "execution_count": null,
      "metadata": {},
      "outputs": [],
      "source": [
        "df"
      ]
    },
    {
      "attachments": {},
      "cell_type": "markdown",
      "metadata": {},
      "source": [
        "### Remove urls and html links"
      ]
    },
    {
      "cell_type": "code",
      "execution_count": null,
      "metadata": {},
      "outputs": [],
      "source": [
        "# Remove Urls and HTML links\n",
        "import re\n",
        "\n",
        "\n",
        "def remove_urls(text):\n",
        "    url_remove = re.compile(r'https?://\\S+|www\\.\\S+')\n",
        "    return url_remove.sub(r'', text)\n",
        "\n",
        "\n",
        "df['text'] = df['text'].apply(lambda x: remove_urls(x))\n",
        "\n",
        "\n",
        "def remove_html(text):\n",
        "    html = re.compile(r'<.*?>')\n",
        "    return html.sub(r'', text)\n",
        "\n",
        "\n",
        "df['text'] = df['text'].apply(lambda x: remove_html(x))"
      ]
    },
    {
      "attachments": {},
      "cell_type": "markdown",
      "metadata": {},
      "source": [
        "### Convert text to lower case \n"
      ]
    },
    {
      "cell_type": "code",
      "execution_count": null,
      "metadata": {},
      "outputs": [],
      "source": [
        "# Lower casing\n",
        "def lower(text):\n",
        "    low_text = text.lower()\n",
        "    return low_text\n",
        "\n",
        "\n",
        "df['text'] = df['text'].apply(lambda x: lower(x))"
      ]
    },
    {
      "attachments": {},
      "cell_type": "markdown",
      "metadata": {},
      "source": [
        "### Remove numbers "
      ]
    },
    {
      "cell_type": "code",
      "execution_count": null,
      "metadata": {},
      "outputs": [],
      "source": [
        "# Number removal\n",
        "def remove_num(text):\n",
        "    remove = re.sub(r'\\d+', '', text)\n",
        "    return remove\n",
        "\n",
        "\n",
        "df['text'] = df['text'].apply(lambda x: remove_num(x))"
      ]
    },
    {
      "attachments": {},
      "cell_type": "markdown",
      "metadata": {},
      "source": [
        "### Remove stopwords "
      ]
    },
    {
      "cell_type": "code",
      "execution_count": null,
      "metadata": {},
      "outputs": [],
      "source": [
        "# Remove stopwords\n",
        "from nltk.corpus import stopwords\n",
        "\", \".join(stopwords.words('english'))\n",
        "STOPWORDS = set(stopwords.words('english'))\n",
        "\n",
        "\n",
        "def remove_stopwords(text):\n",
        "    \"\"\"custom function to remove the stopwords\"\"\"\n",
        "    return \" \".join([word for word in str(text).split() if word not in STOPWORDS])\n",
        "\n",
        "\n",
        "df['text'] = df['text'].apply(lambda x: remove_stopwords(x))"
      ]
    },
    {
      "attachments": {},
      "cell_type": "markdown",
      "metadata": {},
      "source": [
        "### Remove Punctuations "
      ]
    },
    {
      "cell_type": "code",
      "execution_count": null,
      "metadata": {},
      "outputs": [],
      "source": [
        "# Remove Punctuations\n",
        "\n",
        "def punct_remove(text):\n",
        "    punct = re.sub(r\"[^\\w\\s\\d]\", \"\", text)\n",
        "    return punct\n",
        "\n",
        "\n",
        "df['text'] = df['text'].apply(lambda x: punct_remove(x))"
      ]
    },
    {
      "attachments": {},
      "cell_type": "markdown",
      "metadata": {},
      "source": [
        "### Remove mentions "
      ]
    },
    {
      "cell_type": "code",
      "execution_count": null,
      "metadata": {},
      "outputs": [],
      "source": [
        "# Remove mentions\n",
        "def remove_mention(x):\n",
        "    text = re.sub(r'@\\w+', '', x)\n",
        "    return text\n",
        "\n",
        "\n",
        "df['text'] = df['text'].apply(lambda x: remove_mention(x))"
      ]
    },
    {
      "attachments": {},
      "cell_type": "markdown",
      "metadata": {},
      "source": [
        "### Remove hashtags "
      ]
    },
    {
      "cell_type": "code",
      "execution_count": null,
      "metadata": {},
      "outputs": [],
      "source": [
        "# Remove hashtags\n",
        "\n",
        "def remove_hash(x):\n",
        "    text = re.sub(r'#\\w+', '', x)\n",
        "    return text\n",
        "\n",
        "\n",
        "df['text'] = df['text'].apply(lambda x: remove_hash(x))"
      ]
    },
    {
      "attachments": {},
      "cell_type": "markdown",
      "metadata": {},
      "source": [
        "### Remove extra white space left while removing stuff"
      ]
    },
    {
      "cell_type": "code",
      "execution_count": null,
      "metadata": {},
      "outputs": [],
      "source": [
        "# Remove extra white space left while removing stuff\n",
        "def remove_space(text):\n",
        "    space_remove = re.sub(r\"\\s+\", \" \", text).strip()\n",
        "    return space_remove\n",
        "\n",
        "\n",
        "df['text'] = df['text'].apply(lambda x: remove_space(x))"
      ]
    },
    {
      "cell_type": "code",
      "execution_count": null,
      "metadata": {},
      "outputs": [],
      "source": [
        "df"
      ]
    },
    {
      "attachments": {},
      "cell_type": "markdown",
      "metadata": {},
      "source": [
        "### Run text data quality tests again\n",
        "Here, we are checking the quality of the data again by running data quality tests so verify that we have preprocess data well and tests are passing according to our requirements."
      ]
    },
    {
      "cell_type": "code",
      "execution_count": null,
      "metadata": {},
      "outputs": [],
      "source": [
        "vm_ds = vm.init_dataset(dataset=df, type=\"generic\",\n",
        "                        text_column='text', target_column=\"sentiment\")\n",
        "\n",
        "config = {\n",
        "    \"class_imbalance\": {\"min_percent_threshold\": 3}\n",
        "}\n",
        "text_data_test_suite = vm.run_test_suite(\"text_data_quality\",\n",
        "                                         dataset=vm_ds,\n",
        "                                         config=config)"
      ]
    },
    {
      "attachments": {},
      "cell_type": "markdown",
      "metadata": {},
      "source": [
        "## 3. Feature Engineering "
      ]
    },
    {
      "attachments": {},
      "cell_type": "markdown",
      "metadata": {},
      "source": [
        "### Encoding the words\n",
        "\n",
        "The embedding lookup requires that we pass in integers to our network. The easiest way to do this is to create dictionaries that map the words in the vocabulary to integers. Then we can convert each of our tweets into integers so they can be passed into the network.\n",
        "\n",
        "Now you're going to encode the words with integers. Build a dictionary that maps words to integers. Later we're going to pad our input vectors with zeros, so make sure the integers **start at 1, not 0**.\n",
        "Also, convert the tweets to integers and store the tweets in a new list called `tweets_ints`. "
      ]
    },
    {
      "attachments": {},
      "cell_type": "markdown",
      "metadata": {},
      "source": [
        "#### Text to words"
      ]
    },
    {
      "cell_type": "code",
      "execution_count": null,
      "metadata": {},
      "outputs": [],
      "source": [
        "all_text = ' '.join(df.text)\n",
        "# create a list of words\n",
        "words = all_text.split()"
      ]
    },
    {
      "attachments": {},
      "cell_type": "markdown",
      "metadata": {},
      "source": [
        "#### Build dictionary and map words to integers"
      ]
    },
    {
      "cell_type": "code",
      "execution_count": null,
      "metadata": {},
      "outputs": [],
      "source": [
        "# feel free to use this import\n",
        "from collections import Counter\n",
        "\n",
        "# Build a dictionary that maps words to integers\n",
        "counts = Counter(words)\n",
        "vocab = sorted(counts, key=counts.get, reverse=True)\n",
        "vocab_to_int = {word: ii for ii, word in enumerate(vocab, 1)}\n",
        "vocab[1:10]"
      ]
    },
    {
      "attachments": {},
      "cell_type": "markdown",
      "metadata": {},
      "source": [
        "#### Tokenize each tweet "
      ]
    },
    {
      "cell_type": "code",
      "execution_count": null,
      "metadata": {},
      "outputs": [],
      "source": [
        "# use the dict to tokenize each tweet in tweets_split\n",
        "# store the tokenized tweets in tweets_ints\n",
        "tweets_ints = []\n",
        "for tweet in df.text:\n",
        "    tweets_ints.append([vocab_to_int[word] for word in tweet.split()])"
      ]
    },
    {
      "cell_type": "code",
      "execution_count": null,
      "metadata": {},
      "outputs": [],
      "source": [
        "# stats about vocabulary\n",
        "print('Unique words: ', len((vocab_to_int)))  # should ~ 74000+\n",
        "print()\n",
        "\n",
        "# print tokens in first tweet\n",
        "print('Tokenized tweet: \\n', tweets_ints[:1])\n",
        "print(len(tweets_ints))"
      ]
    },
    {
      "attachments": {},
      "cell_type": "markdown",
      "metadata": {},
      "source": [
        "### Encoding the labels\n",
        "\n",
        "Our labels are \"positive\" or \"negative\". To use these labels in our network, we need to convert them to 0 and 1.\n",
        "\n",
        "Convert labels from `positive` and `negative` to 1 and 0, respectively, and place those in a new list, `encoded_labels`."
      ]
    },
    {
      "cell_type": "code",
      "execution_count": null,
      "metadata": {},
      "outputs": [],
      "source": [
        "# 1=positive, 0=negative label conversion\n",
        "import numpy as np\n",
        "\n",
        "labels_split = df.sentiment.values\n",
        "encoded_labels = np.array([1 if label == 'positive' else 0 for label in labels_split])\n",
        "print(len(encoded_labels))"
      ]
    },
    {
      "attachments": {},
      "cell_type": "markdown",
      "metadata": {},
      "source": [
        "#### Padding sequences\n",
        "\n",
        "To deal with both short and very long tweets, we'll pad or truncate all our tweets to a specific length. For tweets shorter than some `seq_length`, we'll pad with 0s. For tweets longer than `seq_length`, we can truncate them to the first `seq_length` words. A good `seq_length`, in this case, is 200.\n",
        "\n",
        "Define a function that returns an array `features` that contains the padded data, of a standard size, that we'll pass to the network. \n",
        "* The data should come from `tweet_ints`, since we want to feed integers to the network. \n",
        "* Each row should be `seq_length` elements long. \n",
        "* For tweets longer than `seq_length`, use only the first `seq_length` words as the feature vector.\n",
        "\n",
        "**Your final `features` array should be a 2D array, with as many rows as there are tweets, and as many columns as the specified `seq_length`.**\n",
        "\n",
        "This isn't trivial and there are a bunch of ways to do this. But, if you're going to be building your own deep learning networks, you're going to have to get used to preparing your data."
      ]
    },
    {
      "cell_type": "code",
      "execution_count": null,
      "metadata": {},
      "outputs": [],
      "source": [
        "def pad_features(tweets_ints, seq_length):\n",
        "    ''' Return features of tweet_ints, where each tweet is padded with 0's\n",
        "        or truncated to the input seq_length.\n",
        "    '''\n",
        "    # getting the correct rows x cols shape\n",
        "    features = np.zeros((len(tweets_ints), seq_length), dtype=int)\n",
        "\n",
        "    # for each tweet, I grab that tweet\n",
        "    for i, row in enumerate(tweets_ints):\n",
        "        features[i, -len(row):] = np.array(row)[:seq_length]\n",
        "\n",
        "    return features"
      ]
    },
    {
      "cell_type": "code",
      "execution_count": null,
      "metadata": {},
      "outputs": [],
      "source": [
        "# Test your implementation!\n",
        "\n",
        "seq_length = 100\n",
        "\n",
        "features = pad_features(tweets_ints, seq_length=seq_length)\n",
        "\n",
        "## test statements - do not change - ##\n",
        "assert len(features) == len(\n",
        "    tweets_ints), \"Your features should have as many rows as tweets.\"\n",
        "assert len(\n",
        "    features[0]) == seq_length, \"Each feature row should contain seq_length values.\"\n",
        "\n",
        "# print first 10 values of the first 30 batches\n",
        "print(features[:10, -25:])\n",
        "features = features[0:len(features) - 23]\n",
        "encoded_labels = encoded_labels[0:len(encoded_labels) - 23]\n",
        "print(len(features), len(encoded_labels))"
      ]
    },
    {
      "attachments": {},
      "cell_type": "markdown",
      "metadata": {},
      "source": [
        "## 4. Modeling "
      ]
    },
    {
      "attachments": {},
      "cell_type": "markdown",
      "metadata": {},
      "source": [
        "### Training, validation, test\n",
        "\n",
        "With our data in nice shape, we'll split it into training, validation, and test sets.\n",
        "\n",
        "Create the training, validation, and test sets. \n",
        "* You'll need to create sets for the features and the labels, `train_x` and `train_y`, for example. \n",
        "* Define a split fraction, `split_frac` as the fraction of data to **keep** in the training set. Usually this is set to 0.8 or 0.9. \n",
        "* Whatever data is left will be split in half to create the validation and *testing* data."
      ]
    },
    {
      "cell_type": "code",
      "execution_count": null,
      "metadata": {},
      "outputs": [],
      "source": [
        "split_frac = 0.8\n",
        "\n",
        "# split data into training, validation, and test data (features and labels, x and y)\n",
        "split_idx = 25000\n",
        "train_x, remaining_x = features[:split_idx], features[split_idx:]\n",
        "train_y, remaining_y = encoded_labels[:split_idx], encoded_labels[split_idx:]\n",
        "\n",
        "test_idx = int(len(remaining_x) * 0.53449)\n",
        "val_x, test_x = remaining_x[:test_idx], remaining_x[test_idx:]\n",
        "val_y, test_y = remaining_y[:test_idx], remaining_y[test_idx:]\n",
        "\n",
        "# print out the shapes of your resultant feature data\n",
        "print(\"\\t\\t\\tFeatures Shapes:\")\n",
        "print(\"Train set: \\t\\t{}\".format(train_x.shape),\n",
        "      \"\\nValidation set: \\t{}\".format(val_x.shape),\n",
        "      \"\\nTest set: \\t\\t{}\".format(test_x.shape))"
      ]
    },
    {
      "attachments": {},
      "cell_type": "markdown",
      "metadata": {},
      "source": [
        "\n",
        "### Dataloaders and batching\n",
        "\n",
        "After creating training, test, and validation data, we can create DataLoaders for this data by following two steps:\n",
        "1. Create a known format for accessing our data, using [TensorDataset](https://pytorch.org/docs/stable/data.html#) which takes in an input set of data and a target set of data with the same first dimension, and creates a dataset.\n",
        "2. Create DataLoaders and batch our training, validation, and test Tensor datasets.\n",
        "\n",
        "```\n",
        "train_data = TensorDataset(torch.from_numpy(train_x), torch.from_numpy(train_y))\n",
        "train_loader = DataLoader(train_data, batch_size=batch_size)\n",
        "```\n",
        "\n",
        "This is an alternative to creating a generator function for batching our data into full batches."
      ]
    },
    {
      "cell_type": "code",
      "execution_count": null,
      "metadata": {},
      "outputs": [],
      "source": [
        "import torch\n",
        "from torch.utils.data import TensorDataset, DataLoader\n",
        "\n",
        "# create Tensor datasets\n",
        "train_data = TensorDataset(torch.from_numpy(train_x).to(\n",
        "    device), torch.from_numpy(train_y).to(device))\n",
        "valid_data = TensorDataset(torch.from_numpy(val_x).to(device),\n",
        "                           torch.from_numpy(val_y).to(device))\n",
        "test_data = TensorDataset(torch.from_numpy(test_x).to(device),\n",
        "                          torch.from_numpy(test_y).to(device))\n",
        "\n",
        "# dataloaders\n",
        "batch_size = 50\n",
        "\n",
        "# make sure to SHUFFLE your data\n",
        "train_loader = DataLoader(train_data, shuffle=True, batch_size=batch_size)\n",
        "valid_loader = DataLoader(valid_data, shuffle=True, batch_size=batch_size)\n",
        "test_loader = DataLoader(test_data, shuffle=True, batch_size=batch_size)"
      ]
    },
    {
      "cell_type": "code",
      "execution_count": null,
      "metadata": {},
      "outputs": [],
      "source": [
        "# obtain one batch of training data\n",
        "dataiter = iter(train_loader)\n",
        "sample_x, sample_y = next(dataiter)\n",
        "\n",
        "print('Sample input size: ', sample_x.size())  # batch_size, seq_length\n",
        "print('Sample input: \\n', sample_x)\n",
        "print()\n",
        "print('Sample label size: ', sample_y.size())  # batch_size\n",
        "print('Sample label: \\n', sample_y)"
      ]
    },
    {
      "attachments": {},
      "cell_type": "markdown",
      "metadata": {},
      "source": [
        "### Sentiment network with PyTorch\n",
        "\n",
        "Below is where you'll define the network.\n",
        "### Network architecture\n",
        "\n",
        "The architecture for this network is shown below.\n",
        "\n",
        "```mermaid\n",
        "    Input (Word Tokens)\" --> \"Embedding Layer\" --> \"LSTM Layer\" --> \"Fully-Connected Layer\" --> \"Sigmoid Activation\" --> \"Output (Last Sigmoid)\";\n",
        "```\n",
        "\n",
        "First, we'll pass in words to an embedding layer. We need an embedding layer because we have tens of thousands of words, so we'll need a more efficient representation for our input data than one-hot encoded vectors. You should have seen this before from the Word2Vec lesson. You can actually train an embedding with the Skip-gram Word2Vec model and use those embeddings as input, here. However, it's good enough to just have an embedding layer and let the network learn a different embedding table on its own. \n",
        "\n",
        "After input words are passed to an embedding layer, the new embeddings will be passed to LSTM cells. The LSTM cells will add *recurrent* connections to the network and give us the ability to include information about the *sequence* of words in the covid twitter data. \n",
        "\n",
        "Finally, the LSTM outputs will go to a sigmoid output layer. We're using a sigmoid function because positive and negative = 1 and 0, respectively, and a sigmoid will output predicted, sentiment values between 0-1. \n",
        "\n",
        "We don't care about the sigmoid outputs except for the **very last one**; we can ignore the rest. We'll calculate the loss by comparing the output at the last time step and the training label (pos or neg).\n",
        "\n",
        "\n",
        "The layers are as follows:\n",
        "1. An [embedding layer](https://pytorch.org/docs/stable/nn.html#embedding) that converts our word tokens (integers) into embeddings of a specific size.\n",
        "2. An [lstm layer](https://pytorch.org/docs/stable/nn.html#lstm) defined by a hidden_state size and number of layers\n",
        "3. A fully-connected output layer that maps the LSTM layer outputs to a desired output_size\n",
        "4. A sigmoid activation layer which turns all outputs into a value 0-1; return **only the last sigmoid output** as the output of this network.\n",
        "\n",
        "### The embedding layer\n",
        "\n",
        "We need to add an [embedding layer](https://pytorch.org/docs/stable/nn.html#embedding) because there are 53000+ words in our vocabulary. It is massively inefficient to one-hot encode that many classes. So, instead of one-hot encoding, we can have an embedding layer and use that layer as a lookup table. You could train an embedding layer using Word2Vec, then load it here. But, it's fine to just make a new layer, using it for only dimensionality reduction, and let the network learn the weights.\n",
        "\n",
        "\n",
        "### The LSTM layer(s)\n",
        "\n",
        "We'll create an [LSTM](https://pytorch.org/docs/stable/nn.html#lstm) to use in our recurrent network, which takes in an input_size, a hidden_dim, a number of layers, a dropout probability (for dropout between multiple layers), and a batch_first parameter.\n",
        "\n",
        "Most of the time, you're network will have better performance with more layers; between 2-3. Adding more layers allows the network to learn really complex relationships. \n",
        "\n",
        "Complete the `__init__`, `forward`, and `init_hidden` functions for the SentimentRNN model class.\n",
        "\n",
        "Note: `init_hidden` should initialize the hidden and cell state of an lstm layer to all zeros, and move those state to GPU, if available."
      ]
    },
    {
      "cell_type": "code",
      "execution_count": null,
      "metadata": {},
      "outputs": [],
      "source": [
        "if (lower(device) == \"gpu\"):\n",
        "    print('Training on GPU.')\n",
        "elif (lower(device) == \"mps\"):\n",
        "    print('Training on mps.')\n",
        "else:\n",
        "    print('No GPU available, training on CPU.')"
      ]
    },
    {
      "cell_type": "code",
      "execution_count": null,
      "metadata": {},
      "outputs": [],
      "source": [
        "import torch.nn as nn\n",
        "\n",
        "\n",
        "class SentimentRNN(nn.Module):\n",
        "    \"\"\"\n",
        "    The RNN model that will be used to perform Sentiment analysis.\n",
        "    \"\"\"\n",
        "\n",
        "    def __init__(self, vocab_size, output_size, embedding_dim, hidden_dim, n_layers, drop_prob=0.5):\n",
        "        \"\"\"\n",
        "        Initialize the model by setting up the layers.\n",
        "        \"\"\"\n",
        "        super(SentimentRNN, self).__init__()\n",
        "\n",
        "        self.output_size = output_size\n",
        "        self.n_layers = n_layers\n",
        "        self.hidden_dim = hidden_dim\n",
        "\n",
        "        # embedding and LSTM layers\n",
        "        self.embedding = nn.Embedding(vocab_size, embedding_dim)\n",
        "        self.lstm = nn.LSTM(embedding_dim, hidden_dim, n_layers,\n",
        "                            dropout=drop_prob, batch_first=True)\n",
        "\n",
        "        # dropout layer\n",
        "        self.dropout = nn.Dropout(0.5)\n",
        "\n",
        "        # linear and sigmoid layer\n",
        "        self.fc = nn.Linear(hidden_dim, output_size)\n",
        "        self.sig = nn.Sigmoid()\n",
        "\n",
        "    def forward(self, x, hidden):\n",
        "        \"\"\"\n",
        "        Perform a forward pass of our model on some input and hidden state.\n",
        "        \"\"\"\n",
        "        batch_size = x.size(0)\n",
        "\n",
        "        # embeddings and lstm_out\n",
        "        embeds = self.embedding(x)\n",
        "        lstm_out, hidden = self.lstm(embeds, hidden)\n",
        "\n",
        "        # stack up lstm outputs\n",
        "        lstm_out = lstm_out.contiguous().view(-1, self.hidden_dim)\n",
        "\n",
        "        # dropout and fully connected layer\n",
        "        out = self.dropout(lstm_out)\n",
        "        out = self.fc(out)\n",
        "\n",
        "        # sigmoid function\n",
        "        sig_out = self.sig(out)\n",
        "\n",
        "        # reshape to be batch_size first\n",
        "        sig_out = sig_out.view(batch_size, -1)\n",
        "        sig_out = sig_out[:, -1]  # get last batch of labels\n",
        "\n",
        "        # return last sigmoid output and hidden state\n",
        "        return sig_out, hidden\n",
        "\n",
        "    def init_hidden(self, batch_size):\n",
        "        ''' Initializes hidden state '''\n",
        "        # Create two new tensors with sizes n_layers x batch_size x hidden_dim,\n",
        "        # initialized to zero, for hidden state and cell state of LSTM\n",
        "        weight = next(self.parameters()).data\n",
        "\n",
        "        if (lower(device) == \"gpu\"):\n",
        "            hidden = (weight.new(self.n_layers, batch_size, self.hidden_dim).zero_().cuda(),\n",
        "                      weight.new(self.n_layers, batch_size, self.hidden_dim).zero_().cuda())\n",
        "        elif (lower(device) == \"mps\"):\n",
        "            hidden = (weight.new(self.n_layers, batch_size, self.hidden_dim).zero_().to(device),\n",
        "                      weight.new(self.n_layers, batch_size, self.hidden_dim).zero_().to(device))\n",
        "        else:\n",
        "            hidden = (weight.new(self.n_layers, batch_size, self.hidden_dim).zero_(),\n",
        "                      weight.new(self.n_layers, batch_size, self.hidden_dim).zero_())\n",
        "\n",
        "        return hidden\n",
        "\n",
        "    def predict(self, x_data):\n",
        "\n",
        "        test_loader = DataLoader(x_data, shuffle=False, batch_size=batch_size)\n",
        "\n",
        "        # init hidden state\n",
        "        h = self.init_hidden(batch_size)\n",
        "\n",
        "        self.eval()\n",
        "        predictions = torch.empty((0), dtype=torch.float32)\n",
        "\n",
        "        # iterate over test data\n",
        "        for inputs in test_loader:\n",
        "\n",
        "            # Creating new variables for the hidden state, otherwise\n",
        "            # we'd backprop through the entire training history\n",
        "            h = tuple([each.data for each in h])\n",
        "\n",
        "            if (lower(device) == \"gpu\"):\n",
        "                inputs = inputs.cuda()\n",
        "            if (lower(device) == \"mps\"):\n",
        "                inputs = inputs.to(device)\n",
        "            # get predicted outputs\n",
        "            output, h = self(inputs, h)\n",
        "\n",
        "            # convert output probabilities to predicted class (0 or 1)\n",
        "            pred = torch.round(output.squeeze())  # rounds to the nearest integer\n",
        "\n",
        "            # compare predictions to true label\n",
        "            # correct_tensor = pred.eq(labels.float().view_as(pred))\n",
        "            if (lower(device) == \"mps\"):\n",
        "                pred = pred.cpu()\n",
        "            elif lower(device) == \"gpu\":\n",
        "                pred = pred\n",
        "            else:\n",
        "                pred = pred.cpu()\n",
        "            predictions = torch.cat((predictions, pred), 0)\n",
        "\n",
        "        return predictions.detach().numpy()"
      ]
    },
    {
      "attachments": {},
      "cell_type": "markdown",
      "metadata": {},
      "source": [
        "#### Weights and hyper parameters"
      ]
    },
    {
      "cell_type": "code",
      "execution_count": null,
      "metadata": {},
      "outputs": [],
      "source": [
        "# Instantiate the model w/ hyperparams\n",
        "vocab_size = len(vocab_to_int) + 1  # +1 for zero padding + our word tokens\n",
        "output_size = 1\n",
        "embedding_dim = 400\n",
        "hidden_dim = 256\n",
        "n_layers = 4\n",
        "\n",
        "net = SentimentRNN(vocab_size, output_size, embedding_dim, hidden_dim, n_layers)\n",
        "print(net)"
      ]
    },
    {
      "attachments": {},
      "cell_type": "markdown",
      "metadata": {},
      "source": [
        "#### Loss and optimization functions"
      ]
    },
    {
      "cell_type": "code",
      "execution_count": null,
      "metadata": {},
      "outputs": [],
      "source": [
        "# loss and optimization functions\n",
        "lr = 0.001\n",
        "\n",
        "criterion = nn.BCELoss()\n",
        "optimizer = torch.optim.Adam(net.parameters(), lr=lr)"
      ]
    },
    {
      "cell_type": "code",
      "execution_count": null,
      "metadata": {},
      "outputs": [],
      "source": [
        "# Check if the model exists before training it\n",
        "if os.path.exists('./model/model.pt'):\n",
        "    net = torch.load(os.path.join('./model/', 'model.pt'))\n",
        "    net = net.to(device)\n",
        "    net.eval()\n",
        "else:\n",
        "    print(\"Training the model will take sometime\")\n",
        "    # training params\n",
        "\n",
        "    epochs = 4  # 3-4 is approx where I noticed the validation loss stop decreasing\n",
        "\n",
        "    counter = 0\n",
        "    print_every = 100\n",
        "    clip = 5  # gradient clipping\n",
        "\n",
        "    # move model to GPU, if available\n",
        "    if (lower(device) == \"gpu\"):\n",
        "        net.cuda()\n",
        "    if (lower(device) == \"mps\"):\n",
        "        net = net.to(device)\n",
        "\n",
        "    net.train()\n",
        "    # train for some number of epochs\n",
        "    for e in range(epochs):\n",
        "        # initialize hidden state\n",
        "        h = net.init_hidden(batch_size)\n",
        "\n",
        "        # batch loop\n",
        "        for inputs, labels in train_loader:\n",
        "            counter += 1\n",
        "\n",
        "            if (lower(device) == \"gpu\"):\n",
        "                inputs, labels = inputs.cuda(), labels.cuda()\n",
        "            if (lower(device) == \"mps\"):\n",
        "                inputs, labels = inputs.to(device), labels.to(device)\n",
        "\n",
        "            # Creating new variables for the hidden state, otherwise\n",
        "            # we'd backprop through the entire training history\n",
        "            h = tuple([each.data for each in h])\n",
        "\n",
        "            # zero accumulated gradients\n",
        "            net.zero_grad()\n",
        "\n",
        "            # get the output from the model\n",
        "            output, h = net(inputs, h)\n",
        "\n",
        "            # calculate the loss and perform backprop\n",
        "            loss = criterion(output.squeeze(), labels.float())\n",
        "            loss.backward()\n",
        "            # `clip_grad_norm` helps prevent the exploding gradient problem in RNNs / LSTMs.\n",
        "            nn.utils.clip_grad_norm_(net.parameters(), clip)\n",
        "            optimizer.step()\n",
        "\n",
        "            # loss stats\n",
        "            if counter % print_every == 0:\n",
        "                # Get validation loss\n",
        "                val_h = net.init_hidden(batch_size)\n",
        "                val_losses = []\n",
        "                net.eval()\n",
        "                for inputs, labels in valid_loader:\n",
        "\n",
        "                    # Creating new variables for the hidden state, otherwise\n",
        "                    # we'd backprop through the entire training history\n",
        "                    val_h = tuple([each.data for each in val_h])\n",
        "\n",
        "                    if (lower(device) == \"gpu\"):\n",
        "                        inputs, labels = inputs.cuda(), labels.cuda()\n",
        "                    if (lower(device) == \"mps\"):\n",
        "                        inputs, labels = inputs.to(device), labels.to(device)\n",
        "\n",
        "                    output, val_h = net(inputs, val_h)\n",
        "                    val_loss = criterion(output.squeeze(), labels.float())\n",
        "\n",
        "                    val_losses.append(val_loss.item())\n",
        "\n",
        "                net.train()\n",
        "                print(\"Epoch: {}/{}...\".format(e + 1, epochs),\n",
        "                      \"Step: {}...\".format(counter),\n",
        "                      \"Loss: {:.6f}...\".format(loss.item()),\n",
        "                      \"Val Loss: {:.6f}\".format(np.mean(val_losses)))\n",
        "\n",
        "    torch.save(net, os.path.join('./model/', 'model.pt'))"
      ]
    },
    {
      "attachments": {},
      "cell_type": "markdown",
      "metadata": {},
      "source": [
        "#### Traning accuracy"
      ]
    },
    {
      "cell_type": "code",
      "execution_count": null,
      "metadata": {},
      "outputs": [],
      "source": [
        "def compute_accuracy(net, data_loader, batch_size, device, criterion):\n",
        "    # Get test data loss and accuracy\n",
        "\n",
        "    test_losses = []  # track loss\n",
        "    num_correct = 0\n",
        "\n",
        "    # init hidden state\n",
        "    h = net.init_hidden(batch_size)\n",
        "\n",
        "    net.eval()\n",
        "    # iterate over test data\n",
        "    for inputs, labels in data_loader:\n",
        "\n",
        "        # Creating new variables for the hidden state, otherwise\n",
        "        # we'd backprop through the entire training history\n",
        "        h = tuple([each.data for each in h])\n",
        "\n",
        "        if (lower(device) == \"gpu\"):\n",
        "            inputs, labels = inputs.cuda(), labels.cuda()\n",
        "        if (lower(device) == \"mps\"):\n",
        "            inputs, labels = inputs.to(device), labels.to(device)\n",
        "        # get predicted outputs\n",
        "        output, h = net(inputs, h)\n",
        "\n",
        "        # calculate loss\n",
        "        test_loss = criterion(output.squeeze(), labels.float())\n",
        "        test_losses.append(test_loss.item())\n",
        "\n",
        "        # convert output probabilities to predicted class (0 or 1)\n",
        "        pred = torch.round(output.squeeze())  # rounds to the nearest integer\n",
        "\n",
        "        # compare predictions to true label\n",
        "        correct_tensor = pred.eq(labels.float().view_as(pred))\n",
        "        if (lower(device) == \"mps\"):\n",
        "            correct = np.squeeze(correct_tensor.cpu().numpy())\n",
        "        elif lower(device) == \"gpu\":\n",
        "            correct = np.squeeze(correct_tensor.numpy())\n",
        "        else:\n",
        "            correct = np.squeeze(correct_tensor.cpu().numpy())\n",
        "\n",
        "        num_correct += np.sum(correct)\n",
        "\n",
        "    # -- stats! -- ##\n",
        "    # avg test loss\n",
        "    avg_loss = np.mean(test_losses)\n",
        "    test_acc = num_correct / len(data_loader.dataset) * 100\n",
        "    return test_acc, avg_loss"
      ]
    },
    {
      "cell_type": "code",
      "execution_count": null,
      "metadata": {},
      "outputs": [],
      "source": [
        "if train_model:\n",
        "    training_accuracy, avg_loss = compute_accuracy(\n",
        "        net, train_loader, batch_size, device, criterion)\n",
        "    print(f\"Training loss: {avg_loss}\")\n",
        "    print(f\"Training accuracy: {training_accuracy}\")"
      ]
    },
    {
      "attachments": {},
      "cell_type": "markdown",
      "metadata": {},
      "source": [
        "#### Test accuracy"
      ]
    },
    {
      "cell_type": "code",
      "execution_count": null,
      "metadata": {},
      "outputs": [],
      "source": [
        "if train_model:\n",
        "    test_accuracy, avg_loss = compute_accuracy(\n",
        "        net, test_loader, batch_size, device, criterion)\n",
        "    print(f\"Test loss: {avg_loss}\")\n",
        "    print(f\"Test accuracy: {test_accuracy}\")"
      ]
    },
    {
      "attachments": {},
      "cell_type": "markdown",
      "metadata": {},
      "source": []
    },
    {
      "attachments": {},
      "cell_type": "markdown",
      "metadata": {},
      "source": [
        "## 5. Testing and Documenting the model\n",
        "### Initialize validmind objects\n",
        "First, we initialize the dataset and model objects required to run ValidMind's model metrics and validation test plans"
      ]
    },
    {
      "cell_type": "code",
      "execution_count": null,
      "metadata": {},
      "outputs": [],
      "source": [
        "train_data = TensorDataset(torch.from_numpy(train_x[:15000]).to(\n",
        "    device), torch.from_numpy(train_y[:15000]).to(device))\n",
        "\n",
        "vm_train_ds = vm.init_dataset(dataset=train_data, type=\"generic\")"
      ]
    },
    {
      "cell_type": "code",
      "execution_count": null,
      "metadata": {},
      "outputs": [],
      "source": [
        "vm_test_ds = vm.init_dataset(dataset=test_data, type=\"generic\")"
      ]
    },
    {
      "cell_type": "code",
      "execution_count": null,
      "metadata": {},
      "outputs": [],
      "source": [
        "\n",
        "vm_model = vm.init_model(net, train_ds=vm_train_ds, test_ds=vm_test_ds)"
      ]
    },
    {
      "attachments": {},
      "cell_type": "markdown",
      "metadata": {},
      "source": [
        "#### Run model metrics test plan\n",
        "Since, we are working on a binary classification model task, we can run the `binary_classifier_metrics` test plan to generate various artefacts for the model documentation that can be automatically visible in the model documentation section in ValidMind UI."
      ]
    },
    {
      "cell_type": "code",
      "execution_count": null,
      "metadata": {},
      "outputs": [],
      "source": [
        "model_metrics_test_suite = vm.run_test_suite(\"binary_classifier_metrics\",\n",
        "                                             model=vm_model\n",
        "                                             )"
      ]
    },
    {
      "attachments": {},
      "cell_type": "markdown",
      "metadata": {},
      "source": [
        "#### Run model validation test plan\n",
        "Similarly, we can run the `binary_classifier_validation` test plan to validate and to generate artefacts. "
      ]
    },
    {
      "cell_type": "code",
      "execution_count": null,
      "metadata": {},
      "outputs": [],
      "source": [
        "\n",
        "model_validation_test_suite = vm.run_test_suite(\"binary_classifier_validation\",\n",
        "                                                model=vm_model\n",
        "                                                )"
      ]
    },
    {
      "cell_type": "code",
      "execution_count": null,
      "metadata": {},
      "outputs": [],
      "source": []
    }
  ],
  "metadata": {
    "kernelspec": {
      "display_name": "dev-framework",
      "language": "python",
      "name": "dev-framework"
    },
    "language_info": {
      "codemirror_mode": {
        "name": "ipython",
        "version": 3
      },
      "file_extension": ".py",
      "mimetype": "text/x-python",
      "name": "python",
      "nbconvert_exporter": "python",
      "pygments_lexer": "ipython3",
      "version": "3.8.13"
    },
    "orig_nbformat": 4
  },
  "nbformat": 4,
  "nbformat_minor": 2
}
