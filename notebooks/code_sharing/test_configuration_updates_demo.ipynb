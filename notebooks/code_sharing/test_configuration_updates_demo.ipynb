{
  "cells": [
    {
      "cell_type": "code",
      "execution_count": null,
      "metadata": {
        "scrolled": false
      },
      "outputs": [],
      "source": [
        "%load_ext dotenv\n",
        "%dotenv .env\n",
        "\n",
        "# Replace with your code snippet        \n",
        "import validmind as vm\n",
        "\n",
        "vm.init(\n",
        "  api_host = \"https://api.prod.validmind.ai/api/v1/tracking\",\n",
        "  api_key = \"...\",\n",
        "  api_secret = \"...\",\n",
        "  model = \"...\"\n",
        ")\n",
        "\n",
        "vm.preview_template()"
      ]
    },
    {
      "cell_type": "code",
      "execution_count": null,
      "metadata": {
        "scrolled": false
      },
      "outputs": [],
      "source": [
        "import json\n",
        "\n",
        "model_test_suite = vm.get_test_suite()\n",
        "\n",
        "config = model_test_suite.get_default_config()\n",
        "print(\"Suite Config: \\n\", json.dumps(config, indent=2))"
      ]
    },
    {
      "cell_type": "code",
      "execution_count": null,
      "metadata": {},
      "outputs": [],
      "source": [
        "# print as yaml\n",
        "import yaml\n",
        "print(\"Suite Config in YAML: \\n\\n\", yaml.dump(config, default_flow_style=False))"
      ]
    }
  ],
  "metadata": {
    "kernelspec": {
      "display_name": "Dev Framework 3.9.16",
      "language": "python",
      "name": "dev-framework-3.9"
    },
    "language_info": {
      "codemirror_mode": {
        "name": "ipython",
        "version": 3
      },
      "file_extension": ".py",
      "mimetype": "text/x-python",
      "name": "python",
      "nbconvert_exporter": "python",
      "pygments_lexer": "ipython3",
      "version": "3.9.16"
    }
  },
  "nbformat": 4,
  "nbformat_minor": 2
}
