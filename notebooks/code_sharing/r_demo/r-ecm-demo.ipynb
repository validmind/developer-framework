{
 "cells": [
  {
   "cell_type": "markdown",
   "metadata": {},
   "source": [
    "## Background\n",
    "\n",
    "We want to be able to load R models using Python and describe, test and evaluate them using the ValidMind Library like we do with Python models. This notebook demonstrates how we can load R models either from an RDS file or by building the model in R directly in the notebook with the `rpy2` package. Either way, we can then use the ValidMind Library to run a TestPlan designed for the model (in this case, a simple ECM model)."
   ]
  },
  {
   "cell_type": "code",
   "execution_count": null,
   "metadata": {},
   "outputs": [],
   "source": [
    "# lets import the required libraries\n",
    "import os\n",
    "import tempfile\n",
    "\n",
    "import pandas as pd\n",
    "import rpy2.robjects as robjects\n",
    "from IPython.display import display_png\n",
    "from PIL import Image as PILImage\n",
    "from rpy2.robjects.packages import importr\n",
    "\n",
    "# import the R packages\n",
    "tidyverse = importr(\"tidyverse\")\n",
    "broom = importr(\"broom\")\n",
    "graphics = importr(\"graphics\")\n",
    "grdevices = importr(\"grDevices\")"
   ]
  },
  {
   "cell_type": "code",
   "execution_count": null,
   "metadata": {},
   "outputs": [],
   "source": [
    "# Load the RDS model we created earlier (in r-ecm-model notebook)\n",
    "# alternatively, the model could be recreated in rpy2 from scratch\n",
    "r_model = robjects.r[\"readRDS\"](\"r-ecm-model.rds\")"
   ]
  },
  {
   "cell_type": "code",
   "execution_count": null,
   "metadata": {},
   "outputs": [],
   "source": [
    "# lets run summary on the model\n",
    "# in pure R, this would be: `summary(model)`\n",
    "# for this, however we want to get a string representation of the summary\n",
    "# so we can use it in python\n",
    "summary = robjects.r[\"summary\"](r_model)\n",
    "summary_str = str(summary)\n",
    "print(summary_str)"
   ]
  },
  {
   "cell_type": "code",
   "execution_count": null,
   "metadata": {},
   "outputs": [],
   "source": [
    "# now lets something similar to run tidy, augment, and glance\n",
    "# in pure R, this would be: `tidy(model)`, `augment(model)`, `glance(model)`\n",
    "# however, we want to end up with a pandas dataframe containing the data in the Tibble created by these functions\n",
    "tidy = robjects.r[\"tidy\"](r_model)\n",
    "tidy_df = pd.DataFrame(robjects.conversion.rpy2py(tidy))\n",
    "\n",
    "augment = robjects.r[\"augment\"](r_model)\n",
    "augment_df = pd.DataFrame(robjects.conversion.rpy2py(augment))\n",
    "\n",
    "glance = robjects.r[\"glance\"](r_model)\n",
    "glance_df = pd.DataFrame(robjects.conversion.rpy2py(glance))\n",
    "\n",
    "# lets display the dataframes\n",
    "display(tidy_df)\n",
    "display(augment_df)\n",
    "display(glance_df)"
   ]
  },
  {
   "cell_type": "code",
   "execution_count": null,
   "metadata": {},
   "outputs": [],
   "source": [
    "# finally, lets plot the model and somehow get the plots into python\n",
    "# in pure R, this would be: `plot(model)`\n",
    "# for this, however we want to get a png image of the plots\n",
    "\n",
    "# first of all, lets get a temporary file path that we can use to save the image\n",
    "temp_file = tempfile.NamedTemporaryFile(suffix=\".png\")\n",
    "\n",
    "# now lets save the image to the temporary file using grDevices package\n",
    "grdevices.png(temp_file.name, width=1200, height=800)\n",
    "graphics.par(mfrow=robjects.IntVector([2, 2]))\n",
    "robjects.r[\"plot\"](r_model) # creates 4 plots that will be combined into one image\n",
    "grdevices.dev_off()\n",
    "\n",
    "# now we split the image into the 4 plots\n",
    "image = PILImage.open(temp_file.name)\n",
    "width, height = image.size\n",
    "plot_width = width / 2\n",
    "plot_height = height / 2\n",
    "plots = [\n",
    "    image.crop((0, 0, plot_width, plot_height)),\n",
    "    image.crop((plot_width, 0, width, plot_height)),\n",
    "    image.crop((0, plot_height, plot_width, height)),\n",
    "    image.crop((plot_width, plot_height, width, height))\n",
    "]\n",
    "\n",
    "# display the plots\n",
    "for plot in plots:\n",
    "    display_png(plot)\n",
    "\n",
    "# and finally, lets delete the temporary file\n",
    "os.remove(temp_file.name)"
   ]
  }
 ],
 "metadata": {
  "kernelspec": {
   "display_name": "Python 3 (ipykernel)",
   "language": "python",
   "name": "python3"
  },
  "language_info": {
   "codemirror_mode": {
    "name": "ipython",
    "version": 3
   },
   "file_extension": ".py",
   "mimetype": "text/x-python",
   "name": "python",
   "nbconvert_exporter": "python",
   "pygments_lexer": "ipython3",
   "version": "3.10.10"
  }
 },
 "nbformat": 4,
 "nbformat_minor": 2
}
