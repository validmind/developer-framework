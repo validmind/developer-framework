{
    "cells": [
        {
            "cell_type": "markdown",
            "metadata": {},
            "source": [
                "# Running Documentation with Config\n",
                "\n",
                "This notebook guides you through using the `run_documentation_tests()` function within the ValidMind Developer Framework. The function takes `config` as a parameter that enables developers to configure inputs and parameters for individual tests.\n",
                "\n",
                "As a model developer, configuring individual tests is useful in various models development scenarios. For instance, based on a use case, a model might require changing inputs and/or parameters for certain tests. The `run_documentation_tests()` function allows you to directly configure tests through `config`, thus giving you flexibility to run tests according to your use case.\n",
                "\n",
                "This guide includes the code required to:\n",
                "\n",
                "- Load the demo dataset\n",
                "- Prepocess the raw dataset\n",
                "- Train a model for testing\n",
                "- Initialize ValidMind objects\n",
                "- Run documentation tests with custom configuration\n"
            ]
        },
        {
            "attachments": {},
            "cell_type": "markdown",
            "metadata": {},
            "source": [
                "## Install the client library\n",
                "\n",
                "The client library provides Python support for the ValidMind Developer Framework. To install it:\n"
            ]
        },
        {
            "cell_type": "code",
            "execution_count": null,
            "metadata": {
                "id": "6G5-kHOZ7YWk"
            },
            "outputs": [],
            "source": [
                "%pip install -q validmind"
            ]
        },
        {
            "attachments": {},
            "cell_type": "markdown",
            "metadata": {
                "id": "_ZqI8W5jSPc1"
            },
            "source": [
                "## Initialize the client library\n",
                "\n",
                "Every documentation project in the Platform UI comes with a _code snippet_ that lets the client library associate your documentation and tests with the right project on the Platform UI when you run this notebook. As you will see later, documentation projects are useful because they act as containers for model documentation and validation reports and they enable you to organize all of your documentation work in one place.\n",
                "\n",
                "Get your code snippet by creating a documentation project:\n",
                "\n",
                "1. In a browser, log into the [Platform UI](https://app.prod.validmind.ai).\n",
                "\n",
                "2. Go to **Documentation Projects** and click **Create new project**.\n",
                "\n",
                "3. Select **`[Demo] Customer Churn Model`** and **`Initial Validation`** for the model name and type, give the project a unique name to make it yours, and then click **Create project**.\n",
                "\n",
                "4. Go to **Documentation Projects** > **YOUR_UNIQUE_PROJECT_NAME** > **Getting Started** and click **Copy snippet to clipboard**.\n",
                "\n",
                "Next, replace this placeholder with your own code snippet:\n"
            ]
        },
        {
            "cell_type": "code",
            "execution_count": null,
            "metadata": {
                "id": "5hqGn9jHSPc2"
            },
            "outputs": [],
            "source": [
                "# Replace with your code snippet\n",
                "\n",
                "import validmind as vm\n",
                "\n",
                "vm.init(\n",
                "    api_host=\"https://api.prod.validmind.ai/api/v1/tracking\",\n",
                "    api_key=\"...\",\n",
                "    api_secret=\"...\",\n",
                "    project=\"...\",\n",
                ")"
            ]
        },
        {
            "attachments": {},
            "cell_type": "markdown",
            "metadata": {},
            "source": [
                "### Preview the documentation template\n",
                "\n",
                "A template predefines sections for your documentation project and provides a general outline to follow, making the documentation process much easier.\n",
                "\n",
                "You will upload documentation and test results into this template later on. For now, take a look at the structure that the template provides with the `vm.preview_template()` function from the ValidMind library and note the empty sections:\n"
            ]
        },
        {
            "cell_type": "code",
            "execution_count": null,
            "metadata": {},
            "outputs": [],
            "source": [
                "vm.preview_template()"
            ]
        },
        {
            "attachments": {},
            "cell_type": "markdown",
            "metadata": {
                "id": "WT4iDaNPSPc4"
            },
            "source": [
                "## Load the sample dataset\n",
                "\n",
                "The sample dataset used here is provided by the ValidMind library. To be able to use it, you need to import the dataset and load it into a pandas [DataFrame](https://pandas.pydata.org/docs/reference/api/pandas.DataFrame.html), a two-dimensional tabular data structure that makes use of rows and columns:\n"
            ]
        },
        {
            "cell_type": "code",
            "execution_count": null,
            "metadata": {
                "id": "BlNanClPSPc5"
            },
            "outputs": [],
            "source": [
                "# Import the sample dataset from the library\n",
                "\n",
                "from validmind.datasets.classification import customer_churn as demo_dataset\n",
                "\n",
                "print(\n",
                "    f\"Loaded demo dataset with: \\n\\n\\t• Target column: '{demo_dataset.target_column}' \\n\\t• Class labels: {demo_dataset.class_labels}\"\n",
                ")\n",
                "\n",
                "raw_df = demo_dataset.load_data()\n",
                "raw_df.head()"
            ]
        },
        {
            "attachments": {},
            "cell_type": "markdown",
            "metadata": {
                "id": "sP6OZpdGSPc6"
            },
            "source": [
                "## Document the model\n",
                "\n",
                "As part of documenting the model with the ValidMind Developer Framework, you need to preprocess the raw dataset, initialize some training and test datasets, initialize a model object you can use for testing, and then run the full suite of tests.\n"
            ]
        },
        {
            "attachments": {},
            "cell_type": "markdown",
            "metadata": {
                "id": "XNI6mCy0SPc6"
            },
            "source": [
                "## Prepocess the raw dataset\n",
                "\n",
                "Preprocessing performs a number of operations to get ready for the subsequent steps:\n",
                "\n",
                "- Preprocess the data: Splits the DataFrame (`df`) into multiple datasets (`train_df`, `validation_df`, and `test_df`) using `demo_dataset.preprocess` to simplify preprocessing.\n",
                "- Separate features and targets: Drops the target column to create feature sets (`x_train`, `x_val`) and target sets (`y_train`, `y_val`).\n",
                "- Initialize XGBoost classifier: Creates an `XGBClassifier` object with early stopping rounds set to 10.\n",
                "- Set evaluation metrics: Specifies metrics for model evaluation as \"error,\" \"logloss,\" and \"auc.\"\n",
                "- Fit the model: Trains the model on `x_train` and `y_train` using the validation set `(x_val, y_val)`. Verbose output is disabled.\n"
            ]
        },
        {
            "cell_type": "code",
            "execution_count": null,
            "metadata": {
                "id": "PMeDVcpsSPc7"
            },
            "outputs": [],
            "source": [
                "train_df, validation_df, test_df = demo_dataset.preprocess(raw_df)"
            ]
        },
        {
            "cell_type": "markdown",
            "metadata": {},
            "source": [
                "## Train a model for testing\n",
                "\n",
                "We train a simple customer churn model for our test.\n"
            ]
        },
        {
            "cell_type": "code",
            "execution_count": null,
            "metadata": {},
            "outputs": [],
            "source": [
                "import xgboost\n",
                "%matplotlib inline\n",
                "\n",
                "x_train = train_df.drop(demo_dataset.target_column, axis=1)\n",
                "y_train = train_df[demo_dataset.target_column]\n",
                "x_val = validation_df.drop(demo_dataset.target_column, axis=1)\n",
                "y_val = validation_df[demo_dataset.target_column]\n",
                "\n",
                "xgb = xgboost.XGBClassifier(early_stopping_rounds=10)\n",
                "xgb.set_params(\n",
                "    eval_metric=[\"error\", \"logloss\", \"auc\"],\n",
                ")\n",
                "xgb.fit(\n",
                "    x_train,\n",
                "    y_train,\n",
                "    eval_set=[(x_val, y_val)],\n",
                "    verbose=False,\n",
                ")"
            ]
        },
        {
            "cell_type": "markdown",
            "metadata": {},
            "source": [
                "## Initialize ValidMind objects\n"
            ]
        },
        {
            "cell_type": "markdown",
            "metadata": {},
            "source": [
                "### Initialize ValidMind model object\n",
                "\n",
                "Before you can run tests, you must first initialize a ValidMind model object using the [`init_model`](https://docs.validmind.ai/validmind/validmind.html#init_model) function from the ValidMind (`vm`) module.\n",
                "\n",
                "This function takes a number of arguments:\n",
                "\n",
                "- `model` — the model that you want to provide as input to tests\n",
                "- `input_id` - a unique identifier that allows tracking what inputs are used when running each individual test\n"
            ]
        },
        {
            "cell_type": "code",
            "execution_count": null,
            "metadata": {},
            "outputs": [],
            "source": [
                "vm_model_xgb = vm.init_model(\n",
                "    xgb,\n",
                "    input_id=\"xgb\",\n",
                ")"
            ]
        },
        {
            "attachments": {},
            "cell_type": "markdown",
            "metadata": {
                "id": "DTO0bN4qSPc7"
            },
            "source": [
                "### Initialize the ValidMind datasets\n",
                "\n",
                "Similarly, initialize a ValidMind dataset object using the [`init_dataset`](https://docs.validmind.ai/validmind/validmind.html#init_dataset) function from the ValidMind (`vm`) module.\n",
                "\n",
                "This function takes a number of arguments:\n",
                "\n",
                "- `dataset` — the raw dataset that you want to provide as input to tests\n",
                "- `input_id` - a unique identifier that allows tracking what inputs are used when running each individual test\n",
                "- `target_column` — a required argument if tests require access to true values. This is the name of the target column in the dataset\n",
                "- `class_labels` — an optional value to map predicted classes to class labels\n",
                "\n",
                "With all datasets ready, you can now initialize the raw, training and test datasets (`raw_df`, `train_df` and `test_df`) created earlier into their own dataset objects using [`vm.init_dataset()`](https://docs.validmind.ai/validmind/validmind.html#init_dataset):\n"
            ]
        },
        {
            "cell_type": "code",
            "execution_count": null,
            "metadata": {},
            "outputs": [],
            "source": [
                "vm_raw_ds = vm.init_dataset(\n",
                "    input_id=\"raw_dataset\",\n",
                "    dataset=raw_df,\n",
                "    target_column=demo_dataset.target_column,\n",
                ")\n",
                "\n",
                "feature_columns = [\n",
                "    \"CreditScore\",\n",
                "    \"Gender\",\n",
                "    \"Age\",\n",
                "    \"Tenure\",\n",
                "    \"Balance\",\n",
                "    \"NumOfProducts\",\n",
                "    \"HasCrCard\",\n",
                "    \"IsActiveMember\",\n",
                "    \"EstimatedSalary\",\n",
                "    \"Geography_France\",\n",
                "    \"Geography_Germany\",\n",
                "    \"Geography_Spain\",\n",
                "]\n",
                "\n",
                "vm_train_ds = vm.init_dataset(\n",
                "    input_id=\"train_dataset\",\n",
                "    dataset=train_df,\n",
                "    target_column=demo_dataset.target_column,\n",
                "    feature_columns=feature_columns,\n",
                ")\n",
                "\n",
                "vm_test_ds = vm.init_dataset(\n",
                "    input_id=\"test_dataset\",\n",
                "    dataset=test_df,\n",
                "    target_column=demo_dataset.target_column,\n",
                "    feature_columns=feature_columns,\n",
                ")"
            ]
        },
        {
            "cell_type": "markdown",
            "metadata": {},
            "source": [
                "### Run predictions through `assign_predictions` interface\n",
                "\n",
                "We can use `assign_predictions()` to run and assign model predictions to our training and test datasets:\n"
            ]
        },
        {
            "cell_type": "code",
            "execution_count": null,
            "metadata": {},
            "outputs": [],
            "source": [
                "vm_train_ds.assign_predictions(model=vm_model_xgb)\n",
                "vm_test_ds.assign_predictions(model=vm_model_xgb)"
            ]
        },
        {
            "cell_type": "markdown",
            "metadata": {},
            "source": [
                "## Run documentation tests with custom configuration\n"
            ]
        },
        {
            "cell_type": "markdown",
            "metadata": {},
            "source": [
                "### Preview config\n",
                "\n",
                "You can preview the default config for the documentation template using the `vm.get_test_suite().get_default_config()` interface.\n"
            ]
        },
        {
            "cell_type": "code",
            "execution_count": null,
            "metadata": {},
            "outputs": [],
            "source": [
                "import json\n",
                "\n",
                "project_test_suite = vm.get_test_suite()\n",
                "config = project_test_suite.get_default_config()\n",
                "print(\"Suite Config: \\n\", json.dumps(config, indent=2))"
            ]
        },
        {
            "cell_type": "markdown",
            "metadata": {},
            "source": [
                "### Updating config\n",
                "\n",
                "The test configuration can be updated to fit with your use case and requirements\n"
            ]
        },
        {
            "cell_type": "code",
            "execution_count": null,
            "metadata": {},
            "outputs": [],
            "source": [
                "config = {\n",
                "    \"validmind.data_validation.DatasetSplit\": {\n",
                "        \"inputs\": {\"datasets\": (vm_train_ds, vm_test_ds)},\n",
                "    },\n",
                "    \"validmind.model_validation.sklearn.PopulationStabilityIndex\": {\n",
                "        \"inputs\": {\"model\": vm_model_xgb, \"datasets\": (vm_train_ds, vm_test_ds)},\n",
                "    },\n",
                "    \"validmind.model_validation.sklearn.ConfusionMatrix\": {\n",
                "        \"inputs\": {\"model\": vm_model_xgb, \"dataset\": vm_test_ds},\n",
                "    },\n",
                "    \"validmind.model_validation.sklearn.ClassifierPerformance:in_sample\": {\n",
                "        \"inputs\": {\"model\": vm_model_xgb, \"dataset\": vm_train_ds},\n",
                "    },\n",
                "    \"validmind.model_validation.sklearn.ClassifierPerformance:out_of_sample\": {\n",
                "        \"inputs\": {\"model\": vm_model_xgb, \"dataset\": vm_test_ds},\n",
                "    },\n",
                "    \"validmind.model_validation.sklearn.PrecisionRecallCurve\": {\n",
                "        \"inputs\": {\"model\": vm_model_xgb, \"dataset\": vm_test_ds},\n",
                "    },\n",
                "    \"validmind.model_validation.sklearn.ROCCurve\": {\n",
                "        \"inputs\": {\"model\": vm_model_xgb, \"dataset\": vm_test_ds},\n",
                "    },\n",
                "    \"validmind.model_validation.sklearn.TrainingTestDegradation\": {\n",
                "        \"inputs\": {\"model\": vm_model_xgb, \"datasets\": (vm_train_ds, vm_test_ds)},\n",
                "    },\n",
                "    \"validmind.model_validation.sklearn.MinimumAccuracy\": {\n",
                "        \"inputs\": {\"model\": vm_model_xgb, \"dataset\": vm_test_ds},\n",
                "    },\n",
                "    \"validmind.model_validation.sklearn.MinimumF1Score\": {\n",
                "        \"inputs\": {\"model\": vm_model_xgb, \"dataset\": vm_test_ds},\n",
                "    },\n",
                "    \"validmind.model_validation.sklearn.MinimumROCAUCScore\": {\n",
                "        \"inputs\": {\"model\": vm_model_xgb, \"dataset\": vm_test_ds},\n",
                "    },\n",
                "    \"validmind.model_validation.sklearn.PermutationFeatureImportance\": {\n",
                "        \"inputs\": {\"model\": vm_model_xgb, \"dataset\": vm_test_ds},\n",
                "    },\n",
                "    \"validmind.model_validation.sklearn.SHAPGlobalImportance\": {\n",
                "        \"inputs\": {\"model\": vm_model_xgb, \"dataset\": vm_test_ds},\n",
                "    },\n",
                "    \"validmind.model_validation.sklearn.WeakspotsDiagnosis\": {\n",
                "        \"inputs\": {\"model\": vm_model_xgb, \"datasets\": (vm_train_ds, vm_test_ds)},\n",
                "    },\n",
                "    \"validmind.model_validation.sklearn.OverfitDiagnosis\": {\n",
                "        \"inputs\": {\"model\": vm_model_xgb, \"datasets\": (vm_train_ds, vm_test_ds)},\n",
                "    },\n",
                "    \"validmind.model_validation.sklearn.RobustnessDiagnosis\": {\n",
                "        \"inputs\": {\"model\": vm_model_xgb, \"datasets\": (vm_train_ds, vm_test_ds)},\n",
                "    },\n",
                "}"
            ]
        },
        {
            "cell_type": "markdown",
            "metadata": {},
            "source": [
                "### Run documentation tests\n",
                "\n",
                "You can now run all documentation tests and pass an extra `config` parameter that overrides input and parameter configuration for the tests specified in the object.\n"
            ]
        },
        {
            "cell_type": "code",
            "execution_count": null,
            "metadata": {},
            "outputs": [],
            "source": [
                "full_suite = vm.run_documentation_tests(\n",
                "    inputs={\n",
                "        \"dataset\": vm_raw_ds,\n",
                "        \"model\": vm_model_xgb,\n",
                "    },\n",
                "    config=config,\n",
                ")"
            ]
        }
    ],
    "metadata": {
        "colab": {
            "provenance": []
        },
        "gpuClass": "standard",
        "kernelspec": {
            "display_name": ".venv",
            "language": "python",
            "name": "python3"
        },
        "language_info": {
            "codemirror_mode": {
                "name": "ipython",
                "version": 3
            },
            "file_extension": ".py",
            "mimetype": "text/x-python",
            "name": "python",
            "nbconvert_exporter": "python",
            "pygments_lexer": "ipython3",
            "version": "3.8.13"
        }
    },
    "nbformat": 4,
    "nbformat_minor": 0
}
