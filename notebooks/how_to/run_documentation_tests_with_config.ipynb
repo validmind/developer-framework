{
    "cells": [
        {
            "cell_type": "markdown",
            "metadata": {},
            "source": [
                "# Run documentation tests with custom configurations\n",
                "\n",
                "When running documentation tests, you can configure inputs and parameters for individual tests by passing a config as a parameter.\n",
                "\n",
                "As a model developer, configuring individual tests is useful in various models development scenarios. For instance, based on a use case, a model might require changing inputs and/or parameters for certain tests. The `run_documentation_tests()` function allows you to directly configure tests through `config`, thus giving you flexibility to run tests according to your use case.\n",
                "\n",
                "This interactive notebook includes the code required to load the demo dataset, preprocess the raw dataset, train a model for testing, initialize ValidMind objects, and run documentation tests with custom configurations.\n"
            ]
        },
        {
            "cell_type": "markdown",
            "metadata": {},
            "source": [
                "## Contents\n",
                "- [About ValidMind](#toc1_)    \n",
                "  - [Before you begin](#toc1_1_)    \n",
                "  - [New to ValidMind?](#toc1_2_)    \n",
                "  - [Key concepts](#toc1_3_)    \n",
                "- [Install the client library](#toc2_)    \n",
                "- [Initialize the client library](#toc3_)    \n",
                "  - [Preview the documentation template](#toc3_1_)    \n",
                "- [Load the sample dataset](#toc4_)    \n",
                "- [Document the model](#toc5_)    \n",
                "- [Prepocess the raw dataset](#toc6_)    \n",
                "- [Train a model for testing](#toc7_)    \n",
                "- [Initialize ValidMind objects](#toc8_)    \n",
                "  - [Initialize ValidMind model object](#toc8_1_)    \n",
                "  - [Initialize the ValidMind datasets](#toc8_2_)    \n",
                "  - [Run predictions through `assign_predictions` interface](#toc8_3_)    \n",
                "- [Run documentation tests](#toc9_)    \n",
                "  - [Preview config](#toc9_1_)    \n",
                "  - [Updating config](#toc9_2_)    \n",
                "  - [Run documentation tests](#toc9_3_)    \n",
                "- [Next steps](#toc10_)    \n",
                "  - [Work with your model documentation](#toc10_1_)    \n",
                "  - [Discover more learning resources](#toc10_2_)    \n",
                "\n",
                "<!-- vscode-jupyter-toc-config\n",
                "\tnumbering=false\n",
                "\tanchor=true\n",
                "\tflat=false\n",
                "\tminLevel=2\n",
                "\tmaxLevel=4\n",
                "\t/vscode-jupyter-toc-config -->\n",
                "<!-- THIS CELL WILL BE REPLACED ON TOC UPDATE. DO NOT WRITE YOUR TEXT IN THIS CELL -->"
            ]
        },
        {
            "cell_type": "markdown",
            "metadata": {},
            "source": [
                "<a id='toc1_'></a>\n",
                "\n",
                "## About ValidMind\n",
                "\n",
                "ValidMind is a platform for managing model risk, including risk associated with AI and statistical models.\n",
                "\n",
                "You use the ValidMind Developer Framework to automate documentation and validation tests, and then use the ValidMind AI Risk Platform UI to collaborate on model documentation. Together, these products simplify model risk management, facilitate compliance with regulations and institutional standards, and enhance collaboration between yourself and model validators.\n",
                "\n",
                "<a id='toc1_1_'></a>\n",
                "\n",
                "### Before you begin\n",
                "\n",
                "This notebook assumes you have basic familiarity with Python, including an understanding of how functions work. If you are new to Python, you can still run the notebook but we recommend further familiarizing yourself with the language. \n",
                "\n",
                "If you encounter errors due to missing modules in your Python environment, install the modules with `pip install`, and then re-run the notebook. For more help, refer to [Installing Python Modules](https://docs.python.org/3/installing/index.html).\n",
                "\n",
                "<a id='toc1_2_'></a>\n",
                "\n",
                "### New to ValidMind?\n",
                "\n",
                "If you haven't already seen our [Get started with the ValidMind Developer Framework](https://docs.validmind.ai/developer/get-started-developer-framework.html), we recommend you explore the available resources for developers at some point. There, you can learn more about documenting models, find code samples, or read our developer reference.\n",
                "\n",
                "<div class=\"alert alert-block alert-info\" style=\"background-color: #f7e4ee; color: #222425; border: 1px solid #222425;\">For access to all features available in this notebook, create a free ValidMind account.\n",
                "\n",
                "Signing up is FREE — <a href=\"https://app.prod.validmind.ai\"><b>Sign up now</b></a></div>\n",
                "\n",
                "<a id='toc1_3_'></a>\n",
                "\n",
                "### Key concepts\n",
                "\n",
                "**Model documentation**: A structured and detailed record pertaining to a model, encompassing key components such as its underlying assumptions, methodologies, data sources, inputs, performance metrics, evaluations, limitations, and intended uses. It serves to ensure transparency, adherence to regulatory requirements, and a clear understanding of potential risks associated with the model’s application.\n",
                "\n",
                "**Documentation template**: Functions as a test suite and lays out the structure of model documentation, segmented into various sections and sub-sections. Documentation templates define the structure of your model documentation, specifying the tests that should be run, and how the results should be displayed.\n",
                "\n",
                "**Tests**: A function contained in the ValidMind Developer Framework, designed to run a specific quantitative test on the dataset or model. Tests are the building blocks of ValidMind, used to evaluate and document models and datasets, and can be run individually or as part of a suite defined by your model documentation template.\n",
                "\n",
                "**Metrics**: A subset of tests that do not have thresholds. In the context of this notebook, metrics and tests can be thought of as interchangeable concepts.\n",
                "\n",
                "**Custom metrics**: Custom metrics are functions that you define to evaluate your model or dataset. These functions can be registered with ValidMind to be used in the platform.\n",
                "\n",
                "**Inputs**: Objects to be evaluated and documented in the ValidMind framework. They can be any of the following:\n",
                "\n",
                "  - **model**: A single model that has been initialized in ValidMind with [`vm.init_model()`](https://docs.validmind.ai/validmind/validmind.html#init_model).\n",
                "  - **dataset**: Single dataset that has been initialized in ValidMind with [`vm.init_dataset()`](https://docs.validmind.ai/validmind/validmind.html#init_dataset).\n",
                "  - **models**: A list of ValidMind models - usually this is used when you want to compare multiple models in your custom metric.\n",
                "  - **datasets**: A list of ValidMind datasets - usually this is used when you want to compare multiple datasets in your custom metric. See this [example](https://docs.validmind.ai/notebooks/how_to/run_tests_that_require_multiple_datasets.html) for more information.\n",
                "\n",
                "**Parameters**: Additional arguments that can be passed when running a ValidMind test, used to pass additional information to a metric, customize its behavior, or provide additional context.\n",
                "\n",
                "**Outputs**: Custom metrics can return elements like tables or plots. Tables may be a list of dictionaries (each representing a row) or a pandas DataFrame. Plots may be matplotlib or plotly figures.\n",
                "\n",
                "**Test suites**: Collections of tests designed to run together to automate and generate model documentation end-to-end for specific use-cases.\n",
                "\n",
                "Example: the [`classifier_full_suite`](https://docs.validmind.ai/validmind/validmind/test_suites/classifier.html#ClassifierFullSuite) test suite runs tests from the [`tabular_dataset`](https://docs.validmind.ai/validmind/validmind/test_suites/tabular_datasets.html) and [`classifier`](https://docs.validmind.ai/validmind/validmind/test_suites/classifier.html) test suites to fully document the data and model sections for binary classification model use-cases.\n"
            ]
        },
        {
            "cell_type": "markdown",
            "metadata": {},
            "source": [
                "<a id='toc2_'></a>\n",
                "\n",
                "## Install the client library\n",
                "\n",
                "The client library provides Python support for the ValidMind Developer Framework. To install it:\n"
            ]
        },
        {
            "cell_type": "code",
            "execution_count": null,
            "metadata": {},
            "outputs": [],
            "source": [
                "%pip install -q validmind"
            ]
        },
        {
            "cell_type": "markdown",
            "metadata": {},
            "source": [
                "<a id='toc3_'></a>\n",
                "\n",
                "## Initialize the client library\n",
                "\n",
                "ValidMind generates a unique _code snippet_ for each registered model to connect with your developer environment. You initialize the client library with this code snippet, which ensures that your documentation and tests are uploaded to the correct model when you run the notebook.\n",
                "\n",
                "Get your code snippet:\n",
                "\n",
                "1. In a browser, log into the [Platform UI](https://app.prod.validmind.ai).\n",
                "\n",
                "2. In the left sidebar, navigate to **Model Inventory** and click **+ Register new model**.\n",
                "\n",
                "3. Enter the model details and click **Continue**. ([Need more help?](https://docs.validmind.ai/guide/model-inventory/register-models-in-inventory.html))\n",
                "\n",
                "   For example, to register a model for use with this notebook, select:\n",
                "\n",
                "   - Documentation template: `Binary classification`\n",
                "   - Use case: `Marketing/Sales - Attrition/Churn Management`\n",
                "\n",
                "   You can fill in other options according to your preference.\n",
                "\n",
                "4. Go to **Getting Started** and click **Copy snippet to clipboard**.\n",
                "\n",
                "Next, replace this placeholder with your own code snippet:\n"
            ]
        },
        {
            "cell_type": "code",
            "execution_count": null,
            "metadata": {},
            "outputs": [],
            "source": [
                "# Replace with your code snippet\n",
                "\n",
                "import validmind as vm\n",
                "\n",
                "vm.init(\n",
                "    api_host=\"https://api.prod.validmind.ai/api/v1/tracking\",\n",
                "    api_key=\"...\",\n",
                "    api_secret=\"...\",\n",
                "    project=\"...\",\n",
                ")"
            ]
        },
        {
            "cell_type": "markdown",
            "metadata": {},
            "source": [
                "<a id='toc3_1_'></a>\n",
                "\n",
                "### Preview the documentation template\n",
                "\n",
                "A template predefines sections for your model documentation and provides a general outline to follow, making the documentation process much easier.\n",
                "\n",
                "You will upload documentation and test results into this template later on. For now, take a look at the structure that the template provides with the `vm.preview_template()` function from the ValidMind library and note the empty sections:\n"
            ]
        },
        {
            "cell_type": "code",
            "execution_count": null,
            "metadata": {},
            "outputs": [],
            "source": [
                "vm.preview_template()"
            ]
        },
        {
            "cell_type": "markdown",
            "metadata": {},
            "source": [
                "<a id='toc4_'></a>\n",
                "\n",
                "## Load the sample dataset\n",
                "\n",
                "The sample dataset used here is provided by the ValidMind library. To be able to use it, you need to import the dataset and load it into a pandas [DataFrame](https://pandas.pydata.org/docs/reference/api/pandas.DataFrame.html), a two-dimensional tabular data structure that makes use of rows and columns:\n"
            ]
        },
        {
            "cell_type": "code",
            "execution_count": null,
            "metadata": {},
            "outputs": [],
            "source": [
                "# Import the sample dataset from the library\n",
                "\n",
                "from validmind.datasets.classification import customer_churn as demo_dataset\n",
                "\n",
                "print(\n",
                "    f\"Loaded demo dataset with: \\n\\n\\t• Target column: '{demo_dataset.target_column}' \\n\\t• Class labels: {demo_dataset.class_labels}\"\n",
                ")\n",
                "\n",
                "raw_df = demo_dataset.load_data()\n",
                "raw_df.head()"
            ]
        },
        {
            "cell_type": "markdown",
            "metadata": {},
            "source": [
                "<a id='toc5_'></a>\n",
                "\n",
                "## Document the model\n",
                "\n",
                "As part of documenting the model with the ValidMind Developer Framework, you need to preprocess the raw dataset, initialize some training and test datasets, initialize a model object you can use for testing, and then run the full suite of tests.\n"
            ]
        },
        {
            "cell_type": "markdown",
            "metadata": {},
            "source": [
                "<a id='toc6_'></a>\n",
                "\n",
                "## Prepocess the raw dataset\n",
                "\n",
                "Preprocessing performs a number of operations to get ready for the subsequent steps:\n",
                "\n",
                "- Preprocess the data: Splits the DataFrame (`df`) into multiple datasets (`train_df`, `validation_df`, and `test_df`) using `demo_dataset.preprocess` to simplify preprocessing.\n",
                "- Separate features and targets: Drops the target column to create feature sets (`x_train`, `x_val`) and target sets (`y_train`, `y_val`).\n",
                "- Initialize XGBoost classifier: Creates an `XGBClassifier` object with early stopping rounds set to 10.\n",
                "- Set evaluation metrics: Specifies metrics for model evaluation as \"error,\" \"logloss,\" and \"auc.\"\n",
                "- Fit the model: Trains the model on `x_train` and `y_train` using the validation set `(x_val, y_val)`. Verbose output is disabled.\n"
            ]
        },
        {
            "cell_type": "code",
            "execution_count": null,
            "metadata": {},
            "outputs": [],
            "source": [
                "train_df, validation_df, test_df = demo_dataset.preprocess(raw_df)"
            ]
        },
        {
            "cell_type": "markdown",
            "metadata": {},
            "source": [
                "<a id='toc7_'></a>\n",
                "\n",
                "## Train a model for testing\n",
                "\n",
                "We train a simple customer churn model for our test.\n"
            ]
        },
        {
            "cell_type": "code",
            "execution_count": null,
            "metadata": {},
            "outputs": [],
            "source": [
                "import xgboost\n",
                "%matplotlib inline\n",
                "\n",
                "x_train = train_df.drop(demo_dataset.target_column, axis=1)\n",
                "y_train = train_df[demo_dataset.target_column]\n",
                "x_val = validation_df.drop(demo_dataset.target_column, axis=1)\n",
                "y_val = validation_df[demo_dataset.target_column]\n",
                "\n",
                "xgb = xgboost.XGBClassifier(early_stopping_rounds=10)\n",
                "xgb.set_params(\n",
                "    eval_metric=[\"error\", \"logloss\", \"auc\"],\n",
                ")\n",
                "xgb.fit(\n",
                "    x_train,\n",
                "    y_train,\n",
                "    eval_set=[(x_val, y_val)],\n",
                "    verbose=False,\n",
                ")"
            ]
        },
        {
            "cell_type": "markdown",
            "metadata": {},
            "source": [
                "<a id='toc8_'></a>\n",
                "\n",
                "## Initialize ValidMind objects\n"
            ]
        },
        {
            "cell_type": "markdown",
            "metadata": {},
            "source": [
                "<a id='toc8_1_'></a>\n",
                "\n",
                "### Initialize ValidMind model object\n",
                "\n",
                "Before you can run tests, you must first initialize a ValidMind model object using the [`init_model`](https://docs.validmind.ai/validmind/validmind.html#init_model) function from the ValidMind (`vm`) module.\n",
                "\n",
                "This function takes a number of arguments:\n",
                "\n",
                "- `model` — the model that you want to provide as input to tests\n",
                "- `input_id` - a unique identifier that allows tracking what inputs are used when running each individual test\n"
            ]
        },
        {
            "cell_type": "code",
            "execution_count": null,
            "metadata": {},
            "outputs": [],
            "source": [
                "vm_model_xgb = vm.init_model(\n",
                "    xgb,\n",
                "    input_id=\"xgb\",\n",
                ")"
            ]
        },
        {
            "cell_type": "markdown",
            "metadata": {},
            "source": [
                "<a id='toc8_2_'></a>\n",
                "\n",
                "### Initialize the ValidMind datasets\n",
                "\n",
                "Similarly, initialize a ValidMind dataset object using the [`init_dataset`](https://docs.validmind.ai/validmind/validmind.html#init_dataset) function from the ValidMind (`vm`) module.\n",
                "\n",
                "This function takes a number of arguments:\n",
                "\n",
                "- `dataset` — the raw dataset that you want to provide as input to tests\n",
                "- `input_id` - a unique identifier that allows tracking what inputs are used when running each individual test\n",
                "- `target_column` — a required argument if tests require access to true values. This is the name of the target column in the dataset\n",
                "- `class_labels` — an optional value to map predicted classes to class labels\n",
                "\n",
                "With all datasets ready, you can now initialize the raw, training and test datasets (`raw_df`, `train_df` and `test_df`) created earlier into their own dataset objects using [`vm.init_dataset()`](https://docs.validmind.ai/validmind/validmind.html#init_dataset):\n"
            ]
        },
        {
            "cell_type": "code",
            "execution_count": null,
            "metadata": {},
            "outputs": [],
            "source": [
                "vm_raw_ds = vm.init_dataset(\n",
                "    input_id=\"raw_dataset\",\n",
                "    dataset=raw_df,\n",
                "    target_column=demo_dataset.target_column,\n",
                ")\n",
                "\n",
                "feature_columns = [\n",
                "    \"CreditScore\",\n",
                "    \"Gender\",\n",
                "    \"Age\",\n",
                "    \"Tenure\",\n",
                "    \"Balance\",\n",
                "    \"NumOfProducts\",\n",
                "    \"HasCrCard\",\n",
                "    \"IsActiveMember\",\n",
                "    \"EstimatedSalary\",\n",
                "    \"Geography_France\",\n",
                "    \"Geography_Germany\",\n",
                "    \"Geography_Spain\",\n",
                "]\n",
                "\n",
                "vm_train_ds = vm.init_dataset(\n",
                "    input_id=\"train_dataset\",\n",
                "    dataset=train_df,\n",
                "    target_column=demo_dataset.target_column,\n",
                "    feature_columns=feature_columns,\n",
                ")\n",
                "\n",
                "vm_test_ds = vm.init_dataset(\n",
                "    input_id=\"test_dataset\",\n",
                "    dataset=test_df,\n",
                "    target_column=demo_dataset.target_column,\n",
                "    feature_columns=feature_columns,\n",
                ")"
            ]
        },
        {
            "cell_type": "markdown",
            "metadata": {},
            "source": [
                "<a id='toc8_3_'></a>\n",
                "\n",
                "### Run predictions through `assign_predictions` interface\n",
                "\n",
                "We can use `assign_predictions()` to run and assign model predictions to our training and test datasets:\n"
            ]
        },
        {
            "cell_type": "code",
            "execution_count": null,
            "metadata": {},
            "outputs": [],
            "source": [
                "vm_train_ds.assign_predictions(model=vm_model_xgb)\n",
                "vm_test_ds.assign_predictions(model=vm_model_xgb)"
            ]
        },
        {
            "cell_type": "markdown",
            "metadata": {},
            "source": [
                "<a id='toc9_'></a>\n",
                "\n",
                "## Run documentation tests\n"
            ]
        },
        {
            "cell_type": "markdown",
            "metadata": {},
            "source": [
                "<a id='toc9_1_'></a>\n",
                "\n",
                "### Preview config\n",
                "\n",
                "You can preview the default config for the documentation template using the `vm.get_test_suite().get_default_config()` interface.\n"
            ]
        },
        {
            "cell_type": "code",
            "execution_count": null,
            "metadata": {},
            "outputs": [],
            "source": [
                "import json\n",
                "\n",
                "project_test_suite = vm.get_test_suite()\n",
                "config = project_test_suite.get_default_config()\n",
                "print(\"Suite Config: \\n\", json.dumps(config, indent=2))"
            ]
        },
        {
            "cell_type": "markdown",
            "metadata": {},
            "source": [
                "<a id='toc9_2_'></a>\n",
                "\n",
                "### Updating config\n",
                "\n",
                "The test configuration can be updated to fit with your use case and requirements\n"
            ]
        },
        {
            "cell_type": "code",
            "execution_count": null,
            "metadata": {},
            "outputs": [],
            "source": [
                "config = {\n",
                "    \"validmind.data_validation.DatasetSplit\": {\n",
                "        \"inputs\": {\"datasets\": (vm_train_ds, vm_test_ds)},\n",
                "    },\n",
                "    \"validmind.model_validation.sklearn.PopulationStabilityIndex\": {\n",
                "        \"inputs\": {\"model\": vm_model_xgb, \"datasets\": (vm_train_ds, vm_test_ds)},\n",
                "    },\n",
                "    \"validmind.model_validation.sklearn.ConfusionMatrix\": {\n",
                "        \"inputs\": {\"model\": vm_model_xgb, \"dataset\": vm_test_ds},\n",
                "    },\n",
                "    \"validmind.model_validation.sklearn.ClassifierPerformance:in_sample\": {\n",
                "        \"inputs\": {\"model\": vm_model_xgb, \"dataset\": vm_train_ds},\n",
                "    },\n",
                "    \"validmind.model_validation.sklearn.ClassifierPerformance:out_of_sample\": {\n",
                "        \"inputs\": {\"model\": vm_model_xgb, \"dataset\": vm_test_ds},\n",
                "    },\n",
                "    \"validmind.model_validation.sklearn.PrecisionRecallCurve\": {\n",
                "        \"inputs\": {\"model\": vm_model_xgb, \"dataset\": vm_test_ds},\n",
                "    },\n",
                "    \"validmind.model_validation.sklearn.ROCCurve\": {\n",
                "        \"inputs\": {\"model\": vm_model_xgb, \"dataset\": vm_test_ds},\n",
                "    },\n",
                "    \"validmind.model_validation.sklearn.TrainingTestDegradation\": {\n",
                "        \"inputs\": {\"model\": vm_model_xgb, \"datasets\": (vm_train_ds, vm_test_ds)},\n",
                "    },\n",
                "    \"validmind.model_validation.sklearn.MinimumAccuracy\": {\n",
                "        \"inputs\": {\"model\": vm_model_xgb, \"dataset\": vm_test_ds},\n",
                "    },\n",
                "    \"validmind.model_validation.sklearn.MinimumF1Score\": {\n",
                "        \"inputs\": {\"model\": vm_model_xgb, \"dataset\": vm_test_ds},\n",
                "    },\n",
                "    \"validmind.model_validation.sklearn.MinimumROCAUCScore\": {\n",
                "        \"inputs\": {\"model\": vm_model_xgb, \"dataset\": vm_test_ds},\n",
                "    },\n",
                "    \"validmind.model_validation.sklearn.PermutationFeatureImportance\": {\n",
                "        \"inputs\": {\"model\": vm_model_xgb, \"dataset\": vm_test_ds},\n",
                "    },\n",
                "    \"validmind.model_validation.sklearn.SHAPGlobalImportance\": {\n",
                "        \"inputs\": {\"model\": vm_model_xgb, \"dataset\": vm_test_ds},\n",
                "    },\n",
                "    \"validmind.model_validation.sklearn.WeakspotsDiagnosis\": {\n",
                "        \"inputs\": {\"model\": vm_model_xgb, \"datasets\": (vm_train_ds, vm_test_ds)},\n",
                "    },\n",
                "    \"validmind.model_validation.sklearn.OverfitDiagnosis\": {\n",
                "        \"inputs\": {\"model\": vm_model_xgb, \"datasets\": (vm_train_ds, vm_test_ds)},\n",
                "    },\n",
                "    \"validmind.model_validation.sklearn.RobustnessDiagnosis\": {\n",
                "        \"inputs\": {\"model\": vm_model_xgb, \"datasets\": (vm_train_ds, vm_test_ds)},\n",
                "    },\n",
                "}"
            ]
        },
        {
            "cell_type": "markdown",
            "metadata": {},
            "source": [
                "<a id='toc9_3_'></a>\n",
                "\n",
                "### Run documentation tests\n",
                "\n",
                "You can now run all documentation tests and pass an extra `config` parameter that overrides input and parameter configuration for the tests specified in the object.\n"
            ]
        },
        {
            "cell_type": "code",
            "execution_count": null,
            "metadata": {},
            "outputs": [],
            "source": [
                "full_suite = vm.run_documentation_tests(\n",
                "    inputs={\n",
                "        \"dataset\": vm_raw_ds,\n",
                "        \"model\": vm_model_xgb,\n",
                "    },\n",
                "    config=config,\n",
                ")"
            ]
        },
        {
            "cell_type": "markdown",
            "metadata": {},
            "source": [
                "<a id='toc10_'></a>\n",
                "\n",
                "## Next steps\n",
                "\n",
                "You can look at the results of this test suite right in the notebook where you ran the code, as you would expect. But there is a better way — use the ValidMind platform to work with your model documentation.\n",
                "\n",
                "<a id='toc10_1_'></a>\n",
                "\n",
                "### Work with your model documentation\n",
                "\n",
                "1. From the [**Model Inventory**](https://app.prod.validmind.ai/model-inventory) in the ValidMind Platform UI, go to the model you registered earlier.\n",
                "\n",
                "2. Click and expand the **Model Development** section.\n",
                "\n",
                "What you see is the full draft of your model documentation in a more easily consumable version. From here, you can make qualitative edits to model documentation, view guidelines, collaborate with validators, and submit your model documentation for approval when it's ready. [Learn more ...](https://docs.validmind.ai/guide/model-documentation/working-with-model-documentation.html)\n",
                "\n",
                "<a id='toc10_2_'></a>\n",
                "\n",
                "### Discover more learning resources\n",
                "\n",
                "We offer many interactive notebooks to help you document models:\n",
                "\n",
                "- [Run tests & test suites](https://docs.validmind.ai/developer/model-testing/testing-overview.html)\n",
                "- [Code samples](https://docs.validmind.ai/developer/samples-jupyter-notebooks.html)\n",
                "\n",
                "Or, visit our [documentation](https://docs.validmind.ai/) to learn more about ValidMind."
            ]
        }
    ],
    "metadata": {
        "colab": {
            "provenance": []
        },
        "gpuClass": "standard",
        "kernelspec": {
            "display_name": ".venv",
            "language": "python",
            "name": "python3"
        },
        "language_info": {
            "codemirror_mode": {
                "name": "ipython",
                "version": 3
            },
            "file_extension": ".py",
            "mimetype": "text/x-python",
            "name": "python",
            "nbconvert_exporter": "python",
            "pygments_lexer": "ipython3",
            "version": "3.8.13"
        }
    },
    "nbformat": 4,
    "nbformat_minor": 0
}
