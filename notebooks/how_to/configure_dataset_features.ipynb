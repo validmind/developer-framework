{
  "cells": [
    {
      "cell_type": "markdown",
      "metadata": {},
      "source": [
        "# Configure dataset features\n",
        "\n",
        "When initializing a ValidMind dataset object, you can pass in a list of features to use instead of utilizing all dataset columns when running tests.\n",
        "\n",
        "This notebook shows how to use custom feature columns with `init_dataset`. The default behavior of `init_dataset` is to utilize all dataset columns when running tests. It is also possible to pass in a list of features to use and thus restrict computations to only those features."
      ]
    },
    {
      "cell_type": "markdown",
      "metadata": {},
      "source": [
        "## Contents\n",
        "- [About ValidMind](#toc1_)    \n",
        "  - [Before you begin](#toc1_1_)    \n",
        "  - [New to ValidMind?](#toc1_2_)    \n",
        "  - [Key concepts](#toc1_3_)    \n",
        "- [Before you begin](#toc2_)    \n",
        "  - [New to ValidMind?](#toc2_1_)    \n",
        "- [Install the client library](#toc3_)    \n",
        "- [Initialize the client library](#toc4_)    \n",
        "- [Load the sample dataset](#toc5_)    \n",
        "  - [Initialize the training and test datasets](#toc5_1_)    \n",
        "  - [Defining custom features](#toc5_2_)    \n",
        "- [Next steps](#toc6_)    \n",
        "  - [Work with your model documentation](#toc6_1_)    \n",
        "  - [Discover more learning resources](#toc6_2_)    \n",
        "\n",
        "<!-- vscode-jupyter-toc-config\n",
        "\tnumbering=false\n",
        "\tanchor=true\n",
        "\tflat=false\n",
        "\tminLevel=2\n",
        "\tmaxLevel=4\n",
        "\t/vscode-jupyter-toc-config -->\n",
        "<!-- THIS CELL WILL BE REPLACED ON TOC UPDATE. DO NOT WRITE YOUR TEXT IN THIS CELL -->"
      ]
    },
    {
      "cell_type": "markdown",
      "metadata": {},
      "source": [
        "<a id='toc1_'></a>\n",
        "\n",
        "## About ValidMind\n",
        "\n",
        "ValidMind is a platform for managing model risk, including risk associated with AI and statistical models.\n",
        "\n",
        "You use the ValidMind Developer Framework to automate documentation and validation tests, and then use the ValidMind AI Risk Platform UI to collaborate on model documentation. Together, these products simplify model risk management, facilitate compliance with regulations and institutional standards, and enhance collaboration between yourself and model validators.\n",
        "\n",
        "<a id='toc1_1_'></a>\n",
        "\n",
        "### Before you begin\n",
        "\n",
        "This notebook assumes you have basic familiarity with Python, including an understanding of how functions work. If you are new to Python, you can still run the notebook but we recommend further familiarizing yourself with the language. \n",
        "\n",
        "If you encounter errors due to missing modules in your Python environment, install the modules with `pip install`, and then re-run the notebook. For more help, refer to [Installing Python Modules](https://docs.python.org/3/installing/index.html).\n",
        "\n",
        "<a id='toc1_2_'></a>\n",
        "\n",
        "### New to ValidMind?\n",
        "\n",
        "If you haven't already seen our [Get started with the ValidMind Developer Framework](https://docs.validmind.ai/developer/get-started-developer-framework.html), we recommend you explore the available resources for developers at some point. There, you can learn more about documenting models, find code samples, or read our developer reference.\n",
        "\n",
        "<div class=\"alert alert-block alert-info\" style=\"background-color: #f7e4ee; color: #222425; border: 1px solid #222425;\">For access to all features available in this notebook, create a free ValidMind account.\n",
        "\n",
        "Signing up is FREE — <a href=\"https://app.prod.validmind.ai\"><b>Sign up now</b></a></div>\n",
        "\n",
        "<a id='toc1_3_'></a>\n",
        "\n",
        "### Key concepts\n",
        "\n",
        "**Model documentation**: A structured and detailed record pertaining to a model, encompassing key components such as its underlying assumptions, methodologies, data sources, inputs, performance metrics, evaluations, limitations, and intended uses. It serves to ensure transparency, adherence to regulatory requirements, and a clear understanding of potential risks associated with the model’s application.\n",
        "\n",
        "**Documentation template**: Functions as a test suite and lays out the structure of model documentation, segmented into various sections and sub-sections. Documentation templates define the structure of your model documentation, specifying the tests that should be run, and how the results should be displayed.\n",
        "\n",
        "**Tests**: A function contained in the ValidMind Developer Framework, designed to run a specific quantitative test on the dataset or model. Tests are the building blocks of ValidMind, used to evaluate and document models and datasets, and can be run individually or as part of a suite defined by your model documentation template.\n",
        "\n",
        "**Custom tests**: Custom tests are functions that you define to evaluate your model or dataset. These functions can be registered with ValidMind to be used in the platform.\n",
        "\n",
        "**Inputs**: Objects to be evaluated and documented in the ValidMind framework. They can be any of the following:\n",
        "\n",
        "  - **model**: A single model that has been initialized in ValidMind with [`vm.init_model()`](https://docs.validmind.ai/validmind/validmind.html#init_model).\n",
        "  - **dataset**: Single dataset that has been initialized in ValidMind with [`vm.init_dataset()`](https://docs.validmind.ai/validmind/validmind.html#init_dataset).\n",
        "  - **models**: A list of ValidMind models - usually this is used when you want to compare multiple models in your custom test.\n",
        "  - **datasets**: A list of ValidMind datasets - usually this is used when you want to compare multiple datasets in your custom test. See this [example](https://docs.validmind.ai/notebooks/how_to/run_tests_that_require_multiple_datasets.html) for more information.\n",
        "\n",
        "**Parameters**: Additional arguments that can be passed when running a ValidMind test, used to pass additional information to a test, customize its behavior, or provide additional context.\n",
        "\n",
        "**Outputs**: Custom tests can return elements like tables or plots. Tables may be a list of dictionaries (each representing a row) or a pandas DataFrame. Plots may be matplotlib or plotly figures.\n",
        "\n",
        "**Test suites**: Collections of tests designed to run together to automate and generate model documentation end-to-end for specific use-cases.\n",
        "\n",
        "Example: the [`classifier_full_suite`](https://docs.validmind.ai/validmind/validmind/test_suites/classifier.html#ClassifierFullSuite) test suite runs tests from the [`tabular_dataset`](https://docs.validmind.ai/validmind/validmind/test_suites/tabular_datasets.html) and [`classifier`](https://docs.validmind.ai/validmind/validmind/test_suites/classifier.html) test suites to fully document the data and model sections for binary classification model use-cases.\n"
      ]
    },
    {
      "cell_type": "markdown",
      "metadata": {},
      "source": [
        "<a id='toc2_'></a>\n",
        "\n",
        "## Before you begin\n",
        "\n",
        "::: {.callout-tip}\n",
        "\n",
        "<a id='toc2_1_'></a>\n",
        "\n",
        "### New to ValidMind?\n",
        "\n",
        "For access to all features available in this notebook, create a free ValidMind account.\n",
        "\n",
        "Signing up is FREE — [**Sign up now!**](https://app.prod.validmind.ai)\n",
        ":::\n",
        "\n",
        "If you encounter errors due to missing modules in your Python environment, install the modules with `pip install`, and then re-run the notebook. For more help, refer to [Installing Python Modules](https://docs.python.org/3/installing/index.html).\n"
      ]
    },
    {
      "cell_type": "markdown",
      "metadata": {},
      "source": [
        "<a id='toc3_'></a>\n",
        "\n",
        "## Install the client library\n",
        "\n",
        "The client library provides Python support for the ValidMind Developer Framework. To install it:\n"
      ]
    },
    {
      "cell_type": "code",
      "execution_count": null,
      "metadata": {},
      "outputs": [],
      "source": [
        "%pip install -q validmind"
      ]
    },
    {
      "cell_type": "markdown",
      "metadata": {},
      "source": [
        "<a id='toc4_'></a>\n",
        "\n",
        "## Initialize the client library\n",
        "\n",
        "ValidMind generates a unique _code snippet_ for each registered model to connect with your developer environment. You initialize the client library with this code snippet, which ensures that your documentation and tests are uploaded to the correct model when you run the notebook.\n",
        "\n",
        "Get your code snippet:\n",
        "\n",
        "1. In a browser, log into the [Platform UI](https://app.prod.validmind.ai).\n",
        "\n",
        "2. In the left sidebar, navigate to **Model Inventory** and click **+ Register new model**.\n",
        "\n",
        "3. Enter the model details, making sure to select **Binary classification** as the template and **Marketing/Sales - Attrition/Churn Management** as the use case, and click **Continue**. ([Need more help?](https://docs.validmind.ai/guide/model-inventory/register-models-in-inventory.html))\n",
        "\n",
        "4. Go to **Getting Started** and click **Copy snippet to clipboard**.\n",
        "\n",
        "Next, replace this placeholder with your own code snippet:\n"
      ]
    },
    {
      "cell_type": "code",
      "execution_count": null,
      "metadata": {},
      "outputs": [],
      "source": [
        "# Replace with your code snippet\n",
        "\n",
        "import validmind as vm\n",
        "\n",
        "vm.init(\n",
        "    api_host=\"https://api.prod.validmind.ai/api/v1/tracking\",\n",
        "    api_key=\"...\",\n",
        "    api_secret=\"...\",\n",
        "    project=\"...\",\n",
        ")"
      ]
    },
    {
      "cell_type": "markdown",
      "metadata": {},
      "source": [
        "<a id='toc5_'></a>\n",
        "\n",
        "## Load the sample dataset\n"
      ]
    },
    {
      "cell_type": "code",
      "execution_count": null,
      "metadata": {},
      "outputs": [],
      "source": [
        "%matplotlib inline\n",
        "\n",
        "# Import the sample dataset from the library\n",
        "\n",
        "from validmind.datasets.classification import customer_churn as demo_dataset\n",
        "\n",
        "# You can also try a different dataset with:\n",
        "# from validmind.datasets.classification import taiwan_credit as demo_dataset\n",
        "\n",
        "df = demo_dataset.load_data()"
      ]
    },
    {
      "cell_type": "markdown",
      "metadata": {},
      "source": [
        "<a id='toc5_1_'></a>\n",
        "\n",
        "### Initialize the training and test datasets\n",
        "\n",
        "Before you can run a test suite, which are just a collection of tests, you must first initialize a ValidMind dataset object using the [`init_dataset`](https://docs.validmind.ai/validmind/validmind.html#init_dataset) function from the ValidMind (`vm`) module.\n",
        "\n",
        "This function takes a number of arguments:\n",
        "\n",
        "- `dataset` — the raw dataset that you want to analyze\n",
        "- `input_id` - a unique identifier that allows tracking what inputs are used when running each individual test\n",
        "- `target_column` — the name of the target column in the dataset\n",
        "- `feature_columns` - the names of the feature columns in the dataset\n"
      ]
    },
    {
      "cell_type": "code",
      "execution_count": null,
      "metadata": {},
      "outputs": [],
      "source": [
        "feature_columns = [\n",
        "    \"CreditScore\",\n",
        "    \"Age\",\n",
        "    \"Tenure\",\n",
        "    \"Balance\",\n",
        "    \"NumOfProducts\",\n",
        "    \"HasCrCard\",\n",
        "    \"IsActiveMember\",\n",
        "    \"EstimatedSalary\",\n",
        "]\n",
        "\n",
        "vm_dataset = vm.init_dataset(\n",
        "    dataset=df,\n",
        "    input_id=\"raw_dataset\",\n",
        "    target_column=demo_dataset.target_column,\n",
        "    feature_columns=feature_columns,\n",
        ")"
      ]
    },
    {
      "cell_type": "markdown",
      "metadata": {},
      "source": [
        "<a id='toc5_2_'></a>\n",
        "\n",
        "### Defining custom features\n",
        "\n",
        "This section shows how we can define a subset of features to use when running dataset tests. Any feature that is not included in the `feature_columns` argument is omitted from the computation of the `DescriptiveStatistics` test in the examples below.\n"
      ]
    },
    {
      "cell_type": "markdown",
      "metadata": {},
      "source": [
        "In the following example we use the `DescriptiveStatistics` test to show how the output changes when customizing features.\n"
      ]
    },
    {
      "attachments": {},
      "cell_type": "markdown",
      "metadata": {},
      "source": [
        "1. Running a test with all the features.\n"
      ]
    },
    {
      "cell_type": "code",
      "execution_count": null,
      "metadata": {},
      "outputs": [],
      "source": [
        "vm_dataset = vm.init_dataset(\n",
        "    dataset=df,\n",
        "    input_id=\"raw_dataset_all_features\",\n",
        "    target_column=demo_dataset.target_column,\n",
        ")\n",
        "\n",
        "test = vm.tests.run_test(\n",
        "    test_id=\"validmind.data_validation.DescriptiveStatistics\",\n",
        "    inputs={\"dataset\": vm_dataset},\n",
        ")"
      ]
    },
    {
      "attachments": {},
      "cell_type": "markdown",
      "metadata": {},
      "source": [
        "2. Running a test with a subset of features.\n"
      ]
    },
    {
      "cell_type": "code",
      "execution_count": null,
      "metadata": {},
      "outputs": [],
      "source": [
        "vm_dataset = vm.init_dataset(\n",
        "    dataset=df,\n",
        "    input_id=\"raw_dataset_subset\",\n",
        "    target_column=demo_dataset.target_column,\n",
        "    feature_columns=[\"CreditScore\", \"Age\", \"Balance\", \"Geography\"],\n",
        ")\n",
        "\n",
        "test = vm.tests.run_test(\n",
        "    test_id=\"validmind.data_validation.DescriptiveStatistics\",\n",
        "    inputs={\"dataset\": vm_dataset},\n",
        ")"
      ]
    },
    {
      "cell_type": "markdown",
      "metadata": {},
      "source": [
        "<a id='toc6_'></a>\n",
        "\n",
        "## Next steps\n",
        "\n",
        "You can look at the results of this test suite right in the notebook where you ran the code, as you would expect. But there is a better way — use the ValidMind platform to work with your model documentation.\n",
        "\n",
        "<a id='toc6_1_'></a>\n",
        "\n",
        "### Work with your model documentation\n",
        "\n",
        "1. From the [**Model Inventory**](https://app.prod.validmind.ai/model-inventory) in the ValidMind Platform UI, go to the model you registered earlier.\n",
        "\n",
        "2. Click and expand the **Model Development** section.\n",
        "\n",
        "What you see is the full draft of your model documentation in a more easily consumable version. From here, you can make qualitative edits to model documentation, view guidelines, collaborate with validators, and submit your model documentation for approval when it's ready. [Learn more ...](https://docs.validmind.ai/guide/model-documentation/working-with-model-documentation.html)\n",
        "\n",
        "<a id='toc6_2_'></a>\n",
        "\n",
        "### Discover more learning resources\n",
        "\n",
        "We offer many interactive notebooks to help you document models:\n",
        "\n",
        "- [Run tests & test suites](https://docs.validmind.ai/developer/model-testing/testing-overview.html)\n",
        "- [Code samples](https://docs.validmind.ai/developer/samples-jupyter-notebooks.html)\n",
        "\n",
        "Or, visit our [documentation](https://docs.validmind.ai/) to learn more about ValidMind."
      ]
    }
  ],
  "metadata": {
    "kernelspec": {
      "display_name": ".venv",
      "language": "python",
      "name": "python3"
    },
    "language_info": {
      "codemirror_mode": {
        "name": "ipython",
        "version": 3
      },
      "file_extension": ".py",
      "mimetype": "text/x-python",
      "name": "python",
      "nbconvert_exporter": "python",
      "pygments_lexer": "ipython3",
      "version": "3.8.13"
    },
    "orig_nbformat": 4
  },
  "nbformat": 4,
  "nbformat_minor": 2
}
