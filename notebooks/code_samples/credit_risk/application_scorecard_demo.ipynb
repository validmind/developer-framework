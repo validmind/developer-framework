{
 "cells": [
  {
   "cell_type": "markdown",
   "metadata": {},
   "source": [
    "# Demo for Application Scorecard Model Documentation\n",
    "\n",
    "This interactive notebook guides model developers through the process of buidling and documenting an application scorecard model with the ValidMind Developer Framework. It uses the [Lending Club](https://www.kaggle.com/datasets/devanshi23/loan-data-2007-2014/data) sample dataset from Kaggle to build a simple application scorecard.\n",
    "\n",
    "As part of the notebook, you will learn how to train a sample model while exploring how the documentation process works:\n",
    "\n",
    "- Initializing the ValidMind Developer Framework\n",
    "- Loading a sample dataset provided by the library to train an application scorecard model\n",
    "- Running a ValidMind test suite to quickly generate documention about the data and model"
   ]
  },
  {
   "cell_type": "markdown",
   "metadata": {},
   "source": [
    "## ValidMind at a glance\n",
    "\n",
    "ValidMind's platform enables organizations to identify, document, and manage model risks for all types of models, including AI/ML models, LLMs, and statistical models. As a model developer, you use the ValidMind Developer Framework to automate documentation and validation tests, and then use the ValidMind AI Risk Platform UI to collaborate on model documentation. Together, these products simplify model risk management, facilitate compliance with regulations and institutional standards, and enhance collaboration between yourself and model validators.\n",
    "\n",
    "If this is your first time trying out ValidMind, you can make use of the following resources alongside this notebook:\n",
    "\n",
    "- [Get started](https://docs.validmind.ai/guide/get-started.html) — The basics, including key concepts, and how our products work\n",
    "- [Get started with the ValidMind Developer Framework](https://docs.validmind.ai/guide/get-started-developer-framework.html) — The path for developers, more code samples, and our developer reference\n"
   ]
  },
  {
   "cell_type": "markdown",
   "metadata": {},
   "source": [
    "## Before you begin\n",
    "\n",
    "::: {.callout-tip}\n",
    "\n",
    "### New to ValidMind?\n",
    "\n",
    "For access to all features available in this notebook, create a free ValidMind account.\n",
    "\n",
    "Signing up is FREE — [**Sign up now**](https://app.prod.validmind.ai)\n",
    ":::\n",
    "\n",
    "If you encounter errors due to missing modules in your Python environment, install the modules with `pip install`, and then re-run the notebook. For more help, refer to [Installing Python Modules](https://docs.python.org/3/installing/index.html)."
   ]
  },
  {
   "cell_type": "markdown",
   "metadata": {},
   "source": [
    "## Install the client library\n",
    "\n",
    "The client library provides Python support for the ValidMind Developer Framework. To install it:\n"
   ]
  },
  {
   "cell_type": "code",
   "execution_count": null,
   "metadata": {},
   "outputs": [],
   "source": [
    "%pip install -q validmind"
   ]
  },
  {
   "cell_type": "markdown",
   "metadata": {},
   "source": [
    "## Initialize the client library\n",
    "\n",
    "ValidMind generates a unique _code snippet_ for each registered model to connect with your developer environment. You initialize the client library with this code snippet, which ensures that your documentation and tests are uploaded to the correct model when you run the notebook.\n",
    "\n",
    "Get your code snippet:\n",
    "\n",
    "1. In a browser, log into the [Platform UI](https://app.prod.validmind.ai).\n",
    "\n",
    "2. In the left sidebar, navigate to **Model Inventory** and click **+ Register new model**.\n",
    "\n",
    "3. Enter the model details and click **Continue**. ([Need more help?](https://docs.validmind.ai/guide/register-models-in-model-inventory.html))\n",
    "\n",
    "   For example, to register a model for use with this notebook, select:\n",
    "\n",
    "   - Documentation template: `Credit Risk Scorecard`\n",
    "   - Use case: `Risk Management/CECL`\n",
    "\n",
    "   You can fill in other options according to your preference.\n",
    "\n",
    "4. Go to **Getting Started** and click **Copy snippet to clipboard**.\n",
    "\n",
    "Next, replace this placeholder with your own code snippet:"
   ]
  },
  {
   "cell_type": "code",
   "execution_count": null,
   "metadata": {},
   "outputs": [],
   "source": [
    "import validmind as vm\n",
    "\n",
    "vm.init(\n",
    "  api_host = \"https://api.prod.validmind.ai/api/v1/tracking\",\n",
    "  api_key = \"...\",\n",
    "  api_secret = \"...\",\n",
    "  project = \"...\"\n",
    ")"
   ]
  },
  {
   "cell_type": "markdown",
   "metadata": {},
   "source": [
    "## Initialize the Python environment\n",
    "\n",
    "Next, let's import the necessary libraries and set up your Python environment for data analysis:"
   ]
  },
  {
   "cell_type": "code",
   "execution_count": null,
   "metadata": {},
   "outputs": [],
   "source": [
    "import statsmodels.api as sm\n",
    "\n",
    "%matplotlib inline"
   ]
  },
  {
   "cell_type": "markdown",
   "metadata": {},
   "source": [
    "### Preview the documentation template\n",
    "\n",
    "A template predefines sections for your model documentation and provides a general outline to follow, making the documentation process much easier.\n",
    "\n",
    "You will upload documentation and test results into this template later on. For now, take a look at the structure that the template provides with the `vm.preview_template()` function from the ValidMind library and note the empty sections:"
   ]
  },
  {
   "cell_type": "code",
   "execution_count": null,
   "metadata": {},
   "outputs": [],
   "source": [
    "vm.preview_template()"
   ]
  },
  {
   "cell_type": "markdown",
   "metadata": {},
   "source": [
    "## Load the sample dataset\n",
    "\n",
    "The sample dataset used here is provided by the ValidMind library. To be able to use it, you need to import the dataset and load it into a pandas [DataFrame](https://pandas.pydata.org/docs/reference/api/pandas.DataFrame.html), a two-dimensional tabular data structure that makes use of rows and columns:"
   ]
  },
  {
   "cell_type": "code",
   "execution_count": null,
   "metadata": {},
   "outputs": [],
   "source": [
    "# Import the sample dataset from the library\n",
    "\n",
    "from validmind.datasets.credit_risk import lending_club\n",
    "\n",
    "df = lending_club.load_data(source=\"offline\")\n",
    "\n",
    "df.head()"
   ]
  },
  {
   "cell_type": "markdown",
   "metadata": {},
   "source": [
    "### Prepocess the dataset\n",
    "\n",
    "In the preprocessing step we performs a number of operations to get ready for building our application scorecard. We use the `lending_club.preprocess` to simplify preprocessing. This function performs the following operations: \n",
    "\n",
    "- Filters the dataset to include only loans for debt consolidation or credit card purposes.\n",
    "- Removes loans classified under the riskier grades 'F' and 'G'.\n",
    "- Excludes uncommon home ownership types and standardizes employment length and loan terms into numerical formats.\n",
    "- Discards unnecessary fields and any entries with missing information to maintain a clean and robust dataset for modeling."
   ]
  },
  {
   "cell_type": "code",
   "execution_count": null,
   "metadata": {},
   "outputs": [],
   "source": [
    "preprocess_df = lending_club.preprocess(df)\n",
    "preprocess_df.head()"
   ]
  },
  {
   "cell_type": "markdown",
   "metadata": {},
   "source": [
    "### Feature engineering\n",
    "\n",
    "In the feature engineering phase, we apply specific transformations to optimize the dataset for predictive modeling in our application scorecard. Using the l`ending_club.feature_engineering()` function, we conduct the following operations:\n",
    "\n",
    "- **WoE encoding**: converts both numerical and categorical features into Weight of Evidence (WoE) values. WoE is a statistical measure used in scorecard modeling that quantifies the relationship between a predictor variable and the binary target variable. It calculates the ratio of the distribution of good outcomes to the distribution of bad outcomes for each category or bin of a feature. This transformation helps to ensure that the features are predictive and consistent in their contribution to the model.\n",
    "- **Integration of WoE bins**: ensures that the WoE transformed values are integrated throughout the dataset, replacing the original feature values while excluding the target variable from this transformation. This transformation is used to maintain a consistent scale and impact of each variable within the model, which helps make the predictions more stable and accurate."
   ]
  },
  {
   "cell_type": "code",
   "execution_count": null,
   "metadata": {},
   "outputs": [],
   "source": [
    "fe_df = lending_club.feature_engineering(preprocess_df)\n",
    "fe_df.head()"
   ]
  },
  {
   "cell_type": "markdown",
   "metadata": {},
   "source": [
    "## Train the model\n",
    "\n",
    "In this section, we focus on constructing and refining our predictive model. Initially, we divide our data, which is based on Weight of Evidence (WoE) features, into training and testing sets (`train_df`, `test_df`). With `lending_club.split`, we employ a simple random split, randomly allocating data points to each set to ensure a mix of examples in both. Additionally, by setting `add_constant=True`, we include an intercept term in our model.\n",
    "\n"
   ]
  },
  {
   "cell_type": "code",
   "execution_count": null,
   "metadata": {},
   "outputs": [],
   "source": [
    "train_df, test_df = lending_club.split(fe_df, add_constant=True)\n",
    "\n",
    "x_train = train_df.drop(lending_club.target_column, axis=1)\n",
    "y_train = train_df[lending_club.target_column]\n",
    "x_test = test_df.drop(lending_club.target_column, axis=1)\n",
    "y_test = test_df[lending_club.target_column]\n",
    "\n",
    "# Define the model\n",
    "model = sm.GLM(\n",
    "    y_train, \n",
    "    x_train, \n",
    "    family=sm.families.Binomial())\n",
    "\n",
    "# Fit the model\n",
    "model = model.fit()\n",
    "model.summary()"
   ]
  },
  {
   "cell_type": "markdown",
   "metadata": {},
   "source": [
    "### Compute probabilities"
   ]
  },
  {
   "cell_type": "code",
   "execution_count": null,
   "metadata": {},
   "outputs": [],
   "source": [
    "train_probabilities = model.predict(x_train)\n",
    "test_probabilities = model.predict(x_test)"
   ]
  },
  {
   "cell_type": "markdown",
   "metadata": {},
   "source": [
    "### Compute binary predictions"
   ]
  },
  {
   "cell_type": "code",
   "execution_count": null,
   "metadata": {},
   "outputs": [],
   "source": [
    "cut_off_threshold = 0.5\n",
    "train_binary_predictions = (train_probabilities > cut_off_threshold).astype(int)\n",
    "test_binary_predictions = (test_probabilities > cut_off_threshold).astype(int)"
   ]
  },
  {
   "cell_type": "markdown",
   "metadata": {},
   "source": [
    "### Compute scores\n",
    "\n",
    "In this phase, we translate model predictions into actionable scores using probability estimates generated by our trained model. "
   ]
  },
  {
   "cell_type": "code",
   "execution_count": null,
   "metadata": {},
   "outputs": [],
   "source": [
    "# Compute scores from the probabilities \n",
    "train_scores = lending_club.compute_scores(train_probabilities)\n",
    "test_scores = lending_club.compute_scores(test_probabilities)"
   ]
  },
  {
   "cell_type": "markdown",
   "metadata": {},
   "source": [
    "## Document the model\n",
    "\n",
    "As part of documenting the model with the ValidMind Developer Framework, you need to preprocess the raw dataset, initialize some training and test datasets, initialize a model object you can use for testing, and then run the full suite of tests."
   ]
  },
  {
   "cell_type": "markdown",
   "metadata": {},
   "source": [
    "### Initialize the ValidMind datasets\n",
    "\n",
    "Before you can run tests, you must first initialize a ValidMind dataset object using the [`init_dataset`](https://docs.validmind.ai/validmind/validmind.html#init_dataset) function from the ValidMind (`vm`) module.\n",
    "\n",
    "This function takes a number of arguments:\n",
    "\n",
    "- `dataset` — the dataset that you want to provide as input to tests\n",
    "- `input_id` - a unique identifier that allows tracking what inputs are used when running each individual test\n",
    "- `target_column` — a required argument if tests require access to true values. This is the name of the target column in the dataset\n",
    "\n",
    "With all datasets ready, you can now initialize the raw, processed, training and test datasets (`raw_df`, `preprocessed_df`, `fe_df`,  `train_df` and `test_df`) created earlier into their own dataset objects using [`vm.init_dataset()`](https://docs.validmind.ai/validmind/validmind.html#init_dataset):"
   ]
  },
  {
   "cell_type": "code",
   "execution_count": null,
   "metadata": {},
   "outputs": [],
   "source": [
    "vm_raw_dataset = vm.init_dataset(\n",
    "    dataset=df,\n",
    "    input_id=\"raw_dataset\",\n",
    "    target_column=lending_club.target_column,\n",
    ")\n",
    "\n",
    "vm_preprocess_dataset = vm.init_dataset(\n",
    "    dataset=preprocess_df,\n",
    "    input_id=\"preprocess_dataset\",\n",
    "    target_column=lending_club.target_column,\n",
    ")\n",
    "\n",
    "vm_fe_dataset = vm.init_dataset(\n",
    "    dataset=fe_df,\n",
    "    input_id=\"fe_dataset\",\n",
    "    target_column=lending_club.target_column,\n",
    ")\n",
    "\n",
    "vm_train_ds = vm.init_dataset(\n",
    "    dataset=train_df,\n",
    "    input_id=\"train_dataset\",\n",
    "    target_column=lending_club.target_column,\n",
    ")\n",
    "\n",
    "vm_test_ds = vm.init_dataset(\n",
    "    dataset=test_df, \n",
    "    input_id=\"test_dataset\", \n",
    "    target_column=lending_club.target_column\n",
    ")"
   ]
  },
  {
   "cell_type": "markdown",
   "metadata": {},
   "source": [
    "### Initialize a model object\n",
    "\n",
    "Additionally, you need to initialize a ValidMind model object (`vm_model`) that can be passed to other functions for analysis and tests on the data. You simply intialize this model object with [`vm.init_model()`](https://docs.validmind.ai/validmind/validmind.html#init_model):"
   ]
  },
  {
   "cell_type": "code",
   "execution_count": null,
   "metadata": {},
   "outputs": [],
   "source": [
    "vm_model = vm.init_model(\n",
    "    model,\n",
    "    input_id=\"glm_model\",\n",
    ")"
   ]
  },
  {
   "cell_type": "markdown",
   "metadata": {},
   "source": [
    "### Assign prediction values and probabilities to the datasets\n",
    "\n",
    "With our model now trained, the next step involves assigning both predictive probabilities, which come directly from the model's predictions, and the binary prediction after applying the cutoff threshold described in the previous steps. This is achieved through the use of the `assign_predictions()` method associated with the VM `dataset` object. This method links the model's class prediction values and probabilities to our VM train and test datasets. "
   ]
  },
  {
   "cell_type": "code",
   "execution_count": null,
   "metadata": {},
   "outputs": [],
   "source": [
    "vm_train_ds.assign_predictions(\n",
    "    model=vm_model,\n",
    "    prediction_values=train_binary_predictions,\n",
    "    prediction_probabilities = train_probabilities,\n",
    ")\n",
    "\n",
    "vm_test_ds.assign_predictions(\n",
    "    model=vm_model,\n",
    "    prediction_values=test_binary_predictions,\n",
    "    prediction_probabilities = test_probabilities,\n",
    ")"
   ]
  },
  {
   "cell_type": "markdown",
   "metadata": {},
   "source": [
    "### Assign scores to the datasets\n",
    "\n",
    "In the context of credit scorecards, we are interested in computing scores from model predictions, as scorecards fundamentally revolve around these scores rather than raw predictions. To make this process auditable and ensure scores are properly integrated with our datasets, we use the `add_extra_column()` method from the VM `dataset` object. This approach allows us to append scores directly to our data, maintaining a streamlined and coherent dataset ready for analysis."
   ]
  },
  {
   "cell_type": "code",
   "execution_count": null,
   "metadata": {},
   "outputs": [],
   "source": [
    "vm_train_ds.add_extra_column(\"glm_scores\", train_scores)\n",
    "vm_test_ds.add_extra_column(\"glm_scores\", test_scores)"
   ]
  },
  {
   "cell_type": "markdown",
   "metadata": {},
   "source": [
    "### Data validation\n",
    "\n",
    "During data validation, we ensure that the data we're working with is accurate, consistent, and ready for empirical analysis. We're looking for any anomalies that might skew our models or results. In this section, we use tests to collect evidence across raw, preprocessed, and feature-engineered datasets."
   ]
  },
  {
   "cell_type": "markdown",
   "metadata": {},
   "source": [
    "#### Run tests for raw data tests\n",
    "\n",
    "We perform initial validation of our raw data to understand its structure and detect any anomalies that could affect the modeling process. At this stage, we use a couple of tests that help us understand the data:\n",
    "\n",
    "- Tabular Description Tables: statistical summary for each variable.\n",
    "- Missing Values Bar Plot: plots presence of any missing data.\n",
    "\n",
    "To ensure we can run this test again against a different dataset, we can label these test results with `<test_id>:raw_dataset`. This will make the results identifiable in the database, allowing us to include them in the UI"
   ]
  },
  {
   "cell_type": "code",
   "execution_count": null,
   "metadata": {},
   "outputs": [],
   "source": [
    "\n",
    "test= vm.tests.run_test(\n",
    "    \"validmind.data_validation.TabularDescriptionTables:raw_dataset\",\n",
    "    inputs = {\n",
    "        \"dataset\": vm_raw_dataset\n",
    "    }\n",
    ")\n",
    "test.log()"
   ]
  },
  {
   "cell_type": "code",
   "execution_count": null,
   "metadata": {},
   "outputs": [],
   "source": [
    "\n",
    "test= vm.tests.run_test(\n",
    "    \"validmind.data_validation.MissingValuesBarPlot:raw_dataset\",\n",
    "    inputs = {\n",
    "        \"dataset\": vm_raw_dataset\n",
    "    }\n",
    ")\n",
    "test.log()"
   ]
  },
  {
   "cell_type": "markdown",
   "metadata": {},
   "source": [
    "#### Run tests for preprocessed data\n",
    "\n",
    "Before the modeling process begins, the data undergoes a final quality validation. To ensure the data is ready for the next data preparation step, we conduct the following tests:\n",
    "\n",
    "- Tabular Description Tables: Checking structural integrity after preprocessing.\n",
    "- IQR Outliers Table: Searching for statistical anomalies that may impact results.\n",
    "- Class Imbalance: Investigating the proportionality of outcome classes.\n",
    "- Tabular Numerical Histograms: Visualizing distributions for numerical variables.\n",
    "- Tabular Categorical Bar Plots: Analyzing frequencies of categorical variables.\n",
    "- Target Rate Bar Plots: Examining the distribution of the target variable across categories.\n",
    "- Pearson Correlation Matrix: Identifying linear relationships between variables.\n",
    "\n",
    "As we did in the previous step, we now want to run the same description tables against the preprocessed dataset to identify improvements and observe the effects of our changes on the data. This time, we do this by adding the `<test_id>:preprocess_dataset>` label to our results.\n"
   ]
  },
  {
   "cell_type": "code",
   "execution_count": null,
   "metadata": {},
   "outputs": [],
   "source": [
    "\n",
    "test= vm.tests.run_test(\n",
    "    \"validmind.data_validation.TabularDescriptionTables:preprocess_dataset\",\n",
    "    inputs = {\n",
    "        \"dataset\": vm_preprocess_dataset\n",
    "    }\n",
    ")\n",
    "test.log()"
   ]
  },
  {
   "cell_type": "code",
   "execution_count": null,
   "metadata": {},
   "outputs": [],
   "source": [
    "\n",
    "test= vm.tests.run_test(\n",
    "    \"validmind.data_validation.IQROutliersTable\",\n",
    "    inputs = {\n",
    "        \"dataset\": vm_preprocess_dataset\n",
    "    }\n",
    ")\n",
    "test.log()"
   ]
  },
  {
   "cell_type": "code",
   "execution_count": null,
   "metadata": {},
   "outputs": [],
   "source": [
    "\n",
    "test= vm.tests.run_test(\n",
    "    \"validmind.data_validation.ClassImbalance\",\n",
    "    inputs = {\n",
    "        \"dataset\": vm_preprocess_dataset\n",
    "    }\n",
    ")\n",
    "test.log()"
   ]
  },
  {
   "cell_type": "code",
   "execution_count": null,
   "metadata": {},
   "outputs": [],
   "source": [
    "\n",
    "test= vm.tests.run_test(\n",
    "    \"validmind.data_validation.TabularNumericalHistograms\",\n",
    "    inputs = {\n",
    "        \"dataset\": vm_preprocess_dataset\n",
    "    }\n",
    ")\n",
    "test.log()"
   ]
  },
  {
   "cell_type": "code",
   "execution_count": null,
   "metadata": {},
   "outputs": [],
   "source": [
    "\n",
    "test= vm.tests.run_test(\n",
    "    \"validmind.data_validation.TabularCategoricalBarPlots\",\n",
    "    inputs = {\n",
    "        \"dataset\": vm_preprocess_dataset\n",
    "    }\n",
    ")\n",
    "test.log()"
   ]
  },
  {
   "cell_type": "code",
   "execution_count": null,
   "metadata": {},
   "outputs": [],
   "source": [
    "\n",
    "test= vm.tests.run_test(\n",
    "    \"validmind.data_validation.TargetRateBarPlots\",\n",
    "    inputs = {\n",
    "        \"dataset\": vm_preprocess_dataset\n",
    "    },\n",
    "    params = {\n",
    "        \"default_column\": lending_club.target_column,\n",
    "        \"columns\": None\n",
    "    }\n",
    ")\n",
    "test.log()"
   ]
  },
  {
   "cell_type": "code",
   "execution_count": null,
   "metadata": {},
   "outputs": [],
   "source": [
    "\n",
    "test= vm.tests.run_test(\n",
    "    \"validmind.data_validation.PearsonCorrelationMatrix\",\n",
    "    inputs = {\n",
    "        \"dataset\": vm_preprocess_dataset\n",
    "    }\n",
    ")\n",
    "test.log()"
   ]
  },
  {
   "cell_type": "code",
   "execution_count": null,
   "metadata": {},
   "outputs": [],
   "source": [
    "test= vm.tests.run_test(\n",
    "    \"validmind.data_validation.HighPearsonCorrelation\",\n",
    "    inputs = {\n",
    "        \"dataset\": vm_preprocess_dataset\n",
    "    }\n",
    ")\n",
    "test.log()"
   ]
  },
  {
   "cell_type": "markdown",
   "metadata": {},
   "source": [
    "#### Run tests for WoE analysis\n",
    "\n",
    "To ensure data segmentation aligns with predictive value, we perform detailed tests on the following:\n",
    "\n",
    "- WOE Bin Table: This test checks the bins and their corresponding Weight of Evidence values, ensuring accuracy and relevance.\n",
    "- WOE Bin Plots: These plots display the distribution of WoE across the data spectrum, providing a visual assessment of alignment and consistency."
   ]
  },
  {
   "cell_type": "code",
   "execution_count": null,
   "metadata": {},
   "outputs": [],
   "source": [
    "\n",
    "test= vm.tests.run_test(\n",
    "    \"validmind.data_validation.WOEBinTable\",\n",
    "    inputs = {\n",
    "        \"dataset\": vm_preprocess_dataset\n",
    "    },\n",
    "    params = {\n",
    "        \"breaks_adj\": lending_club.breaks_adj\n",
    "    }\n",
    ")\n",
    "test.log()"
   ]
  },
  {
   "cell_type": "code",
   "execution_count": null,
   "metadata": {},
   "outputs": [],
   "source": [
    "\n",
    "test= vm.tests.run_test(\n",
    "    \"validmind.data_validation.WOEBinPlots\",\n",
    "    inputs = {\n",
    "        \"dataset\": vm_preprocess_dataset\n",
    "    },\n",
    "    params = {\n",
    "        \"breaks_adj\": lending_club.breaks_adj\n",
    "    }\n",
    ")\n",
    "test.log()"
   ]
  },
  {
   "cell_type": "markdown",
   "metadata": {},
   "source": [
    "### Model validation\n",
    "\n",
    "This phase verifies the model's predictive power and generalizability. Tests are applied to both training and evaluation stages to ensure robustness and accuracy."
   ]
  },
  {
   "cell_type": "markdown",
   "metadata": {},
   "source": [
    "#### Run tests for model training\n",
    "\n",
    "After training our model, one of the first tasks we want to perform is to inspect the model coefficients and some of their statistical properties, such as p-values. This is a crucial step as it informs us about the relevance of the features used to train the model. At this stage, we can begin making decisions regarding the quality of our model. These few tests assist us with this task:\n",
    "\n",
    "- Dataset Split: Assesses the distribution of data across training and testing sets.\n",
    "- Regression Coeffs Plot: Visual inspection of the model's coefficients.\n",
    "- Regression Models Coeffs: Detailed evaluation of the regression coefficients' values.\n",
    "\n",
    "Note that we use the `models` interface and pass a model as a list. This is because these tests support multiple models. Therefore, if you have candidate models, you can use these tests to examine the differences in coefficients across multiple models."
   ]
  },
  {
   "cell_type": "code",
   "execution_count": null,
   "metadata": {},
   "outputs": [],
   "source": [
    "test= vm.tests.run_test(\n",
    "    \"validmind.data_validation.DatasetSplit\",\n",
    "    inputs = {\n",
    "        \"datasets\": [vm_train_ds, vm_test_ds]\n",
    "    }\n",
    ")\n",
    "test.log()"
   ]
  },
  {
   "cell_type": "code",
   "execution_count": null,
   "metadata": {},
   "outputs": [],
   "source": [
    "\n",
    "test= vm.tests.run_test(\n",
    "    \"validmind.model_validation.statsmodels.RegressionCoeffsPlot\",\n",
    "    inputs = {\n",
    "        \"models\": [vm_model]\n",
    "    }\n",
    ")\n",
    "test.log()"
   ]
  },
  {
   "cell_type": "code",
   "execution_count": null,
   "metadata": {},
   "outputs": [],
   "source": [
    "\n",
    "test= vm.tests.run_test(\n",
    "    \"validmind.model_validation.statsmodels.RegressionModelsCoeffs\",\n",
    "    inputs = {\n",
    "        \"models\": [vm_model]\n",
    "    }\n",
    ")\n",
    "test.log()"
   ]
  },
  {
   "cell_type": "markdown",
   "metadata": {},
   "source": [
    "#### Run tests for model evaluation\n",
    "\n",
    "Once we are somewhat satisfied with the trained model after inspecting the coefficients, we elevate our evaluation by examining more detailed performance metrics, such as the confusion matrix, Gini coefficient, and various visualizations. At this stage, we also begin to examine the credit scores, comparing them across the test and training datasets to see how effectively they distinguish between defaulted and non-defaulted customers. \n",
    "\n",
    "These tests will help us to check whether the calibration of the scorecard is fit for purpose. Below, we list the tests we use to perform a thorough evaluation of both the binary classification model and the scorecard: \n",
    "\n",
    "- Classifier Performance: Summarizing logistic regression metrics.\n",
    "- GINI Table: Assessing the discriminatory power of the model.\n",
    "- Confusion Matrix: Understanding classification accuracy.\n",
    "- ROC Curve: Plotting the trade-off between sensitivity and specificity.\n",
    "- Prediction Probabilities Histogram: Distributing predictions to visualize outcomes.\n",
    "- Cumulative Prediction Probabilities: Cumulative probability analysis for predictions.\n",
    "- Scorecard Histogram: Evaluating the distribution of scorecard points."
   ]
  },
  {
   "cell_type": "code",
   "execution_count": null,
   "metadata": {},
   "outputs": [],
   "source": [
    "\n",
    "test= vm.tests.run_test(\n",
    "    \"validmind.model_validation.sklearn.ClassifierPerformance:train_dataset\",\n",
    "    inputs = {\n",
    "        \"dataset\": vm_train_ds,\n",
    "        \"model\": vm_model,\n",
    "    }\n",
    ")\n",
    "test.log()"
   ]
  },
  {
   "cell_type": "code",
   "execution_count": null,
   "metadata": {},
   "outputs": [],
   "source": [
    "test= vm.tests.run_test(\n",
    "    \"validmind.model_validation.sklearn.ClassifierPerformance:test_dataset\",\n",
    "    inputs = {\n",
    "        \"dataset\": vm_test_ds,\n",
    "        \"model\": vm_model,\n",
    "    }\n",
    ")\n",
    "test.log()"
   ]
  },
  {
   "cell_type": "code",
   "execution_count": null,
   "metadata": {},
   "outputs": [],
   "source": [
    "\n",
    "test= vm.tests.run_test(\n",
    "    \"validmind.model_validation.statsmodels.GINITable\",\n",
    "    inputs = {\n",
    "        \"datasets\": [vm_train_ds, vm_test_ds],\n",
    "        \"model\": vm_model,\n",
    "    }\n",
    ")\n",
    "test.log()"
   ]
  },
  {
   "cell_type": "code",
   "execution_count": null,
   "metadata": {},
   "outputs": [],
   "source": [
    "\n",
    "test= vm.tests.run_test(\n",
    "    \"validmind.model_validation.sklearn.ConfusionMatrix\",\n",
    "    inputs = {\n",
    "        \"dataset\": vm_test_ds,\n",
    "        \"model\": vm_model\n",
    "    },\n",
    ")\n",
    "test.log()"
   ]
  },
  {
   "cell_type": "code",
   "execution_count": null,
   "metadata": {},
   "outputs": [],
   "source": [
    "\n",
    "test= vm.tests.run_test(\n",
    "    \"validmind.model_validation.sklearn.ROCCurve\",\n",
    "    inputs = {\n",
    "        \"model\": vm_model,\n",
    "        \"dataset\": vm_test_ds\n",
    "    }\n",
    ")\n",
    "test.log()"
   ]
  },
  {
   "cell_type": "code",
   "execution_count": null,
   "metadata": {},
   "outputs": [],
   "source": [
    "\n",
    "test= vm.tests.run_test(\n",
    "    \"validmind.model_validation.statsmodels.PredictionProbabilitiesHistogram\",\n",
    "    inputs = {\n",
    "        \"model\": vm_model,\n",
    "        \"datasets\": [vm_train_ds, vm_test_ds]\n",
    "    }\n",
    ")\n",
    "test.log()"
   ]
  },
  {
   "cell_type": "code",
   "execution_count": null,
   "metadata": {},
   "outputs": [],
   "source": [
    "\n",
    "test= vm.tests.run_test(\n",
    "    \"validmind.model_validation.statsmodels.CumulativePredictionProbabilities\",\n",
    "    inputs = {\n",
    "        \"model\": vm_model,\n",
    "        \"datasets\": [vm_train_ds, vm_test_ds]\n",
    "    }\n",
    ")\n",
    "test.log()"
   ]
  },
  {
   "cell_type": "code",
   "execution_count": null,
   "metadata": {},
   "outputs": [],
   "source": [
    "\n",
    "test= vm.tests.run_test(\n",
    "    \"validmind.model_validation.statsmodels.ScorecardHistogram\",\n",
    "    inputs = {\n",
    "        \"model\": vm_model,\n",
    "        \"datasets\": [vm_train_ds, vm_test_ds]\n",
    "    },\n",
    "    params = {\n",
    "        \"score_column\": \"glm_scores\"\n",
    "    }\n",
    ")\n",
    "test.log()"
   ]
  },
  {
   "cell_type": "markdown",
   "metadata": {},
   "source": [
    "#### Run tests for model explainability\n",
    "\n",
    "Following the detailed evaluation of the model through metrics such as the confusion matrix and Gini coefficient, we focus on model explainability to further understand the contributions of individual features. This analysis is crucial for ensuring that our credit scoring model is not only effective but also interpretable in practical scenarios.\n",
    "\n",
    "Here are the key tests we deploy to analyze the model's explainability after evaluating its overall performance:\n",
    "\n",
    "- Regression Permutation Feature Importance: Identifies which features most significantly affect the model's predictions by observing changes in performance when feature values are shuffled.\n",
    "- Features AUC: Determines the discriminative power of each feature, showcasing how well each can independently predict the outcome."
   ]
  },
  {
   "cell_type": "code",
   "execution_count": null,
   "metadata": {},
   "outputs": [],
   "source": [
    "test= vm.tests.run_test(\n",
    "    \"validmind.model_validation.statsmodels.RegressionPermutationFeatureImportance\",\n",
    "    inputs = {\n",
    "        \"model\": vm_model,\n",
    "        \"dataset\": vm_test_ds\n",
    "    }\n",
    ")\n",
    "test.log()"
   ]
  },
  {
   "cell_type": "code",
   "execution_count": null,
   "metadata": {},
   "outputs": [],
   "source": [
    "test= vm.tests.run_test(\n",
    "    \"validmind.model_validation.FeaturesAUC\",\n",
    "    inputs = {\n",
    "        \"model\": vm_model,\n",
    "        \"dataset\": vm_test_ds\n",
    "    }\n",
    ")\n",
    "test.log()"
   ]
  },
  {
   "cell_type": "markdown",
   "metadata": {},
   "source": [
    "## Next steps\n",
    "\n",
    "You can look at the results of this test suite right in the notebook where you ran the code, as you would expect. But there is a better way: view the test results as part of your model documentation right in the ValidMind Platform UI:\n",
    "\n",
    "1. In the [Platform UI](https://app.prod.validmind.ai), go to the **Documentation** page for the model you registered earlier.\n",
    "\n",
    "2. Expand the following sections and take a look around:\n",
    "\n",
    "   - **2. Data Preparation**\n",
    "   - **3. Model Development**\n",
    "\n",
    "What you can see now is a much more easily consumable version of the documentation, including the results of the tests you just performed, along with other parts of your model documentation that still need to be completed. There is a wealth of information that gets uploaded when you run the full test suite, so take a closer look around, especially at test results that might need attention (hint: some of the tests in *2.3. Feature Selection and Engineering* look like they need some attention).\n",
    "\n",
    "If you want to learn more about where you are in the model documentation process, take a look at [How do I use the framework?](https://docs.validmind.ai/guide/get-started-developer-framework.html#how-do-i-use-the-framework)."
   ]
  }
 ],
 "metadata": {
  "kernelspec": {
   "display_name": "validmind-py3.10",
   "language": "python",
   "name": "validmind-py3.10"
  },
  "language_info": {
   "codemirror_mode": {
    "name": "ipython",
    "version": 3
   },
   "file_extension": ".py",
   "mimetype": "text/x-python",
   "name": "python",
   "nbconvert_exporter": "python",
   "pygments_lexer": "ipython3",
   "version": "3.10.13"
  },
  "orig_nbformat": 4
 },
 "nbformat": 4,
 "nbformat_minor": 2
}
