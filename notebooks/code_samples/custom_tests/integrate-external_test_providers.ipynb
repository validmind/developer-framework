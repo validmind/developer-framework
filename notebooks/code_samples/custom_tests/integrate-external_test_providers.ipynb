{
  "cells": [
    {
      "cell_type": "markdown",
      "metadata": {},
      "source": [
        "# Integrate external test providers\n",
        "\n",
        "Register a custom test provider with the Validmind Developer Framework to run your own tests.\n",
        "\n",
        "This notebook loads two of sample test providers and registers them with the framework which enables you to run a template that utilizes the custom tests made available by the providers.\n"
      ]
    },
    {
      "cell_type": "markdown",
      "metadata": {},
      "source": [
        "## Contents\n",
        "- [About ValidMind](#toc1_)    \n",
        "  - [Before you begin](#toc1_1_)    \n",
        "  - [New to ValidMind?](#toc1_2_)    \n",
        "  - [Key concepts](#toc1_3_)    \n",
        "- [Install the client library](#toc2_)    \n",
        "- [Update the customer churn template template](#toc3_)    \n",
        "- [Initialize the client library](#toc4_)    \n",
        "  - [Preview the documentation template and validate that it contains the new test blocks](#toc4_1_)    \n",
        "  - [Register external test providers](#toc4_2_)    \n",
        "  - [Verify that `preview_template()` now loads the tests from the test providers](#toc4_3_)    \n",
        "  - [Running the template](#toc4_4_)    \n",
        "- [Next steps](#toc5_)    \n",
        "  - [Work with your model documentation](#toc5_1_)    \n",
        "  - [Discover more learning resources](#toc5_2_)    \n",
        "\n",
        "<!-- vscode-jupyter-toc-config\n",
        "\tnumbering=false\n",
        "\tanchor=true\n",
        "\tflat=false\n",
        "\tminLevel=2\n",
        "\tmaxLevel=4\n",
        "\t/vscode-jupyter-toc-config -->\n",
        "<!-- THIS CELL WILL BE REPLACED ON TOC UPDATE. DO NOT WRITE YOUR TEXT IN THIS CELL -->"
      ]
    },
    {
      "cell_type": "markdown",
      "metadata": {},
      "source": [
        "<a id='toc1_'></a>\n\n",
    "## About ValidMind\n",
        "\n",
        "ValidMind is a platform for managing model risk, including risk associated with AI and statistical models. You use the ValidMind Developer Framework to automate documentation and validation tests, and then use the ValidMind AI Risk Platform UI to collaborate on model documentation. Together, these products simplify model risk management, facilitate compliance with regulations and institutional standards, and enhance collaboration between yourself and model validators.\n",
        "\n",
        "<a id='toc1_1_'></a>\n\n",
    "### Before you begin\n",
        "\n",
        "This notebook assumes you have basic familiarity with Python, including an understanding of how functions work. If you are new to Python, you can still run the notebook but we recommend further familiarizing yourself with the language. \n",
        "\n",
        "If you encounter errors due to missing modules in your Python environment, install the modules with `pip install`, and then re-run the notebook. For more help, refer to [Installing Python Modules](https://docs.python.org/3/installing/index.html).\n",
        "\n",
        "<a id='toc1_2_'></a>\n\n",
    "### New to ValidMind?\n",
        "\n",
        "If you haven't already seen our [Get started with the ValidMind Developer Framework](https://docs.validmind.ai/guide/get-started-developer-framework.html), we recommend you explore the available resources for developers at some point. There, you can learn more about documenting models, find code samples, or read our developer reference.\n",
        "\n",
        "::: {.callout-tip}\n",
        "\n",
        "For access to all features available in this notebook, create a free ValidMind account.\n",
        "\n",
        "Signing up is FREE — [**Sign up now**](https://app.prod.validmind.ai)\n",
        "\n",
        ":::\n",
        "\n",
        "<a id='toc1_3_'></a>\n\n",
    "### Key concepts\n",
        "\n",
        "**Model documentation**: A structured and detailed record pertaining to a model, encompassing key components such as its underlying assumptions, methodologies, data sources, inputs, performance metrics, evaluations, limitations, and intended uses. It serves to ensure transparency, adherence to regulatory requirements, and a clear understanding of potential risks associated with the model’s application.\n",
        "\n",
        "**Documentation template**: Functions as a test suite and lays out the structure of model documentation, segmented into various sections and sub-sections. Documentation templates define the structure of your model documentation, specifying the tests that should be run, and how the results should be displayed.\n",
        "\n",
        "**Tests**: A function contained in the ValidMind Developer Framework, designed to run a specific quantitative test on the dataset or model. Tests are the building blocks of ValidMind, used to evaluate and document models and datasets, and can be run individually or as part of a suite defined by your model documentation template.\n",
        "\n",
        "**Metrics**: A subset of tests that do not have thresholds. In the context of this notebook, metrics and tests can be thought of as interchangeable concepts.\n",
        "\n",
        "**Custom metrics**: Custom metrics are functions that you define to evaluate your model or dataset. These functions can be registered with ValidMind to be used in the platform.\n",
        "\n",
        "**Inputs**: Objects to be evaluated and documented in the ValidMind framework. They can be any of the following:\n",
        "\n",
        "  - **model**: A single model that has been initialized in ValidMind with [`vm.init_model()`](https://docs.validmind.ai/validmind/validmind.html#init_model).\n",
        "  - **dataset**: Single dataset that has been initialized in ValidMind with [`vm.init_dataset()`](https://docs.validmind.ai/validmind/validmind.html#init_dataset).\n",
        "  - **models**: A list of ValidMind models - usually this is used when you want to compare multiple models in your custom metric.\n",
        "  - **datasets**: A list of ValidMind datasets - usually this is used when you want to compare multiple datasets in your custom metric. See this [example](https://docs.validmind.ai/notebooks/how_to/run_tests_that_require_multiple_datasets.html) for more information.\n",
        "\n",
        "**Parameters**: Additional arguments that can be passed when running a ValidMind test, used to pass additional information to a metric, customize its behavior, or provide additional context.\n",
        "\n",
        "**Outputs**: Custom metrics can return elements like tables or plots. Tables may be a list of dictionaries (each representing a row) or a pandas DataFrame. Plots may be matplotlib or plotly figures.\n",
        "\n",
        "**Test suites**: Collections of tests designed to run together to automate and generate model documentation end-to-end for specific use-cases.\n",
        "\n",
        "Example: the [`classifier_full_suite`](https://docs.validmind.ai/validmind/validmind/test_suites/classifier.html#ClassifierFullSuite) test suite runs tests from the [`tabular_dataset`](https://docs.validmind.ai/validmind/validmind/test_suites/tabular_datasets.html) and [`classifier`](https://docs.validmind.ai/validmind/validmind/test_suites/classifier.html) test suites to fully document the data and model sections for binary classification model use-cases.\n"
      ]
    },
    {
      "cell_type": "markdown",
      "metadata": {},
      "source": [
        "<a id='toc2_'></a>\n\n",
    "## Install the client library\n",
        "\n",
        "The client library provides Python support for the ValidMind Developer Framework. To install it:"
      ]
    },
    {
      "cell_type": "code",
      "execution_count": null,
      "metadata": {},
      "outputs": [],
      "source": [
        "%pip install -q validmind"
      ]
    },
    {
      "cell_type": "markdown",
      "metadata": {},
      "source": [
        "<a id='toc3_'></a>\n\n",
    "## Update the customer churn template template\n",
        "\n",
        "First, let's edit the **Binary classification** template and register test blocks for the demo test providers we will implement below.\n",
        "\n",
        "- Go to **Settings > Templates** and click on the **Binary classification** template. Let's add a new top level section called `test_providers_demo` with some test driven content blocks like below:\n",
        "\n",
        "```yaml\n",
        "- id: test_providers_demo\n",
        "  title: Test providers demo\n",
        "  contents:\n",
        "    - content_type: metric\n",
        "      content_id: my_local_provider.tests.MyCustomTest\n",
        "    - content_type: metric\n",
        "      content_id: my_inline_provider.tests.MyCustomTest\n",
        "```\n",
        "\n",
        "- Click on **Prepare new version**, provide some version notes and click con **Save new version** to save a new version of this template\n",
        "- Now we need to swap our model documentation to this new version of the template. Follow the steps on this guide to swap the template of our customer churn model: https://docs.validmind.ai/guide/swap-documentation-templates.html\n",
        "\n",
        "In the sections below we provide more context on how these `content_id`s above get mapped to the actual test providers and tests.\n"
      ]
    },
    {
      "cell_type": "markdown",
      "metadata": {},
      "source": [
        "<a id='toc4_'></a>\n\n",
    "## Initialize the client library\n",
        "\n",
        "ValidMind generates a unique _code snippet_ for each registered model to connect with your developer environment. You initialize the client library with this code snippet, which ensures that your documentation and tests are uploaded to the correct model when you run the notebook.\n",
        "\n",
        "Get your code snippet:\n",
        "\n",
        "1. In a browser, log into the [Platform UI](https://app.prod.validmind.ai).\n",
        "\n",
        "2. In the left sidebar, navigate to **Model Inventory** and click **+ Register new model**.\n",
        "\n",
        "3. Enter the model details, making sure to select the `Attrition/Churn Management` use case, and click **Continue**. ([Need more help?](https://docs.validmind.ai/guide/register-models-in-model-inventory.html))\n",
        "\n",
        "4. Go to **Getting Started** and click **Copy snippet to clipboard**.\n",
        "\n",
        "Next, replace this placeholder with your own code snippet:\n"
      ]
    },
    {
      "cell_type": "code",
      "execution_count": null,
      "metadata": {},
      "outputs": [],
      "source": [
        "# Replace with your code snippet\n",
        "\n",
        "import validmind as vm\n",
        "\n",
        "vm.init(\n",
        "    api_host=\"https://api.prod.validmind.ai/api/v1/tracking\",\n",
        "    api_key=\"...\",\n",
        "    api_secret=\"...\",\n",
        "    project=\"...\",\n",
        ")"
      ]
    },
    {
      "cell_type": "markdown",
      "metadata": {},
      "source": [
        "<a id='toc4_1_'></a>\n\n",
    "### Preview the documentation template and validate that it contains the new test blocks\n",
        "\n",
        "We should see two custom content blocks in the template whose IDs are under the namespaces registered below (`my_inline_provider` and `my_local_provider`).\n",
        "\n",
        "::: {.callout-tip}\n",
        "\n",
        "`preview_template()` will show an error when loading the new tests since we haven't registered our new test providers yet. This is expected.\n",
        "\n",
        ":::\n"
      ]
    },
    {
      "cell_type": "code",
      "execution_count": null,
      "metadata": {},
      "outputs": [],
      "source": [
        "vm.preview_template()"
      ]
    },
    {
      "cell_type": "markdown",
      "metadata": {},
      "source": [
        "<a id='toc4_2_'></a>\n\n",
    "### Register external test providers\n",
        "\n",
        "We will now instantiate and register test provider classes that include the tests we included in the template.\n",
        "\n",
        "We will build an inline test provider that allows creating tests directly in the notebook and a local filesystem test provider that allows loading tests from a local folder.\n",
        "\n",
        "For the local filesystem provider, we just need to specify the root folder under which the provider class will look for tests. For this demo, it is the `./tests/` directory.\n"
      ]
    },
    {
      "attachments": {},
      "cell_type": "markdown",
      "metadata": {},
      "source": [
        "**Import the Local File System Test Provider from the `validmind.tests` module**\n"
      ]
    },
    {
      "cell_type": "code",
      "execution_count": null,
      "metadata": {},
      "outputs": [],
      "source": [
        "from validmind.tests import LocalTestProvider"
      ]
    },
    {
      "attachments": {},
      "cell_type": "markdown",
      "metadata": {},
      "source": [
        "**Create an inline TestProvider Class that just returns a single test**\n"
      ]
    },
    {
      "cell_type": "code",
      "execution_count": null,
      "metadata": {},
      "outputs": [],
      "source": [
        "import pandas as pd\n",
        "\n",
        "\n",
        "class MySecondCustomTest(vm.vm_models.Metric):\n",
        "    # The test name should match the content ID on the template\n",
        "    name = \"my_inline_provider.tests.MyCustomTest\"\n",
        "\n",
        "    def description(self):\n",
        "        return \"This is a custom test from an external test provider.\"\n",
        "\n",
        "    def run(self):\n",
        "        return self.cache_results([{\"foo\": \"bar\"}])\n",
        "\n",
        "    def summary(self, results):\n",
        "        return vm.vm_models.ResultSummary(\n",
        "            results=[\n",
        "                vm.vm_models.ResultTable(\n",
        "                    data=pd.DataFrame(results),\n",
        "                    metadata=vm.vm_models.ResultTableMetadata(\n",
        "                        title=\"Results from Test Provider Inside Notebook\"\n",
        "                    ),\n",
        "                )\n",
        "            ]\n",
        "        )\n",
        "\n",
        "\n",
        "class TestProviderInline:\n",
        "    def load_test(self, test_id):\n",
        "        # ignore the test_id and just return the single test above\n",
        "        return MySecondCustomTest"
      ]
    },
    {
      "cell_type": "code",
      "execution_count": null,
      "metadata": {},
      "outputs": [],
      "source": [
        "# instantiate the test provider\n",
        "inline_test_provider = TestProviderInline()\n",
        "local_test_provider = LocalTestProvider(root_folder=\".\")\n",
        "\n",
        "# register the test providers\n",
        "vm.tests.register_test_provider(\n",
        "    namespace=\"my_inline_provider\",\n",
        "    test_provider=inline_test_provider,\n",
        ")  # validmind will now call the `TestProviderInline.load_test` method whenever it encounters a test ID that starts with `my_inline_provider`\n",
        "\n",
        "vm.tests.register_test_provider(\n",
        "    namespace=\"my_local_provider\",\n",
        "    test_provider=local_test_provider,\n",
        ")  # validmind will now call the `LocalTestProvider.load_test` method whenever it encounters a test ID that starts with `my_local_provider`"
      ]
    },
    {
      "cell_type": "markdown",
      "metadata": {},
      "source": [
        "<a id='toc4_3_'></a>\n\n",
    "### Verify that `preview_template()` now loads the tests from the test providers\n",
        "\n",
        "After registering the test providers with `vm.tests.register_test_provider()`, the developer framework can now locate the code that will execute the tests when we run the documentation tests on the template. We can verify this by running `preview_template()` again and seeing that the tests are now loaded correctly.\n"
      ]
    },
    {
      "cell_type": "code",
      "execution_count": null,
      "metadata": {},
      "outputs": [],
      "source": [
        "vm.preview_template()"
      ]
    },
    {
      "cell_type": "markdown",
      "metadata": {},
      "source": [
        "<a id='toc4_4_'></a>\n\n",
    "### Running the template\n",
        "\n",
        "Now we can run the template as usual and it will use the external test providers to load the appropriate tests. Note that we're not passing any inputs such as `dataset` and `model` to `run_documentation_tests()`. This is because our demo test providers do not have any required inputs and we're scoping the template execution to the `test_providers_demo` section by using the `section` keyword argument.\n"
      ]
    },
    {
      "cell_type": "code",
      "execution_count": null,
      "metadata": {},
      "outputs": [],
      "source": [
        "suite_results = vm.run_documentation_tests(section=\"test_providers_demo\")"
      ]
    },
    {
      "cell_type": "markdown",
      "metadata": {},
      "source": [
        "<a id='toc5_'></a>\n\n",
    "## Next steps\n",
        "\n",
        "You can look at the output produced by the ValidMind Developer Framework right in the notebook where you ran the code, as you would expect. But there is a better way: use the ValidMind platform to work with your model documentation.\n",
        "\n",
        "<a id='toc5_1_'></a>\n\n",
    "### Work with your model documentation\n",
        "\n",
        "1. From the [**Model Inventory**](https://app.prod.validmind.ai/model-inventory) in the ValidMind Platform UI, go to the model you registered earlier.\n",
        "\n",
        "2. Click and expand the **Model Development** section.\n",
        "\n",
        "3. Expand the **Test Providers Demo** section as defined in the template.\n",
        "\n",
        "What you see is the full draft of your model documentation in a more easily consumable version. From here, you can make qualitative edits to model documentation, view guidelines, collaborate with validators, and submit your model documentation for approval when it's ready. [Learn more ...](https://docs.validmind.ai/guide/working-with-model-documentation.html)\n",
        "\n",
        "<a id='toc5_2_'></a>\n\n",
    "### Discover more learning resources\n",
        "\n",
        "We offer many interactive notebooks to help you document models:\n",
        "\n",
        "- [Run tests & test suites](https://docs.validmind.ai/guide/testing-overview.html)\n",
        "- [Code samples](https://docs.validmind.ai/guide/samples-jupyter-notebooks.html)\n",
        "\n",
        "Or, visit our [documentation](https://docs.validmind.ai/) to learn more about ValidMind.\n"
      ]
    }
  ],
  "metadata": {
    "kernelspec": {
      "display_name": "validmind-mI3jzOkk-py3.10",
      "language": "python",
      "name": "python3"
    },
    "language_info": {
      "codemirror_mode": {
        "name": "ipython",
        "version": 3
      },
      "file_extension": ".py",
      "mimetype": "text/x-python",
      "name": "python",
      "nbconvert_exporter": "python",
      "pygments_lexer": "ipython3",
      "version": "3.10.5"
    }
  },
  "nbformat": 4,
  "nbformat_minor": 2
}
