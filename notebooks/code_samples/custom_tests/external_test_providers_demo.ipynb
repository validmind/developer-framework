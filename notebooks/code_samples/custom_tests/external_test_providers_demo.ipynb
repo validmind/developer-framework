{
  "cells": [
    {
      "attachments": {},
      "cell_type": "markdown",
      "metadata": {},
      "source": [
        "# Integrate an External Test Provider\n",
        "\n",
        "This notebook shows model developers how to integrate a custom test provider into the Validmind Developer Framework. The notebook loads two of sample test providers and registers them with the framework which enables you to run a template that utilizes the custom tests made available by the providers.\n"
      ]
    },
    {
      "cell_type": "markdown",
      "metadata": {},
      "source": [
        "## ValidMind at a glance\n",
        "\n",
        "ValidMind's platform enables organizations to identify, document, and manage model risks for all types of models, including AI/ML models, LLMs, and statistical models. As a model developer, you use the ValidMind Developer Framework to automate documentation and validation tests, and then use the ValidMind AI Risk Platform UI to collaborate on model documentation. Together, these products simplify model risk management, facilitate compliance with regulations and institutional standards, and enhance collaboration between yourself and model validators.\n",
        "\n",
        "If this is your first time trying out ValidMind, we recommend going through the following resources first:\n",
        "\n",
        "- [Get started](https://docs.validmind.ai/guide/get-started.html) — The basics, including key concepts, and how our products work\n",
        "- [Get started with the ValidMind Developer Framework](https://docs.validmind.ai/guide/get-started-developer-framework.html) — The path for developers, more code samples, and our developer reference\n"
      ]
    },
    {
      "attachments": {},
      "cell_type": "markdown",
      "metadata": {},
      "source": [
        "## Before you begin\n",
        "\n",
        "::: {.callout-tip}\n",
        "\n",
        "### New to ValidMind?\n",
        "\n",
        "For access to all features available in this notebook, create a free ValidMind account.\n",
        "\n",
        "Signing up is FREE — [**Sign up now**](https://app.prod.validmind.ai)\n",
        ":::\n",
        "\n",
        "If you encounter errors due to missing modules in your Python environment, install the modules with `pip install`, and then re-run the notebook. For more help, refer to [Installing Python Modules](https://docs.python.org/3/installing/index.html).\n"
      ]
    },
    {
      "attachments": {},
      "cell_type": "markdown",
      "metadata": {},
      "source": [
        "## Install the client library\n",
        "\n",
        "The client library provides Python support for the ValidMind Developer Framework. To install it:\n"
      ]
    },
    {
      "cell_type": "code",
      "execution_count": null,
      "metadata": {},
      "outputs": [],
      "source": [
        "%pip install -q validmind"
      ]
    },
    {
      "cell_type": "markdown",
      "metadata": {},
      "source": [
        "## Before you initialize the client library: update the customer churn template template\n",
        "\n",
        "First, let's edit the **Binary classification** template and register test blocks for the demo test providers we will implement below.\n",
        "\n",
        "- Go to **Settings > Templates** and click on the **Binary classification** template. Let's add a new top level section called `test_providers_demo` with some test driven content blocks like below:\n",
        "\n",
        "```yaml\n",
        "- id: test_providers_demo\n",
        "  title: Test providers demo\n",
        "  contents:\n",
        "    - content_type: metric\n",
        "      content_id: my_local_provider.tests.MyCustomTest\n",
        "    - content_type: metric\n",
        "      content_id: my_inline_provider.tests.MyCustomTest\n",
        "```\n",
        "\n",
        "- Click on **Prepare new version**, provide some version notes and click con **Save new version** to save a new version of this template\n",
        "- Now we need to swap our model documentation to this new version of the template. Follow the steps on this guide to swap the template of our customer churn model: https://docs.validmind.ai/guide/swap-documentation-templates.html\n",
        "\n",
        "In the sections below we provide more context on how these `content_id`s above get mapped to the actual test providers and tests.\n"
      ]
    },
    {
      "attachments": {},
      "cell_type": "markdown",
      "metadata": {},
      "source": [
        "## Initialize the client library\n",
        "\n",
        "ValidMind generates a unique _code snippet_ for each registered model to connect with your developer environment. You initialize the client library with this code snippet, which ensures that your documentation and tests are uploaded to the correct model when you run the notebook.\n",
        "\n",
        "Get your code snippet:\n",
        "\n",
        "1. In a browser, log into the [Platform UI](https://app.prod.validmind.ai).\n",
        "\n",
        "2. In the left sidebar, navigate to **Model Inventory** and click **+ Register new model**.\n",
        "\n",
        "3. Enter the model details, making sure to select the `Attrition/Churn Management` use case, and click **Continue**. ([Need more help?](https://docs.validmind.ai/guide/register-models-in-model-inventory.html))\n",
        "\n",
        "4. Go to **Getting Started** and click **Copy snippet to clipboard**.\n",
        "\n",
        "Next, replace this placeholder with your own code snippet:\n"
      ]
    },
    {
      "cell_type": "code",
      "execution_count": null,
      "metadata": {},
      "outputs": [],
      "source": [
        "# Replace with your code snippet\n",
        "\n",
        "import validmind as vm\n",
        "\n",
        "vm.init(\n",
        "    api_host=\"https://api.prod.validmind.ai/api/v1/tracking\",\n",
        "    api_key=\"...\",\n",
        "    api_secret=\"...\",\n",
        "    project=\"...\",\n",
        ")"
      ]
    },
    {
      "attachments": {},
      "cell_type": "markdown",
      "metadata": {},
      "source": [
        "### Preview the documentation template and validate that it contains the new test blocks\n",
        "\n",
        "We should see two custom content blocks in the template whose IDs are under the namespaces registered below (`my_inline_provider` and `my_local_provider`).\n",
        "\n",
        "::: {.callout-tip}\n",
        "\n",
        "`preview_template()` will show an error when loading the new tests since we haven't registered our new test providers yet. This is expected.\n",
        "\n",
        ":::\n"
      ]
    },
    {
      "cell_type": "code",
      "execution_count": null,
      "metadata": {},
      "outputs": [],
      "source": [
        "vm.preview_template()"
      ]
    },
    {
      "attachments": {},
      "cell_type": "markdown",
      "metadata": {},
      "source": [
        "### Register external test providers\n",
        "\n",
        "We will now instantiate and register test provider classes that include the tests we included in the template.\n",
        "\n",
        "We will build an inline test provider that allows creating tests directly in the notebook and a local filesystem test provider that allows loading tests from a local folder.\n",
        "\n",
        "For the local filesystem provider, we just need to specify the root folder under which the provider class will look for tests. For this demo, it is the `./tests/` directory.\n"
      ]
    },
    {
      "attachments": {},
      "cell_type": "markdown",
      "metadata": {},
      "source": [
        "**Import the Local File System Test Provider from the `validmind.tests` module**\n"
      ]
    },
    {
      "cell_type": "code",
      "execution_count": null,
      "metadata": {},
      "outputs": [],
      "source": [
        "from validmind.tests import LocalTestProvider"
      ]
    },
    {
      "attachments": {},
      "cell_type": "markdown",
      "metadata": {},
      "source": [
        "**Create an inline TestProvider Class that just returns a single test**\n"
      ]
    },
    {
      "cell_type": "code",
      "execution_count": null,
      "metadata": {},
      "outputs": [],
      "source": [
        "import pandas as pd\n",
        "\n",
        "\n",
        "class MySecondCustomTest(vm.vm_models.Metric):\n",
        "    # The test name should match the content ID on the template\n",
        "    name = \"my_inline_provider.tests.MyCustomTest\"\n",
        "\n",
        "    def description(self):\n",
        "        return \"This is a custom test from an external test provider.\"\n",
        "\n",
        "    def run(self):\n",
        "        return self.cache_results([{\"foo\": \"bar\"}])\n",
        "\n",
        "    def summary(self, results):\n",
        "        return vm.vm_models.ResultSummary(\n",
        "            results=[\n",
        "                vm.vm_models.ResultTable(\n",
        "                    data=pd.DataFrame(results),\n",
        "                    metadata=vm.vm_models.ResultTableMetadata(\n",
        "                        title=\"Results from Test Provider Inside Notebook\"\n",
        "                    ),\n",
        "                )\n",
        "            ]\n",
        "        )\n",
        "\n",
        "\n",
        "class TestProviderInline:\n",
        "    def load_test(self, test_id):\n",
        "        # ignore the test_id and just return the single test above\n",
        "        return MySecondCustomTest"
      ]
    },
    {
      "cell_type": "code",
      "execution_count": null,
      "metadata": {},
      "outputs": [],
      "source": [
        "# instantiate the test provider\n",
        "inline_test_provider = TestProviderInline()\n",
        "local_test_provider = LocalTestProvider(root_folder=\".\")\n",
        "\n",
        "# register the test providers\n",
        "vm.tests.register_test_provider(\n",
        "    namespace=\"my_inline_provider\",\n",
        "    test_provider=inline_test_provider,\n",
        ")  # validmind will now call the `TestProviderInline.load_test` method whenever it encounters a test ID that starts with `my_inline_provider`\n",
        "\n",
        "vm.tests.register_test_provider(\n",
        "    namespace=\"my_local_provider\",\n",
        "    test_provider=local_test_provider,\n",
        ")  # validmind will now call the `LocalTestProvider.load_test` method whenever it encounters a test ID that starts with `my_local_provider`"
      ]
    },
    {
      "cell_type": "markdown",
      "metadata": {},
      "source": [
        "### Verify that `preview_template()` now loads the tests from the test providers\n",
        "\n",
        "After registering the test providers with `vm.tests.register_test_provider()`, the developer framework can now locate the code that will execute the tests when we run the documentation tests on the template. We can verify this by running `preview_template()` again and seeing that the tests are now loaded correctly.\n"
      ]
    },
    {
      "cell_type": "code",
      "execution_count": null,
      "metadata": {},
      "outputs": [],
      "source": [
        "vm.preview_template()"
      ]
    },
    {
      "attachments": {},
      "cell_type": "markdown",
      "metadata": {},
      "source": [
        "### Running the template\n",
        "\n",
        "Now we can run the template as usual and it will use the external test providers to load the appropriate tests. Note that we're not passing any inputs such as `dataset` and `model` to `run_documentation_tests()`. This is because our demo test providers do not have any required inputs and we're scoping the template execution to the `test_providers_demo` section by using the `section` keyword argument.\n"
      ]
    },
    {
      "cell_type": "code",
      "execution_count": null,
      "metadata": {},
      "outputs": [],
      "source": [
        "suite_results = vm.run_documentation_tests(section=\"test_providers_demo\")"
      ]
    },
    {
      "cell_type": "markdown",
      "metadata": {},
      "source": [
        "## Next steps\n",
        "\n",
        "You can now view the results of the external test providers in the ValidMind Platform UI:\n",
        "\n",
        "1. In the [Platform UI](https://app.prod.validmind.ai), go to the **Documentation** page for the model you registered earlier.\n",
        "\n",
        "2. Expand the **Test Providers Demo** section as defined in the template.\n",
        "\n",
        "What you can see now is a more easily consumable version of the test results that were uploaded by the ValidMind Developer Framework, along with other parts of your documentation.\n"
      ]
    }
  ],
  "metadata": {
    "kernelspec": {
      "display_name": "Dev Framework 3.9.16",
      "language": "python",
      "name": "dev-framework-3.9"
    },
    "language_info": {
      "codemirror_mode": {
        "name": "ipython",
        "version": 3
      },
      "file_extension": ".py",
      "mimetype": "text/x-python",
      "name": "python",
      "nbconvert_exporter": "python",
      "pygments_lexer": "ipython3",
      "version": "3.9.16"
    }
  },
  "nbformat": 4,
  "nbformat_minor": 2
}
