{
 "cells": [
  {
   "attachments": {},
   "cell_type": "markdown",
   "metadata": {},
   "source": [
    "# Time Series Forecasting Model Tutorial\n",
    "\n",
    "This notebook guides model developers through the process of automatically documenting and testing time series forecasting models. It shows you how to use the ValidMind Developer Framework to import and prepare data and before running a data validation test suite, followed by loading a pre-trained model and running a model validation test suite.\n",
    "\n",
    "As part of the notebook, you will learn how to:\n",
    "\n",
    "- Step 1: Import raw data\n",
    "- Step 3: Run data validation test suite on raw data\n",
    "- Step 4: Preprocess data\n",
    "- Step 5: Run data validation test suite on processed data\n",
    "- Step 6: Load pre-trained models\n",
    "- Step 7: Run model validation test suite on models\n"
   ]
  },
  {
   "cell_type": "markdown",
   "metadata": {},
   "source": [
    "## ValidMind at a glance\n",
    "\n",
    "ValidMind's platform enables organizations to identify, document, and manage model risks for all types of models, including AI/ML models, LLMs, and statistical models. As a model developer, you use the ValidMind Developer Framework to automate documentation and validation tests, and then use the ValidMind AI Risk Platform UI to collaborate on model documentation. Together, these products simplify model risk management, facilitate compliance with regulations and institutional standards, and enhance collaboration between yourself and model validators.\n",
    "\n",
    "If this is your first time trying out ValidMind, we recommend going through the following resources first:\n",
    "\n",
    "- [Get started](https://docs.validmind.ai/guide/get-started.html) — The basics, including key concepts, and how our products work\n",
    "- [Get started with the ValidMind Developer Framework](https://docs.validmind.ai/guide/get-started-developer-framework.html) — The path for developers, more code samples, and our developer reference\n"
   ]
  },
  {
   "attachments": {},
   "cell_type": "markdown",
   "metadata": {},
   "source": [
    "## Before you begin\n",
    "\n",
    "::: {.callout-tip}\n",
    "\n",
    "### New to ValidMind?\n",
    "\n",
    "To access the ValidMind Platform UI, you'll need an account.\n",
    "\n",
    "Signing up is FREE — **[Create your account](https://app.prod.validmind.ai)**.\n",
    ":::\n",
    "\n",
    "If you encounter errors due to missing modules in your Python environment, install the modules with `pip install`, and then re-run the notebook. For more help, refer to [Installing Python Modules](https://docs.python.org/3/installing/index.html).\n"
   ]
  },
  {
   "attachments": {},
   "cell_type": "markdown",
   "metadata": {},
   "source": [
    "## Install the client library\n",
    "\n",
    "The client library provides Python support for the ValidMind Developer Framework. To install it:\n"
   ]
  },
  {
   "cell_type": "code",
   "execution_count": null,
   "metadata": {},
   "outputs": [],
   "source": [
    "%pip install -q validmind"
   ]
  },
  {
   "attachments": {},
   "cell_type": "markdown",
   "metadata": {},
   "source": [
    "## Initialize the client library\n",
    "\n",
    "ValidMind generates a unique _code snippet_ for each registered model to connect with your developer environment. You initialize the client library with this code snippet, which ensures that your documentation and tests are uploaded to the correct model when you run the notebook.\n",
    "\n",
    "Get your code snippet:\n",
    "\n",
    "1. In a browser, log into the [Platform UI](https://app.prod.validmind.ai).\n",
    "\n",
    "2. In the left sidebar, navigate to **Model Inventory** and click **+ Register new model**.\n",
    "\n",
    "3. Enter the model details, making sure to select **Time Series Forecasting** as the template and **Credit Risk - Underwriting - Loan** as the use case, and click **Continue**. ([Need more help?](https://docs.validmind.ai/guide/register-models-in-model-inventory.html))\n",
    "\n",
    "4. Go to **Getting Started** and click **Copy snippet to clipboard**.\n",
    "\n",
    "Next, replace this placeholder with your own code snippet:\n"
   ]
  },
  {
   "cell_type": "code",
   "execution_count": null,
   "metadata": {},
   "outputs": [],
   "source": [
    "# Replace with your code snippet\n",
    "\n",
    "import validmind as vm\n",
    "\n",
    "vm.init(\n",
    "  api_host = \"...\",\n",
    "    api_host=\"https://api.prod.validmind.ai/api/v1/tracking\",\n",
    "    api_key=\"...\",\n",
    "    api_secret=\"...\",\n",
    "    project=\"...\"\n",
    ")"
   ]
  },
  {
   "attachments": {},
   "cell_type": "markdown",
   "metadata": {},
   "source": [
    "#### Explore available test suites\n",
    "\n",
    "In this notebook we will run a collection of test suites that are available in the ValidMind Developer Framework. Test suites group together a collection of tests that are relevant for a specific use case. In our case, we will run test different test suites for time series forecasting models. Once a test suite runs successfully, its results will be automatically uploaded to the ValidMind platform.\n"
   ]
  },
  {
   "cell_type": "code",
   "execution_count": null,
   "metadata": {},
   "outputs": [],
   "source": [
    "vm.test_suites.list_suites()"
   ]
  },
  {
   "cell_type": "markdown",
   "metadata": {},
   "source": [
    "For our example use case we will run the following test suites:\n",
    "\n",
    "- `time_series_dataset`\n",
    "- `time_series_model_validation`\n"
   ]
  },
  {
   "attachments": {},
   "cell_type": "markdown",
   "metadata": {},
   "source": [
    "## Step 1: Import raw data\n"
   ]
  },
  {
   "attachments": {},
   "cell_type": "markdown",
   "metadata": {},
   "source": [
    "### Import FRED dataset\n",
    "\n",
    "Federal Reserve Economic Data, or FRED, is a comprehensive database maintained by the Federal Reserve Bank of St. Louis. It offers a wide array of economic data from various sources, including U.S. government agencies and international organizations. The dataset encompasses numerous economic indicators across various categories such as employment, consumer price indices, money supply, and gross domestic product, among others.\n",
    "\n",
    "FRED provides a valuable resource for researchers, policymakers, and anyone interested in understanding economic trends and conducting economic analysis. The platform also includes tools for data visualization, which can help users interpret complex economic data and identify trends over time.\n",
    "\n",
    "The following code snippet imports a sample FRED dataset into a Pandas dataframe:\n"
   ]
  },
  {
   "cell_type": "code",
   "execution_count": null,
   "metadata": {},
   "outputs": [],
   "source": [
    "from validmind.datasets.regression import fred as demo_dataset\n",
    "\n",
    "target_column = demo_dataset.target_column\n",
    "feature_columns = demo_dataset.feature_columns\n",
    "\n",
    "df = demo_dataset.load_data()\n",
    "df.tail(10)"
   ]
  },
  {
   "attachments": {},
   "cell_type": "markdown",
   "metadata": {},
   "source": [
    "## Step 2: Run data validation test suite on raw data\n"
   ]
  },
  {
   "attachments": {},
   "cell_type": "markdown",
   "metadata": {},
   "source": [
    "### Explore the time series dataset test suites\n",
    "\n",
    "Let's see what tests are included on each test suite:\n"
   ]
  },
  {
   "cell_type": "code",
   "execution_count": null,
   "metadata": {},
   "outputs": [],
   "source": [
    "vm.test_suites.describe_suite(\"time_series_data_quality\")"
   ]
  },
  {
   "cell_type": "code",
   "execution_count": null,
   "metadata": {},
   "outputs": [],
   "source": [
    "vm.test_suites.describe_suite(\"time_series_univariate\")"
   ]
  },
  {
   "attachments": {},
   "cell_type": "markdown",
   "metadata": {},
   "source": [
    "### Initialize the dataset\n",
    "\n",
    "Use the ValidMind Developer Framework to initialize the dataset object:\n"
   ]
  },
  {
   "cell_type": "code",
   "execution_count": null,
   "metadata": {},
   "outputs": [],
   "source": [
    "vm_dataset = vm.init_dataset(\n",
    "    input_id=\"raw_dataset\",\n",
    "    dataset=df,\n",
    "    target_column=demo_dataset.target_column,\n",
    ")"
   ]
  },
  {
   "attachments": {},
   "cell_type": "markdown",
   "metadata": {},
   "source": [
    "### Run time series dataset test suite on raw dataset\n",
    "\n",
    "Next, use the ValidMind Developer Framework to run the test suite for time series datasets:\n"
   ]
  },
  {
   "cell_type": "code",
   "execution_count": null,
   "metadata": {},
   "outputs": [],
   "source": [
    "config = {\n",
    "    # TIME SERIES DATA QUALITY PARAMS\n",
    "    \"validmind.data_validation.TimeSeriesOutliers\": {\n",
    "        \"params\": {\n",
    "            \"zscore_threshold\": 3\n",
    "        }\n",
    "    },\n",
    "    \"validmind.data_validation.TimeSeriesMissingValues\": {\n",
    "        \"params\": {\n",
    "            \"min_threshold\": 2\n",
    "        }\n",
    "    },\n",
    "\n",
    "    # TIME SERIES UNIVARIATE PARAMS\n",
    "    \"validmind.data_validation.RollingStatsPlot\": {\n",
    "        \"params\": {\n",
    "            \"window_size\": 12\n",
    "        }\n",
    "    },\n",
    "    \"validmind.data_validation.SeasonalDecompose\": {\n",
    "        \"params\": {\n",
    "            \"seasonal_model\": \"additive\"\n",
    "        }\n",
    "    },\n",
    "    \"validmind.data_validation.AutoSeasonality\": {\n",
    "        \"params\": {\n",
    "            \"min_period\": 1,\n",
    "            \"max_period\": 3\n",
    "        }\n",
    "    },\n",
    "    \"validmind.data_validation.AutoStationarity\": {\n",
    "        \"params\": {\n",
    "            \"max_order\": 3,\n",
    "            \"threshold\": 0.05\n",
    "        }\n",
    "    },\n",
    "    \"validmind.data_validation.AutoAR\": {\n",
    "        \"params\": {\n",
    "            \"max_ar_order\": 2\n",
    "        }\n",
    "    },\n",
    "    \"validmind.data_validation.AutoMA\": {\n",
    "        \"params\": {\n",
    "            \"max_ma_order\": 2\n",
    "        }\n",
    "    },\n",
    "\n",
    "    # TIME SERIES MULTIVARIATE PARAMS\n",
    "    \"validmind.data_validation.LaggedCorrelationHeatmap\": {\n",
    "        \"params\": {\n",
    "            \"target_col\": demo_dataset.target_column,\n",
    "            \"independent_vars\": demo_dataset.feature_columns\n",
    "        }\n",
    "    },\n",
    "    \"validmind.data_validation.EngleGrangerCoint\": {\n",
    "        \"params\": {\n",
    "            \"threshold\": 0.05\n",
    "        }\n",
    "    },\n",
    "}\n",
    "\n",
    "full_suite = vm.run_test_suite(\n",
    "    \"time_series_dataset\",\n",
    "    inputs = {\n",
    "        \"dataset\": vm_dataset,\n",
    "    },\n",
    "    config=config,\n",
    ")"
   ]
  },
  {
   "attachments": {},
   "cell_type": "markdown",
   "metadata": {},
   "source": [
    "## Step 3: Preprocess data\n"
   ]
  },
  {
   "attachments": {},
   "cell_type": "markdown",
   "metadata": {},
   "source": [
    "### Handle frequencies, missing values and stationairty\n"
   ]
  },
  {
   "cell_type": "code",
   "execution_count": null,
   "metadata": {},
   "outputs": [],
   "source": [
    "# Sample frequencies to Monthly\n",
    "resampled_df = df.resample(\"MS\").last()\n",
    "\n",
    "#  Remove all missing values\n",
    "nona_df = resampled_df.dropna()\n",
    "\n",
    "#  Take the first different across all variables\n",
    "preprocessed_df = nona_df.diff().dropna()"
   ]
  },
  {
   "attachments": {},
   "cell_type": "markdown",
   "metadata": {},
   "source": [
    "## Step 4: Run data validation test suite on processed data\n"
   ]
  },
  {
   "cell_type": "code",
   "execution_count": null,
   "metadata": {},
   "outputs": [],
   "source": [
    "vm_dataset = vm.init_dataset(\n",
    "    input_id=\"preprocess_dataset\",\n",
    "    dataset=preprocessed_df,\n",
    "    target_column=demo_dataset.target_column,\n",
    ")\n",
    "\n",
    "full_suite = vm.run_test_suite(\n",
    "    \"time_series_dataset\",\n",
    "    inputs={\"dataset\": vm_dataset},\n",
    "    config=config,\n",
    ")"
   ]
  },
  {
   "attachments": {},
   "cell_type": "markdown",
   "metadata": {},
   "source": [
    "## Step 5: Load pre-trained models\n"
   ]
  },
  {
   "attachments": {},
   "cell_type": "markdown",
   "metadata": {},
   "source": [
    "### Load pre-trained models\n"
   ]
  },
  {
   "cell_type": "code",
   "execution_count": null,
   "metadata": {},
   "outputs": [],
   "source": [
    "from validmind.datasets.regression import fred as demo_dataset\n",
    "\n",
    "model_A, train_df_A, test_df_A = demo_dataset.load_model('fred_loan_rates_model_3')\n",
    "model_B, train_df_B, test_df_B = demo_dataset.load_model('fred_loan_rates_model_4')\n"
   ]
  },
  {
   "attachments": {},
   "cell_type": "markdown",
   "metadata": {},
   "source": [
    "### Initialize Validmind models\n"
   ]
  },
  {
   "cell_type": "code",
   "execution_count": null,
   "metadata": {},
   "outputs": [],
   "source": [
    "# Initialize training and testing datasets for model A\n",
    "vm_train_ds_A = vm.init_dataset(\n",
    "    input_id=\"train_a_dataset\",\n",
    "    dataset=train_df_A,\n",
    "    target_column=demo_dataset.target_column\n",
    ")\n",
    "vm_test_ds_A = vm.init_dataset(\n",
    "    input_id=\"test_a_dataset\",\n",
    "    dataset=test_df_A,\n",
    "    target_column=demo_dataset.target_column\n",
    ")\n",
    "\n",
    "# Initialize training and testing datasets for model B\n",
    "vm_train_ds_B = vm.init_dataset(\n",
    "    input_id=\"train_b_dataset\",\n",
    "    dataset=train_df_B,\n",
    "    target_column=demo_dataset.target_column\n",
    ")\n",
    "vm_test_ds_B = vm.init_dataset(\n",
    "    input_id=\"test_b_dataset\",\n",
    "    dataset=test_df_B,\n",
    "    target_column=demo_dataset.target_column\n",
    ")\n",
    "\n",
    "# Initialize model A\n",
    "vm_model_A = vm.init_model(\n",
    "    input_id=\"model_a\",\n",
    "    model=model_A,\n",
    "\n",
    ")\n",
    "\n",
    "vm_train_ds_A.assign_predictions(model=vm_model_A)\n",
    "vm_test_ds_A.assign_predictions(model=vm_model_A)\n",
    "\n",
    "# Initialize model B\n",
    "vm_model_B = vm.init_model(\n",
    "    input_id=\"model_b\",\n",
    "    model=model_B,\n",
    ")\n",
    "vm_train_ds_B.assign_predictions(model=vm_model_B)\n",
    "vm_test_ds_B.assign_predictions(model=vm_model_B)\n",
    "\n",
    "models = [vm_model_A, vm_model_B]"
   ]
  },
  {
   "attachments": {},
   "cell_type": "markdown",
   "metadata": {},
   "source": [
    "## Step 6: Run model validation test suite on models\n"
   ]
  },
  {
   "attachments": {},
   "cell_type": "markdown",
   "metadata": {},
   "source": [
    "### Explore the time series model validation test suite\n"
   ]
  },
  {
   "cell_type": "code",
   "execution_count": null,
   "metadata": {},
   "outputs": [],
   "source": [
    "vm.test_suites.describe_test_suite(\"time_series_model_validation\")"
   ]
  },
  {
   "attachments": {},
   "cell_type": "markdown",
   "metadata": {},
   "source": [
    "### Run model validation test suite on a list of models\n"
   ]
  },
  {
   "cell_type": "code",
   "execution_count": null,
   "metadata": {},
   "outputs": [],
   "source": [
    "config = {\n",
    "    \"validmind.model_validation.statsmodels.RegressionModelForecastPlotLevels\": {\n",
    "        \"params\":{\n",
    "            \"transformation\": \"integrate\",\n",
    "        }\n",
    "    },\n",
    "    \"validmind.model_validation.statsmodels.RegressionModelSensitivityPlot\": {\n",
    "        \"params\":{\n",
    "            \"transformation\": \"integrate\",\n",
    "            \"shocks\": [0.3],\n",
    "        }\n",
    "    },\n",
    "    \"validmind.model_validation.statsmodels.RegressionModelsPerformance\": {\n",
    "        \"inputs\":{\n",
    "            \"in_sample_datasets\": (vm_train_ds_A, vm_train_ds_B),\n",
    "            \"out_of_sample_datasets\": (vm_test_ds_A, vm_test_ds_B),\n",
    "            \"models\": models,\n",
    "        },\n",
    "        \"params\":{\n",
    "            \"transformation\": \"integrate\",\n",
    "            \"shocks\": [0.3],\n",
    "        }\n",
    "    },\n",
    "    \"validmind.model_validation.statsmodels.RegressionModelForecastPlotLevels\": {\n",
    "        \"inputs\":{\n",
    "            \"datasets\": (vm_train_ds_A, vm_test_ds_A),\n",
    "            \"models\": [vm_model_A],\n",
    "        },\n",
    "    },\n",
    "    \"validmind.model_validation.statsmodels.RegressionModelSensitivityPlot\": {\n",
    "        \"inputs\":{\n",
    "            \"datasets\": (vm_train_ds_A, vm_test_ds_A),\n",
    "            \"models\": [vm_model_A],\n",
    "        },\n",
    "    }\n",
    "}\n",
    "\n",
    "full_suite = vm.run_test_suite(\n",
    "    \"time_series_model_validation\",\n",
    "    inputs = {\n",
    "        \"dataset\": vm_train_ds_A,\n",
    "        \"datasets\": (vm_train_ds_A, vm_test_ds_A),\n",
    "        \"model\": vm_model_A,\n",
    "        \"models\": models,\n",
    "    },\n",
    "    config=config,\n",
    ")"
   ]
  },
  {
   "cell_type": "markdown",
   "metadata": {},
   "source": [
    "## Next steps\n",
    "\n",
    "You can look at the results of this test suite right in the notebook where you ran the code, as you would expect. But there is a better way: view the prompt validation test results as part of your model documentation right in the ValidMind Platform UI:\n",
    "\n",
    "1. In the [Platform UI](https://app.prod.validmind.ai), go to the **Documentation** page for the model you registered earlier.\n",
    "\n",
    "2. Expand **3. Model Development** to review all test results.\n",
    "\n",
    "What you can see now is a more easily consumable version of the prompt validation testing you just performed, along with other parts of your model documentation that still need to be completed.\n",
    "\n",
    "If you want to learn more about where you are in the model documentation process, take a look at [How do I use the framework?](https://docs.validmind.ai/guide/get-started-developer-framework.html#how-do-i-use-the-framework).\n"
   ]
  }
 ],
 "metadata": {
  "kernelspec": {
   "display_name": "validmind-1QuffXMV-py3.9",
   "language": "python",
   "name": "python3"
  },
  "language_info": {
   "codemirror_mode": {
    "name": "ipython",
    "version": 3
   },
   "file_extension": ".py",
   "mimetype": "text/x-python",
   "name": "python",
   "nbconvert_exporter": "python",
   "pygments_lexer": "ipython3",
   "version": "3.8.13"
  }
 },
 "nbformat": 4,
 "nbformat_minor": 2
}
