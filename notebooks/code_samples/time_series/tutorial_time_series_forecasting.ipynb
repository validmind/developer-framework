{
 "cells": [
  {
   "cell_type": "markdown",
   "metadata": {},
   "source": [
    "# Document a time series forecasting model\n",
    "\n",
    "Automatically document time series forecasting models by running the test suite for time series datasets.\n",
    "\n",
    "This interactive notebook shows you how to use the ValidMind Developer Framework to import and prepare data and before running a data validation test suite, followed by loading a pre-trained model and running a model validation test suite.\n",
    "\n",
    "As part of the notebook, you will learn how to:\n",
    "\n",
    "- Import raw data\n",
    "- Run data validation test suite on raw data\n",
    "- Preprocess data\n",
    "- Run data validation test suite on processed data\n",
    "- Load pre-trained models\n",
    "- Run model validation test suite on models\n"
   ]
  },
  {
   "cell_type": "markdown",
   "metadata": {},
   "source": [
    "## Contents\n",
    "- [About ValidMind](#toc1_)    \n",
    "  - [Before you begin](#toc1_1_)    \n",
    "  - [New to ValidMind?](#toc1_2_)    \n",
    "  - [Key concepts](#toc1_3_)    \n",
    "- [Before you begin](#toc2_)    \n",
    "  - [New to ValidMind?](#toc2_1_)    \n",
    "- [Install the client library](#toc3_)    \n",
    "- [Initialize the client library](#toc4_)    \n",
    "    - [Explore available test suites](#toc4_1_1_)    \n",
    "- [Import raw data](#toc5_)    \n",
    "  - [Import FRED dataset](#toc5_1_)    \n",
    "- [Run data validation test suite on raw data](#toc6_)    \n",
    "  - [Explore the time series dataset test suites](#toc6_1_)    \n",
    "  - [Initialize the dataset](#toc6_2_)    \n",
    "  - [Run time series dataset test suite on raw dataset](#toc6_3_)    \n",
    "- [Preprocess data](#toc7_)    \n",
    "  - [Handle frequencies, missing values and stationairty](#toc7_1_)    \n",
    "- [Run data validation test suite on processed data](#toc8_)    \n",
    "- [Load pre-trained models](#toc9_)    \n",
    "  - [Load pre-trained models](#toc9_1_)    \n",
    "  - [Initialize Validmind models](#toc9_2_)    \n",
    "- [Run model validation test suite on models](#toc10_)    \n",
    "  - [Explore the time series model validation test suite](#toc10_1_)    \n",
    "  - [Run model validation test suite on a list of models](#toc10_2_)    \n",
    "- [Next steps](#toc11_)    \n",
    "  - [Work with your model documentation](#toc11_1_)    \n",
    "  - [Discover more learning resources](#toc11_2_)    \n",
    "\n",
    "<!-- vscode-jupyter-toc-config\n",
    "\tnumbering=false\n",
    "\tanchor=true\n",
    "\tflat=false\n",
    "\tminLevel=2\n",
    "\tmaxLevel=4\n",
    "\t/vscode-jupyter-toc-config -->\n",
    "<!-- THIS CELL WILL BE REPLACED ON TOC UPDATE. DO NOT WRITE YOUR TEXT IN THIS CELL -->"
   ]
  },
  {
   "cell_type": "markdown",
   "metadata": {},
   "source": [
    "<a id='toc1_'></a>\n",
    "\n",
    "## About ValidMind\n",
    "\n",
    "ValidMind is a platform for managing model risk, including risk associated with AI and statistical models.\n",
    "\n",
    "You use the ValidMind Developer Framework to automate documentation and validation tests, and then use the ValidMind AI Risk Platform UI to collaborate on model documentation. Together, these products simplify model risk management, facilitate compliance with regulations and institutional standards, and enhance collaboration between yourself and model validators.\n",
    "\n",
    "<a id='toc1_1_'></a>\n",
    "\n",
    "### Before you begin\n",
    "\n",
    "This notebook assumes you have basic familiarity with Python, including an understanding of how functions work. If you are new to Python, you can still run the notebook but we recommend further familiarizing yourself with the language. \n",
    "\n",
    "If you encounter errors due to missing modules in your Python environment, install the modules with `pip install`, and then re-run the notebook. For more help, refer to [Installing Python Modules](https://docs.python.org/3/installing/index.html).\n",
    "\n",
    "<a id='toc1_2_'></a>\n",
    "\n",
    "### New to ValidMind?\n",
    "\n",
    "If you haven't already seen our [Get started with the ValidMind Developer Framework](https://docs.validmind.ai/guide/get-started-developer-framework.html), we recommend you explore the available resources for developers at some point. There, you can learn more about documenting models, find code samples, or read our developer reference.\n",
    "\n",
    "<div class=\"alert alert-block alert-info\" style=\"background-color: #f7e4ee; color: #222425; border: 1px solid #222425;\">For access to all features available in this notebook, create a free ValidMind account.\n",
    "\n",
    "Signing up is FREE — <a href=\"https://app.prod.validmind.ai\"><b>Sign up now</b></a></div>\n",
    "\n",
    "<a id='toc1_3_'></a>\n",
    "\n",
    "### Key concepts\n",
    "\n",
    "**Model documentation**: A structured and detailed record pertaining to a model, encompassing key components such as its underlying assumptions, methodologies, data sources, inputs, performance metrics, evaluations, limitations, and intended uses. It serves to ensure transparency, adherence to regulatory requirements, and a clear understanding of potential risks associated with the model’s application.\n",
    "\n",
    "**Documentation template**: Functions as a test suite and lays out the structure of model documentation, segmented into various sections and sub-sections. Documentation templates define the structure of your model documentation, specifying the tests that should be run, and how the results should be displayed.\n",
    "\n",
    "**Tests**: A function contained in the ValidMind Developer Framework, designed to run a specific quantitative test on the dataset or model. Tests are the building blocks of ValidMind, used to evaluate and document models and datasets, and can be run individually or as part of a suite defined by your model documentation template.\n",
    "\n",
    "**Metrics**: A subset of tests that do not have thresholds. In the context of this notebook, metrics and tests can be thought of as interchangeable concepts.\n",
    "\n",
    "**Custom metrics**: Custom metrics are functions that you define to evaluate your model or dataset. These functions can be registered with ValidMind to be used in the platform.\n",
    "\n",
    "**Inputs**: Objects to be evaluated and documented in the ValidMind framework. They can be any of the following:\n",
    "\n",
    "  - **model**: A single model that has been initialized in ValidMind with [`vm.init_model()`](https://docs.validmind.ai/validmind/validmind.html#init_model).\n",
    "  - **dataset**: Single dataset that has been initialized in ValidMind with [`vm.init_dataset()`](https://docs.validmind.ai/validmind/validmind.html#init_dataset).\n",
    "  - **models**: A list of ValidMind models - usually this is used when you want to compare multiple models in your custom metric.\n",
    "  - **datasets**: A list of ValidMind datasets - usually this is used when you want to compare multiple datasets in your custom metric. See this [example](https://docs.validmind.ai/notebooks/how_to/run_tests_that_require_multiple_datasets.html) for more information.\n",
    "\n",
    "**Parameters**: Additional arguments that can be passed when running a ValidMind test, used to pass additional information to a metric, customize its behavior, or provide additional context.\n",
    "\n",
    "**Outputs**: Custom metrics can return elements like tables or plots. Tables may be a list of dictionaries (each representing a row) or a pandas DataFrame. Plots may be matplotlib or plotly figures.\n",
    "\n",
    "**Test suites**: Collections of tests designed to run together to automate and generate model documentation end-to-end for specific use-cases.\n",
    "\n",
    "Example: the [`classifier_full_suite`](https://docs.validmind.ai/validmind/validmind/test_suites/classifier.html#ClassifierFullSuite) test suite runs tests from the [`tabular_dataset`](https://docs.validmind.ai/validmind/validmind/test_suites/tabular_datasets.html) and [`classifier`](https://docs.validmind.ai/validmind/validmind/test_suites/classifier.html) test suites to fully document the data and model sections for binary classification model use-cases.\n"
   ]
  },
  {
   "cell_type": "markdown",
   "metadata": {},
   "source": [
    "<a id='toc2_'></a>\n",
    "\n",
    "## Before you begin\n",
    "\n",
    "<div class=\"alert alert-block alert-info\" style=\"background-color: #f7e4ee; color: #222425; border: 1px solid #222425;\">For access to all features available in this notebook, create a free ValidMind account.\n",
    "\n",
    "Signing up is FREE — <a href=\"https://app.prod.validmind.ai\"><b>Sign up now</b></a></div>\n",
    "\n",
    "If you encounter errors due to missing modules in your Python environment, install the modules with `pip install`, and then re-run the notebook. For more help, refer to [Installing Python Modules](https://docs.python.org/3/installing/index.html).\n"
   ]
  },
  {
   "cell_type": "markdown",
   "metadata": {},
   "source": [
    "<a id='toc3_'></a>\n",
    "\n",
    "## Install the client library\n",
    "\n",
    "The client library provides Python support for the ValidMind Developer Framework. To install it:\n"
   ]
  },
  {
   "cell_type": "code",
   "execution_count": null,
   "metadata": {},
   "outputs": [],
   "source": [
    "%pip install -q validmind"
   ]
  },
  {
   "cell_type": "markdown",
   "metadata": {},
   "source": [
    "<a id='toc4_'></a>\n",
    "\n",
    "## Initialize the client library\n",
    "\n",
    "ValidMind generates a unique _code snippet_ for each registered model to connect with your developer environment. You initialize the client library with this code snippet, which ensures that your documentation and tests are uploaded to the correct model when you run the notebook.\n",
    "\n",
    "Get your code snippet:\n",
    "\n",
    "1. In a browser, log into the [Platform UI](https://app.prod.validmind.ai).\n",
    "\n",
    "2. In the left sidebar, navigate to **Model Inventory** and click **+ Register new model**.\n",
    "\n",
    "3. Enter the model details, making sure to select **Time Series Forecasting** as the template and **Credit Risk - Underwriting - Loan** as the use case, and click **Continue**. ([Need more help?](https://docs.validmind.ai/guide/register-models-in-model-inventory.html))\n",
    "\n",
    "4. Go to **Getting Started** and click **Copy snippet to clipboard**.\n",
    "\n",
    "Next, replace this placeholder with your own code snippet:\n"
   ]
  },
  {
   "cell_type": "code",
   "execution_count": null,
   "metadata": {},
   "outputs": [],
   "source": [
    "# Replace with your code snippet\n",
    "\n",
    "import validmind as vm\n",
    "\n",
    "vm.init(\n",
    "    api_host=\"...\",\n",
    "    api_host=\"https://api.prod.validmind.ai/api/v1/tracking\",\n",
    "    api_key=\"...\",\n",
    "    api_secret=\"...\",\n",
    "    project=\"...\"\n",
    ")"
   ]
  },
  {
   "cell_type": "markdown",
   "metadata": {},
   "source": [
    "<a id='toc4_1_1_'></a>\n",
    "\n",
    "#### Explore available test suites\n",
    "\n",
    "In this notebook we will run a collection of test suites that are available in the ValidMind Developer Framework. Test suites group together a collection of tests that are relevant for a specific use case. In our case, we will run test different test suites for time series forecasting models. Once a test suite runs successfully, its results will be automatically uploaded to the ValidMind platform.\n"
   ]
  },
  {
   "cell_type": "code",
   "execution_count": null,
   "metadata": {},
   "outputs": [],
   "source": [
    "vm.test_suites.list_suites()"
   ]
  },
  {
   "cell_type": "markdown",
   "metadata": {},
   "source": [
    "For our example use case we will run the following test suites:\n",
    "\n",
    "- `time_series_dataset`\n",
    "- `time_series_model_validation`\n"
   ]
  },
  {
   "cell_type": "markdown",
   "metadata": {},
   "source": [
    "<a id='toc5_'></a>\n",
    "\n",
    "## Import raw data\n"
   ]
  },
  {
   "cell_type": "markdown",
   "metadata": {},
   "source": [
    "<a id='toc5_1_'></a>\n",
    "\n",
    "### Import FRED dataset\n",
    "\n",
    "Federal Reserve Economic Data, or FRED, is a comprehensive database maintained by the Federal Reserve Bank of St. Louis. It offers a wide array of economic data from various sources, including U.S. government agencies and international organizations. The dataset encompasses numerous economic indicators across various categories such as employment, consumer price indices, money supply, and gross domestic product, among others.\n",
    "\n",
    "FRED provides a valuable resource for researchers, policymakers, and anyone interested in understanding economic trends and conducting economic analysis. The platform also includes tools for data visualization, which can help users interpret complex economic data and identify trends over time.\n",
    "\n",
    "The following code snippet imports a sample FRED dataset into a Pandas dataframe:\n"
   ]
  },
  {
   "cell_type": "code",
   "execution_count": null,
   "metadata": {},
   "outputs": [],
   "source": [
    "from validmind.datasets.regression import fred as demo_dataset\n",
    "\n",
    "target_column = demo_dataset.target_column\n",
    "feature_columns = demo_dataset.feature_columns\n",
    "\n",
    "df = demo_dataset.load_data()\n",
    "df.tail(10)"
   ]
  },
  {
   "cell_type": "markdown",
   "metadata": {},
   "source": [
    "<a id='toc6_'></a>\n",
    "\n",
    "## Run data validation test suite on raw data\n"
   ]
  },
  {
   "cell_type": "markdown",
   "metadata": {},
   "source": [
    "<a id='toc6_1_'></a>\n",
    "\n",
    "### Explore the time series dataset test suites\n",
    "\n",
    "Let's see what tests are included on each test suite:\n"
   ]
  },
  {
   "cell_type": "code",
   "execution_count": null,
   "metadata": {},
   "outputs": [],
   "source": [
    "vm.test_suites.describe_suite(\"time_series_data_quality\")"
   ]
  },
  {
   "cell_type": "code",
   "execution_count": null,
   "metadata": {},
   "outputs": [],
   "source": [
    "vm.test_suites.describe_suite(\"time_series_univariate\")"
   ]
  },
  {
   "cell_type": "markdown",
   "metadata": {},
   "source": [
    "<a id='toc6_2_'></a>\n",
    "\n",
    "### Initialize the dataset\n",
    "\n",
    "Use the ValidMind Developer Framework to initialize the dataset object:\n"
   ]
  },
  {
   "cell_type": "code",
   "execution_count": null,
   "metadata": {},
   "outputs": [],
   "source": [
    "vm_dataset = vm.init_dataset(\n",
    "    input_id=\"raw_dataset\",\n",
    "    dataset=df,\n",
    "    target_column=demo_dataset.target_column,\n",
    ")"
   ]
  },
  {
   "cell_type": "markdown",
   "metadata": {},
   "source": [
    "<a id='toc6_3_'></a>\n",
    "\n",
    "### Run time series dataset test suite on raw dataset\n",
    "\n",
    "Next, use the ValidMind Developer Framework to run the test suite for time series datasets:\n"
   ]
  },
  {
   "cell_type": "code",
   "execution_count": null,
   "metadata": {},
   "outputs": [],
   "source": [
    "config = {\n",
    "    # TIME SERIES DATA QUALITY PARAMS\n",
    "    \"validmind.data_validation.TimeSeriesOutliers\": {\n",
    "        \"params\": {\n",
    "            \"zscore_threshold\": 3\n",
    "        }\n",
    "    },\n",
    "    \"validmind.data_validation.TimeSeriesMissingValues\": {\n",
    "        \"params\": {\n",
    "            \"min_threshold\": 2\n",
    "        }\n",
    "    },\n",
    "\n",
    "    # TIME SERIES UNIVARIATE PARAMS\n",
    "    \"validmind.data_validation.RollingStatsPlot\": {\n",
    "        \"params\": {\n",
    "            \"window_size\": 12\n",
    "        }\n",
    "    },\n",
    "    \"validmind.data_validation.SeasonalDecompose\": {\n",
    "        \"params\": {\n",
    "            \"seasonal_model\": \"additive\"\n",
    "        }\n",
    "    },\n",
    "    \"validmind.data_validation.AutoSeasonality\": {\n",
    "        \"params\": {\n",
    "            \"min_period\": 1,\n",
    "            \"max_period\": 3\n",
    "        }\n",
    "    },\n",
    "    \"validmind.data_validation.AutoStationarity\": {\n",
    "        \"params\": {\n",
    "            \"max_order\": 3,\n",
    "            \"threshold\": 0.05\n",
    "        }\n",
    "    },\n",
    "    \"validmind.data_validation.AutoAR\": {\n",
    "        \"params\": {\n",
    "            \"max_ar_order\": 2\n",
    "        }\n",
    "    },\n",
    "    \"validmind.data_validation.AutoMA\": {\n",
    "        \"params\": {\n",
    "            \"max_ma_order\": 2\n",
    "        }\n",
    "    },\n",
    "\n",
    "    # TIME SERIES MULTIVARIATE PARAMS\n",
    "    \"validmind.data_validation.LaggedCorrelationHeatmap\": {\n",
    "        \"params\": {\n",
    "            \"target_col\": demo_dataset.target_column,\n",
    "            \"independent_vars\": demo_dataset.feature_columns\n",
    "        }\n",
    "    },\n",
    "    \"validmind.data_validation.EngleGrangerCoint\": {\n",
    "        \"params\": {\n",
    "            \"threshold\": 0.05\n",
    "        }\n",
    "    },\n",
    "}\n",
    "\n",
    "full_suite = vm.run_test_suite(\n",
    "    \"time_series_dataset\",\n",
    "    inputs={\n",
    "        \"dataset\": vm_dataset,\n",
    "    },\n",
    "    config=config,\n",
    ")"
   ]
  },
  {
   "cell_type": "markdown",
   "metadata": {},
   "source": [
    "<a id='toc7_'></a>\n",
    "\n",
    "## Preprocess data\n"
   ]
  },
  {
   "cell_type": "markdown",
   "metadata": {},
   "source": [
    "<a id='toc7_1_'></a>\n",
    "\n",
    "### Handle frequencies, missing values and stationairty\n"
   ]
  },
  {
   "cell_type": "code",
   "execution_count": null,
   "metadata": {},
   "outputs": [],
   "source": [
    "# Sample frequencies to Monthly\n",
    "resampled_df = df.resample(\"MS\").last()\n",
    "\n",
    "#  Remove all missing values\n",
    "nona_df = resampled_df.dropna()\n",
    "\n",
    "#  Take the first different across all variables\n",
    "preprocessed_df = nona_df.diff().dropna()"
   ]
  },
  {
   "cell_type": "markdown",
   "metadata": {},
   "source": [
    "<a id='toc8_'></a>\n",
    "\n",
    "## Run data validation test suite on processed data\n"
   ]
  },
  {
   "cell_type": "code",
   "execution_count": null,
   "metadata": {},
   "outputs": [],
   "source": [
    "vm_dataset = vm.init_dataset(\n",
    "    input_id=\"preprocess_dataset\",\n",
    "    dataset=preprocessed_df,\n",
    "    target_column=demo_dataset.target_column,\n",
    ")\n",
    "\n",
    "full_suite = vm.run_test_suite(\n",
    "    \"time_series_dataset\",\n",
    "    inputs={\"dataset\": vm_dataset},\n",
    "    config=config,\n",
    ")"
   ]
  },
  {
   "cell_type": "markdown",
   "metadata": {},
   "source": [
    "<a id='toc9_'></a>\n",
    "\n",
    "## Load pre-trained models\n"
   ]
  },
  {
   "cell_type": "markdown",
   "metadata": {},
   "source": [
    "<a id='toc9_1_'></a>\n",
    "\n",
    "### Load pre-trained models\n"
   ]
  },
  {
   "cell_type": "code",
   "execution_count": null,
   "metadata": {},
   "outputs": [],
   "source": [
    "from validmind.datasets.regression import fred as demo_dataset\n",
    "\n",
    "model_A, train_df_A, test_df_A = demo_dataset.load_model('fred_loan_rates_model_3')\n",
    "model_B, train_df_B, test_df_B = demo_dataset.load_model('fred_loan_rates_model_4')"
   ]
  },
  {
   "cell_type": "markdown",
   "metadata": {},
   "source": [
    "<a id='toc9_2_'></a>\n",
    "\n",
    "### Initialize Validmind models\n"
   ]
  },
  {
   "cell_type": "code",
   "execution_count": null,
   "metadata": {},
   "outputs": [],
   "source": [
    "# Initialize training and testing datasets for model A\n",
    "vm_train_ds_A = vm.init_dataset(\n",
    "    input_id=\"train_a_dataset\",\n",
    "    dataset=train_df_A,\n",
    "    target_column=demo_dataset.target_column\n",
    ")\n",
    "vm_test_ds_A = vm.init_dataset(\n",
    "    input_id=\"test_a_dataset\",\n",
    "    dataset=test_df_A,\n",
    "    target_column=demo_dataset.target_column\n",
    ")\n",
    "\n",
    "# Initialize training and testing datasets for model B\n",
    "vm_train_ds_B = vm.init_dataset(\n",
    "    input_id=\"train_b_dataset\",\n",
    "    dataset=train_df_B,\n",
    "    target_column=demo_dataset.target_column\n",
    ")\n",
    "vm_test_ds_B = vm.init_dataset(\n",
    "    input_id=\"test_b_dataset\",\n",
    "    dataset=test_df_B,\n",
    "    target_column=demo_dataset.target_column\n",
    ")\n",
    "\n",
    "# Initialize model A\n",
    "vm_model_A = vm.init_model(\n",
    "    input_id=\"model_a\",\n",
    "    model=model_A,\n",
    "\n",
    ")\n",
    "\n",
    "vm_train_ds_A.assign_predictions(model=vm_model_A)\n",
    "vm_test_ds_A.assign_predictions(model=vm_model_A)\n",
    "\n",
    "# Initialize model B\n",
    "vm_model_B = vm.init_model(\n",
    "    input_id=\"model_b\",\n",
    "    model=model_B,\n",
    ")\n",
    "vm_train_ds_B.assign_predictions(model=vm_model_B)\n",
    "vm_test_ds_B.assign_predictions(model=vm_model_B)\n",
    "\n",
    "models = [vm_model_A, vm_model_B]"
   ]
  },
  {
   "cell_type": "markdown",
   "metadata": {},
   "source": [
    "<a id='toc10_'></a>\n",
    "\n",
    "## Run model validation test suite on models\n"
   ]
  },
  {
   "cell_type": "markdown",
   "metadata": {},
   "source": [
    "<a id='toc10_1_'></a>\n",
    "\n",
    "### Explore the time series model validation test suite\n"
   ]
  },
  {
   "cell_type": "code",
   "execution_count": null,
   "metadata": {},
   "outputs": [],
   "source": [
    "vm.test_suites.describe_test_suite(\"time_series_model_validation\")"
   ]
  },
  {
   "cell_type": "markdown",
   "metadata": {},
   "source": [
    "<a id='toc10_2_'></a>\n",
    "\n",
    "### Run model validation test suite on a list of models\n"
   ]
  },
  {
   "cell_type": "code",
   "execution_count": null,
   "metadata": {},
   "outputs": [],
   "source": [
    "config = {\n",
    "    \"validmind.model_validation.statsmodels.RegressionModelForecastPlotLevels\": {\n",
    "        \"params\": {\n",
    "            \"transformation\": \"integrate\",\n",
    "        }\n",
    "    },\n",
    "    \"validmind.model_validation.statsmodels.RegressionModelSensitivityPlot\": {\n",
    "        \"params\": {\n",
    "            \"transformation\": \"integrate\",\n",
    "            \"shocks\": [0.3],\n",
    "        }\n",
    "    },\n",
    "    \"validmind.model_validation.statsmodels.RegressionModelsPerformance\": {\n",
    "        \"inputs\": {\n",
    "            \"in_sample_datasets\": (vm_train_ds_A, vm_train_ds_B),\n",
    "            \"out_of_sample_datasets\": (vm_test_ds_A, vm_test_ds_B),\n",
    "            \"models\": models,\n",
    "        },\n",
    "        \"params\": {\n",
    "            \"transformation\": \"integrate\",\n",
    "            \"shocks\": [0.3],\n",
    "        }\n",
    "    },\n",
    "    \"validmind.model_validation.statsmodels.RegressionModelForecastPlotLevels\": {\n",
    "        \"inputs\": {\n",
    "            \"datasets\": (vm_train_ds_A, vm_test_ds_A),\n",
    "            \"models\": [vm_model_A],\n",
    "        },\n",
    "    },\n",
    "    \"validmind.model_validation.statsmodels.RegressionModelSensitivityPlot\": {\n",
    "        \"inputs\": {\n",
    "            \"datasets\": (vm_train_ds_A, vm_test_ds_A),\n",
    "            \"models\": [vm_model_A],\n",
    "        },\n",
    "    }\n",
    "}\n",
    "\n",
    "full_suite = vm.run_test_suite(\n",
    "    \"time_series_model_validation\",\n",
    "    inputs={\n",
    "        \"dataset\": vm_train_ds_A,\n",
    "        \"datasets\": (vm_train_ds_A, vm_test_ds_A),\n",
    "        \"model\": vm_model_A,\n",
    "        \"models\": models,\n",
    "    },\n",
    "    config=config,\n",
    ")"
   ]
  },
  {
   "cell_type": "markdown",
   "metadata": {},
   "source": [
    "<a id='toc11_'></a>\n",
    "\n",
    "## Next steps\n",
    "\n",
    "You can look at the results of this test suite right in the notebook where you ran the code, as you would expect. But there is a better way — use the ValidMind platform to work with your model documentation.\n",
    "\n",
    "<a id='toc11_1_'></a>\n",
    "\n",
    "### Work with your model documentation\n",
    "\n",
    "1. From the [**Model Inventory**](https://app.prod.validmind.ai/model-inventory) in the ValidMind Platform UI, go to the model you registered earlier.\n",
    "\n",
    "2. Click and expand the **Model Development** section.\n",
    "\n",
    "What you see is the full draft of your model documentation in a more easily consumable version. From here, you can make qualitative edits to model documentation, view guidelines, collaborate with validators, and submit your model documentation for approval when it's ready. [Learn more ...](https://docs.validmind.ai/guide/working-with-model-documentation.html)\n",
    "\n",
    "<a id='toc11_2_'></a>\n",
    "\n",
    "### Discover more learning resources\n",
    "\n",
    "We offer many interactive notebooks to help you document models:\n",
    "\n",
    "- [Run tests & test suites](https://docs.validmind.ai/guide/testing-overview.html)\n",
    "- [Code samples](https://docs.validmind.ai/guide/samples-jupyter-notebooks.html)\n",
    "\n",
    "Or, visit our [documentation](https://docs.validmind.ai/) to learn more about ValidMind."
   ]
  }
 ],
 "metadata": {
  "kernelspec": {
   "display_name": "validmind-1QuffXMV-py3.9",
   "language": "python",
   "name": "python3"
  },
  "language_info": {
   "codemirror_mode": {
    "name": "ipython",
    "version": 3
   },
   "file_extension": ".py",
   "mimetype": "text/x-python",
   "name": "python",
   "nbconvert_exporter": "python",
   "pygments_lexer": "ipython3",
   "version": "3.8.13"
  }
 },
 "nbformat": 4,
 "nbformat_minor": 2
}
