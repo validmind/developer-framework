{
    "cells": [
        {
            "cell_type": "markdown",
            "metadata": {},
            "source": [
                "# Prompt validation for large language models (LLMs)\n",
                "\n",
                "Run and document prompt validation tests for a large language model (LLM) specialized in sentiment analysis for financial news. \n",
                "\n",
                "This interactive notebook shows you how to set up the ValidMind Developer Framework, initialize the client library, and use a specific prompt template for analyzing the sentiment of given sentences. Prompt validation covers the initialization of a test dataset and the creation of a foundational model using ValidMind's framework, followed by the execution of a test suite specifically designed for prompt validation. The notebook also includes example data to test the model's ability to correctly identify sentiment as positive, negative, or neutral."
            ]
        },
        {
            "cell_type": "markdown",
            "metadata": {},
            "source": [
                "## Contents\n",
                "- [About ValidMind](#toc1_)    \n",
                "  - [Before you begin](#toc1_1_)    \n",
                "  - [New to ValidMind?](#toc1_2_)    \n",
                "  - [Key concepts](#toc1_3_)    \n",
                "- [Install the client library](#toc2_)    \n",
                "- [Initialize the client library](#toc3_)    \n",
                "  - [Preview the documentation template](#toc3_1_)    \n",
                "  - [Get ready to run the analysis](#toc3_2_)    \n",
                "  - [Get your sample dataset ready for analysis](#toc3_3_)    \n",
                "- [Perform the prompt validation](#toc4_)    \n",
                "- [Next steps](#toc5_)    \n",
                "  - [Work with your model documentation](#toc5_1_)    \n",
                "  - [Discover more learning resources](#toc5_2_)    \n",
                "\n",
                "<!-- vscode-jupyter-toc-config\n",
                "\tnumbering=false\n",
                "\tanchor=true\n",
                "\tflat=false\n",
                "\tminLevel=2\n",
                "\tmaxLevel=4\n",
                "\t/vscode-jupyter-toc-config -->\n",
                "<!-- THIS CELL WILL BE REPLACED ON TOC UPDATE. DO NOT WRITE YOUR TEXT IN THIS CELL -->"
            ]
        },
        {
            "cell_type": "markdown",
            "metadata": {},
            "source": [
                "<a id='toc1_'></a>\n",
                "\n",
                "## About ValidMind\n",
                "\n",
                "ValidMind is a platform for managing model risk, including risk associated with AI and statistical models.\n",
                "\n",
                "You use the ValidMind Developer Framework to automate documentation and validation tests, and then use the ValidMind AI Risk Platform UI to collaborate on model documentation. Together, these products simplify model risk management, facilitate compliance with regulations and institutional standards, and enhance collaboration between yourself and model validators.\n",
                "\n",
                "<a id='toc1_1_'></a>\n",
                "\n",
                "### Before you begin\n",
                "\n",
                "This notebook assumes you have basic familiarity with Python, including an understanding of how functions work. If you are new to Python, you can still run the notebook but we recommend further familiarizing yourself with the language. \n",
                "\n",
                "If you encounter errors due to missing modules in your Python environment, install the modules with `pip install`, and then re-run the notebook. For more help, refer to [Installing Python Modules](https://docs.python.org/3/installing/index.html).\n",
                "\n",
                "<a id='toc1_2_'></a>\n",
                "\n",
                "### New to ValidMind?\n",
                "\n",
                "If you haven't already seen our [Get started with the ValidMind Developer Framework](https://docs.validmind.ai/developer/get-started-developer-framework.html), we recommend you explore the available resources for developers at some point. There, you can learn more about documenting models, find code samples, or read our developer reference.\n",
                "\n",
                "<div class=\"alert alert-block alert-info\" style=\"background-color: #f7e4ee; color: #222425; border: 1px solid #222425;\">For access to all features available in this notebook, create a free ValidMind account.\n",
                "\n",
                "Signing up is FREE — <a href=\"https://app.prod.validmind.ai\"><b>Sign up now</b></a></div>\n",
                "\n",
                "<a id='toc1_3_'></a>\n",
                "\n",
                "### Key concepts\n",
                "\n",
                "**Model documentation**: A structured and detailed record pertaining to a model, encompassing key components such as its underlying assumptions, methodologies, data sources, inputs, performance metrics, evaluations, limitations, and intended uses. It serves to ensure transparency, adherence to regulatory requirements, and a clear understanding of potential risks associated with the model’s application.\n",
                "\n",
                "**Documentation template**: Functions as a test suite and lays out the structure of model documentation, segmented into various sections and sub-sections. Documentation templates define the structure of your model documentation, specifying the tests that should be run, and how the results should be displayed.\n",
                "\n",
                "**Tests**: A function contained in the ValidMind Developer Framework, designed to run a specific quantitative test on the dataset or model. Tests are the building blocks of ValidMind, used to evaluate and document models and datasets, and can be run individually or as part of a suite defined by your model documentation template.\n",
                "\n",
                "**Custom tests**: Custom tests are functions that you define to evaluate your model or dataset. These functions can be registered with ValidMind to be used in the platform.\n",
                "\n",
                "**Inputs**: Objects to be evaluated and documented in the ValidMind framework. They can be any of the following:\n",
                "\n",
                "  - **model**: A single model that has been initialized in ValidMind with [`vm.init_model()`](https://docs.validmind.ai/validmind/validmind.html#init_model).\n",
                "  - **dataset**: Single dataset that has been initialized in ValidMind with [`vm.init_dataset()`](https://docs.validmind.ai/validmind/validmind.html#init_dataset).\n",
                "  - **models**: A list of ValidMind models - usually this is used when you want to compare multiple models in your custom test.\n",
                "  - **datasets**: A list of ValidMind datasets - usually this is used when you want to compare multiple datasets in your custom test. See this [example](https://docs.validmind.ai/notebooks/how_to/run_tests_that_require_multiple_datasets.html) for more information.\n",
                "\n",
                "**Parameters**: Additional arguments that can be passed when running a ValidMind test, used to pass additional information to a test, customize its behavior, or provide additional context.\n",
                "\n",
                "**Outputs**: Custom tests can return elements like tables or plots. Tables may be a list of dictionaries (each representing a row) or a pandas DataFrame. Plots may be matplotlib or plotly figures.\n",
                "\n",
                "**Test suites**: Collections of tests designed to run together to automate and generate model documentation end-to-end for specific use-cases.\n",
                "\n",
                "Example: the [`classifier_full_suite`](https://docs.validmind.ai/validmind/validmind/test_suites/classifier.html#ClassifierFullSuite) test suite runs tests from the [`tabular_dataset`](https://docs.validmind.ai/validmind/validmind/test_suites/tabular_datasets.html) and [`classifier`](https://docs.validmind.ai/validmind/validmind/test_suites/classifier.html) test suites to fully document the data and model sections for binary classification model use-cases.\n"
            ]
        },
        {
            "cell_type": "markdown",
            "metadata": {},
            "source": [
                "<a id='toc2_'></a>\n",
                "\n",
                "## Install the client library\n",
                "\n",
                "The client library provides Python support for the ValidMind Developer Framework. To install it:\n"
            ]
        },
        {
            "cell_type": "code",
            "execution_count": null,
            "metadata": {},
            "outputs": [],
            "source": [
                "%pip install -q validmind"
            ]
        },
        {
            "cell_type": "markdown",
            "metadata": {},
            "source": [
                "<a id='toc3_'></a>\n",
                "\n",
                "## Initialize the client library\n",
                "\n",
                "ValidMind generates a unique _code snippet_ for each registered model to connect with your developer environment. You initialize the client library with this code snippet, which ensures that your documentation and tests are uploaded to the correct model when you run the notebook.\n",
                "\n",
                "Get your code snippet:\n",
                "\n",
                "1. In a browser, log into the [Platform UI](https://app.prod.validmind.ai).\n",
                "\n",
                "2. In the left sidebar, navigate to **Model Inventory** and click **+ Register new model**.\n",
                "\n",
                "3. Enter the model details, making sure to select **LLM-based Text Classification** as the template and **Marketing/Sales - Analytics** as the use case, and click **Continue**. ([Need more help?](https://docs.validmind.ai/guide/model-inventory/register-models-in-inventory.html))\n",
                "\n",
                "4. Go to **Getting Started** and click **Copy snippet to clipboard**.\n",
                "\n",
                "Next, replace this placeholder with your own code snippet:\n"
            ]
        },
        {
            "cell_type": "code",
            "execution_count": null,
            "metadata": {},
            "outputs": [],
            "source": [
                "# Replace with your code snippet\n",
                "\n",
                "import validmind as vm\n",
                "\n",
                "vm.init(\n",
                "    api_host=\"https://api.prod.validmind.ai/api/v1/tracking\",\n",
                "    api_key=\"...\",\n",
                "    api_secret=\"...\",\n",
                "    project=\"...\",\n",
                ")"
            ]
        },
        {
            "cell_type": "markdown",
            "metadata": {},
            "source": [
                "<a id='toc3_1_'></a>\n",
                "\n",
                "### Preview the documentation template\n",
                "\n",
                "A template predefines sections for your model documentation and provides a general outline to follow, making the documentation process much easier.\n",
                "\n",
                "You will upload documentation and test results into this template later on. For now, take a look at the structure that the template provides with the `vm.preview_template()` function from the ValidMind library and note the empty sections:\n"
            ]
        },
        {
            "cell_type": "code",
            "execution_count": null,
            "metadata": {},
            "outputs": [],
            "source": [
                "vm.preview_template()"
            ]
        },
        {
            "cell_type": "markdown",
            "metadata": {},
            "source": [
                "<a id='toc3_2_'></a>\n",
                "\n",
                "### Get ready to run the analysis\n",
                "\n",
                "Import the ValidMind `FoundationModel` and `Prompt` classes needed for the sentiment analysis later on:\n"
            ]
        },
        {
            "cell_type": "code",
            "execution_count": null,
            "metadata": {},
            "outputs": [],
            "source": [
                "from validmind.models import FoundationModel, Prompt"
            ]
        },
        {
            "cell_type": "markdown",
            "metadata": {},
            "source": [
                "Check your access to the OpenAI API:\n"
            ]
        },
        {
            "cell_type": "code",
            "execution_count": null,
            "metadata": {},
            "outputs": [],
            "source": [
                "import os\n",
                "\n",
                "import dotenv\n",
                "\n",
                "dotenv.load_dotenv()\n",
                "\n",
                "if os.getenv(\"OPENAI_API_KEY\") is None:\n",
                "    raise Exception(\"OPENAI_API_KEY not found\")"
            ]
        },
        {
            "cell_type": "code",
            "execution_count": null,
            "metadata": {},
            "outputs": [],
            "source": [
                "from openai import OpenAI\n",
                "\n",
                "model = OpenAI()\n",
                "\n",
                "\n",
                "def call_model(prompt):\n",
                "    return (\n",
                "        model.chat.completions.create(\n",
                "            model=\"gpt-3.5-turbo\",\n",
                "            messages=[\n",
                "                {\"role\": \"user\", \"content\": prompt},\n",
                "            ],\n",
                "        )\n",
                "        .choices[0]\n",
                "        .message.content\n",
                "    )"
            ]
        },
        {
            "cell_type": "markdown",
            "metadata": {},
            "source": [
                "Set the prompt guidelines for the sentiment analysis:\n"
            ]
        },
        {
            "cell_type": "code",
            "execution_count": null,
            "metadata": {},
            "outputs": [],
            "source": [
                "prompt_template = \"\"\"\n",
                "You are an AI with expertise in sentiment analysis, particularly in the context of financial news.\n",
                "Your task is to analyze the sentiment of a specific sentence provided below.\n",
                "Before proceeding, take a moment to understand the context and nuances of the financial terminology used in the sentence.\n",
                "\n",
                "Sentence to Analyze:\n",
                "```\n",
                "{Sentence}\n",
                "```\n",
                "\n",
                "Please respond with the sentiment of the sentence denoted by one of either 'positive', 'negative', or 'neutral'.\n",
                "Please respond only with the sentiment enum value. Do not include any other text in your response.\n",
                "\n",
                "Note: Ensure that your analysis is based on the content of the sentence and not on external information or assumptions.\n",
                "\"\"\".strip()\n",
                "\n",
                "prompt_variables = [\"Sentence\"]"
            ]
        },
        {
            "cell_type": "markdown",
            "metadata": {},
            "source": [
                "<a id='toc3_3_'></a>\n",
                "\n",
                "### Get your sample dataset ready for analysis\n",
                "\n",
                "To perform the sentiment analysis for financial news we're going to load a local copy of this dataset: https://www.kaggle.com/datasets/ankurzing/sentiment-analysis-for-financial-news.\n",
                "\n",
                "This dataset contains two columns, `Sentiment` and `Sentence`. The sentiment can be `negative`, `neutral` or `positive`.\n"
            ]
        },
        {
            "cell_type": "code",
            "execution_count": null,
            "metadata": {},
            "outputs": [],
            "source": [
                "import pandas as pd\n",
                "\n",
                "df = pd.read_csv(\"./datasets/sentiments.csv\")\n",
                "\n",
                "df_test = df[:10].reset_index(drop=True)\n",
                "df_test"
            ]
        },
        {
            "cell_type": "markdown",
            "metadata": {},
            "source": [
                "<a id='toc4_'></a>\n",
                "\n",
                "## Perform the prompt validation\n",
                "\n",
                "First, use the ValidMind Developer Framework to initialize the dataset and model objects necessary for documentation. The ValidMind `predict_fn` function allows the model to be tested and evaluated in a standardized manner:\n"
            ]
        },
        {
            "cell_type": "code",
            "execution_count": null,
            "metadata": {},
            "outputs": [],
            "source": [
                "vm_test_ds = vm.init_dataset(\n",
                "    dataset=df_test,\n",
                "    input_id=\"test_dataset\",\n",
                "    text_column=\"Sentence\",\n",
                "    target_column=\"Sentiment\",\n",
                ")\n",
                "\n",
                "vm_model = vm.init_model(\n",
                "    model=FoundationModel(\n",
                "        predict_fn=call_model,\n",
                "        prompt=Prompt(\n",
                "            template=prompt_template,\n",
                "            variables=prompt_variables,\n",
                "        ),\n",
                "    ),\n",
                "    input_id=\"gpt_35_model\",\n",
                ")\n",
                "\n",
                "# Assign model predictions to the test dataset\n",
                "vm_test_ds.assign_predictions(vm_model)"
            ]
        },
        {
            "cell_type": "markdown",
            "metadata": {},
            "source": [
                "Next, use the ValidMind Developer Framework to run validation tests on the model. These tests evaluate various aspects of the prompts, including bias, clarity, conciseness, delimitation, negative instruction, and specificity.\n",
                "\n",
                "Each test is explained in detail, highlighting its purpose, test mechanism, and the importance of the specific aspect being evaluated. The tests are graded on a scale from 1 to 10, with a predetermined threshold, and the explanations for each test include a score, threshold, and a pass/fail determination.\n"
            ]
        },
        {
            "cell_type": "code",
            "execution_count": null,
            "metadata": {},
            "outputs": [],
            "source": [
                "test_suite_results = vm.run_test_suite(\n",
                "    \"prompt_validation\",\n",
                "    inputs={\n",
                "        \"dataset\": vm_test_ds,\n",
                "        \"model\": vm_model,\n",
                "    },\n",
                ")"
            ]
        },
        {
            "cell_type": "markdown",
            "metadata": {},
            "source": [
                "Here, most of the tests pass but the test for _conciseness_ needs further attention, as it fails the threshold. This test is designed to evaluate the brevity and succinctness of prompts provided to a large language model (LLM).\n",
                "\n",
                "The test matters, because a concise prompt strikes a balance between offering clear instructions and eliminating redundant or unnecessary information, ensuring that the LLM receives relevant input without being overwhelmed.\n"
            ]
        },
        {
            "cell_type": "markdown",
            "metadata": {},
            "source": [
                "<a id='toc5_'></a>\n",
                "\n",
                "## Next steps\n",
                "\n",
                "You can look at the results of this test suite right in the notebook where you ran the code, as you would expect. But there is a better way — use the ValidMind platform to work with your model documentation.\n",
                "\n",
                "<a id='toc5_1_'></a>\n",
                "\n",
                "### Work with your model documentation\n",
                "\n",
                "1. From the [**Model Inventory**](https://app.prod.validmind.ai/model-inventory) in the ValidMind Platform UI, go to the model you registered earlier.\n",
                "\n",
                "2. Click and expand the **Model Development** section.\n",
                "\n",
                "What you see is the full draft of your model documentation in a more easily consumable version. From here, you can make qualitative edits to model documentation, view guidelines, collaborate with validators, and submit your model documentation for approval when it's ready. [Learn more ...](https://docs.validmind.ai/guide/model-documentation/working-with-model-documentation.html)\n",
                "\n",
                "<a id='toc5_2_'></a>\n",
                "\n",
                "### Discover more learning resources\n",
                "\n",
                "We offer many interactive notebooks to help you document models:\n",
                "\n",
                "- [Run tests & test suites](https://docs.validmind.ai/developer/model-testing/testing-overview.html)\n",
                "- [Code samples](https://docs.validmind.ai/developer/samples-jupyter-notebooks.html)\n",
                "\n",
                "Or, visit our [documentation](https://docs.validmind.ai/) to learn more about ValidMind."
            ]
        }
    ],
    "metadata": {
        "kernelspec": {
            "display_name": ".venv",
            "language": "python",
            "name": "python3"
        },
        "language_info": {
            "codemirror_mode": {
                "name": "ipython",
                "version": 3
            },
            "file_extension": ".py",
            "mimetype": "text/x-python",
            "name": "python",
            "nbconvert_exporter": "python",
            "pygments_lexer": "ipython3",
            "version": "3.8.13"
        }
    },
    "nbformat": 4,
    "nbformat_minor": 2
}
